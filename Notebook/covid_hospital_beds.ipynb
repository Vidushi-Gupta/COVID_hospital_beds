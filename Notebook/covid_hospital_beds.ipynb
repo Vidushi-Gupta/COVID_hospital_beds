{
 "cells": [
  {
   "cell_type": "markdown",
   "metadata": {},
   "source": [
    "Importing Libraries"
   ]
  },
  {
   "cell_type": "code",
   "execution_count": 1,
   "metadata": {},
   "outputs": [],
   "source": [
    "import pandas as pd\n",
    "import fbprophet\n",
    "from fbprophet import Prophet\n",
    "import matplotlib.pyplot as plt\n",
    "from fbprophet.plot import add_changepoints_to_plot\n",
    "%matplotlib inline\n",
    "import plotly.express as px\n",
    "import plotly.graph_objects as go\n",
    "from sklearn.metrics import mean_squared_error, r2_score, mean_absolute_error\n",
    "import plotly.figure_factory as ff\n"
   ]
  },
  {
   "cell_type": "markdown",
   "metadata": {},
   "source": [
    "Importing Dataset for basic visualization"
   ]
  },
  {
   "cell_type": "code",
   "execution_count": 2,
   "metadata": {},
   "outputs": [
    {
     "output_type": "execute_result",
     "data": {
      "text/plain": "   Sno      Date     Time State/UnionTerritory ConfirmedIndianNational  \\\n0    1  30/01/20  6:00 PM               Kerala                       1   \n1    2  31/01/20  6:00 PM               Kerala                       1   \n2    3  01/02/20  6:00 PM               Kerala                       2   \n3    4  02/02/20  6:00 PM               Kerala                       3   \n4    5  03/02/20  6:00 PM               Kerala                       3   \n\n  ConfirmedForeignNational  Cured  Deaths  Confirmed  \n0                        0      0       0          1  \n1                        0      0       0          1  \n2                        0      0       0          2  \n3                        0      0       0          3  \n4                        0      0       0          3  ",
      "text/html": "<div>\n<style scoped>\n    .dataframe tbody tr th:only-of-type {\n        vertical-align: middle;\n    }\n\n    .dataframe tbody tr th {\n        vertical-align: top;\n    }\n\n    .dataframe thead th {\n        text-align: right;\n    }\n</style>\n<table border=\"1\" class=\"dataframe\">\n  <thead>\n    <tr style=\"text-align: right;\">\n      <th></th>\n      <th>Sno</th>\n      <th>Date</th>\n      <th>Time</th>\n      <th>State/UnionTerritory</th>\n      <th>ConfirmedIndianNational</th>\n      <th>ConfirmedForeignNational</th>\n      <th>Cured</th>\n      <th>Deaths</th>\n      <th>Confirmed</th>\n    </tr>\n  </thead>\n  <tbody>\n    <tr>\n      <th>0</th>\n      <td>1</td>\n      <td>30/01/20</td>\n      <td>6:00 PM</td>\n      <td>Kerala</td>\n      <td>1</td>\n      <td>0</td>\n      <td>0</td>\n      <td>0</td>\n      <td>1</td>\n    </tr>\n    <tr>\n      <th>1</th>\n      <td>2</td>\n      <td>31/01/20</td>\n      <td>6:00 PM</td>\n      <td>Kerala</td>\n      <td>1</td>\n      <td>0</td>\n      <td>0</td>\n      <td>0</td>\n      <td>1</td>\n    </tr>\n    <tr>\n      <th>2</th>\n      <td>3</td>\n      <td>01/02/20</td>\n      <td>6:00 PM</td>\n      <td>Kerala</td>\n      <td>2</td>\n      <td>0</td>\n      <td>0</td>\n      <td>0</td>\n      <td>2</td>\n    </tr>\n    <tr>\n      <th>3</th>\n      <td>4</td>\n      <td>02/02/20</td>\n      <td>6:00 PM</td>\n      <td>Kerala</td>\n      <td>3</td>\n      <td>0</td>\n      <td>0</td>\n      <td>0</td>\n      <td>3</td>\n    </tr>\n    <tr>\n      <th>4</th>\n      <td>5</td>\n      <td>03/02/20</td>\n      <td>6:00 PM</td>\n      <td>Kerala</td>\n      <td>3</td>\n      <td>0</td>\n      <td>0</td>\n      <td>0</td>\n      <td>3</td>\n    </tr>\n  </tbody>\n</table>\n</div>"
     },
     "metadata": {},
     "execution_count": 2
    }
   ],
   "source": [
    "df_corona=pd.read_csv(\"/Users/vidushigupta/Desktop/Vidushi/covid_hospital/covid_19_india.csv\")\n",
    "df_corona.head()"
   ]
  },
  {
   "cell_type": "markdown",
   "metadata": {},
   "source": [
    "Checking for any null values"
   ]
  },
  {
   "cell_type": "code",
   "execution_count": 3,
   "metadata": {},
   "outputs": [
    {
     "output_type": "execute_result",
     "data": {
      "text/plain": "Sno                         0\nDate                        0\nTime                        0\nState/UnionTerritory        0\nConfirmedIndianNational     0\nConfirmedForeignNational    0\nCured                       0\nDeaths                      0\nConfirmed                   0\ndtype: int64"
     },
     "metadata": {},
     "execution_count": 3
    }
   ],
   "source": [
    "df_corona.isnull().sum()"
   ]
  },
  {
   "cell_type": "code",
   "execution_count": 4,
   "metadata": {},
   "outputs": [],
   "source": [
    "df_corona.fillna(0,inplace=True)"
   ]
  },
  {
   "cell_type": "markdown",
   "metadata": {},
   "source": [
    "Converting values of the 'Deaths' column to numeric values"
   ]
  },
  {
   "cell_type": "code",
   "execution_count": 5,
   "metadata": {},
   "outputs": [],
   "source": [
    "df_corona['Deaths']=pd.to_numeric(df_corona['Deaths'])"
   ]
  },
  {
   "cell_type": "markdown",
   "metadata": {},
   "source": [
    "Making new columns in existing dataframe to visualise 'Total Cases' and 'Active Cases'"
   ]
  },
  {
   "cell_type": "code",
   "execution_count": 6,
   "metadata": {},
   "outputs": [
    {
     "output_type": "execute_result",
     "data": {
      "text/plain": "   Sno      Date     Time State/UnionTerritory ConfirmedIndianNational  \\\n0    1  30/01/20  6:00 PM               Kerala                       1   \n1    2  31/01/20  6:00 PM               Kerala                       1   \n2    3  01/02/20  6:00 PM               Kerala                       2   \n3    4  02/02/20  6:00 PM               Kerala                       3   \n4    5  03/02/20  6:00 PM               Kerala                       3   \n\n  ConfirmedForeignNational  Cured  Deaths  Confirmed  Total Cases  \\\n0                        0      0       0          1            1   \n1                        0      0       0          1            1   \n2                        0      0       0          2            2   \n3                        0      0       0          3            3   \n4                        0      0       0          3            3   \n\n   Active Cases  \n0             1  \n1             1  \n2             2  \n3             3  \n4             3  ",
      "text/html": "<div>\n<style scoped>\n    .dataframe tbody tr th:only-of-type {\n        vertical-align: middle;\n    }\n\n    .dataframe tbody tr th {\n        vertical-align: top;\n    }\n\n    .dataframe thead th {\n        text-align: right;\n    }\n</style>\n<table border=\"1\" class=\"dataframe\">\n  <thead>\n    <tr style=\"text-align: right;\">\n      <th></th>\n      <th>Sno</th>\n      <th>Date</th>\n      <th>Time</th>\n      <th>State/UnionTerritory</th>\n      <th>ConfirmedIndianNational</th>\n      <th>ConfirmedForeignNational</th>\n      <th>Cured</th>\n      <th>Deaths</th>\n      <th>Confirmed</th>\n      <th>Total Cases</th>\n      <th>Active Cases</th>\n    </tr>\n  </thead>\n  <tbody>\n    <tr>\n      <th>0</th>\n      <td>1</td>\n      <td>30/01/20</td>\n      <td>6:00 PM</td>\n      <td>Kerala</td>\n      <td>1</td>\n      <td>0</td>\n      <td>0</td>\n      <td>0</td>\n      <td>1</td>\n      <td>1</td>\n      <td>1</td>\n    </tr>\n    <tr>\n      <th>1</th>\n      <td>2</td>\n      <td>31/01/20</td>\n      <td>6:00 PM</td>\n      <td>Kerala</td>\n      <td>1</td>\n      <td>0</td>\n      <td>0</td>\n      <td>0</td>\n      <td>1</td>\n      <td>1</td>\n      <td>1</td>\n    </tr>\n    <tr>\n      <th>2</th>\n      <td>3</td>\n      <td>01/02/20</td>\n      <td>6:00 PM</td>\n      <td>Kerala</td>\n      <td>2</td>\n      <td>0</td>\n      <td>0</td>\n      <td>0</td>\n      <td>2</td>\n      <td>2</td>\n      <td>2</td>\n    </tr>\n    <tr>\n      <th>3</th>\n      <td>4</td>\n      <td>02/02/20</td>\n      <td>6:00 PM</td>\n      <td>Kerala</td>\n      <td>3</td>\n      <td>0</td>\n      <td>0</td>\n      <td>0</td>\n      <td>3</td>\n      <td>3</td>\n      <td>3</td>\n    </tr>\n    <tr>\n      <th>4</th>\n      <td>5</td>\n      <td>03/02/20</td>\n      <td>6:00 PM</td>\n      <td>Kerala</td>\n      <td>3</td>\n      <td>0</td>\n      <td>0</td>\n      <td>0</td>\n      <td>3</td>\n      <td>3</td>\n      <td>3</td>\n    </tr>\n  </tbody>\n</table>\n</div>"
     },
     "metadata": {},
     "execution_count": 6
    }
   ],
   "source": [
    "df_corona['Total Cases'] = df_corona['Cured'] + df_corona['Deaths'] + df_corona['Confirmed']\n",
    "df_corona['Active Cases'] = df_corona['Total Cases'] - df_corona['Cured'] - df_corona['Deaths']\n",
    "df_corona.head()"
   ]
  },
  {
   "cell_type": "markdown",
   "metadata": {},
   "source": [
    "Plotting datewise data for cured cases using Plotly"
   ]
  },
  {
   "cell_type": "code",
   "execution_count": 7,
   "metadata": {},
   "outputs": [
    {
     "output_type": "display_data",
     "data": {
      "application/vnd.plotly.v1+json": {
       "config": {
        "plotlyServerURL": "https://plot.ly"
       },
       "data": [
        {
         "alignmentgroup": "True",
         "customdata": [
          [
           0
          ],
          [
           0
          ],
          [
           0
          ],
          [
           0
          ],
          [
           0
          ],
          [
           0
          ],
          [
           0
          ],
          [
           0
          ],
          [
           0
          ],
          [
           0
          ],
          [
           0
          ],
          [
           0
          ],
          [
           0
          ],
          [
           0
          ],
          [
           0
          ],
          [
           0
          ],
          [
           0
          ],
          [
           0
          ],
          [
           0
          ],
          [
           0
          ],
          [
           0
          ],
          [
           0
          ],
          [
           0
          ],
          [
           0
          ],
          [
           0
          ],
          [
           0
          ],
          [
           0
          ],
          [
           0
          ],
          [
           0
          ],
          [
           0
          ],
          [
           0
          ],
          [
           0
          ],
          [
           0
          ],
          [
           3
          ],
          [
           3
          ],
          [
           3
          ],
          [
           3
          ],
          [
           3
          ],
          [
           3
          ],
          [
           3
          ],
          [
           3
          ],
          [
           3
          ],
          [
           3
          ],
          [
           3
          ],
          [
           10
          ],
          [
           13
          ],
          [
           13
          ],
          [
           14
          ],
          [
           14
          ],
          [
           20
          ],
          [
           23
          ],
          [
           23
          ],
          [
           24
          ],
          [
           24
          ],
          [
           40
          ],
          [
           43
          ],
          [
           45
          ],
          [
           67
          ],
          [
           80
          ],
          [
           96
          ],
          [
           102
          ],
          [
           124
          ],
          [
           144
          ],
          [
           156
          ],
          [
           163
          ],
          [
           213
          ],
          [
           275
          ],
          [
           319
          ],
          [
           353
          ],
          [
           411
          ],
          [
           478
          ],
          [
           516
          ],
          [
           653
          ],
          [
           765
          ],
          [
           980
          ],
          [
           1190
          ],
          [
           1344
          ],
          [
           1515
          ],
          [
           1767
          ],
          [
           2015
          ],
          [
           2302
          ],
          [
           2842
          ],
          [
           3260
          ],
          [
           3960
          ],
          [
           4325
          ],
          [
           4814
          ],
          [
           5210
          ],
          [
           5914
          ],
          [
           6362
          ],
          [
           7027
          ],
          [
           7797
          ],
          [
           8373
          ],
          [
           9065
          ],
          [
           9951
          ],
          [
           10887
          ],
          [
           11762
          ],
          [
           13161
          ],
          [
           14183
          ],
          [
           15267
          ],
          [
           16540
          ],
          [
           17847
          ],
          [
           19358
          ],
          [
           20917
          ],
          [
           22455
          ],
          [
           24386
          ],
          [
           26235
          ],
          [
           27920
          ],
          [
           30153
          ],
          [
           34109
          ],
          [
           36824
          ],
          [
           39174
          ],
          [
           42298
          ],
          [
           45300
          ],
          [
           48534
          ],
          [
           51784
          ],
          [
           54441
          ],
          [
           57721
          ],
          [
           60491
          ],
          [
           64426
          ],
          [
           67692
          ],
          [
           71106
          ],
          [
           82370
          ],
          [
           86984
          ],
          [
           91819
          ],
          [
           95527
          ],
          [
           100303
          ],
          [
           104107
          ],
          [
           109462
          ],
          [
           114073
          ],
          [
           119293
          ],
          [
           124095
          ],
          [
           129215
          ],
          [
           135206
          ],
          [
           141029
          ],
          [
           147195
          ],
          [
           154330
          ],
          [
           162379
          ],
          [
           169798
          ],
          [
           180013
          ],
          [
           186935
          ],
          [
           194325
          ],
          [
           204711
          ],
          [
           213831
          ],
          [
           227756
          ],
          [
           237196
          ],
          [
           248190
          ],
          [
           258685
          ],
          [
           271697
          ],
          [
           285637
          ],
          [
           295881
          ],
          [
           309713
          ],
          [
           321723
          ],
          [
           334822
          ],
          [
           347979
          ],
          [
           359860
          ],
          [
           379892
          ],
          [
           394227
          ],
          [
           409083
          ],
          [
           424433
          ],
          [
           439948
          ],
          [
           456831
          ],
          [
           476378
          ],
          [
           495516
          ],
          [
           515386
          ],
          [
           534621
          ],
          [
           553471
          ],
          [
           571460
          ],
          [
           592032
          ]
         ],
         "hovertemplate": "Date=%{x}<br>Cured=%{marker.color}<extra></extra>",
         "legendgroup": "",
         "marker": {
          "color": [
           0,
           0,
           0,
           0,
           0,
           0,
           0,
           0,
           0,
           0,
           0,
           0,
           0,
           0,
           0,
           0,
           0,
           0,
           0,
           0,
           0,
           0,
           0,
           0,
           0,
           0,
           0,
           0,
           0,
           0,
           0,
           0,
           0,
           3,
           3,
           3,
           3,
           3,
           3,
           3,
           3,
           3,
           3,
           3,
           10,
           13,
           13,
           14,
           14,
           20,
           23,
           23,
           24,
           24,
           40,
           43,
           45,
           67,
           80,
           96,
           102,
           124,
           144,
           156,
           163,
           213,
           275,
           319,
           353,
           411,
           478,
           516,
           653,
           765,
           980,
           1190,
           1344,
           1515,
           1767,
           2015,
           2302,
           2842,
           3260,
           3960,
           4325,
           4814,
           5210,
           5914,
           6362,
           7027,
           7797,
           8373,
           9065,
           9951,
           10887,
           11762,
           13161,
           14183,
           15267,
           16540,
           17847,
           19358,
           20917,
           22455,
           24386,
           26235,
           27920,
           30153,
           34109,
           36824,
           39174,
           42298,
           45300,
           48534,
           51784,
           54441,
           57721,
           60491,
           64426,
           67692,
           71106,
           82370,
           86984,
           91819,
           95527,
           100303,
           104107,
           109462,
           114073,
           119293,
           124095,
           129215,
           135206,
           141029,
           147195,
           154330,
           162379,
           169798,
           180013,
           186935,
           194325,
           204711,
           213831,
           227756,
           237196,
           248190,
           258685,
           271697,
           285637,
           295881,
           309713,
           321723,
           334822,
           347979,
           359860,
           379892,
           394227,
           409083,
           424433,
           439948,
           456831,
           476378,
           495516,
           515386,
           534621,
           553471,
           571460,
           592032
          ],
          "coloraxis": "coloraxis"
         },
         "name": "",
         "offsetgroup": "",
         "orientation": "v",
         "showlegend": false,
         "textposition": "auto",
         "type": "bar",
         "x": [
          "01/02/20",
          "07/02/20",
          "28/02/20",
          "08/02/20",
          "09/02/20",
          "27/02/20",
          "10/02/20",
          "22/02/20",
          "26/02/20",
          "12/02/20",
          "13/02/20",
          "25/02/20",
          "14/02/20",
          "15/02/20",
          "24/02/20",
          "16/02/20",
          "17/02/20",
          "18/02/20",
          "19/02/20",
          "23/02/20",
          "20/02/20",
          "21/02/20",
          "06/02/20",
          "29/02/20",
          "11/02/20",
          "01/03/20",
          "31/01/20",
          "02/02/20",
          "02/03/20",
          "05/02/20",
          "03/02/20",
          "30/01/20",
          "04/02/20",
          "05/03/20",
          "12/03/20",
          "03/03/20",
          "11/03/20",
          "10/03/20",
          "09/03/20",
          "08/03/20",
          "04/03/20",
          "13/03/20",
          "06/03/20",
          "07/03/20",
          "14/03/20",
          "16/03/20",
          "15/03/20",
          "18/03/20",
          "17/03/20",
          "19/03/20",
          "21/03/20",
          "20/03/20",
          "22/03/20",
          "23/03/20",
          "24/03/20",
          "25/03/20",
          "26/03/20",
          "27/03/20",
          "28/03/20",
          "29/03/20",
          "30/03/20",
          "31/03/20",
          "01/04/20",
          "02/04/20",
          "03/04/20",
          "04/04/20",
          "05/04/20",
          "06/04/20",
          "07/04/20",
          "08/04/20",
          "09/04/20",
          "10/04/20",
          "11/04/20",
          "12/04/20",
          "13/04/20",
          "14/04/20",
          "15/04/20",
          "16/04/20",
          "17/04/20",
          "18/04/20",
          "19/04/20",
          "20/04/20",
          "21/04/20",
          "22/04/20",
          "23/04/20",
          "24/04/20",
          "25/04/20",
          "26/04/20",
          "27/04/20",
          "28/04/20",
          "29/04/20",
          "30/04/20",
          "01/05/20",
          "02/05/20",
          "03/05/20",
          "04/05/20",
          "05/05/20",
          "06/05/20",
          "07/05/20",
          "08/05/20",
          "09/05/20",
          "10/05/20",
          "11/05/20",
          "12/05/20",
          "13/05/20",
          "14/05/20",
          "15/05/20",
          "16/05/20",
          "17/05/20",
          "18/05/20",
          "19/05/20",
          "20/05/20",
          "21/05/20",
          "22/05/20",
          "23/05/20",
          "24/05/20",
          "25/05/20",
          "26/05/20",
          "27/05/20",
          "28/05/20",
          "29/05/20",
          "30/05/20",
          "31/05/20",
          "01/06/20",
          "02/06/20",
          "03/06/20",
          "04/06/20",
          "05/06/20",
          "06/06/20",
          "07/06/20",
          "08/06/20",
          "09/06/20",
          "10/06/20",
          "11/06/20",
          "12/06/20",
          "13/06/20",
          "14/06/20",
          "15/06/20",
          "16/06/20",
          "17/06/20",
          "18/06/20",
          "19/06/20",
          "20/06/20",
          "21/06/20",
          "22/06/20",
          "23/06/20",
          "24/06/20",
          "25/06/20",
          "26/06/20",
          "27/06/20",
          "28/06/20",
          "29/06/20",
          "30/06/20",
          "01/07/20",
          "02/07/20",
          "03/07/20",
          "04/07/20",
          "05/07/20",
          "06/07/20",
          "07/07/20",
          "08/07/20",
          "09/07/20",
          "10/07/20",
          "11/07/20",
          "12/07/20",
          "13/07/20",
          "14/07/20",
          "15/07/20"
         ],
         "xaxis": "x",
         "y": [
          0,
          0,
          0,
          0,
          0,
          0,
          0,
          0,
          0,
          0,
          0,
          0,
          0,
          0,
          0,
          0,
          0,
          0,
          0,
          0,
          0,
          0,
          0,
          0,
          0,
          0,
          0,
          0,
          0,
          0,
          0,
          0,
          0,
          3,
          3,
          3,
          3,
          3,
          3,
          3,
          3,
          3,
          3,
          3,
          10,
          13,
          13,
          14,
          14,
          20,
          23,
          23,
          24,
          24,
          40,
          43,
          45,
          67,
          80,
          96,
          102,
          124,
          144,
          156,
          163,
          213,
          275,
          319,
          353,
          411,
          478,
          516,
          653,
          765,
          980,
          1190,
          1344,
          1515,
          1767,
          2015,
          2302,
          2842,
          3260,
          3960,
          4325,
          4814,
          5210,
          5914,
          6362,
          7027,
          7797,
          8373,
          9065,
          9951,
          10887,
          11762,
          13161,
          14183,
          15267,
          16540,
          17847,
          19358,
          20917,
          22455,
          24386,
          26235,
          27920,
          30153,
          34109,
          36824,
          39174,
          42298,
          45300,
          48534,
          51784,
          54441,
          57721,
          60491,
          64426,
          67692,
          71106,
          82370,
          86984,
          91819,
          95527,
          100303,
          104107,
          109462,
          114073,
          119293,
          124095,
          129215,
          135206,
          141029,
          147195,
          154330,
          162379,
          169798,
          180013,
          186935,
          194325,
          204711,
          213831,
          227756,
          237196,
          248190,
          258685,
          271697,
          285637,
          295881,
          309713,
          321723,
          334822,
          347979,
          359860,
          379892,
          394227,
          409083,
          424433,
          439948,
          456831,
          476378,
          495516,
          515386,
          534621,
          553471,
          571460,
          592032
         ],
         "yaxis": "y"
        }
       ],
       "layout": {
        "barmode": "relative",
        "coloraxis": {
         "colorbar": {
          "title": {
           "text": "Cured"
          }
         },
         "colorscale": [
          [
           0,
           "#fde725"
          ],
          [
           0.1111111111111111,
           "#b5de2b"
          ],
          [
           0.2222222222222222,
           "#6ece58"
          ],
          [
           0.3333333333333333,
           "#35b779"
          ],
          [
           0.4444444444444444,
           "#1f9e89"
          ],
          [
           0.5555555555555556,
           "#26828e"
          ],
          [
           0.6666666666666666,
           "#31688e"
          ],
          [
           0.7777777777777778,
           "#3e4989"
          ],
          [
           0.8888888888888888,
           "#482878"
          ],
          [
           1,
           "#440154"
          ]
         ]
        },
        "height": 600,
        "legend": {
         "tracegroupgap": 0
        },
        "margin": {
         "t": 60
        },
        "template": {
         "data": {
          "bar": [
           {
            "error_x": {
             "color": "#2a3f5f"
            },
            "error_y": {
             "color": "#2a3f5f"
            },
            "marker": {
             "line": {
              "color": "#E5ECF6",
              "width": 0.5
             }
            },
            "type": "bar"
           }
          ],
          "barpolar": [
           {
            "marker": {
             "line": {
              "color": "#E5ECF6",
              "width": 0.5
             }
            },
            "type": "barpolar"
           }
          ],
          "carpet": [
           {
            "aaxis": {
             "endlinecolor": "#2a3f5f",
             "gridcolor": "white",
             "linecolor": "white",
             "minorgridcolor": "white",
             "startlinecolor": "#2a3f5f"
            },
            "baxis": {
             "endlinecolor": "#2a3f5f",
             "gridcolor": "white",
             "linecolor": "white",
             "minorgridcolor": "white",
             "startlinecolor": "#2a3f5f"
            },
            "type": "carpet"
           }
          ],
          "choropleth": [
           {
            "colorbar": {
             "outlinewidth": 0,
             "ticks": ""
            },
            "type": "choropleth"
           }
          ],
          "contour": [
           {
            "colorbar": {
             "outlinewidth": 0,
             "ticks": ""
            },
            "colorscale": [
             [
              0,
              "#0d0887"
             ],
             [
              0.1111111111111111,
              "#46039f"
             ],
             [
              0.2222222222222222,
              "#7201a8"
             ],
             [
              0.3333333333333333,
              "#9c179e"
             ],
             [
              0.4444444444444444,
              "#bd3786"
             ],
             [
              0.5555555555555556,
              "#d8576b"
             ],
             [
              0.6666666666666666,
              "#ed7953"
             ],
             [
              0.7777777777777778,
              "#fb9f3a"
             ],
             [
              0.8888888888888888,
              "#fdca26"
             ],
             [
              1,
              "#f0f921"
             ]
            ],
            "type": "contour"
           }
          ],
          "contourcarpet": [
           {
            "colorbar": {
             "outlinewidth": 0,
             "ticks": ""
            },
            "type": "contourcarpet"
           }
          ],
          "heatmap": [
           {
            "colorbar": {
             "outlinewidth": 0,
             "ticks": ""
            },
            "colorscale": [
             [
              0,
              "#0d0887"
             ],
             [
              0.1111111111111111,
              "#46039f"
             ],
             [
              0.2222222222222222,
              "#7201a8"
             ],
             [
              0.3333333333333333,
              "#9c179e"
             ],
             [
              0.4444444444444444,
              "#bd3786"
             ],
             [
              0.5555555555555556,
              "#d8576b"
             ],
             [
              0.6666666666666666,
              "#ed7953"
             ],
             [
              0.7777777777777778,
              "#fb9f3a"
             ],
             [
              0.8888888888888888,
              "#fdca26"
             ],
             [
              1,
              "#f0f921"
             ]
            ],
            "type": "heatmap"
           }
          ],
          "heatmapgl": [
           {
            "colorbar": {
             "outlinewidth": 0,
             "ticks": ""
            },
            "colorscale": [
             [
              0,
              "#0d0887"
             ],
             [
              0.1111111111111111,
              "#46039f"
             ],
             [
              0.2222222222222222,
              "#7201a8"
             ],
             [
              0.3333333333333333,
              "#9c179e"
             ],
             [
              0.4444444444444444,
              "#bd3786"
             ],
             [
              0.5555555555555556,
              "#d8576b"
             ],
             [
              0.6666666666666666,
              "#ed7953"
             ],
             [
              0.7777777777777778,
              "#fb9f3a"
             ],
             [
              0.8888888888888888,
              "#fdca26"
             ],
             [
              1,
              "#f0f921"
             ]
            ],
            "type": "heatmapgl"
           }
          ],
          "histogram": [
           {
            "marker": {
             "colorbar": {
              "outlinewidth": 0,
              "ticks": ""
             }
            },
            "type": "histogram"
           }
          ],
          "histogram2d": [
           {
            "colorbar": {
             "outlinewidth": 0,
             "ticks": ""
            },
            "colorscale": [
             [
              0,
              "#0d0887"
             ],
             [
              0.1111111111111111,
              "#46039f"
             ],
             [
              0.2222222222222222,
              "#7201a8"
             ],
             [
              0.3333333333333333,
              "#9c179e"
             ],
             [
              0.4444444444444444,
              "#bd3786"
             ],
             [
              0.5555555555555556,
              "#d8576b"
             ],
             [
              0.6666666666666666,
              "#ed7953"
             ],
             [
              0.7777777777777778,
              "#fb9f3a"
             ],
             [
              0.8888888888888888,
              "#fdca26"
             ],
             [
              1,
              "#f0f921"
             ]
            ],
            "type": "histogram2d"
           }
          ],
          "histogram2dcontour": [
           {
            "colorbar": {
             "outlinewidth": 0,
             "ticks": ""
            },
            "colorscale": [
             [
              0,
              "#0d0887"
             ],
             [
              0.1111111111111111,
              "#46039f"
             ],
             [
              0.2222222222222222,
              "#7201a8"
             ],
             [
              0.3333333333333333,
              "#9c179e"
             ],
             [
              0.4444444444444444,
              "#bd3786"
             ],
             [
              0.5555555555555556,
              "#d8576b"
             ],
             [
              0.6666666666666666,
              "#ed7953"
             ],
             [
              0.7777777777777778,
              "#fb9f3a"
             ],
             [
              0.8888888888888888,
              "#fdca26"
             ],
             [
              1,
              "#f0f921"
             ]
            ],
            "type": "histogram2dcontour"
           }
          ],
          "mesh3d": [
           {
            "colorbar": {
             "outlinewidth": 0,
             "ticks": ""
            },
            "type": "mesh3d"
           }
          ],
          "parcoords": [
           {
            "line": {
             "colorbar": {
              "outlinewidth": 0,
              "ticks": ""
             }
            },
            "type": "parcoords"
           }
          ],
          "pie": [
           {
            "automargin": true,
            "type": "pie"
           }
          ],
          "scatter": [
           {
            "marker": {
             "colorbar": {
              "outlinewidth": 0,
              "ticks": ""
             }
            },
            "type": "scatter"
           }
          ],
          "scatter3d": [
           {
            "line": {
             "colorbar": {
              "outlinewidth": 0,
              "ticks": ""
             }
            },
            "marker": {
             "colorbar": {
              "outlinewidth": 0,
              "ticks": ""
             }
            },
            "type": "scatter3d"
           }
          ],
          "scattercarpet": [
           {
            "marker": {
             "colorbar": {
              "outlinewidth": 0,
              "ticks": ""
             }
            },
            "type": "scattercarpet"
           }
          ],
          "scattergeo": [
           {
            "marker": {
             "colorbar": {
              "outlinewidth": 0,
              "ticks": ""
             }
            },
            "type": "scattergeo"
           }
          ],
          "scattergl": [
           {
            "marker": {
             "colorbar": {
              "outlinewidth": 0,
              "ticks": ""
             }
            },
            "type": "scattergl"
           }
          ],
          "scattermapbox": [
           {
            "marker": {
             "colorbar": {
              "outlinewidth": 0,
              "ticks": ""
             }
            },
            "type": "scattermapbox"
           }
          ],
          "scatterpolar": [
           {
            "marker": {
             "colorbar": {
              "outlinewidth": 0,
              "ticks": ""
             }
            },
            "type": "scatterpolar"
           }
          ],
          "scatterpolargl": [
           {
            "marker": {
             "colorbar": {
              "outlinewidth": 0,
              "ticks": ""
             }
            },
            "type": "scatterpolargl"
           }
          ],
          "scatterternary": [
           {
            "marker": {
             "colorbar": {
              "outlinewidth": 0,
              "ticks": ""
             }
            },
            "type": "scatterternary"
           }
          ],
          "surface": [
           {
            "colorbar": {
             "outlinewidth": 0,
             "ticks": ""
            },
            "colorscale": [
             [
              0,
              "#0d0887"
             ],
             [
              0.1111111111111111,
              "#46039f"
             ],
             [
              0.2222222222222222,
              "#7201a8"
             ],
             [
              0.3333333333333333,
              "#9c179e"
             ],
             [
              0.4444444444444444,
              "#bd3786"
             ],
             [
              0.5555555555555556,
              "#d8576b"
             ],
             [
              0.6666666666666666,
              "#ed7953"
             ],
             [
              0.7777777777777778,
              "#fb9f3a"
             ],
             [
              0.8888888888888888,
              "#fdca26"
             ],
             [
              1,
              "#f0f921"
             ]
            ],
            "type": "surface"
           }
          ],
          "table": [
           {
            "cells": {
             "fill": {
              "color": "#EBF0F8"
             },
             "line": {
              "color": "white"
             }
            },
            "header": {
             "fill": {
              "color": "#C8D4E3"
             },
             "line": {
              "color": "white"
             }
            },
            "type": "table"
           }
          ]
         },
         "layout": {
          "annotationdefaults": {
           "arrowcolor": "#2a3f5f",
           "arrowhead": 0,
           "arrowwidth": 1
          },
          "coloraxis": {
           "colorbar": {
            "outlinewidth": 0,
            "ticks": ""
           }
          },
          "colorscale": {
           "diverging": [
            [
             0,
             "#8e0152"
            ],
            [
             0.1,
             "#c51b7d"
            ],
            [
             0.2,
             "#de77ae"
            ],
            [
             0.3,
             "#f1b6da"
            ],
            [
             0.4,
             "#fde0ef"
            ],
            [
             0.5,
             "#f7f7f7"
            ],
            [
             0.6,
             "#e6f5d0"
            ],
            [
             0.7,
             "#b8e186"
            ],
            [
             0.8,
             "#7fbc41"
            ],
            [
             0.9,
             "#4d9221"
            ],
            [
             1,
             "#276419"
            ]
           ],
           "sequential": [
            [
             0,
             "#0d0887"
            ],
            [
             0.1111111111111111,
             "#46039f"
            ],
            [
             0.2222222222222222,
             "#7201a8"
            ],
            [
             0.3333333333333333,
             "#9c179e"
            ],
            [
             0.4444444444444444,
             "#bd3786"
            ],
            [
             0.5555555555555556,
             "#d8576b"
            ],
            [
             0.6666666666666666,
             "#ed7953"
            ],
            [
             0.7777777777777778,
             "#fb9f3a"
            ],
            [
             0.8888888888888888,
             "#fdca26"
            ],
            [
             1,
             "#f0f921"
            ]
           ],
           "sequentialminus": [
            [
             0,
             "#0d0887"
            ],
            [
             0.1111111111111111,
             "#46039f"
            ],
            [
             0.2222222222222222,
             "#7201a8"
            ],
            [
             0.3333333333333333,
             "#9c179e"
            ],
            [
             0.4444444444444444,
             "#bd3786"
            ],
            [
             0.5555555555555556,
             "#d8576b"
            ],
            [
             0.6666666666666666,
             "#ed7953"
            ],
            [
             0.7777777777777778,
             "#fb9f3a"
            ],
            [
             0.8888888888888888,
             "#fdca26"
            ],
            [
             1,
             "#f0f921"
            ]
           ]
          },
          "colorway": [
           "#636efa",
           "#EF553B",
           "#00cc96",
           "#ab63fa",
           "#FFA15A",
           "#19d3f3",
           "#FF6692",
           "#B6E880",
           "#FF97FF",
           "#FECB52"
          ],
          "font": {
           "color": "#2a3f5f"
          },
          "geo": {
           "bgcolor": "white",
           "lakecolor": "white",
           "landcolor": "#E5ECF6",
           "showlakes": true,
           "showland": true,
           "subunitcolor": "white"
          },
          "hoverlabel": {
           "align": "left"
          },
          "hovermode": "closest",
          "mapbox": {
           "style": "light"
          },
          "paper_bgcolor": "white",
          "plot_bgcolor": "#E5ECF6",
          "polar": {
           "angularaxis": {
            "gridcolor": "white",
            "linecolor": "white",
            "ticks": ""
           },
           "bgcolor": "#E5ECF6",
           "radialaxis": {
            "gridcolor": "white",
            "linecolor": "white",
            "ticks": ""
           }
          },
          "scene": {
           "xaxis": {
            "backgroundcolor": "#E5ECF6",
            "gridcolor": "white",
            "gridwidth": 2,
            "linecolor": "white",
            "showbackground": true,
            "ticks": "",
            "zerolinecolor": "white"
           },
           "yaxis": {
            "backgroundcolor": "#E5ECF6",
            "gridcolor": "white",
            "gridwidth": 2,
            "linecolor": "white",
            "showbackground": true,
            "ticks": "",
            "zerolinecolor": "white"
           },
           "zaxis": {
            "backgroundcolor": "#E5ECF6",
            "gridcolor": "white",
            "gridwidth": 2,
            "linecolor": "white",
            "showbackground": true,
            "ticks": "",
            "zerolinecolor": "white"
           }
          },
          "shapedefaults": {
           "line": {
            "color": "#2a3f5f"
           }
          },
          "ternary": {
           "aaxis": {
            "gridcolor": "white",
            "linecolor": "white",
            "ticks": ""
           },
           "baxis": {
            "gridcolor": "white",
            "linecolor": "white",
            "ticks": ""
           },
           "bgcolor": "#E5ECF6",
           "caxis": {
            "gridcolor": "white",
            "linecolor": "white",
            "ticks": ""
           }
          },
          "title": {
           "x": 0.05
          },
          "xaxis": {
           "automargin": true,
           "gridcolor": "white",
           "linecolor": "white",
           "ticks": "",
           "title": {
            "standoff": 15
           },
           "zerolinecolor": "white",
           "zerolinewidth": 2
          },
          "yaxis": {
           "automargin": true,
           "gridcolor": "white",
           "linecolor": "white",
           "ticks": "",
           "title": {
            "standoff": 15
           },
           "zerolinecolor": "white",
           "zerolinewidth": 2
          }
         }
        },
        "title": {
         "text": "Cured Cases-India"
        },
        "xaxis": {
         "anchor": "y",
         "domain": [
          0,
          1
         ],
         "title": {
          "text": "Date"
         }
        },
        "yaxis": {
         "anchor": "x",
         "domain": [
          0,
          1
         ],
         "title": {
          "text": "Cured"
         }
        }
       }
      }
     },
     "metadata": {}
    }
   ],
   "source": [
    "corona_data = df_corona.groupby(['Date'])['Cured'].sum().reset_index().sort_values('Cured',ascending = True)\n",
    "\n",
    "fig = px.bar(corona_data, y='Cured', x='Date',hover_data =['Cured'], color='Cured', height=600,color_continuous_scale=px.colors.sequential.Viridis_r)\n",
    "fig.update_layout(\n",
    "    title='Cured Cases-India')\n",
    "fig.show()"
   ]
  },
  {
   "cell_type": "markdown",
   "metadata": {},
   "source": [
    "Plotting datewise data for daily positive cases in India using Plotly"
   ]
  },
  {
   "cell_type": "code",
   "execution_count": 8,
   "metadata": {},
   "outputs": [
    {
     "output_type": "display_data",
     "data": {
      "application/vnd.plotly.v1+json": {
       "config": {
        "plotlyServerURL": "https://plot.ly"
       },
       "data": [
        {
         "alignmentgroup": "True",
         "customdata": [
          [
           1
          ],
          [
           0
          ],
          [
           1
          ],
          [
           1
          ],
          [
           0
          ],
          [
           0
          ],
          [
           0
          ],
          [
           0
          ],
          [
           0
          ],
          [
           0
          ],
          [
           0
          ],
          [
           0
          ],
          [
           0
          ],
          [
           0
          ],
          [
           0
          ],
          [
           0
          ],
          [
           0
          ],
          [
           0
          ],
          [
           0
          ],
          [
           0
          ],
          [
           0
          ],
          [
           0
          ],
          [
           0
          ],
          [
           0
          ],
          [
           0
          ],
          [
           0
          ],
          [
           0
          ],
          [
           0
          ],
          [
           0
          ],
          [
           0
          ],
          [
           0
          ],
          [
           0
          ],
          [
           2
          ],
          [
           4
          ],
          [
           22
          ],
          [
           2
          ],
          [
           1
          ],
          [
           3
          ],
          [
           5
          ],
          [
           7
          ],
          [
           12
          ],
          [
           2
          ],
          [
           14
          ],
          [
           8
          ],
          [
           11
          ],
          [
           29
          ],
          [
           4
          ],
          [
           25
          ],
          [
           14
          ],
          [
           29
          ],
          [
           53
          ],
          [
           60
          ],
          [
           81
          ],
          [
           73
          ],
          [
           104
          ],
          [
           91
          ],
          [
           95
          ],
          [
           54
          ],
          [
           200
          ],
          [
           139
          ],
          [
           237
          ],
          [
           172
          ],
          [
           463
          ],
          [
           259
          ],
          [
           494
          ],
          [
           588
          ],
          [
           575
          ],
          [
           776
          ],
          [
           555
          ],
          [
           568
          ],
          [
           678
          ],
          [
           971
          ],
          [
           941
          ],
          [
           1061
          ],
          [
           1171
          ],
          [
           1702
          ],
          [
           1311
          ],
          [
           1025
          ],
          [
           1360
          ],
          [
           1241
          ],
          [
           1642
          ],
          [
           2120
          ],
          [
           1791
          ],
          [
           2235
          ],
          [
           1628
          ],
          [
           2278
          ],
          [
           1893
          ],
          [
           2463
          ],
          [
           2063
          ],
          [
           2390
          ],
          [
           2716
          ],
          [
           2264
          ],
          [
           2411
          ],
          [
           3137
          ],
          [
           3991
          ],
          [
           3670
          ],
          [
           5468
          ],
          [
           3813
          ],
          [
           4734
          ],
          [
           4766
          ],
          [
           4722
          ],
          [
           4916
          ],
          [
           5869
          ],
          [
           5229
          ],
          [
           5578
          ],
          [
           5705
          ],
          [
           5752
          ],
          [
           6076
          ],
          [
           9003
          ],
          [
           7994
          ],
          [
           7050
          ],
          [
           9689
          ],
          [
           8743
          ],
          [
           9470
          ],
          [
           10041
          ],
          [
           9571
          ],
          [
           10411
          ],
          [
           9451
          ],
          [
           10492
          ],
          [
           10026
          ],
          [
           11055
          ],
          [
           19493
          ],
          [
           13187
          ],
          [
           13457
          ],
          [
           12083
          ],
          [
           13902
          ],
          [
           13368
          ],
          [
           15479
          ],
          [
           14792
          ],
          [
           15478
          ],
          [
           14991
          ],
          [
           15438
          ],
          [
           16255
          ],
          [
           16176
          ],
          [
           17518
          ],
          [
           18979
          ],
          [
           20289
          ],
          [
           19246
          ],
          [
           21262
          ],
          [
           19899
          ],
          [
           20605
          ],
          [
           24308
          ],
          [
           24011
          ],
          [
           29644
          ],
          [
           24706
          ],
          [
           26239
          ],
          [
           26928
          ],
          [
           30352
          ],
          [
           31643
          ],
          [
           29180
          ],
          [
           34148
          ],
          [
           31849
          ],
          [
           32039
          ],
          [
           32317
          ],
          [
           31463
          ],
          [
           41314
          ],
          [
           37548
          ],
          [
           40319
          ],
          [
           40023
          ],
          [
           38234
          ],
          [
           40117
          ],
          [
           44913
          ],
          [
           46119
          ],
          [
           47503
          ],
          [
           48423
          ],
          [
           48051
          ],
          [
           47040
          ],
          [
           50583
          ]
         ],
         "hovertemplate": "Date=%{x}<br>Daily Cases=%{marker.color}<extra></extra>",
         "legendgroup": "",
         "marker": {
          "color": [
           1,
           0,
           1,
           1,
           0,
           0,
           0,
           0,
           0,
           0,
           0,
           0,
           0,
           0,
           0,
           0,
           0,
           0,
           0,
           0,
           0,
           0,
           0,
           0,
           0,
           0,
           0,
           0,
           0,
           0,
           0,
           0,
           2,
           4,
           22,
           2,
           1,
           3,
           5,
           7,
           12,
           2,
           14,
           8,
           11,
           29,
           4,
           25,
           14,
           29,
           53,
           60,
           81,
           73,
           104,
           91,
           95,
           54,
           200,
           139,
           237,
           172,
           463,
           259,
           494,
           588,
           575,
           776,
           555,
           568,
           678,
           971,
           941,
           1061,
           1171,
           1702,
           1311,
           1025,
           1360,
           1241,
           1642,
           2120,
           1791,
           2235,
           1628,
           2278,
           1893,
           2463,
           2063,
           2390,
           2716,
           2264,
           2411,
           3137,
           3991,
           3670,
           5468,
           3813,
           4734,
           4766,
           4722,
           4916,
           5869,
           5229,
           5578,
           5705,
           5752,
           6076,
           9003,
           7994,
           7050,
           9689,
           8743,
           9470,
           10041,
           9571,
           10411,
           9451,
           10492,
           10026,
           11055,
           19493,
           13187,
           13457,
           12083,
           13902,
           13368,
           15479,
           14792,
           15478,
           14991,
           15438,
           16255,
           16176,
           17518,
           18979,
           20289,
           19246,
           21262,
           19899,
           20605,
           24308,
           24011,
           29644,
           24706,
           26239,
           26928,
           30352,
           31643,
           29180,
           34148,
           31849,
           32039,
           32317,
           31463,
           41314,
           37548,
           40319,
           40023,
           38234,
           40117,
           44913,
           46119,
           47503,
           48423,
           48051,
           47040,
           50583
          ],
          "coloraxis": "coloraxis"
         },
         "name": "",
         "offsetgroup": "",
         "orientation": "v",
         "showlegend": false,
         "textposition": "auto",
         "type": "bar",
         "x": [
          "31/01/20",
          "30/01/20",
          "01/02/20",
          "07/02/20",
          "28/02/20",
          "08/02/20",
          "09/02/20",
          "27/02/20",
          "10/02/20",
          "22/02/20",
          "26/02/20",
          "12/02/20",
          "13/02/20",
          "25/02/20",
          "14/02/20",
          "15/02/20",
          "24/02/20",
          "16/02/20",
          "17/02/20",
          "18/02/20",
          "19/02/20",
          "23/02/20",
          "20/02/20",
          "21/02/20",
          "06/02/20",
          "29/02/20",
          "11/02/20",
          "05/02/20",
          "03/02/20",
          "01/03/20",
          "02/02/20",
          "04/02/20",
          "02/03/20",
          "03/03/20",
          "04/03/20",
          "05/03/20",
          "06/03/20",
          "07/03/20",
          "08/03/20",
          "09/03/20",
          "10/03/20",
          "11/03/20",
          "12/03/20",
          "13/03/20",
          "14/03/20",
          "15/03/20",
          "16/03/20",
          "17/03/20",
          "18/03/20",
          "19/03/20",
          "20/03/20",
          "21/03/20",
          "22/03/20",
          "23/03/20",
          "24/03/20",
          "25/03/20",
          "26/03/20",
          "27/03/20",
          "28/03/20",
          "29/03/20",
          "30/03/20",
          "31/03/20",
          "01/04/20",
          "02/04/20",
          "03/04/20",
          "04/04/20",
          "05/04/20",
          "06/04/20",
          "07/04/20",
          "08/04/20",
          "09/04/20",
          "10/04/20",
          "11/04/20",
          "12/04/20",
          "13/04/20",
          "14/04/20",
          "15/04/20",
          "16/04/20",
          "17/04/20",
          "18/04/20",
          "19/04/20",
          "20/04/20",
          "21/04/20",
          "22/04/20",
          "23/04/20",
          "24/04/20",
          "25/04/20",
          "26/04/20",
          "27/04/20",
          "28/04/20",
          "29/04/20",
          "30/04/20",
          "01/05/20",
          "02/05/20",
          "03/05/20",
          "04/05/20",
          "05/05/20",
          "06/05/20",
          "07/05/20",
          "08/05/20",
          "09/05/20",
          "10/05/20",
          "11/05/20",
          "12/05/20",
          "13/05/20",
          "14/05/20",
          "15/05/20",
          "16/05/20",
          "17/05/20",
          "18/05/20",
          "19/05/20",
          "20/05/20",
          "21/05/20",
          "22/05/20",
          "23/05/20",
          "24/05/20",
          "25/05/20",
          "26/05/20",
          "27/05/20",
          "28/05/20",
          "29/05/20",
          "30/05/20",
          "31/05/20",
          "01/06/20",
          "02/06/20",
          "03/06/20",
          "04/06/20",
          "05/06/20",
          "06/06/20",
          "07/06/20",
          "08/06/20",
          "09/06/20",
          "10/06/20",
          "11/06/20",
          "12/06/20",
          "13/06/20",
          "14/06/20",
          "15/06/20",
          "16/06/20",
          "17/06/20",
          "18/06/20",
          "19/06/20",
          "20/06/20",
          "21/06/20",
          "22/06/20",
          "23/06/20",
          "24/06/20",
          "25/06/20",
          "26/06/20",
          "27/06/20",
          "28/06/20",
          "29/06/20",
          "30/06/20",
          "01/07/20",
          "02/07/20",
          "03/07/20",
          "04/07/20",
          "05/07/20",
          "06/07/20",
          "07/07/20",
          "08/07/20",
          "09/07/20",
          "10/07/20",
          "11/07/20",
          "12/07/20",
          "13/07/20",
          "14/07/20",
          "15/07/20"
         ],
         "xaxis": "x",
         "y": [
          1,
          0,
          1,
          1,
          0,
          0,
          0,
          0,
          0,
          0,
          0,
          0,
          0,
          0,
          0,
          0,
          0,
          0,
          0,
          0,
          0,
          0,
          0,
          0,
          0,
          0,
          0,
          0,
          0,
          0,
          0,
          0,
          2,
          4,
          22,
          2,
          1,
          3,
          5,
          7,
          12,
          2,
          14,
          8,
          11,
          29,
          4,
          25,
          14,
          29,
          53,
          60,
          81,
          73,
          104,
          91,
          95,
          54,
          200,
          139,
          237,
          172,
          463,
          259,
          494,
          588,
          575,
          776,
          555,
          568,
          678,
          971,
          941,
          1061,
          1171,
          1702,
          1311,
          1025,
          1360,
          1241,
          1642,
          2120,
          1791,
          2235,
          1628,
          2278,
          1893,
          2463,
          2063,
          2390,
          2716,
          2264,
          2411,
          3137,
          3991,
          3670,
          5468,
          3813,
          4734,
          4766,
          4722,
          4916,
          5869,
          5229,
          5578,
          5705,
          5752,
          6076,
          9003,
          7994,
          7050,
          9689,
          8743,
          9470,
          10041,
          9571,
          10411,
          9451,
          10492,
          10026,
          11055,
          19493,
          13187,
          13457,
          12083,
          13902,
          13368,
          15479,
          14792,
          15478,
          14991,
          15438,
          16255,
          16176,
          17518,
          18979,
          20289,
          19246,
          21262,
          19899,
          20605,
          24308,
          24011,
          29644,
          24706,
          26239,
          26928,
          30352,
          31643,
          29180,
          34148,
          31849,
          32039,
          32317,
          31463,
          41314,
          37548,
          40319,
          40023,
          38234,
          40117,
          44913,
          46119,
          47503,
          48423,
          48051,
          47040,
          50583
         ],
         "yaxis": "y"
        }
       ],
       "layout": {
        "barmode": "relative",
        "coloraxis": {
         "colorbar": {
          "title": {
           "text": "Daily Cases"
          }
         },
         "colorscale": [
          [
           0,
           "blue"
          ],
          [
           1,
           "red"
          ]
         ]
        },
        "height": 600,
        "legend": {
         "tracegroupgap": 0
        },
        "margin": {
         "t": 60
        },
        "template": {
         "data": {
          "bar": [
           {
            "error_x": {
             "color": "#2a3f5f"
            },
            "error_y": {
             "color": "#2a3f5f"
            },
            "marker": {
             "line": {
              "color": "#E5ECF6",
              "width": 0.5
             }
            },
            "type": "bar"
           }
          ],
          "barpolar": [
           {
            "marker": {
             "line": {
              "color": "#E5ECF6",
              "width": 0.5
             }
            },
            "type": "barpolar"
           }
          ],
          "carpet": [
           {
            "aaxis": {
             "endlinecolor": "#2a3f5f",
             "gridcolor": "white",
             "linecolor": "white",
             "minorgridcolor": "white",
             "startlinecolor": "#2a3f5f"
            },
            "baxis": {
             "endlinecolor": "#2a3f5f",
             "gridcolor": "white",
             "linecolor": "white",
             "minorgridcolor": "white",
             "startlinecolor": "#2a3f5f"
            },
            "type": "carpet"
           }
          ],
          "choropleth": [
           {
            "colorbar": {
             "outlinewidth": 0,
             "ticks": ""
            },
            "type": "choropleth"
           }
          ],
          "contour": [
           {
            "colorbar": {
             "outlinewidth": 0,
             "ticks": ""
            },
            "colorscale": [
             [
              0,
              "#0d0887"
             ],
             [
              0.1111111111111111,
              "#46039f"
             ],
             [
              0.2222222222222222,
              "#7201a8"
             ],
             [
              0.3333333333333333,
              "#9c179e"
             ],
             [
              0.4444444444444444,
              "#bd3786"
             ],
             [
              0.5555555555555556,
              "#d8576b"
             ],
             [
              0.6666666666666666,
              "#ed7953"
             ],
             [
              0.7777777777777778,
              "#fb9f3a"
             ],
             [
              0.8888888888888888,
              "#fdca26"
             ],
             [
              1,
              "#f0f921"
             ]
            ],
            "type": "contour"
           }
          ],
          "contourcarpet": [
           {
            "colorbar": {
             "outlinewidth": 0,
             "ticks": ""
            },
            "type": "contourcarpet"
           }
          ],
          "heatmap": [
           {
            "colorbar": {
             "outlinewidth": 0,
             "ticks": ""
            },
            "colorscale": [
             [
              0,
              "#0d0887"
             ],
             [
              0.1111111111111111,
              "#46039f"
             ],
             [
              0.2222222222222222,
              "#7201a8"
             ],
             [
              0.3333333333333333,
              "#9c179e"
             ],
             [
              0.4444444444444444,
              "#bd3786"
             ],
             [
              0.5555555555555556,
              "#d8576b"
             ],
             [
              0.6666666666666666,
              "#ed7953"
             ],
             [
              0.7777777777777778,
              "#fb9f3a"
             ],
             [
              0.8888888888888888,
              "#fdca26"
             ],
             [
              1,
              "#f0f921"
             ]
            ],
            "type": "heatmap"
           }
          ],
          "heatmapgl": [
           {
            "colorbar": {
             "outlinewidth": 0,
             "ticks": ""
            },
            "colorscale": [
             [
              0,
              "#0d0887"
             ],
             [
              0.1111111111111111,
              "#46039f"
             ],
             [
              0.2222222222222222,
              "#7201a8"
             ],
             [
              0.3333333333333333,
              "#9c179e"
             ],
             [
              0.4444444444444444,
              "#bd3786"
             ],
             [
              0.5555555555555556,
              "#d8576b"
             ],
             [
              0.6666666666666666,
              "#ed7953"
             ],
             [
              0.7777777777777778,
              "#fb9f3a"
             ],
             [
              0.8888888888888888,
              "#fdca26"
             ],
             [
              1,
              "#f0f921"
             ]
            ],
            "type": "heatmapgl"
           }
          ],
          "histogram": [
           {
            "marker": {
             "colorbar": {
              "outlinewidth": 0,
              "ticks": ""
             }
            },
            "type": "histogram"
           }
          ],
          "histogram2d": [
           {
            "colorbar": {
             "outlinewidth": 0,
             "ticks": ""
            },
            "colorscale": [
             [
              0,
              "#0d0887"
             ],
             [
              0.1111111111111111,
              "#46039f"
             ],
             [
              0.2222222222222222,
              "#7201a8"
             ],
             [
              0.3333333333333333,
              "#9c179e"
             ],
             [
              0.4444444444444444,
              "#bd3786"
             ],
             [
              0.5555555555555556,
              "#d8576b"
             ],
             [
              0.6666666666666666,
              "#ed7953"
             ],
             [
              0.7777777777777778,
              "#fb9f3a"
             ],
             [
              0.8888888888888888,
              "#fdca26"
             ],
             [
              1,
              "#f0f921"
             ]
            ],
            "type": "histogram2d"
           }
          ],
          "histogram2dcontour": [
           {
            "colorbar": {
             "outlinewidth": 0,
             "ticks": ""
            },
            "colorscale": [
             [
              0,
              "#0d0887"
             ],
             [
              0.1111111111111111,
              "#46039f"
             ],
             [
              0.2222222222222222,
              "#7201a8"
             ],
             [
              0.3333333333333333,
              "#9c179e"
             ],
             [
              0.4444444444444444,
              "#bd3786"
             ],
             [
              0.5555555555555556,
              "#d8576b"
             ],
             [
              0.6666666666666666,
              "#ed7953"
             ],
             [
              0.7777777777777778,
              "#fb9f3a"
             ],
             [
              0.8888888888888888,
              "#fdca26"
             ],
             [
              1,
              "#f0f921"
             ]
            ],
            "type": "histogram2dcontour"
           }
          ],
          "mesh3d": [
           {
            "colorbar": {
             "outlinewidth": 0,
             "ticks": ""
            },
            "type": "mesh3d"
           }
          ],
          "parcoords": [
           {
            "line": {
             "colorbar": {
              "outlinewidth": 0,
              "ticks": ""
             }
            },
            "type": "parcoords"
           }
          ],
          "pie": [
           {
            "automargin": true,
            "type": "pie"
           }
          ],
          "scatter": [
           {
            "marker": {
             "colorbar": {
              "outlinewidth": 0,
              "ticks": ""
             }
            },
            "type": "scatter"
           }
          ],
          "scatter3d": [
           {
            "line": {
             "colorbar": {
              "outlinewidth": 0,
              "ticks": ""
             }
            },
            "marker": {
             "colorbar": {
              "outlinewidth": 0,
              "ticks": ""
             }
            },
            "type": "scatter3d"
           }
          ],
          "scattercarpet": [
           {
            "marker": {
             "colorbar": {
              "outlinewidth": 0,
              "ticks": ""
             }
            },
            "type": "scattercarpet"
           }
          ],
          "scattergeo": [
           {
            "marker": {
             "colorbar": {
              "outlinewidth": 0,
              "ticks": ""
             }
            },
            "type": "scattergeo"
           }
          ],
          "scattergl": [
           {
            "marker": {
             "colorbar": {
              "outlinewidth": 0,
              "ticks": ""
             }
            },
            "type": "scattergl"
           }
          ],
          "scattermapbox": [
           {
            "marker": {
             "colorbar": {
              "outlinewidth": 0,
              "ticks": ""
             }
            },
            "type": "scattermapbox"
           }
          ],
          "scatterpolar": [
           {
            "marker": {
             "colorbar": {
              "outlinewidth": 0,
              "ticks": ""
             }
            },
            "type": "scatterpolar"
           }
          ],
          "scatterpolargl": [
           {
            "marker": {
             "colorbar": {
              "outlinewidth": 0,
              "ticks": ""
             }
            },
            "type": "scatterpolargl"
           }
          ],
          "scatterternary": [
           {
            "marker": {
             "colorbar": {
              "outlinewidth": 0,
              "ticks": ""
             }
            },
            "type": "scatterternary"
           }
          ],
          "surface": [
           {
            "colorbar": {
             "outlinewidth": 0,
             "ticks": ""
            },
            "colorscale": [
             [
              0,
              "#0d0887"
             ],
             [
              0.1111111111111111,
              "#46039f"
             ],
             [
              0.2222222222222222,
              "#7201a8"
             ],
             [
              0.3333333333333333,
              "#9c179e"
             ],
             [
              0.4444444444444444,
              "#bd3786"
             ],
             [
              0.5555555555555556,
              "#d8576b"
             ],
             [
              0.6666666666666666,
              "#ed7953"
             ],
             [
              0.7777777777777778,
              "#fb9f3a"
             ],
             [
              0.8888888888888888,
              "#fdca26"
             ],
             [
              1,
              "#f0f921"
             ]
            ],
            "type": "surface"
           }
          ],
          "table": [
           {
            "cells": {
             "fill": {
              "color": "#EBF0F8"
             },
             "line": {
              "color": "white"
             }
            },
            "header": {
             "fill": {
              "color": "#C8D4E3"
             },
             "line": {
              "color": "white"
             }
            },
            "type": "table"
           }
          ]
         },
         "layout": {
          "annotationdefaults": {
           "arrowcolor": "#2a3f5f",
           "arrowhead": 0,
           "arrowwidth": 1
          },
          "coloraxis": {
           "colorbar": {
            "outlinewidth": 0,
            "ticks": ""
           }
          },
          "colorscale": {
           "diverging": [
            [
             0,
             "#8e0152"
            ],
            [
             0.1,
             "#c51b7d"
            ],
            [
             0.2,
             "#de77ae"
            ],
            [
             0.3,
             "#f1b6da"
            ],
            [
             0.4,
             "#fde0ef"
            ],
            [
             0.5,
             "#f7f7f7"
            ],
            [
             0.6,
             "#e6f5d0"
            ],
            [
             0.7,
             "#b8e186"
            ],
            [
             0.8,
             "#7fbc41"
            ],
            [
             0.9,
             "#4d9221"
            ],
            [
             1,
             "#276419"
            ]
           ],
           "sequential": [
            [
             0,
             "#0d0887"
            ],
            [
             0.1111111111111111,
             "#46039f"
            ],
            [
             0.2222222222222222,
             "#7201a8"
            ],
            [
             0.3333333333333333,
             "#9c179e"
            ],
            [
             0.4444444444444444,
             "#bd3786"
            ],
            [
             0.5555555555555556,
             "#d8576b"
            ],
            [
             0.6666666666666666,
             "#ed7953"
            ],
            [
             0.7777777777777778,
             "#fb9f3a"
            ],
            [
             0.8888888888888888,
             "#fdca26"
            ],
            [
             1,
             "#f0f921"
            ]
           ],
           "sequentialminus": [
            [
             0,
             "#0d0887"
            ],
            [
             0.1111111111111111,
             "#46039f"
            ],
            [
             0.2222222222222222,
             "#7201a8"
            ],
            [
             0.3333333333333333,
             "#9c179e"
            ],
            [
             0.4444444444444444,
             "#bd3786"
            ],
            [
             0.5555555555555556,
             "#d8576b"
            ],
            [
             0.6666666666666666,
             "#ed7953"
            ],
            [
             0.7777777777777778,
             "#fb9f3a"
            ],
            [
             0.8888888888888888,
             "#fdca26"
            ],
            [
             1,
             "#f0f921"
            ]
           ]
          },
          "colorway": [
           "#636efa",
           "#EF553B",
           "#00cc96",
           "#ab63fa",
           "#FFA15A",
           "#19d3f3",
           "#FF6692",
           "#B6E880",
           "#FF97FF",
           "#FECB52"
          ],
          "font": {
           "color": "#2a3f5f"
          },
          "geo": {
           "bgcolor": "white",
           "lakecolor": "white",
           "landcolor": "#E5ECF6",
           "showlakes": true,
           "showland": true,
           "subunitcolor": "white"
          },
          "hoverlabel": {
           "align": "left"
          },
          "hovermode": "closest",
          "mapbox": {
           "style": "light"
          },
          "paper_bgcolor": "white",
          "plot_bgcolor": "#E5ECF6",
          "polar": {
           "angularaxis": {
            "gridcolor": "white",
            "linecolor": "white",
            "ticks": ""
           },
           "bgcolor": "#E5ECF6",
           "radialaxis": {
            "gridcolor": "white",
            "linecolor": "white",
            "ticks": ""
           }
          },
          "scene": {
           "xaxis": {
            "backgroundcolor": "#E5ECF6",
            "gridcolor": "white",
            "gridwidth": 2,
            "linecolor": "white",
            "showbackground": true,
            "ticks": "",
            "zerolinecolor": "white"
           },
           "yaxis": {
            "backgroundcolor": "#E5ECF6",
            "gridcolor": "white",
            "gridwidth": 2,
            "linecolor": "white",
            "showbackground": true,
            "ticks": "",
            "zerolinecolor": "white"
           },
           "zaxis": {
            "backgroundcolor": "#E5ECF6",
            "gridcolor": "white",
            "gridwidth": 2,
            "linecolor": "white",
            "showbackground": true,
            "ticks": "",
            "zerolinecolor": "white"
           }
          },
          "shapedefaults": {
           "line": {
            "color": "#2a3f5f"
           }
          },
          "ternary": {
           "aaxis": {
            "gridcolor": "white",
            "linecolor": "white",
            "ticks": ""
           },
           "baxis": {
            "gridcolor": "white",
            "linecolor": "white",
            "ticks": ""
           },
           "bgcolor": "#E5ECF6",
           "caxis": {
            "gridcolor": "white",
            "linecolor": "white",
            "ticks": ""
           }
          },
          "title": {
           "x": 0.05
          },
          "xaxis": {
           "automargin": true,
           "gridcolor": "white",
           "linecolor": "white",
           "ticks": "",
           "title": {
            "standoff": 15
           },
           "zerolinecolor": "white",
           "zerolinewidth": 2
          },
          "yaxis": {
           "automargin": true,
           "gridcolor": "white",
           "linecolor": "white",
           "ticks": "",
           "title": {
            "standoff": 15
           },
           "zerolinecolor": "white",
           "zerolinewidth": 2
          }
         }
        },
        "title": {
         "text": "Daily Cases-India"
        },
        "xaxis": {
         "anchor": "y",
         "domain": [
          0,
          1
         ],
         "title": {
          "text": "Date"
         }
        },
        "yaxis": {
         "anchor": "x",
         "domain": [
          0,
          1
         ],
         "title": {
          "text": "Daily Cases"
         }
        }
       }
      }
     },
     "metadata": {}
    }
   ],
   "source": [
    "corona_data = df_corona.groupby(['Date'])['Total Cases'].sum().reset_index().sort_values('Total Cases',ascending = True)\n",
    "corona_data['Daily Cases'] = corona_data['Total Cases'].sub(corona_data['Total Cases'].shift())\n",
    "corona_data['Daily Cases'].iloc[0] = corona_data['Total Cases'].iloc[0]\n",
    "corona_data['Daily Cases'] = corona_data['Daily Cases'].astype(int)\n",
    "fig = px.bar(corona_data, y='Daily Cases', x='Date',hover_data =['Daily Cases'], color='Daily Cases', height=600,color_continuous_scale=[\"blue\",\"red\"])\n",
    "fig.update_layout(\n",
    "    title='Daily Cases-India')\n",
    "fig.show()"
   ]
  },
  {
   "cell_type": "markdown",
   "metadata": {},
   "source": [
    "Importing dataset for prediction using FB Prophet model"
   ]
  },
  {
   "cell_type": "code",
   "execution_count": 9,
   "metadata": {},
   "outputs": [
    {
     "output_type": "execute_result",
     "data": {
      "text/plain": "            Daily Confirmed  Total Confirmed  Daily Recovered  \\\nDate                                                            \n2020-01-30              1.0              1.0              0.0   \n2020-01-31              0.0              1.0              0.0   \n2020-02-01              0.0              1.0              0.0   \n2020-02-02              1.0              2.0              0.0   \n2020-02-03              1.0              3.0              0.0   \n\n            Total Recovered  Daily Deceased  Total Deceased  \nDate                                                         \n2020-01-30              0.0             0.0             0.0  \n2020-01-31              0.0             0.0             0.0  \n2020-02-01              0.0             0.0             0.0  \n2020-02-02              0.0             0.0             0.0  \n2020-02-03              0.0             0.0             0.0  ",
      "text/html": "<div>\n<style scoped>\n    .dataframe tbody tr th:only-of-type {\n        vertical-align: middle;\n    }\n\n    .dataframe tbody tr th {\n        vertical-align: top;\n    }\n\n    .dataframe thead th {\n        text-align: right;\n    }\n</style>\n<table border=\"1\" class=\"dataframe\">\n  <thead>\n    <tr style=\"text-align: right;\">\n      <th></th>\n      <th>Daily Confirmed</th>\n      <th>Total Confirmed</th>\n      <th>Daily Recovered</th>\n      <th>Total Recovered</th>\n      <th>Daily Deceased</th>\n      <th>Total Deceased</th>\n    </tr>\n    <tr>\n      <th>Date</th>\n      <th></th>\n      <th></th>\n      <th></th>\n      <th></th>\n      <th></th>\n      <th></th>\n    </tr>\n  </thead>\n  <tbody>\n    <tr>\n      <th>2020-01-30</th>\n      <td>1.0</td>\n      <td>1.0</td>\n      <td>0.0</td>\n      <td>0.0</td>\n      <td>0.0</td>\n      <td>0.0</td>\n    </tr>\n    <tr>\n      <th>2020-01-31</th>\n      <td>0.0</td>\n      <td>1.0</td>\n      <td>0.0</td>\n      <td>0.0</td>\n      <td>0.0</td>\n      <td>0.0</td>\n    </tr>\n    <tr>\n      <th>2020-02-01</th>\n      <td>0.0</td>\n      <td>1.0</td>\n      <td>0.0</td>\n      <td>0.0</td>\n      <td>0.0</td>\n      <td>0.0</td>\n    </tr>\n    <tr>\n      <th>2020-02-02</th>\n      <td>1.0</td>\n      <td>2.0</td>\n      <td>0.0</td>\n      <td>0.0</td>\n      <td>0.0</td>\n      <td>0.0</td>\n    </tr>\n    <tr>\n      <th>2020-02-03</th>\n      <td>1.0</td>\n      <td>3.0</td>\n      <td>0.0</td>\n      <td>0.0</td>\n      <td>0.0</td>\n      <td>0.0</td>\n    </tr>\n  </tbody>\n</table>\n</div>"
     },
     "metadata": {},
     "execution_count": 9
    }
   ],
   "source": [
    "df = pd.read_csv(r\"/Users/vidushigupta/Desktop/Vidushi/covid_hospital/daily_data.csv\", index_col='Date',parse_dates=True)\n",
    "df.head(5)"
   ]
  },
  {
   "cell_type": "code",
   "execution_count": 10,
   "metadata": {},
   "outputs": [
    {
     "output_type": "execute_result",
     "data": {
      "text/plain": "            Total Confirmed  Total Recovered  Total Deceased\nDate                                                        \n2020-01-30              1.0              0.0             0.0\n2020-01-31              1.0              0.0             0.0\n2020-02-01              1.0              0.0             0.0\n2020-02-02              2.0              0.0             0.0\n2020-02-03              3.0              0.0             0.0",
      "text/html": "<div>\n<style scoped>\n    .dataframe tbody tr th:only-of-type {\n        vertical-align: middle;\n    }\n\n    .dataframe tbody tr th {\n        vertical-align: top;\n    }\n\n    .dataframe thead th {\n        text-align: right;\n    }\n</style>\n<table border=\"1\" class=\"dataframe\">\n  <thead>\n    <tr style=\"text-align: right;\">\n      <th></th>\n      <th>Total Confirmed</th>\n      <th>Total Recovered</th>\n      <th>Total Deceased</th>\n    </tr>\n    <tr>\n      <th>Date</th>\n      <th></th>\n      <th></th>\n      <th></th>\n    </tr>\n  </thead>\n  <tbody>\n    <tr>\n      <th>2020-01-30</th>\n      <td>1.0</td>\n      <td>0.0</td>\n      <td>0.0</td>\n    </tr>\n    <tr>\n      <th>2020-01-31</th>\n      <td>1.0</td>\n      <td>0.0</td>\n      <td>0.0</td>\n    </tr>\n    <tr>\n      <th>2020-02-01</th>\n      <td>1.0</td>\n      <td>0.0</td>\n      <td>0.0</td>\n    </tr>\n    <tr>\n      <th>2020-02-02</th>\n      <td>2.0</td>\n      <td>0.0</td>\n      <td>0.0</td>\n    </tr>\n    <tr>\n      <th>2020-02-03</th>\n      <td>3.0</td>\n      <td>0.0</td>\n      <td>0.0</td>\n    </tr>\n  </tbody>\n</table>\n</div>"
     },
     "metadata": {},
     "execution_count": 10
    }
   ],
   "source": [
    "df_1=df[['Total Confirmed','Total Recovered','Total Deceased']]\n",
    "df_1.head()"
   ]
  },
  {
   "cell_type": "code",
   "execution_count": 11,
   "metadata": {},
   "outputs": [
    {
     "output_type": "execute_result",
     "data": {
      "text/plain": "            Total Confirmed  Total Recovered  Total Deceased\nDate                                                        \n2020-01-30              1.0              0.0             0.0\n2020-01-31              1.0              0.0             0.0\n2020-02-01              1.0              0.0             0.0\n2020-02-02              2.0              0.0             0.0\n2020-02-03              3.0              0.0             0.0\n...                     ...              ...             ...\n2020-07-09         794847.0         495962.0         21626.0\n2020-07-10         822609.0         516251.0         22146.0\n2020-07-11         850366.0         536232.0         22689.0\n2020-07-12         879472.0         554430.0         23189.0\n2020-07-13         907650.0         572113.0         23730.0\n\n[166 rows x 3 columns]",
      "text/html": "<div>\n<style scoped>\n    .dataframe tbody tr th:only-of-type {\n        vertical-align: middle;\n    }\n\n    .dataframe tbody tr th {\n        vertical-align: top;\n    }\n\n    .dataframe thead th {\n        text-align: right;\n    }\n</style>\n<table border=\"1\" class=\"dataframe\">\n  <thead>\n    <tr style=\"text-align: right;\">\n      <th></th>\n      <th>Total Confirmed</th>\n      <th>Total Recovered</th>\n      <th>Total Deceased</th>\n    </tr>\n    <tr>\n      <th>Date</th>\n      <th></th>\n      <th></th>\n      <th></th>\n    </tr>\n  </thead>\n  <tbody>\n    <tr>\n      <th>2020-01-30</th>\n      <td>1.0</td>\n      <td>0.0</td>\n      <td>0.0</td>\n    </tr>\n    <tr>\n      <th>2020-01-31</th>\n      <td>1.0</td>\n      <td>0.0</td>\n      <td>0.0</td>\n    </tr>\n    <tr>\n      <th>2020-02-01</th>\n      <td>1.0</td>\n      <td>0.0</td>\n      <td>0.0</td>\n    </tr>\n    <tr>\n      <th>2020-02-02</th>\n      <td>2.0</td>\n      <td>0.0</td>\n      <td>0.0</td>\n    </tr>\n    <tr>\n      <th>2020-02-03</th>\n      <td>3.0</td>\n      <td>0.0</td>\n      <td>0.0</td>\n    </tr>\n    <tr>\n      <th>...</th>\n      <td>...</td>\n      <td>...</td>\n      <td>...</td>\n    </tr>\n    <tr>\n      <th>2020-07-09</th>\n      <td>794847.0</td>\n      <td>495962.0</td>\n      <td>21626.0</td>\n    </tr>\n    <tr>\n      <th>2020-07-10</th>\n      <td>822609.0</td>\n      <td>516251.0</td>\n      <td>22146.0</td>\n    </tr>\n    <tr>\n      <th>2020-07-11</th>\n      <td>850366.0</td>\n      <td>536232.0</td>\n      <td>22689.0</td>\n    </tr>\n    <tr>\n      <th>2020-07-12</th>\n      <td>879472.0</td>\n      <td>554430.0</td>\n      <td>23189.0</td>\n    </tr>\n    <tr>\n      <th>2020-07-13</th>\n      <td>907650.0</td>\n      <td>572113.0</td>\n      <td>23730.0</td>\n    </tr>\n  </tbody>\n</table>\n<p>166 rows × 3 columns</p>\n</div>"
     },
     "metadata": {},
     "execution_count": 11
    }
   ],
   "source": [
    "df_1=df_1.dropna()\n",
    "df_1"
   ]
  },
  {
   "cell_type": "markdown",
   "metadata": {},
   "source": [
    "Plotting the data to know its kind using Matplotlib"
   ]
  },
  {
   "cell_type": "code",
   "execution_count": 12,
   "metadata": {},
   "outputs": [
    {
     "output_type": "execute_result",
     "data": {
      "text/plain": "<matplotlib.axes._subplots.AxesSubplot at 0x1192bc880>"
     },
     "metadata": {},
     "execution_count": 12
    },
    {
     "output_type": "display_data",
     "data": {
      "text/plain": "<Figure size 720x720 with 1 Axes>",
      "image/svg+xml": "<?xml version=\"1.0\" encoding=\"utf-8\" standalone=\"no\"?>\n<!DOCTYPE svg PUBLIC \"-//W3C//DTD SVG 1.1//EN\"\n  \"http://www.w3.org/Graphics/SVG/1.1/DTD/svg11.dtd\">\n<!-- Created with matplotlib (https://matplotlib.org/) -->\n<svg height=\"599.554063pt\" version=\"1.1\" viewBox=\"0 0 617.575 599.554063\" width=\"617.575pt\" xmlns=\"http://www.w3.org/2000/svg\" xmlns:xlink=\"http://www.w3.org/1999/xlink\">\n <defs>\n  <style type=\"text/css\">\n*{stroke-linecap:butt;stroke-linejoin:round;}\n  </style>\n </defs>\n <g id=\"figure_1\">\n  <g id=\"patch_1\">\n   <path d=\"M 0 599.554063 \nL 617.575 599.554063 \nL 617.575 0 \nL 0 0 \nz\n\" style=\"fill:none;\"/>\n  </g>\n  <g id=\"axes_1\">\n   <g id=\"patch_2\">\n    <path d=\"M 52.375 550.8 \nL 610.375 550.8 \nL 610.375 7.2 \nL 52.375 7.2 \nz\n\" style=\"fill:#ffffff;\"/>\n   </g>\n   <g id=\"matplotlib.axis_1\">\n    <g id=\"xtick_1\">\n     <g id=\"line2d_1\">\n      <defs>\n       <path d=\"M 0 0 \nL 0 3.5 \n\" id=\"m8c48566662\" style=\"stroke:#000000;stroke-width:0.8;\"/>\n      </defs>\n      <g>\n       <use style=\"stroke:#000000;stroke-width:0.8;\" x=\"52.375\" xlink:href=\"#m8c48566662\" y=\"550.8\"/>\n      </g>\n     </g>\n    </g>\n    <g id=\"xtick_2\">\n     <g id=\"line2d_2\">\n      <g>\n       <use style=\"stroke:#000000;stroke-width:0.8;\" x=\"59.138636\" xlink:href=\"#m8c48566662\" y=\"550.8\"/>\n      </g>\n     </g>\n     <g id=\"text_1\">\n      <!-- Feb -->\n      <defs>\n       <path d=\"M 9.8125 72.90625 \nL 51.703125 72.90625 \nL 51.703125 64.59375 \nL 19.671875 64.59375 \nL 19.671875 43.109375 \nL 48.578125 43.109375 \nL 48.578125 34.8125 \nL 19.671875 34.8125 \nL 19.671875 0 \nL 9.8125 0 \nz\n\" id=\"DejaVuSans-70\"/>\n       <path d=\"M 56.203125 29.59375 \nL 56.203125 25.203125 \nL 14.890625 25.203125 \nQ 15.484375 15.921875 20.484375 11.0625 \nQ 25.484375 6.203125 34.421875 6.203125 \nQ 39.59375 6.203125 44.453125 7.46875 \nQ 49.3125 8.734375 54.109375 11.28125 \nL 54.109375 2.78125 \nQ 49.265625 0.734375 44.1875 -0.34375 \nQ 39.109375 -1.421875 33.890625 -1.421875 \nQ 20.796875 -1.421875 13.15625 6.1875 \nQ 5.515625 13.8125 5.515625 26.8125 \nQ 5.515625 40.234375 12.765625 48.109375 \nQ 20.015625 56 32.328125 56 \nQ 43.359375 56 49.78125 48.890625 \nQ 56.203125 41.796875 56.203125 29.59375 \nz\nM 47.21875 32.234375 \nQ 47.125 39.59375 43.09375 43.984375 \nQ 39.0625 48.390625 32.421875 48.390625 \nQ 24.90625 48.390625 20.390625 44.140625 \nQ 15.875 39.890625 15.1875 32.171875 \nz\n\" id=\"DejaVuSans-101\"/>\n       <path d=\"M 48.6875 27.296875 \nQ 48.6875 37.203125 44.609375 42.84375 \nQ 40.53125 48.484375 33.40625 48.484375 \nQ 26.265625 48.484375 22.1875 42.84375 \nQ 18.109375 37.203125 18.109375 27.296875 \nQ 18.109375 17.390625 22.1875 11.75 \nQ 26.265625 6.109375 33.40625 6.109375 \nQ 40.53125 6.109375 44.609375 11.75 \nQ 48.6875 17.390625 48.6875 27.296875 \nz\nM 18.109375 46.390625 \nQ 20.953125 51.265625 25.265625 53.625 \nQ 29.59375 56 35.59375 56 \nQ 45.5625 56 51.78125 48.09375 \nQ 58.015625 40.1875 58.015625 27.296875 \nQ 58.015625 14.40625 51.78125 6.484375 \nQ 45.5625 -1.421875 35.59375 -1.421875 \nQ 29.59375 -1.421875 25.265625 0.953125 \nQ 20.953125 3.328125 18.109375 8.203125 \nL 18.109375 0 \nL 9.078125 0 \nL 9.078125 75.984375 \nL 18.109375 75.984375 \nz\n\" id=\"DejaVuSans-98\"/>\n      </defs>\n      <g transform=\"translate(50.287074 565.398438)scale(0.1 -0.1)\">\n       <use xlink:href=\"#DejaVuSans-70\"/>\n       <use x=\"52.019531\" xlink:href=\"#DejaVuSans-101\"/>\n       <use x=\"113.542969\" xlink:href=\"#DejaVuSans-98\"/>\n      </g>\n      <!-- 2020 -->\n      <defs>\n       <path d=\"M 19.1875 8.296875 \nL 53.609375 8.296875 \nL 53.609375 0 \nL 7.328125 0 \nL 7.328125 8.296875 \nQ 12.9375 14.109375 22.625 23.890625 \nQ 32.328125 33.6875 34.8125 36.53125 \nQ 39.546875 41.84375 41.421875 45.53125 \nQ 43.3125 49.21875 43.3125 52.78125 \nQ 43.3125 58.59375 39.234375 62.25 \nQ 35.15625 65.921875 28.609375 65.921875 \nQ 23.96875 65.921875 18.8125 64.3125 \nQ 13.671875 62.703125 7.8125 59.421875 \nL 7.8125 69.390625 \nQ 13.765625 71.78125 18.9375 73 \nQ 24.125 74.21875 28.421875 74.21875 \nQ 39.75 74.21875 46.484375 68.546875 \nQ 53.21875 62.890625 53.21875 53.421875 \nQ 53.21875 48.921875 51.53125 44.890625 \nQ 49.859375 40.875 45.40625 35.40625 \nQ 44.1875 33.984375 37.640625 27.21875 \nQ 31.109375 20.453125 19.1875 8.296875 \nz\n\" id=\"DejaVuSans-50\"/>\n       <path d=\"M 31.78125 66.40625 \nQ 24.171875 66.40625 20.328125 58.90625 \nQ 16.5 51.421875 16.5 36.375 \nQ 16.5 21.390625 20.328125 13.890625 \nQ 24.171875 6.390625 31.78125 6.390625 \nQ 39.453125 6.390625 43.28125 13.890625 \nQ 47.125 21.390625 47.125 36.375 \nQ 47.125 51.421875 43.28125 58.90625 \nQ 39.453125 66.40625 31.78125 66.40625 \nz\nM 31.78125 74.21875 \nQ 44.046875 74.21875 50.515625 64.515625 \nQ 56.984375 54.828125 56.984375 36.375 \nQ 56.984375 17.96875 50.515625 8.265625 \nQ 44.046875 -1.421875 31.78125 -1.421875 \nQ 19.53125 -1.421875 13.0625 8.265625 \nQ 6.59375 17.96875 6.59375 36.375 \nQ 6.59375 54.828125 13.0625 64.515625 \nQ 19.53125 74.21875 31.78125 74.21875 \nz\n\" id=\"DejaVuSans-48\"/>\n      </defs>\n      <g transform=\"translate(46.413636 576.59625)scale(0.1 -0.1)\">\n       <use xlink:href=\"#DejaVuSans-50\"/>\n       <use x=\"63.623047\" xlink:href=\"#DejaVuSans-48\"/>\n       <use x=\"127.246094\" xlink:href=\"#DejaVuSans-50\"/>\n       <use x=\"190.869141\" xlink:href=\"#DejaVuSans-48\"/>\n      </g>\n     </g>\n    </g>\n    <g id=\"xtick_3\">\n     <g id=\"line2d_3\">\n      <g>\n       <use style=\"stroke:#000000;stroke-width:0.8;\" x=\"157.211364\" xlink:href=\"#m8c48566662\" y=\"550.8\"/>\n      </g>\n     </g>\n     <g id=\"text_2\">\n      <!-- Mar -->\n      <defs>\n       <path d=\"M 9.8125 72.90625 \nL 24.515625 72.90625 \nL 43.109375 23.296875 \nL 61.8125 72.90625 \nL 76.515625 72.90625 \nL 76.515625 0 \nL 66.890625 0 \nL 66.890625 64.015625 \nL 48.09375 14.015625 \nL 38.1875 14.015625 \nL 19.390625 64.015625 \nL 19.390625 0 \nL 9.8125 0 \nz\n\" id=\"DejaVuSans-77\"/>\n       <path d=\"M 34.28125 27.484375 \nQ 23.390625 27.484375 19.1875 25 \nQ 14.984375 22.515625 14.984375 16.5 \nQ 14.984375 11.71875 18.140625 8.90625 \nQ 21.296875 6.109375 26.703125 6.109375 \nQ 34.1875 6.109375 38.703125 11.40625 \nQ 43.21875 16.703125 43.21875 25.484375 \nL 43.21875 27.484375 \nz\nM 52.203125 31.203125 \nL 52.203125 0 \nL 43.21875 0 \nL 43.21875 8.296875 \nQ 40.140625 3.328125 35.546875 0.953125 \nQ 30.953125 -1.421875 24.3125 -1.421875 \nQ 15.921875 -1.421875 10.953125 3.296875 \nQ 6 8.015625 6 15.921875 \nQ 6 25.140625 12.171875 29.828125 \nQ 18.359375 34.515625 30.609375 34.515625 \nL 43.21875 34.515625 \nL 43.21875 35.40625 \nQ 43.21875 41.609375 39.140625 45 \nQ 35.0625 48.390625 27.6875 48.390625 \nQ 23 48.390625 18.546875 47.265625 \nQ 14.109375 46.140625 10.015625 43.890625 \nL 10.015625 52.203125 \nQ 14.9375 54.109375 19.578125 55.046875 \nQ 24.21875 56 28.609375 56 \nQ 40.484375 56 46.34375 49.84375 \nQ 52.203125 43.703125 52.203125 31.203125 \nz\n\" id=\"DejaVuSans-97\"/>\n       <path d=\"M 41.109375 46.296875 \nQ 39.59375 47.171875 37.8125 47.578125 \nQ 36.03125 48 33.890625 48 \nQ 26.265625 48 22.1875 43.046875 \nQ 18.109375 38.09375 18.109375 28.8125 \nL 18.109375 0 \nL 9.078125 0 \nL 9.078125 54.6875 \nL 18.109375 54.6875 \nL 18.109375 46.1875 \nQ 20.953125 51.171875 25.484375 53.578125 \nQ 30.03125 56 36.53125 56 \nQ 37.453125 56 38.578125 55.875 \nQ 39.703125 55.765625 41.0625 55.515625 \nz\n\" id=\"DejaVuSans-114\"/>\n      </defs>\n      <g transform=\"translate(147.77777 565.398438)scale(0.1 -0.1)\">\n       <use xlink:href=\"#DejaVuSans-77\"/>\n       <use x=\"86.279297\" xlink:href=\"#DejaVuSans-97\"/>\n       <use x=\"147.558594\" xlink:href=\"#DejaVuSans-114\"/>\n      </g>\n     </g>\n    </g>\n    <g id=\"xtick_4\">\n     <g id=\"line2d_4\">\n      <g>\n       <use style=\"stroke:#000000;stroke-width:0.8;\" x=\"262.047727\" xlink:href=\"#m8c48566662\" y=\"550.8\"/>\n      </g>\n     </g>\n     <g id=\"text_3\">\n      <!-- Apr -->\n      <defs>\n       <path d=\"M 34.1875 63.1875 \nL 20.796875 26.90625 \nL 47.609375 26.90625 \nz\nM 28.609375 72.90625 \nL 39.796875 72.90625 \nL 67.578125 0 \nL 57.328125 0 \nL 50.6875 18.703125 \nL 17.828125 18.703125 \nL 11.1875 0 \nL 0.78125 0 \nz\n\" id=\"DejaVuSans-65\"/>\n       <path d=\"M 18.109375 8.203125 \nL 18.109375 -20.796875 \nL 9.078125 -20.796875 \nL 9.078125 54.6875 \nL 18.109375 54.6875 \nL 18.109375 46.390625 \nQ 20.953125 51.265625 25.265625 53.625 \nQ 29.59375 56 35.59375 56 \nQ 45.5625 56 51.78125 48.09375 \nQ 58.015625 40.1875 58.015625 27.296875 \nQ 58.015625 14.40625 51.78125 6.484375 \nQ 45.5625 -1.421875 35.59375 -1.421875 \nQ 29.59375 -1.421875 25.265625 0.953125 \nQ 20.953125 3.328125 18.109375 8.203125 \nz\nM 48.6875 27.296875 \nQ 48.6875 37.203125 44.609375 42.84375 \nQ 40.53125 48.484375 33.40625 48.484375 \nQ 26.265625 48.484375 22.1875 42.84375 \nQ 18.109375 37.203125 18.109375 27.296875 \nQ 18.109375 17.390625 22.1875 11.75 \nQ 26.265625 6.109375 33.40625 6.109375 \nQ 40.53125 6.109375 44.609375 11.75 \nQ 48.6875 17.390625 48.6875 27.296875 \nz\n\" id=\"DejaVuSans-112\"/>\n      </defs>\n      <g transform=\"translate(253.397727 565.398438)scale(0.1 -0.1)\">\n       <use xlink:href=\"#DejaVuSans-65\"/>\n       <use x=\"68.408203\" xlink:href=\"#DejaVuSans-112\"/>\n       <use x=\"131.884766\" xlink:href=\"#DejaVuSans-114\"/>\n      </g>\n     </g>\n    </g>\n    <g id=\"xtick_5\">\n     <g id=\"line2d_5\">\n      <g>\n       <use style=\"stroke:#000000;stroke-width:0.8;\" x=\"363.502273\" xlink:href=\"#m8c48566662\" y=\"550.8\"/>\n      </g>\n     </g>\n     <g id=\"text_4\">\n      <!-- May -->\n      <defs>\n       <path d=\"M 32.171875 -5.078125 \nQ 28.375 -14.84375 24.75 -17.8125 \nQ 21.140625 -20.796875 15.09375 -20.796875 \nL 7.90625 -20.796875 \nL 7.90625 -13.28125 \nL 13.1875 -13.28125 \nQ 16.890625 -13.28125 18.9375 -11.515625 \nQ 21 -9.765625 23.484375 -3.21875 \nL 25.09375 0.875 \nL 2.984375 54.6875 \nL 12.5 54.6875 \nL 29.59375 11.921875 \nL 46.6875 54.6875 \nL 56.203125 54.6875 \nz\n\" id=\"DejaVuSans-121\"/>\n      </defs>\n      <g transform=\"translate(353.164773 565.398438)scale(0.1 -0.1)\">\n       <use xlink:href=\"#DejaVuSans-77\"/>\n       <use x=\"86.279297\" xlink:href=\"#DejaVuSans-97\"/>\n       <use x=\"147.558594\" xlink:href=\"#DejaVuSans-121\"/>\n      </g>\n     </g>\n    </g>\n    <g id=\"xtick_6\">\n     <g id=\"line2d_6\">\n      <g>\n       <use style=\"stroke:#000000;stroke-width:0.8;\" x=\"468.338636\" xlink:href=\"#m8c48566662\" y=\"550.8\"/>\n      </g>\n     </g>\n     <g id=\"text_5\">\n      <!-- Jun -->\n      <defs>\n       <path d=\"M 9.8125 72.90625 \nL 19.671875 72.90625 \nL 19.671875 5.078125 \nQ 19.671875 -8.109375 14.671875 -14.0625 \nQ 9.671875 -20.015625 -1.421875 -20.015625 \nL -5.171875 -20.015625 \nL -5.171875 -11.71875 \nL -2.09375 -11.71875 \nQ 4.4375 -11.71875 7.125 -8.046875 \nQ 9.8125 -4.390625 9.8125 5.078125 \nz\n\" id=\"DejaVuSans-74\"/>\n       <path d=\"M 8.5 21.578125 \nL 8.5 54.6875 \nL 17.484375 54.6875 \nL 17.484375 21.921875 \nQ 17.484375 14.15625 20.5 10.265625 \nQ 23.53125 6.390625 29.59375 6.390625 \nQ 36.859375 6.390625 41.078125 11.03125 \nQ 45.3125 15.671875 45.3125 23.6875 \nL 45.3125 54.6875 \nL 54.296875 54.6875 \nL 54.296875 0 \nL 45.3125 0 \nL 45.3125 8.40625 \nQ 42.046875 3.421875 37.71875 1 \nQ 33.40625 -1.421875 27.6875 -1.421875 \nQ 18.265625 -1.421875 13.375 4.4375 \nQ 8.5 10.296875 8.5 21.578125 \nz\nM 31.109375 56 \nz\n\" id=\"DejaVuSans-117\"/>\n       <path d=\"M 54.890625 33.015625 \nL 54.890625 0 \nL 45.90625 0 \nL 45.90625 32.71875 \nQ 45.90625 40.484375 42.875 44.328125 \nQ 39.84375 48.1875 33.796875 48.1875 \nQ 26.515625 48.1875 22.3125 43.546875 \nQ 18.109375 38.921875 18.109375 30.90625 \nL 18.109375 0 \nL 9.078125 0 \nL 9.078125 54.6875 \nL 18.109375 54.6875 \nL 18.109375 46.1875 \nQ 21.34375 51.125 25.703125 53.5625 \nQ 30.078125 56 35.796875 56 \nQ 45.21875 56 50.046875 50.171875 \nQ 54.890625 44.34375 54.890625 33.015625 \nz\n\" id=\"DejaVuSans-110\"/>\n      </defs>\n      <g transform=\"translate(460.526136 565.398438)scale(0.1 -0.1)\">\n       <use xlink:href=\"#DejaVuSans-74\"/>\n       <use x=\"29.492188\" xlink:href=\"#DejaVuSans-117\"/>\n       <use x=\"92.871094\" xlink:href=\"#DejaVuSans-110\"/>\n      </g>\n     </g>\n    </g>\n    <g id=\"xtick_7\">\n     <g id=\"line2d_7\">\n      <g>\n       <use style=\"stroke:#000000;stroke-width:0.8;\" x=\"569.793182\" xlink:href=\"#m8c48566662\" y=\"550.8\"/>\n      </g>\n     </g>\n     <g id=\"text_6\">\n      <!-- Jul -->\n      <defs>\n       <path d=\"M 9.421875 75.984375 \nL 18.40625 75.984375 \nL 18.40625 0 \nL 9.421875 0 \nz\n\" id=\"DejaVuSans-108\"/>\n      </defs>\n      <g transform=\"translate(563.760369 565.398438)scale(0.1 -0.1)\">\n       <use xlink:href=\"#DejaVuSans-74\"/>\n       <use x=\"29.492188\" xlink:href=\"#DejaVuSans-117\"/>\n       <use x=\"92.871094\" xlink:href=\"#DejaVuSans-108\"/>\n      </g>\n     </g>\n    </g>\n    <g id=\"xtick_8\">\n     <g id=\"line2d_8\">\n      <g>\n       <use style=\"stroke:#000000;stroke-width:0.8;\" x=\"610.375\" xlink:href=\"#m8c48566662\" y=\"550.8\"/>\n      </g>\n     </g>\n    </g>\n    <g id=\"xtick_9\">\n     <g id=\"line2d_9\">\n      <defs>\n       <path d=\"M 0 0 \nL 0 2 \n\" id=\"m3d6401148e\" style=\"stroke:#000000;stroke-width:0.6;\"/>\n      </defs>\n      <g>\n       <use style=\"stroke:#000000;stroke-width:0.6;\" x=\"65.902273\" xlink:href=\"#m3d6401148e\" y=\"550.8\"/>\n      </g>\n     </g>\n    </g>\n    <g id=\"xtick_10\">\n     <g id=\"line2d_10\">\n      <g>\n       <use style=\"stroke:#000000;stroke-width:0.6;\" x=\"89.575\" xlink:href=\"#m3d6401148e\" y=\"550.8\"/>\n      </g>\n     </g>\n    </g>\n    <g id=\"xtick_11\">\n     <g id=\"line2d_11\">\n      <g>\n       <use style=\"stroke:#000000;stroke-width:0.6;\" x=\"113.247727\" xlink:href=\"#m3d6401148e\" y=\"550.8\"/>\n      </g>\n     </g>\n    </g>\n    <g id=\"xtick_12\">\n     <g id=\"line2d_12\">\n      <g>\n       <use style=\"stroke:#000000;stroke-width:0.6;\" x=\"136.920455\" xlink:href=\"#m3d6401148e\" y=\"550.8\"/>\n      </g>\n     </g>\n    </g>\n    <g id=\"xtick_13\">\n     <g id=\"line2d_13\">\n      <g>\n       <use style=\"stroke:#000000;stroke-width:0.6;\" x=\"160.593182\" xlink:href=\"#m3d6401148e\" y=\"550.8\"/>\n      </g>\n     </g>\n    </g>\n    <g id=\"xtick_14\">\n     <g id=\"line2d_14\">\n      <g>\n       <use style=\"stroke:#000000;stroke-width:0.6;\" x=\"184.265909\" xlink:href=\"#m3d6401148e\" y=\"550.8\"/>\n      </g>\n     </g>\n    </g>\n    <g id=\"xtick_15\">\n     <g id=\"line2d_15\">\n      <g>\n       <use style=\"stroke:#000000;stroke-width:0.6;\" x=\"207.938636\" xlink:href=\"#m3d6401148e\" y=\"550.8\"/>\n      </g>\n     </g>\n    </g>\n    <g id=\"xtick_16\">\n     <g id=\"line2d_16\">\n      <g>\n       <use style=\"stroke:#000000;stroke-width:0.6;\" x=\"231.611364\" xlink:href=\"#m3d6401148e\" y=\"550.8\"/>\n      </g>\n     </g>\n    </g>\n    <g id=\"xtick_17\">\n     <g id=\"line2d_17\">\n      <g>\n       <use style=\"stroke:#000000;stroke-width:0.6;\" x=\"255.284091\" xlink:href=\"#m3d6401148e\" y=\"550.8\"/>\n      </g>\n     </g>\n    </g>\n    <g id=\"xtick_18\">\n     <g id=\"line2d_18\">\n      <g>\n       <use style=\"stroke:#000000;stroke-width:0.6;\" x=\"278.956818\" xlink:href=\"#m3d6401148e\" y=\"550.8\"/>\n      </g>\n     </g>\n    </g>\n    <g id=\"xtick_19\">\n     <g id=\"line2d_19\">\n      <g>\n       <use style=\"stroke:#000000;stroke-width:0.6;\" x=\"302.629545\" xlink:href=\"#m3d6401148e\" y=\"550.8\"/>\n      </g>\n     </g>\n    </g>\n    <g id=\"xtick_20\">\n     <g id=\"line2d_20\">\n      <g>\n       <use style=\"stroke:#000000;stroke-width:0.6;\" x=\"326.302273\" xlink:href=\"#m3d6401148e\" y=\"550.8\"/>\n      </g>\n     </g>\n    </g>\n    <g id=\"xtick_21\">\n     <g id=\"line2d_21\">\n      <g>\n       <use style=\"stroke:#000000;stroke-width:0.6;\" x=\"349.975\" xlink:href=\"#m3d6401148e\" y=\"550.8\"/>\n      </g>\n     </g>\n    </g>\n    <g id=\"xtick_22\">\n     <g id=\"line2d_22\">\n      <g>\n       <use style=\"stroke:#000000;stroke-width:0.6;\" x=\"373.647727\" xlink:href=\"#m3d6401148e\" y=\"550.8\"/>\n      </g>\n     </g>\n    </g>\n    <g id=\"xtick_23\">\n     <g id=\"line2d_23\">\n      <g>\n       <use style=\"stroke:#000000;stroke-width:0.6;\" x=\"397.320455\" xlink:href=\"#m3d6401148e\" y=\"550.8\"/>\n      </g>\n     </g>\n    </g>\n    <g id=\"xtick_24\">\n     <g id=\"line2d_24\">\n      <g>\n       <use style=\"stroke:#000000;stroke-width:0.6;\" x=\"420.993182\" xlink:href=\"#m3d6401148e\" y=\"550.8\"/>\n      </g>\n     </g>\n    </g>\n    <g id=\"xtick_25\">\n     <g id=\"line2d_25\">\n      <g>\n       <use style=\"stroke:#000000;stroke-width:0.6;\" x=\"444.665909\" xlink:href=\"#m3d6401148e\" y=\"550.8\"/>\n      </g>\n     </g>\n    </g>\n    <g id=\"xtick_26\">\n     <g id=\"line2d_26\">\n      <g>\n       <use style=\"stroke:#000000;stroke-width:0.6;\" x=\"492.011364\" xlink:href=\"#m3d6401148e\" y=\"550.8\"/>\n      </g>\n     </g>\n    </g>\n    <g id=\"xtick_27\">\n     <g id=\"line2d_27\">\n      <g>\n       <use style=\"stroke:#000000;stroke-width:0.6;\" x=\"515.684091\" xlink:href=\"#m3d6401148e\" y=\"550.8\"/>\n      </g>\n     </g>\n    </g>\n    <g id=\"xtick_28\">\n     <g id=\"line2d_28\">\n      <g>\n       <use style=\"stroke:#000000;stroke-width:0.6;\" x=\"539.356818\" xlink:href=\"#m3d6401148e\" y=\"550.8\"/>\n      </g>\n     </g>\n    </g>\n    <g id=\"xtick_29\">\n     <g id=\"line2d_29\">\n      <g>\n       <use style=\"stroke:#000000;stroke-width:0.6;\" x=\"563.029545\" xlink:href=\"#m3d6401148e\" y=\"550.8\"/>\n      </g>\n     </g>\n    </g>\n    <g id=\"xtick_30\">\n     <g id=\"line2d_30\">\n      <g>\n       <use style=\"stroke:#000000;stroke-width:0.6;\" x=\"586.702273\" xlink:href=\"#m3d6401148e\" y=\"550.8\"/>\n      </g>\n     </g>\n    </g>\n    <g id=\"text_7\">\n     <!-- Date -->\n     <defs>\n      <path d=\"M 19.671875 64.796875 \nL 19.671875 8.109375 \nL 31.59375 8.109375 \nQ 46.6875 8.109375 53.6875 14.9375 \nQ 60.6875 21.78125 60.6875 36.53125 \nQ 60.6875 51.171875 53.6875 57.984375 \nQ 46.6875 64.796875 31.59375 64.796875 \nz\nM 9.8125 72.90625 \nL 30.078125 72.90625 \nQ 51.265625 72.90625 61.171875 64.09375 \nQ 71.09375 55.28125 71.09375 36.53125 \nQ 71.09375 17.671875 61.125 8.828125 \nQ 51.171875 0 30.078125 0 \nL 9.8125 0 \nz\n\" id=\"DejaVuSans-68\"/>\n      <path d=\"M 18.3125 70.21875 \nL 18.3125 54.6875 \nL 36.8125 54.6875 \nL 36.8125 47.703125 \nL 18.3125 47.703125 \nL 18.3125 18.015625 \nQ 18.3125 11.328125 20.140625 9.421875 \nQ 21.96875 7.515625 27.59375 7.515625 \nL 36.8125 7.515625 \nL 36.8125 0 \nL 27.59375 0 \nQ 17.1875 0 13.234375 3.875 \nQ 9.28125 7.765625 9.28125 18.015625 \nL 9.28125 47.703125 \nL 2.6875 47.703125 \nL 2.6875 54.6875 \nL 9.28125 54.6875 \nL 9.28125 70.21875 \nz\n\" id=\"DejaVuSans-116\"/>\n     </defs>\n     <g transform=\"translate(319.424219 590.274375)scale(0.1 -0.1)\">\n      <use xlink:href=\"#DejaVuSans-68\"/>\n      <use x=\"77.001953\" xlink:href=\"#DejaVuSans-97\"/>\n      <use x=\"138.28125\" xlink:href=\"#DejaVuSans-116\"/>\n      <use x=\"177.490234\" xlink:href=\"#DejaVuSans-101\"/>\n     </g>\n    </g>\n   </g>\n   <g id=\"matplotlib.axis_2\">\n    <g id=\"ytick_1\">\n     <g id=\"line2d_31\">\n      <defs>\n       <path d=\"M 0 0 \nL -3.5 0 \n\" id=\"m892d42bf72\" style=\"stroke:#000000;stroke-width:0.8;\"/>\n      </defs>\n      <g>\n       <use style=\"stroke:#000000;stroke-width:0.8;\" x=\"52.375\" xlink:href=\"#m892d42bf72\" y=\"526.090909\"/>\n      </g>\n     </g>\n     <g id=\"text_8\">\n      <!-- 0 -->\n      <g transform=\"translate(39.0125 529.890128)scale(0.1 -0.1)\">\n       <use xlink:href=\"#DejaVuSans-48\"/>\n      </g>\n     </g>\n    </g>\n    <g id=\"ytick_2\">\n     <g id=\"line2d_32\">\n      <g>\n       <use style=\"stroke:#000000;stroke-width:0.8;\" x=\"52.375\" xlink:href=\"#m892d42bf72\" y=\"417.198314\"/>\n      </g>\n     </g>\n     <g id=\"text_9\">\n      <!-- 200000 -->\n      <g transform=\"translate(7.2 420.997533)scale(0.1 -0.1)\">\n       <use xlink:href=\"#DejaVuSans-50\"/>\n       <use x=\"63.623047\" xlink:href=\"#DejaVuSans-48\"/>\n       <use x=\"127.246094\" xlink:href=\"#DejaVuSans-48\"/>\n       <use x=\"190.869141\" xlink:href=\"#DejaVuSans-48\"/>\n       <use x=\"254.492188\" xlink:href=\"#DejaVuSans-48\"/>\n       <use x=\"318.115234\" xlink:href=\"#DejaVuSans-48\"/>\n      </g>\n     </g>\n    </g>\n    <g id=\"ytick_3\">\n     <g id=\"line2d_33\">\n      <g>\n       <use style=\"stroke:#000000;stroke-width:0.8;\" x=\"52.375\" xlink:href=\"#m892d42bf72\" y=\"308.30572\"/>\n      </g>\n     </g>\n     <g id=\"text_10\">\n      <!-- 400000 -->\n      <defs>\n       <path d=\"M 37.796875 64.3125 \nL 12.890625 25.390625 \nL 37.796875 25.390625 \nz\nM 35.203125 72.90625 \nL 47.609375 72.90625 \nL 47.609375 25.390625 \nL 58.015625 25.390625 \nL 58.015625 17.1875 \nL 47.609375 17.1875 \nL 47.609375 0 \nL 37.796875 0 \nL 37.796875 17.1875 \nL 4.890625 17.1875 \nL 4.890625 26.703125 \nz\n\" id=\"DejaVuSans-52\"/>\n      </defs>\n      <g transform=\"translate(7.2 312.104938)scale(0.1 -0.1)\">\n       <use xlink:href=\"#DejaVuSans-52\"/>\n       <use x=\"63.623047\" xlink:href=\"#DejaVuSans-48\"/>\n       <use x=\"127.246094\" xlink:href=\"#DejaVuSans-48\"/>\n       <use x=\"190.869141\" xlink:href=\"#DejaVuSans-48\"/>\n       <use x=\"254.492188\" xlink:href=\"#DejaVuSans-48\"/>\n       <use x=\"318.115234\" xlink:href=\"#DejaVuSans-48\"/>\n      </g>\n     </g>\n    </g>\n    <g id=\"ytick_4\">\n     <g id=\"line2d_34\">\n      <g>\n       <use style=\"stroke:#000000;stroke-width:0.8;\" x=\"52.375\" xlink:href=\"#m892d42bf72\" y=\"199.413125\"/>\n      </g>\n     </g>\n     <g id=\"text_11\">\n      <!-- 600000 -->\n      <defs>\n       <path d=\"M 33.015625 40.375 \nQ 26.375 40.375 22.484375 35.828125 \nQ 18.609375 31.296875 18.609375 23.390625 \nQ 18.609375 15.53125 22.484375 10.953125 \nQ 26.375 6.390625 33.015625 6.390625 \nQ 39.65625 6.390625 43.53125 10.953125 \nQ 47.40625 15.53125 47.40625 23.390625 \nQ 47.40625 31.296875 43.53125 35.828125 \nQ 39.65625 40.375 33.015625 40.375 \nz\nM 52.59375 71.296875 \nL 52.59375 62.3125 \nQ 48.875 64.0625 45.09375 64.984375 \nQ 41.3125 65.921875 37.59375 65.921875 \nQ 27.828125 65.921875 22.671875 59.328125 \nQ 17.53125 52.734375 16.796875 39.40625 \nQ 19.671875 43.65625 24.015625 45.921875 \nQ 28.375 48.1875 33.59375 48.1875 \nQ 44.578125 48.1875 50.953125 41.515625 \nQ 57.328125 34.859375 57.328125 23.390625 \nQ 57.328125 12.15625 50.6875 5.359375 \nQ 44.046875 -1.421875 33.015625 -1.421875 \nQ 20.359375 -1.421875 13.671875 8.265625 \nQ 6.984375 17.96875 6.984375 36.375 \nQ 6.984375 53.65625 15.1875 63.9375 \nQ 23.390625 74.21875 37.203125 74.21875 \nQ 40.921875 74.21875 44.703125 73.484375 \nQ 48.484375 72.75 52.59375 71.296875 \nz\n\" id=\"DejaVuSans-54\"/>\n      </defs>\n      <g transform=\"translate(7.2 203.212344)scale(0.1 -0.1)\">\n       <use xlink:href=\"#DejaVuSans-54\"/>\n       <use x=\"63.623047\" xlink:href=\"#DejaVuSans-48\"/>\n       <use x=\"127.246094\" xlink:href=\"#DejaVuSans-48\"/>\n       <use x=\"190.869141\" xlink:href=\"#DejaVuSans-48\"/>\n       <use x=\"254.492188\" xlink:href=\"#DejaVuSans-48\"/>\n       <use x=\"318.115234\" xlink:href=\"#DejaVuSans-48\"/>\n      </g>\n     </g>\n    </g>\n    <g id=\"ytick_5\">\n     <g id=\"line2d_35\">\n      <g>\n       <use style=\"stroke:#000000;stroke-width:0.8;\" x=\"52.375\" xlink:href=\"#m892d42bf72\" y=\"90.52053\"/>\n      </g>\n     </g>\n     <g id=\"text_12\">\n      <!-- 800000 -->\n      <defs>\n       <path d=\"M 31.78125 34.625 \nQ 24.75 34.625 20.71875 30.859375 \nQ 16.703125 27.09375 16.703125 20.515625 \nQ 16.703125 13.921875 20.71875 10.15625 \nQ 24.75 6.390625 31.78125 6.390625 \nQ 38.8125 6.390625 42.859375 10.171875 \nQ 46.921875 13.96875 46.921875 20.515625 \nQ 46.921875 27.09375 42.890625 30.859375 \nQ 38.875 34.625 31.78125 34.625 \nz\nM 21.921875 38.8125 \nQ 15.578125 40.375 12.03125 44.71875 \nQ 8.5 49.078125 8.5 55.328125 \nQ 8.5 64.0625 14.71875 69.140625 \nQ 20.953125 74.21875 31.78125 74.21875 \nQ 42.671875 74.21875 48.875 69.140625 \nQ 55.078125 64.0625 55.078125 55.328125 \nQ 55.078125 49.078125 51.53125 44.71875 \nQ 48 40.375 41.703125 38.8125 \nQ 48.828125 37.15625 52.796875 32.3125 \nQ 56.78125 27.484375 56.78125 20.515625 \nQ 56.78125 9.90625 50.3125 4.234375 \nQ 43.84375 -1.421875 31.78125 -1.421875 \nQ 19.734375 -1.421875 13.25 4.234375 \nQ 6.78125 9.90625 6.78125 20.515625 \nQ 6.78125 27.484375 10.78125 32.3125 \nQ 14.796875 37.15625 21.921875 38.8125 \nz\nM 18.3125 54.390625 \nQ 18.3125 48.734375 21.84375 45.5625 \nQ 25.390625 42.390625 31.78125 42.390625 \nQ 38.140625 42.390625 41.71875 45.5625 \nQ 45.3125 48.734375 45.3125 54.390625 \nQ 45.3125 60.0625 41.71875 63.234375 \nQ 38.140625 66.40625 31.78125 66.40625 \nQ 25.390625 66.40625 21.84375 63.234375 \nQ 18.3125 60.0625 18.3125 54.390625 \nz\n\" id=\"DejaVuSans-56\"/>\n      </defs>\n      <g transform=\"translate(7.2 94.319749)scale(0.1 -0.1)\">\n       <use xlink:href=\"#DejaVuSans-56\"/>\n       <use x=\"63.623047\" xlink:href=\"#DejaVuSans-48\"/>\n       <use x=\"127.246094\" xlink:href=\"#DejaVuSans-48\"/>\n       <use x=\"190.869141\" xlink:href=\"#DejaVuSans-48\"/>\n       <use x=\"254.492188\" xlink:href=\"#DejaVuSans-48\"/>\n       <use x=\"318.115234\" xlink:href=\"#DejaVuSans-48\"/>\n      </g>\n     </g>\n    </g>\n   </g>\n   <g id=\"line2d_36\">\n    <path clip-path=\"url(#pc03c299d65)\" d=\"M 52.375 526.090365 \nL 218.084091 525.983105 \nL 241.756818 525.693451 \nL 258.665909 525.200712 \nL 268.811364 524.400352 \nL 289.102273 522.427762 \nL 299.247727 521.075861 \nL 302.629545 520.399093 \nL 312.775 518.777682 \nL 316.156818 518.275688 \nL 319.538636 517.529229 \nL 322.920455 516.668977 \nL 326.302273 515.994388 \nL 329.684091 515.157548 \nL 333.065909 514.454102 \nL 336.447727 513.546482 \nL 339.829545 512.779878 \nL 343.211364 511.780789 \nL 349.975 510.052119 \nL 356.738636 508.088241 \nL 360.120455 507.107663 \nL 366.884091 504.407127 \nL 370.265909 502.799872 \nL 373.647727 500.809315 \nL 377.029545 499.191716 \nL 380.411364 497.23056 \nL 390.556818 491.863244 \nL 393.938636 489.516064 \nL 404.084091 483.592307 \nL 410.847727 479.34604 \nL 420.993182 471.467117 \nL 424.375 468.116492 \nL 427.756818 465.002163 \nL 431.138636 461.722863 \nL 437.902273 454.535407 \nL 441.284091 450.662642 \nL 444.665909 447.170457 \nL 448.047727 443.954314 \nL 454.811364 436.059601 \nL 461.575 427.074873 \nL 464.956818 422.289588 \nL 468.338636 418.0847 \nL 471.720455 413.285259 \nL 481.865909 397.491477 \nL 485.247727 391.824706 \nL 488.629545 385.89986 \nL 492.011364 381.252324 \nL 495.393182 375.818039 \nL 505.538636 357.525717 \nL 508.920455 350.970927 \nL 512.302273 344.761327 \nL 515.684091 339.299274 \nL 519.065909 333.263358 \nL 522.447727 326.126537 \nL 525.829545 318.597159 \nL 529.211364 310.571774 \nL 532.593182 301.906646 \nL 535.975 293.657488 \nL 539.356818 286.27457 \nL 542.738636 277.750457 \nL 546.120455 268.566456 \nL 552.884091 248.715336 \nL 559.647727 227.071844 \nL 566.411364 207.147221 \nL 569.793182 196.56885 \nL 573.175 184.619521 \nL 576.556818 172.250412 \nL 583.320455 146.137967 \nL 590.084091 121.284866 \nL 596.847727 93.326148 \nL 603.611364 63.098108 \nL 610.375 31.909091 \nL 610.375 31.909091 \n\" style=\"fill:none;stroke:#1f77b4;stroke-linecap:square;stroke-width:1.5;\"/>\n   </g>\n   <g id=\"line2d_37\">\n    <path clip-path=\"url(#pc03c299d65)\" d=\"M 52.375 526.090909 \nL 265.429545 525.986917 \nL 289.102273 525.745175 \nL 316.156818 524.980205 \nL 326.302273 524.308882 \nL 329.684091 523.926124 \nL 333.065909 523.711606 \nL 339.829545 523.098541 \nL 346.593182 522.539377 \nL 356.738636 521.501631 \nL 360.120455 521.158619 \nL 373.647727 519.097282 \nL 390.556818 515.582229 \nL 400.702273 512.776612 \nL 404.084091 511.707831 \nL 407.465909 510.839957 \nL 410.847727 509.623626 \nL 414.229545 507.439241 \nL 420.993182 504.706037 \nL 431.138636 499.655598 \nL 434.520455 497.86976 \nL 437.902273 496.467223 \nL 441.284091 494.678662 \nL 444.665909 493.03874 \nL 451.429545 489.217154 \nL 454.811364 487.490662 \nL 458.193182 481.101389 \nL 461.575 478.758565 \nL 464.956818 476.075451 \nL 468.338636 473.961846 \nL 471.720455 471.494884 \nL 475.102273 469.431914 \nL 478.484091 467.041722 \nL 481.865909 464.444633 \nL 488.629545 458.660259 \nL 492.011364 455.844841 \nL 495.393182 452.777336 \nL 502.156818 446.070097 \nL 505.538636 442.115662 \nL 508.920455 437.709868 \nL 512.302273 433.703709 \nL 515.684091 427.911168 \nL 519.065909 423.976878 \nL 522.447727 420.225528 \nL 525.829545 414.377452 \nL 529.211364 409.461495 \nL 532.593182 401.85317 \nL 535.975 396.912168 \nL 539.356818 390.988956 \nL 542.738636 385.292784 \nL 546.120455 378.166308 \nL 549.502273 370.553082 \nL 552.884091 364.974515 \nL 556.265909 357.227351 \nL 559.647727 350.894702 \nL 563.029545 343.546086 \nL 566.411364 336.704908 \nL 569.793182 330.136507 \nL 573.175 319.247792 \nL 579.938636 303.369618 \nL 590.084091 277.246285 \nL 596.847727 256.057964 \nL 603.611364 234.13244 \nL 610.375 214.596564 \nL 610.375 214.596564 \n\" style=\"fill:none;stroke:#ff7f0e;stroke-linecap:square;stroke-width:1.5;\"/>\n   </g>\n   <g id=\"line2d_38\">\n    <path clip-path=\"url(#pc03c299d65)\" d=\"M 52.375 526.090909 \nL 285.720455 525.992361 \nL 373.647727 525.23828 \nL 407.465909 524.649171 \nL 427.756818 524.220679 \nL 454.811364 523.526488 \nL 468.338636 523.038105 \nL 481.865909 522.471319 \nL 512.302273 520.906533 \nL 515.684091 520.690925 \nL 519.065909 519.599822 \nL 542.738636 518.204907 \nL 586.702273 515.105824 \nL 610.375 513.170803 \nL 610.375 513.170803 \n\" style=\"fill:none;stroke:#2ca02c;stroke-linecap:square;stroke-width:1.5;\"/>\n   </g>\n   <g id=\"patch_3\">\n    <path d=\"M 52.375 550.8 \nL 52.375 7.2 \n\" style=\"fill:none;stroke:#000000;stroke-linecap:square;stroke-linejoin:miter;stroke-width:0.8;\"/>\n   </g>\n   <g id=\"patch_4\">\n    <path d=\"M 610.375 550.8 \nL 610.375 7.2 \n\" style=\"fill:none;stroke:#000000;stroke-linecap:square;stroke-linejoin:miter;stroke-width:0.8;\"/>\n   </g>\n   <g id=\"patch_5\">\n    <path d=\"M 52.375 550.8 \nL 610.375 550.8 \n\" style=\"fill:none;stroke:#000000;stroke-linecap:square;stroke-linejoin:miter;stroke-width:0.8;\"/>\n   </g>\n   <g id=\"patch_6\">\n    <path d=\"M 52.375 7.2 \nL 610.375 7.2 \n\" style=\"fill:none;stroke:#000000;stroke-linecap:square;stroke-linejoin:miter;stroke-width:0.8;\"/>\n   </g>\n   <g id=\"legend_1\">\n    <g id=\"patch_7\">\n     <path d=\"M 59.375 59.234375 \nL 170.634375 59.234375 \nQ 172.634375 59.234375 172.634375 57.234375 \nL 172.634375 14.2 \nQ 172.634375 12.2 170.634375 12.2 \nL 59.375 12.2 \nQ 57.375 12.2 57.375 14.2 \nL 57.375 57.234375 \nQ 57.375 59.234375 59.375 59.234375 \nz\n\" style=\"fill:#ffffff;opacity:0.8;stroke:#cccccc;stroke-linejoin:miter;\"/>\n    </g>\n    <g id=\"line2d_39\">\n     <path d=\"M 61.375 20.298438 \nL 81.375 20.298438 \n\" style=\"fill:none;stroke:#1f77b4;stroke-linecap:square;stroke-width:1.5;\"/>\n    </g>\n    <g id=\"line2d_40\"/>\n    <g id=\"text_13\">\n     <!-- Total Confirmed -->\n     <defs>\n      <path d=\"M -0.296875 72.90625 \nL 61.375 72.90625 \nL 61.375 64.59375 \nL 35.5 64.59375 \nL 35.5 0 \nL 25.59375 0 \nL 25.59375 64.59375 \nL -0.296875 64.59375 \nz\n\" id=\"DejaVuSans-84\"/>\n      <path d=\"M 30.609375 48.390625 \nQ 23.390625 48.390625 19.1875 42.75 \nQ 14.984375 37.109375 14.984375 27.296875 \nQ 14.984375 17.484375 19.15625 11.84375 \nQ 23.34375 6.203125 30.609375 6.203125 \nQ 37.796875 6.203125 41.984375 11.859375 \nQ 46.1875 17.53125 46.1875 27.296875 \nQ 46.1875 37.015625 41.984375 42.703125 \nQ 37.796875 48.390625 30.609375 48.390625 \nz\nM 30.609375 56 \nQ 42.328125 56 49.015625 48.375 \nQ 55.71875 40.765625 55.71875 27.296875 \nQ 55.71875 13.875 49.015625 6.21875 \nQ 42.328125 -1.421875 30.609375 -1.421875 \nQ 18.84375 -1.421875 12.171875 6.21875 \nQ 5.515625 13.875 5.515625 27.296875 \nQ 5.515625 40.765625 12.171875 48.375 \nQ 18.84375 56 30.609375 56 \nz\n\" id=\"DejaVuSans-111\"/>\n      <path id=\"DejaVuSans-32\"/>\n      <path d=\"M 64.40625 67.28125 \nL 64.40625 56.890625 \nQ 59.421875 61.53125 53.78125 63.8125 \nQ 48.140625 66.109375 41.796875 66.109375 \nQ 29.296875 66.109375 22.65625 58.46875 \nQ 16.015625 50.828125 16.015625 36.375 \nQ 16.015625 21.96875 22.65625 14.328125 \nQ 29.296875 6.6875 41.796875 6.6875 \nQ 48.140625 6.6875 53.78125 8.984375 \nQ 59.421875 11.28125 64.40625 15.921875 \nL 64.40625 5.609375 \nQ 59.234375 2.09375 53.4375 0.328125 \nQ 47.65625 -1.421875 41.21875 -1.421875 \nQ 24.65625 -1.421875 15.125 8.703125 \nQ 5.609375 18.84375 5.609375 36.375 \nQ 5.609375 53.953125 15.125 64.078125 \nQ 24.65625 74.21875 41.21875 74.21875 \nQ 47.75 74.21875 53.53125 72.484375 \nQ 59.328125 70.75 64.40625 67.28125 \nz\n\" id=\"DejaVuSans-67\"/>\n      <path d=\"M 37.109375 75.984375 \nL 37.109375 68.5 \nL 28.515625 68.5 \nQ 23.6875 68.5 21.796875 66.546875 \nQ 19.921875 64.59375 19.921875 59.515625 \nL 19.921875 54.6875 \nL 34.71875 54.6875 \nL 34.71875 47.703125 \nL 19.921875 47.703125 \nL 19.921875 0 \nL 10.890625 0 \nL 10.890625 47.703125 \nL 2.296875 47.703125 \nL 2.296875 54.6875 \nL 10.890625 54.6875 \nL 10.890625 58.5 \nQ 10.890625 67.625 15.140625 71.796875 \nQ 19.390625 75.984375 28.609375 75.984375 \nz\n\" id=\"DejaVuSans-102\"/>\n      <path d=\"M 9.421875 54.6875 \nL 18.40625 54.6875 \nL 18.40625 0 \nL 9.421875 0 \nz\nM 9.421875 75.984375 \nL 18.40625 75.984375 \nL 18.40625 64.59375 \nL 9.421875 64.59375 \nz\n\" id=\"DejaVuSans-105\"/>\n      <path d=\"M 52 44.1875 \nQ 55.375 50.25 60.0625 53.125 \nQ 64.75 56 71.09375 56 \nQ 79.640625 56 84.28125 50.015625 \nQ 88.921875 44.046875 88.921875 33.015625 \nL 88.921875 0 \nL 79.890625 0 \nL 79.890625 32.71875 \nQ 79.890625 40.578125 77.09375 44.375 \nQ 74.3125 48.1875 68.609375 48.1875 \nQ 61.625 48.1875 57.5625 43.546875 \nQ 53.515625 38.921875 53.515625 30.90625 \nL 53.515625 0 \nL 44.484375 0 \nL 44.484375 32.71875 \nQ 44.484375 40.625 41.703125 44.40625 \nQ 38.921875 48.1875 33.109375 48.1875 \nQ 26.21875 48.1875 22.15625 43.53125 \nQ 18.109375 38.875 18.109375 30.90625 \nL 18.109375 0 \nL 9.078125 0 \nL 9.078125 54.6875 \nL 18.109375 54.6875 \nL 18.109375 46.1875 \nQ 21.1875 51.21875 25.484375 53.609375 \nQ 29.78125 56 35.6875 56 \nQ 41.65625 56 45.828125 52.96875 \nQ 50 49.953125 52 44.1875 \nz\n\" id=\"DejaVuSans-109\"/>\n      <path d=\"M 45.40625 46.390625 \nL 45.40625 75.984375 \nL 54.390625 75.984375 \nL 54.390625 0 \nL 45.40625 0 \nL 45.40625 8.203125 \nQ 42.578125 3.328125 38.25 0.953125 \nQ 33.9375 -1.421875 27.875 -1.421875 \nQ 17.96875 -1.421875 11.734375 6.484375 \nQ 5.515625 14.40625 5.515625 27.296875 \nQ 5.515625 40.1875 11.734375 48.09375 \nQ 17.96875 56 27.875 56 \nQ 33.9375 56 38.25 53.625 \nQ 42.578125 51.265625 45.40625 46.390625 \nz\nM 14.796875 27.296875 \nQ 14.796875 17.390625 18.875 11.75 \nQ 22.953125 6.109375 30.078125 6.109375 \nQ 37.203125 6.109375 41.296875 11.75 \nQ 45.40625 17.390625 45.40625 27.296875 \nQ 45.40625 37.203125 41.296875 42.84375 \nQ 37.203125 48.484375 30.078125 48.484375 \nQ 22.953125 48.484375 18.875 42.84375 \nQ 14.796875 37.203125 14.796875 27.296875 \nz\n\" id=\"DejaVuSans-100\"/>\n     </defs>\n     <g transform=\"translate(89.375 23.798438)scale(0.1 -0.1)\">\n      <use xlink:href=\"#DejaVuSans-84\"/>\n      <use x=\"44.083984\" xlink:href=\"#DejaVuSans-111\"/>\n      <use x=\"105.265625\" xlink:href=\"#DejaVuSans-116\"/>\n      <use x=\"144.474609\" xlink:href=\"#DejaVuSans-97\"/>\n      <use x=\"205.753906\" xlink:href=\"#DejaVuSans-108\"/>\n      <use x=\"233.537109\" xlink:href=\"#DejaVuSans-32\"/>\n      <use x=\"265.324219\" xlink:href=\"#DejaVuSans-67\"/>\n      <use x=\"335.148438\" xlink:href=\"#DejaVuSans-111\"/>\n      <use x=\"396.330078\" xlink:href=\"#DejaVuSans-110\"/>\n      <use x=\"459.708984\" xlink:href=\"#DejaVuSans-102\"/>\n      <use x=\"494.914062\" xlink:href=\"#DejaVuSans-105\"/>\n      <use x=\"522.697266\" xlink:href=\"#DejaVuSans-114\"/>\n      <use x=\"562.060547\" xlink:href=\"#DejaVuSans-109\"/>\n      <use x=\"659.472656\" xlink:href=\"#DejaVuSans-101\"/>\n      <use x=\"720.996094\" xlink:href=\"#DejaVuSans-100\"/>\n     </g>\n    </g>\n    <g id=\"line2d_41\">\n     <path d=\"M 61.375 34.976563 \nL 81.375 34.976563 \n\" style=\"fill:none;stroke:#ff7f0e;stroke-linecap:square;stroke-width:1.5;\"/>\n    </g>\n    <g id=\"line2d_42\"/>\n    <g id=\"text_14\">\n     <!-- Total Recovered -->\n     <defs>\n      <path d=\"M 44.390625 34.1875 \nQ 47.5625 33.109375 50.5625 29.59375 \nQ 53.5625 26.078125 56.59375 19.921875 \nL 66.609375 0 \nL 56 0 \nL 46.6875 18.703125 \nQ 43.0625 26.03125 39.671875 28.421875 \nQ 36.28125 30.8125 30.421875 30.8125 \nL 19.671875 30.8125 \nL 19.671875 0 \nL 9.8125 0 \nL 9.8125 72.90625 \nL 32.078125 72.90625 \nQ 44.578125 72.90625 50.734375 67.671875 \nQ 56.890625 62.453125 56.890625 51.90625 \nQ 56.890625 45.015625 53.6875 40.46875 \nQ 50.484375 35.9375 44.390625 34.1875 \nz\nM 19.671875 64.796875 \nL 19.671875 38.921875 \nL 32.078125 38.921875 \nQ 39.203125 38.921875 42.84375 42.21875 \nQ 46.484375 45.515625 46.484375 51.90625 \nQ 46.484375 58.296875 42.84375 61.546875 \nQ 39.203125 64.796875 32.078125 64.796875 \nz\n\" id=\"DejaVuSans-82\"/>\n      <path d=\"M 48.78125 52.59375 \nL 48.78125 44.1875 \nQ 44.96875 46.296875 41.140625 47.34375 \nQ 37.3125 48.390625 33.40625 48.390625 \nQ 24.65625 48.390625 19.8125 42.84375 \nQ 14.984375 37.3125 14.984375 27.296875 \nQ 14.984375 17.28125 19.8125 11.734375 \nQ 24.65625 6.203125 33.40625 6.203125 \nQ 37.3125 6.203125 41.140625 7.25 \nQ 44.96875 8.296875 48.78125 10.40625 \nL 48.78125 2.09375 \nQ 45.015625 0.34375 40.984375 -0.53125 \nQ 36.96875 -1.421875 32.421875 -1.421875 \nQ 20.0625 -1.421875 12.78125 6.34375 \nQ 5.515625 14.109375 5.515625 27.296875 \nQ 5.515625 40.671875 12.859375 48.328125 \nQ 20.21875 56 33.015625 56 \nQ 37.15625 56 41.109375 55.140625 \nQ 45.0625 54.296875 48.78125 52.59375 \nz\n\" id=\"DejaVuSans-99\"/>\n      <path d=\"M 2.984375 54.6875 \nL 12.5 54.6875 \nL 29.59375 8.796875 \nL 46.6875 54.6875 \nL 56.203125 54.6875 \nL 35.6875 0 \nL 23.484375 0 \nz\n\" id=\"DejaVuSans-118\"/>\n     </defs>\n     <g transform=\"translate(89.375 38.476563)scale(0.1 -0.1)\">\n      <use xlink:href=\"#DejaVuSans-84\"/>\n      <use x=\"44.083984\" xlink:href=\"#DejaVuSans-111\"/>\n      <use x=\"105.265625\" xlink:href=\"#DejaVuSans-116\"/>\n      <use x=\"144.474609\" xlink:href=\"#DejaVuSans-97\"/>\n      <use x=\"205.753906\" xlink:href=\"#DejaVuSans-108\"/>\n      <use x=\"233.537109\" xlink:href=\"#DejaVuSans-32\"/>\n      <use x=\"265.324219\" xlink:href=\"#DejaVuSans-82\"/>\n      <use x=\"330.306641\" xlink:href=\"#DejaVuSans-101\"/>\n      <use x=\"391.830078\" xlink:href=\"#DejaVuSans-99\"/>\n      <use x=\"446.810547\" xlink:href=\"#DejaVuSans-111\"/>\n      <use x=\"507.992188\" xlink:href=\"#DejaVuSans-118\"/>\n      <use x=\"567.171875\" xlink:href=\"#DejaVuSans-101\"/>\n      <use x=\"628.695312\" xlink:href=\"#DejaVuSans-114\"/>\n      <use x=\"667.558594\" xlink:href=\"#DejaVuSans-101\"/>\n      <use x=\"729.082031\" xlink:href=\"#DejaVuSans-100\"/>\n     </g>\n    </g>\n    <g id=\"line2d_43\">\n     <path d=\"M 61.375 49.654688 \nL 81.375 49.654688 \n\" style=\"fill:none;stroke:#2ca02c;stroke-linecap:square;stroke-width:1.5;\"/>\n    </g>\n    <g id=\"line2d_44\"/>\n    <g id=\"text_15\">\n     <!-- Total Deceased -->\n     <defs>\n      <path d=\"M 44.28125 53.078125 \nL 44.28125 44.578125 \nQ 40.484375 46.53125 36.375 47.5 \nQ 32.28125 48.484375 27.875 48.484375 \nQ 21.1875 48.484375 17.84375 46.4375 \nQ 14.5 44.390625 14.5 40.28125 \nQ 14.5 37.15625 16.890625 35.375 \nQ 19.28125 33.59375 26.515625 31.984375 \nL 29.59375 31.296875 \nQ 39.15625 29.25 43.1875 25.515625 \nQ 47.21875 21.78125 47.21875 15.09375 \nQ 47.21875 7.46875 41.1875 3.015625 \nQ 35.15625 -1.421875 24.609375 -1.421875 \nQ 20.21875 -1.421875 15.453125 -0.5625 \nQ 10.6875 0.296875 5.421875 2 \nL 5.421875 11.28125 \nQ 10.40625 8.6875 15.234375 7.390625 \nQ 20.0625 6.109375 24.8125 6.109375 \nQ 31.15625 6.109375 34.5625 8.28125 \nQ 37.984375 10.453125 37.984375 14.40625 \nQ 37.984375 18.0625 35.515625 20.015625 \nQ 33.0625 21.96875 24.703125 23.78125 \nL 21.578125 24.515625 \nQ 13.234375 26.265625 9.515625 29.90625 \nQ 5.8125 33.546875 5.8125 39.890625 \nQ 5.8125 47.609375 11.28125 51.796875 \nQ 16.75 56 26.8125 56 \nQ 31.78125 56 36.171875 55.265625 \nQ 40.578125 54.546875 44.28125 53.078125 \nz\n\" id=\"DejaVuSans-115\"/>\n     </defs>\n     <g transform=\"translate(89.375 53.154688)scale(0.1 -0.1)\">\n      <use xlink:href=\"#DejaVuSans-84\"/>\n      <use x=\"44.083984\" xlink:href=\"#DejaVuSans-111\"/>\n      <use x=\"105.265625\" xlink:href=\"#DejaVuSans-116\"/>\n      <use x=\"144.474609\" xlink:href=\"#DejaVuSans-97\"/>\n      <use x=\"205.753906\" xlink:href=\"#DejaVuSans-108\"/>\n      <use x=\"233.537109\" xlink:href=\"#DejaVuSans-32\"/>\n      <use x=\"265.324219\" xlink:href=\"#DejaVuSans-68\"/>\n      <use x=\"342.326172\" xlink:href=\"#DejaVuSans-101\"/>\n      <use x=\"403.849609\" xlink:href=\"#DejaVuSans-99\"/>\n      <use x=\"458.830078\" xlink:href=\"#DejaVuSans-101\"/>\n      <use x=\"520.353516\" xlink:href=\"#DejaVuSans-97\"/>\n      <use x=\"581.632812\" xlink:href=\"#DejaVuSans-115\"/>\n      <use x=\"633.732422\" xlink:href=\"#DejaVuSans-101\"/>\n      <use x=\"695.255859\" xlink:href=\"#DejaVuSans-100\"/>\n     </g>\n    </g>\n   </g>\n  </g>\n </g>\n <defs>\n  <clipPath id=\"pc03c299d65\">\n   <rect height=\"543.6\" width=\"558\" x=\"52.375\" y=\"7.2\"/>\n  </clipPath>\n </defs>\n</svg>\n",
      "image/png": "[encoded data removed]"
     },
     "metadata": {
      "needs_background": "light"
     }
    }
   ],
   "source": [
    "df_1.plot(kind='line',figsize=(10,10))"
   ]
  },
  {
   "cell_type": "code",
   "execution_count": 13,
   "metadata": {},
   "outputs": [
    {
     "output_type": "execute_result",
     "data": {
      "text/plain": "            Total Confirmed\nDate                       \n2020-01-30              1.0\n2020-01-31              1.0\n2020-02-01              1.0\n2020-02-02              2.0\n2020-02-03              3.0\n...                     ...\n2020-07-09         794847.0\n2020-07-10         822609.0\n2020-07-11         850366.0\n2020-07-12         879472.0\n2020-07-13         907650.0\n\n[166 rows x 1 columns]",
      "text/html": "<div>\n<style scoped>\n    .dataframe tbody tr th:only-of-type {\n        vertical-align: middle;\n    }\n\n    .dataframe tbody tr th {\n        vertical-align: top;\n    }\n\n    .dataframe thead th {\n        text-align: right;\n    }\n</style>\n<table border=\"1\" class=\"dataframe\">\n  <thead>\n    <tr style=\"text-align: right;\">\n      <th></th>\n      <th>Total Confirmed</th>\n    </tr>\n    <tr>\n      <th>Date</th>\n      <th></th>\n    </tr>\n  </thead>\n  <tbody>\n    <tr>\n      <th>2020-01-30</th>\n      <td>1.0</td>\n    </tr>\n    <tr>\n      <th>2020-01-31</th>\n      <td>1.0</td>\n    </tr>\n    <tr>\n      <th>2020-02-01</th>\n      <td>1.0</td>\n    </tr>\n    <tr>\n      <th>2020-02-02</th>\n      <td>2.0</td>\n    </tr>\n    <tr>\n      <th>2020-02-03</th>\n      <td>3.0</td>\n    </tr>\n    <tr>\n      <th>...</th>\n      <td>...</td>\n    </tr>\n    <tr>\n      <th>2020-07-09</th>\n      <td>794847.0</td>\n    </tr>\n    <tr>\n      <th>2020-07-10</th>\n      <td>822609.0</td>\n    </tr>\n    <tr>\n      <th>2020-07-11</th>\n      <td>850366.0</td>\n    </tr>\n    <tr>\n      <th>2020-07-12</th>\n      <td>879472.0</td>\n    </tr>\n    <tr>\n      <th>2020-07-13</th>\n      <td>907650.0</td>\n    </tr>\n  </tbody>\n</table>\n<p>166 rows × 1 columns</p>\n</div>"
     },
     "metadata": {},
     "execution_count": 13
    }
   ],
   "source": [
    "df_2=df_1[['Total Confirmed']]\n",
    "df_2"
   ]
  },
  {
   "cell_type": "markdown",
   "metadata": {},
   "source": [
    "Initiating the model"
   ]
  },
  {
   "cell_type": "code",
   "execution_count": 14,
   "metadata": {},
   "outputs": [],
   "source": [
    "m=Prophet()"
   ]
  },
  {
   "cell_type": "markdown",
   "metadata": {},
   "source": [
    "Adding monthly seasonality to the model with a period and fourier order of default values source:facebook.github.io"
   ]
  },
  {
   "cell_type": "code",
   "execution_count": 15,
   "metadata": {},
   "outputs": [
    {
     "output_type": "execute_result",
     "data": {
      "text/plain": "<fbprophet.forecaster.Prophet at 0x11945b550>"
     },
     "metadata": {},
     "execution_count": 15
    }
   ],
   "source": [
    "m.add_seasonality(name=\"Monthly\",period=30.5,fourier_order=5)"
   ]
  },
  {
   "cell_type": "code",
   "execution_count": 16,
   "metadata": {},
   "outputs": [
    {
     "output_type": "execute_result",
     "data": {
      "text/plain": "        Date  Total Confirmed\n0 2020-01-30              1.0\n1 2020-01-31              1.0\n2 2020-02-01              1.0\n3 2020-02-02              2.0\n4 2020-02-03              3.0",
      "text/html": "<div>\n<style scoped>\n    .dataframe tbody tr th:only-of-type {\n        vertical-align: middle;\n    }\n\n    .dataframe tbody tr th {\n        vertical-align: top;\n    }\n\n    .dataframe thead th {\n        text-align: right;\n    }\n</style>\n<table border=\"1\" class=\"dataframe\">\n  <thead>\n    <tr style=\"text-align: right;\">\n      <th></th>\n      <th>Date</th>\n      <th>Total Confirmed</th>\n    </tr>\n  </thead>\n  <tbody>\n    <tr>\n      <th>0</th>\n      <td>2020-01-30</td>\n      <td>1.0</td>\n    </tr>\n    <tr>\n      <th>1</th>\n      <td>2020-01-31</td>\n      <td>1.0</td>\n    </tr>\n    <tr>\n      <th>2</th>\n      <td>2020-02-01</td>\n      <td>1.0</td>\n    </tr>\n    <tr>\n      <th>3</th>\n      <td>2020-02-02</td>\n      <td>2.0</td>\n    </tr>\n    <tr>\n      <th>4</th>\n      <td>2020-02-03</td>\n      <td>3.0</td>\n    </tr>\n  </tbody>\n</table>\n</div>"
     },
     "metadata": {},
     "execution_count": 16
    }
   ],
   "source": [
    "df_2.reset_index(level=0, inplace=True)\n",
    "df_2.head()"
   ]
  },
  {
   "cell_type": "markdown",
   "metadata": {},
   "source": [
    "Renaming the columns according to the format to ds and y for the model to forecast the confirmed cases"
   ]
  },
  {
   "cell_type": "code",
   "execution_count": 17,
   "metadata": {},
   "outputs": [
    {
     "output_type": "execute_result",
     "data": {
      "text/plain": "          ds    y\n0 2020-01-30  1.0\n1 2020-01-31  1.0\n2 2020-02-01  1.0\n3 2020-02-02  2.0\n4 2020-02-03  3.0",
      "text/html": "<div>\n<style scoped>\n    .dataframe tbody tr th:only-of-type {\n        vertical-align: middle;\n    }\n\n    .dataframe tbody tr th {\n        vertical-align: top;\n    }\n\n    .dataframe thead th {\n        text-align: right;\n    }\n</style>\n<table border=\"1\" class=\"dataframe\">\n  <thead>\n    <tr style=\"text-align: right;\">\n      <th></th>\n      <th>ds</th>\n      <th>y</th>\n    </tr>\n  </thead>\n  <tbody>\n    <tr>\n      <th>0</th>\n      <td>2020-01-30</td>\n      <td>1.0</td>\n    </tr>\n    <tr>\n      <th>1</th>\n      <td>2020-01-31</td>\n      <td>1.0</td>\n    </tr>\n    <tr>\n      <th>2</th>\n      <td>2020-02-01</td>\n      <td>1.0</td>\n    </tr>\n    <tr>\n      <th>3</th>\n      <td>2020-02-02</td>\n      <td>2.0</td>\n    </tr>\n    <tr>\n      <th>4</th>\n      <td>2020-02-03</td>\n      <td>3.0</td>\n    </tr>\n  </tbody>\n</table>\n</div>"
     },
     "metadata": {},
     "execution_count": 17
    }
   ],
   "source": [
    "df_2.rename(columns={\"Date\":\"ds\",\"Total Confirmed\":\"y\"}, inplace=True)\n",
    "df_2.head()"
   ]
  },
  {
   "cell_type": "code",
   "execution_count": 18,
   "metadata": {},
   "outputs": [
    {
     "output_type": "execute_result",
     "data": {
      "text/plain": "            ds         y\n161 2020-07-09  794847.0\n162 2020-07-10  822609.0\n163 2020-07-11  850366.0\n164 2020-07-12  879472.0\n165 2020-07-13  907650.0",
      "text/html": "<div>\n<style scoped>\n    .dataframe tbody tr th:only-of-type {\n        vertical-align: middle;\n    }\n\n    .dataframe tbody tr th {\n        vertical-align: top;\n    }\n\n    .dataframe thead th {\n        text-align: right;\n    }\n</style>\n<table border=\"1\" class=\"dataframe\">\n  <thead>\n    <tr style=\"text-align: right;\">\n      <th></th>\n      <th>ds</th>\n      <th>y</th>\n    </tr>\n  </thead>\n  <tbody>\n    <tr>\n      <th>161</th>\n      <td>2020-07-09</td>\n      <td>794847.0</td>\n    </tr>\n    <tr>\n      <th>162</th>\n      <td>2020-07-10</td>\n      <td>822609.0</td>\n    </tr>\n    <tr>\n      <th>163</th>\n      <td>2020-07-11</td>\n      <td>850366.0</td>\n    </tr>\n    <tr>\n      <th>164</th>\n      <td>2020-07-12</td>\n      <td>879472.0</td>\n    </tr>\n    <tr>\n      <th>165</th>\n      <td>2020-07-13</td>\n      <td>907650.0</td>\n    </tr>\n  </tbody>\n</table>\n</div>"
     },
     "metadata": {},
     "execution_count": 18
    }
   ],
   "source": [
    "df_2.tail()"
   ]
  },
  {
   "cell_type": "markdown",
   "metadata": {},
   "source": [
    "Splitting the data as the training data and testing data by 85 percent approximately"
   ]
  },
  {
   "cell_type": "code",
   "execution_count": 19,
   "metadata": {},
   "outputs": [],
   "source": [
    "train= df_2[:130]\n",
    "test=df_2[130:]"
   ]
  },
  {
   "cell_type": "markdown",
   "metadata": {},
   "source": [
    "Fitting the model with the training data"
   ]
  },
  {
   "cell_type": "code",
   "execution_count": 20,
   "metadata": {
    "tags": []
   },
   "outputs": [
    {
     "output_type": "stream",
     "name": "stderr",
     "text": "INFO:fbprophet:Disabling yearly seasonality. Run prophet with yearly_seasonality=True to override this.\nINFO:fbprophet:Disabling daily seasonality. Run prophet with daily_seasonality=True to override this.\n"
    },
    {
     "output_type": "execute_result",
     "data": {
      "text/plain": "<fbprophet.forecaster.Prophet at 0x11945b550>"
     },
     "metadata": {},
     "execution_count": 20
    }
   ],
   "source": [
    " m.fit(train)"
   ]
  },
  {
   "cell_type": "markdown",
   "metadata": {},
   "source": [
    "Making a dataframe with future dates for forecasting till the 25th July"
   ]
  },
  {
   "cell_type": "code",
   "execution_count": 21,
   "metadata": {},
   "outputs": [
    {
     "output_type": "execute_result",
     "data": {
      "text/plain": "            ds\n173 2020-07-21\n174 2020-07-22\n175 2020-07-23\n176 2020-07-24\n177 2020-07-25",
      "text/html": "<div>\n<style scoped>\n    .dataframe tbody tr th:only-of-type {\n        vertical-align: middle;\n    }\n\n    .dataframe tbody tr th {\n        vertical-align: top;\n    }\n\n    .dataframe thead th {\n        text-align: right;\n    }\n</style>\n<table border=\"1\" class=\"dataframe\">\n  <thead>\n    <tr style=\"text-align: right;\">\n      <th></th>\n      <th>ds</th>\n    </tr>\n  </thead>\n  <tbody>\n    <tr>\n      <th>173</th>\n      <td>2020-07-21</td>\n    </tr>\n    <tr>\n      <th>174</th>\n      <td>2020-07-22</td>\n    </tr>\n    <tr>\n      <th>175</th>\n      <td>2020-07-23</td>\n    </tr>\n    <tr>\n      <th>176</th>\n      <td>2020-07-24</td>\n    </tr>\n    <tr>\n      <th>177</th>\n      <td>2020-07-25</td>\n    </tr>\n  </tbody>\n</table>\n</div>"
     },
     "metadata": {},
     "execution_count": 21
    }
   ],
   "source": [
    "future_dates=m.make_future_dataframe(periods=48)\n",
    "future_dates.tail()"
   ]
  },
  {
   "cell_type": "markdown",
   "metadata": {},
   "source": [
    "Predicting using the model"
   ]
  },
  {
   "cell_type": "code",
   "execution_count": 22,
   "metadata": {},
   "outputs": [
    {
     "output_type": "execute_result",
     "data": {
      "text/plain": "            ds           yhat     yhat_lower     yhat_upper\n173 2020-07-21  531186.763147  495121.386180  564293.342289\n174 2020-07-22  537559.081763  500361.842534  570925.027007\n175 2020-07-23  544513.268772  506190.210445  579610.004448\n176 2020-07-24  551459.668729  511450.193948  588243.814744\n177 2020-07-25  558430.014958  517292.017629  594540.481249",
      "text/html": "<div>\n<style scoped>\n    .dataframe tbody tr th:only-of-type {\n        vertical-align: middle;\n    }\n\n    .dataframe tbody tr th {\n        vertical-align: top;\n    }\n\n    .dataframe thead th {\n        text-align: right;\n    }\n</style>\n<table border=\"1\" class=\"dataframe\">\n  <thead>\n    <tr style=\"text-align: right;\">\n      <th></th>\n      <th>ds</th>\n      <th>yhat</th>\n      <th>yhat_lower</th>\n      <th>yhat_upper</th>\n    </tr>\n  </thead>\n  <tbody>\n    <tr>\n      <th>173</th>\n      <td>2020-07-21</td>\n      <td>531186.763147</td>\n      <td>495121.386180</td>\n      <td>564293.342289</td>\n    </tr>\n    <tr>\n      <th>174</th>\n      <td>2020-07-22</td>\n      <td>537559.081763</td>\n      <td>500361.842534</td>\n      <td>570925.027007</td>\n    </tr>\n    <tr>\n      <th>175</th>\n      <td>2020-07-23</td>\n      <td>544513.268772</td>\n      <td>506190.210445</td>\n      <td>579610.004448</td>\n    </tr>\n    <tr>\n      <th>176</th>\n      <td>2020-07-24</td>\n      <td>551459.668729</td>\n      <td>511450.193948</td>\n      <td>588243.814744</td>\n    </tr>\n    <tr>\n      <th>177</th>\n      <td>2020-07-25</td>\n      <td>558430.014958</td>\n      <td>517292.017629</td>\n      <td>594540.481249</td>\n    </tr>\n  </tbody>\n</table>\n</div>"
     },
     "metadata": {},
     "execution_count": 22
    }
   ],
   "source": [
    "prediction=m.predict(future_dates)\n",
    "prediction[['ds', 'yhat', 'yhat_lower', 'yhat_upper']].tail()"
   ]
  },
  {
   "cell_type": "markdown",
   "metadata": {},
   "source": [
    "Plotting the prediction"
   ]
  },
  {
   "cell_type": "code",
   "execution_count": 23,
   "metadata": {},
   "outputs": [
    {
     "output_type": "execute_result",
     "data": {
      "text/plain": "<Figure size 720x432 with 1 Axes>",
      "image/svg+xml": "<?xml version=\"1.0\" encoding=\"utf-8\" standalone=\"no\"?>\n<!DOCTYPE svg PUBLIC \"-//W3C//DTD SVG 1.1//EN\"\n  \"http://www.w3.org/Graphics/SVG/1.1/DTD/svg11.dtd\">\n<!-- Created with matplotlib (https://matplotlib.org/) -->\n<svg height=\"424.15625pt\" version=\"1.1\" viewBox=\"0 0 712.601212 424.15625\" width=\"712.601212pt\" xmlns=\"http://www.w3.org/2000/svg\" xmlns:xlink=\"http://www.w3.org/1999/xlink\">\n <defs>\n  <style type=\"text/css\">\n*{stroke-linecap:butt;stroke-linejoin:round;}\n  </style>\n </defs>\n <g id=\"figure_1\">\n  <g id=\"patch_1\">\n   <path d=\"M 0 424.15625 \nL 712.601212 424.15625 \nL 712.601212 0 \nL 0 0 \nz\n\" style=\"fill:#ffffff;\"/>\n  </g>\n  <g id=\"axes_1\">\n   <g id=\"patch_2\">\n    <path d=\"M 66.053125 386.6 \nL 690.442628 386.6 \nL 690.442628 7.2 \nL 66.053125 7.2 \nz\n\" style=\"fill:#ffffff;\"/>\n   </g>\n   <g id=\"PolyCollection_1\">\n    <defs>\n     <path d=\"M 94.434466 -58.990347 \nL 94.434466 -54.801705 \nL 97.641397 -55.522191 \nL 100.848328 -56.056274 \nL 104.05526 -56.956202 \nL 107.262191 -57.330701 \nL 110.469122 -57.988788 \nL 113.676053 -58.598023 \nL 116.882984 -58.588484 \nL 120.089916 -58.432216 \nL 123.296847 -58.06652 \nL 126.503778 -58.182385 \nL 129.710709 -57.831163 \nL 132.91764 -57.696193 \nL 136.124572 -57.664417 \nL 139.331503 -56.994252 \nL 142.538434 -56.646513 \nL 145.745365 -56.196932 \nL 148.952296 -56.288948 \nL 152.159228 -55.901013 \nL 155.366159 -55.726213 \nL 158.57309 -55.512081 \nL 161.780021 -55.759411 \nL 164.986952 -55.600268 \nL 168.193883 -55.645822 \nL 171.400815 -55.875861 \nL 174.607746 -55.511598 \nL 177.814677 -55.292301 \nL 181.021608 -55.186863 \nL 184.228539 -55.624745 \nL 187.435471 -55.798863 \nL 190.642402 -56.360012 \nL 193.849333 -57.053129 \nL 197.056264 -56.887832 \nL 200.263195 -57.244538 \nL 203.470127 -57.761165 \nL 206.677058 -58.599372 \nL 209.883989 -59.261747 \nL 213.09092 -59.412986 \nL 216.297851 -59.371493 \nL 219.504783 -58.503122 \nL 222.711714 -58.202913 \nL 225.918645 -58.128 \nL 229.125576 -58.153012 \nL 232.332507 -58.390018 \nL 235.539438 -57.940219 \nL 238.74637 -57.37184 \nL 241.953301 -56.626893 \nL 245.160232 -56.142184 \nL 248.367163 -56.065461 \nL 251.574094 -56.083628 \nL 254.781026 -55.969455 \nL 257.987957 -55.932462 \nL 261.194888 -56.056752 \nL 264.401819 -55.578629 \nL 267.60875 -55.760917 \nL 270.815682 -55.751651 \nL 274.022613 -56.027602 \nL 277.229544 -56.01894 \nL 280.436475 -56.160594 \nL 283.643406 -56.717838 \nL 286.850338 -56.896038 \nL 290.057269 -57.583487 \nL 293.2642 -57.805393 \nL 296.471131 -58.512816 \nL 299.678062 -59.270239 \nL 302.884994 -60.097939 \nL 306.091925 -60.97809 \nL 309.298856 -61.116256 \nL 312.505787 -61.340563 \nL 315.712718 -61.20635 \nL 318.919649 -61.211886 \nL 322.126581 -61.686573 \nL 325.333512 -62.471067 \nL 328.540443 -63.241052 \nL 331.747374 -63.171936 \nL 334.954305 -63.418824 \nL 338.161237 -63.639521 \nL 341.368168 -64.269612 \nL 344.575099 -65.152004 \nL 347.78203 -65.845257 \nL 350.988961 -66.858115 \nL 354.195893 -67.081087 \nL 357.402824 -68.012476 \nL 360.609755 -68.78935 \nL 363.816686 -69.887778 \nL 367.023617 -70.925219 \nL 370.230549 -72.184602 \nL 373.43748 -73.05979 \nL 376.644411 -73.479291 \nL 379.851342 -74.651639 \nL 383.058273 -76.0263 \nL 386.265205 -77.615691 \nL 389.472136 -78.998505 \nL 392.679067 -80.336383 \nL 395.885998 -81.897326 \nL 399.092929 -83.180693 \nL 402.29986 -84.866206 \nL 405.506792 -86.82503 \nL 408.713723 -88.457244 \nL 411.920654 -89.357043 \nL 415.127585 -90.527179 \nL 418.334516 -92.634481 \nL 421.541448 -93.89589 \nL 424.748379 -95.763508 \nL 427.95531 -99.346029 \nL 431.162241 -102.831635 \nL 434.369172 -106.009132 \nL 437.576104 -109.54485 \nL 440.783035 -113.059099 \nL 443.989966 -116.375262 \nL 447.196897 -120.076657 \nL 450.403828 -123.551661 \nL 453.61076 -127.422509 \nL 456.817691 -131.144607 \nL 460.024622 -135.141013 \nL 463.231553 -139.159026 \nL 466.438484 -142.712322 \nL 469.645416 -146.41364 \nL 472.852347 -150.246443 \nL 476.059278 -154.266723 \nL 479.266209 -158.531756 \nL 482.47314 -162.820839 \nL 485.680071 -167.417472 \nL 488.887003 -171.152207 \nL 492.093934 -175.208698 \nL 495.300865 -179.749385 \nL 498.507796 -184.337886 \nL 501.714727 -189.06453 \nL 504.921659 -193.19835 \nL 508.12859 -197.172206 \nL 511.335521 -200.162945 \nL 514.542452 -203.492171 \nL 517.749383 -207.026462 \nL 520.956315 -211.003735 \nL 524.163246 -214.841028 \nL 527.370177 -218.15299 \nL 530.577108 -221.375779 \nL 533.784039 -224.131503 \nL 536.990971 -227.095508 \nL 540.197902 -230.66123 \nL 543.404833 -234.245228 \nL 546.611764 -237.636487 \nL 549.818695 -241.058191 \nL 553.025627 -244.461613 \nL 556.232558 -247.535661 \nL 559.439489 -251.01116 \nL 562.64642 -254.522276 \nL 565.853351 -257.945098 \nL 569.060282 -261.602932 \nL 572.267214 -264.80543 \nL 575.474145 -268.592052 \nL 578.681076 -271.956428 \nL 581.888007 -276.209991 \nL 585.094938 -279.315655 \nL 588.30187 -283.108809 \nL 591.508801 -287.361636 \nL 594.715732 -291.523685 \nL 597.922663 -295.394326 \nL 601.129594 -299.111392 \nL 604.336526 -302.375978 \nL 607.543457 -305.233613 \nL 610.750388 -307.875733 \nL 613.957319 -311.021166 \nL 617.16425 -314.417725 \nL 620.371182 -317.617841 \nL 623.578113 -320.350867 \nL 626.785044 -322.970722 \nL 629.991975 -325.189702 \nL 633.198906 -327.945808 \nL 636.405837 -331.05665 \nL 639.612769 -334.584844 \nL 642.8197 -337.271276 \nL 646.026631 -339.746178 \nL 649.233562 -342.730687 \nL 652.440493 -345.734152 \nL 655.647425 -349.074567 \nL 658.854356 -352.089224 \nL 662.061287 -355.437351 \nL 662.061287 -399.710795 \nL 662.061287 -399.710795 \nL 658.854356 -396.101984 \nL 655.647425 -391.153685 \nL 652.440493 -386.17606 \nL 649.233562 -382.37524 \nL 646.026631 -377.798497 \nL 642.8197 -373.818271 \nL 639.612769 -369.606188 \nL 636.405837 -365.761103 \nL 633.198906 -361.093138 \nL 629.991975 -357.083413 \nL 626.785044 -353.41061 \nL 623.578113 -349.225384 \nL 620.371182 -345.780761 \nL 617.16425 -341.133001 \nL 613.957319 -336.955732 \nL 610.750388 -333.215391 \nL 607.543457 -328.950745 \nL 604.336526 -325.116911 \nL 601.129594 -320.410703 \nL 597.922663 -316.023142 \nL 594.715732 -310.581645 \nL 591.508801 -305.352313 \nL 588.30187 -300.268859 \nL 585.094938 -295.69179 \nL 581.888007 -290.782799 \nL 578.681076 -286.619115 \nL 575.474145 -282.463515 \nL 572.267214 -277.265387 \nL 569.060282 -273.053604 \nL 565.853351 -268.633367 \nL 562.64642 -264.640863 \nL 559.439489 -260.329654 \nL 556.232558 -255.988976 \nL 553.025627 -252.420721 \nL 549.818695 -248.487888 \nL 546.611764 -244.159117 \nL 543.404833 -240.366203 \nL 540.197902 -236.190671 \nL 536.990971 -232.678203 \nL 533.784039 -229.100928 \nL 530.577108 -226.278193 \nL 527.370177 -222.918573 \nL 524.163246 -219.05892 \nL 520.956315 -215.208151 \nL 517.749383 -211.246939 \nL 514.542452 -207.804488 \nL 511.335521 -204.169369 \nL 508.12859 -201.343879 \nL 504.921659 -197.345055 \nL 501.714727 -193.18127 \nL 498.507796 -188.583064 \nL 495.300865 -183.832046 \nL 492.093934 -179.548829 \nL 488.887003 -175.230385 \nL 485.680071 -171.682176 \nL 482.47314 -167.020526 \nL 479.266209 -162.537944 \nL 476.059278 -158.50933 \nL 472.852347 -154.315465 \nL 469.645416 -150.627319 \nL 466.438484 -146.76633 \nL 463.231553 -143.32595 \nL 460.024622 -139.287229 \nL 456.817691 -135.346602 \nL 453.61076 -131.553482 \nL 450.403828 -127.817773 \nL 447.196897 -124.287122 \nL 443.989966 -120.419042 \nL 440.783035 -117.392158 \nL 437.576104 -113.476686 \nL 434.369172 -110.303918 \nL 431.162241 -107.173501 \nL 427.95531 -103.471703 \nL 424.748379 -100.0159 \nL 421.541448 -98.249243 \nL 418.334516 -96.67065 \nL 415.127585 -94.914934 \nL 411.920654 -93.483989 \nL 408.713723 -92.445374 \nL 405.506792 -90.855882 \nL 402.29986 -89.003624 \nL 399.092929 -87.563778 \nL 395.885998 -86.193495 \nL 392.679067 -84.466587 \nL 389.472136 -83.235119 \nL 386.265205 -81.690924 \nL 383.058273 -80.259745 \nL 379.851342 -78.723742 \nL 376.644411 -77.618097 \nL 373.43748 -77.214121 \nL 370.230549 -76.159504 \nL 367.023617 -75.091357 \nL 363.816686 -74.058018 \nL 360.609755 -72.853331 \nL 357.402824 -72.202881 \nL 354.195893 -71.290104 \nL 350.988961 -71.065045 \nL 347.78203 -70.166717 \nL 344.575099 -69.017151 \nL 341.368168 -68.462739 \nL 338.161237 -67.827497 \nL 334.954305 -67.578082 \nL 331.747374 -67.29648 \nL 328.540443 -67.445338 \nL 325.333512 -66.63936 \nL 322.126581 -65.768514 \nL 318.919649 -65.25947 \nL 315.712718 -65.322594 \nL 312.505787 -65.401169 \nL 309.298856 -65.314337 \nL 306.091925 -65.023415 \nL 302.884994 -64.270115 \nL 299.678062 -63.186043 \nL 296.471131 -62.716807 \nL 293.2642 -62.087559 \nL 290.057269 -61.71676 \nL 286.850338 -61.15854 \nL 283.643406 -60.906682 \nL 280.436475 -60.368477 \nL 277.229544 -60.209297 \nL 274.022613 -60.152837 \nL 270.815682 -59.926573 \nL 267.60875 -59.801283 \nL 264.401819 -59.870285 \nL 261.194888 -60.162754 \nL 257.987957 -60.053359 \nL 254.781026 -60.169404 \nL 251.574094 -60.353053 \nL 248.367163 -60.218247 \nL 245.160232 -60.259931 \nL 241.953301 -60.54368 \nL 238.74637 -61.57164 \nL 235.539438 -62.097669 \nL 232.332507 -62.349125 \nL 229.125576 -62.426274 \nL 225.918645 -62.27803 \nL 222.711714 -62.32081 \nL 219.504783 -62.657083 \nL 216.297851 -63.590345 \nL 213.09092 -63.640515 \nL 209.883989 -63.354293 \nL 206.677058 -62.630717 \nL 203.470127 -61.924722 \nL 200.263195 -61.460803 \nL 197.056264 -60.928265 \nL 193.849333 -61.045753 \nL 190.642402 -60.527735 \nL 187.435471 -60.052277 \nL 184.228539 -59.635233 \nL 181.021608 -59.407265 \nL 177.814677 -59.286784 \nL 174.607746 -59.553163 \nL 171.400815 -60.012694 \nL 168.193883 -59.93033 \nL 164.986952 -59.795087 \nL 161.780021 -59.949201 \nL 158.57309 -59.734916 \nL 155.366159 -59.887009 \nL 152.159228 -60.0922 \nL 148.952296 -60.629184 \nL 145.745365 -60.434592 \nL 142.538434 -60.72834 \nL 139.331503 -61.221488 \nL 136.124572 -61.630792 \nL 132.91764 -61.726074 \nL 129.710709 -61.927588 \nL 126.503778 -62.258138 \nL 123.296847 -62.30695 \nL 120.089916 -62.593536 \nL 116.882984 -62.784296 \nL 113.676053 -62.632926 \nL 110.469122 -62.266601 \nL 107.262191 -61.367763 \nL 104.05526 -61.083585 \nL 100.848328 -60.251609 \nL 97.641397 -59.725804 \nL 94.434466 -58.990347 \nz\n\" id=\"mdd11c1a794\" style=\"stroke:#0072b2;stroke-opacity:0.2;\"/>\n    </defs>\n    <g clip-path=\"url(#pee1613b20f)\">\n     <use style=\"fill:#0072b2;fill-opacity:0.2;stroke:#0072b2;stroke-opacity:0.2;\" x=\"0\" xlink:href=\"#mdd11c1a794\" y=\"424.15625\"/>\n    </g>\n   </g>\n   <g id=\"matplotlib.axis_1\">\n    <g id=\"xtick_1\">\n     <g id=\"line2d_1\">\n      <path clip-path=\"url(#pee1613b20f)\" d=\"M 100.848328 386.6 \nL 100.848328 7.2 \n\" style=\"fill:none;stroke:#808080;stroke-linecap:square;stroke-opacity:0.2;\"/>\n     </g>\n     <g id=\"line2d_2\">\n      <defs>\n       <path d=\"M 0 0 \nL 0 3.5 \n\" id=\"m7cb73ef489\" style=\"stroke:#000000;stroke-width:0.8;\"/>\n      </defs>\n      <g>\n       <use style=\"stroke:#000000;stroke-width:0.8;\" x=\"100.848328\" xlink:href=\"#m7cb73ef489\" y=\"386.6\"/>\n      </g>\n     </g>\n     <g id=\"text_1\">\n      <!-- 2020-02 -->\n      <defs>\n       <path d=\"M 19.1875 8.296875 \nL 53.609375 8.296875 \nL 53.609375 0 \nL 7.328125 0 \nL 7.328125 8.296875 \nQ 12.9375 14.109375 22.625 23.890625 \nQ 32.328125 33.6875 34.8125 36.53125 \nQ 39.546875 41.84375 41.421875 45.53125 \nQ 43.3125 49.21875 43.3125 52.78125 \nQ 43.3125 58.59375 39.234375 62.25 \nQ 35.15625 65.921875 28.609375 65.921875 \nQ 23.96875 65.921875 18.8125 64.3125 \nQ 13.671875 62.703125 7.8125 59.421875 \nL 7.8125 69.390625 \nQ 13.765625 71.78125 18.9375 73 \nQ 24.125 74.21875 28.421875 74.21875 \nQ 39.75 74.21875 46.484375 68.546875 \nQ 53.21875 62.890625 53.21875 53.421875 \nQ 53.21875 48.921875 51.53125 44.890625 \nQ 49.859375 40.875 45.40625 35.40625 \nQ 44.1875 33.984375 37.640625 27.21875 \nQ 31.109375 20.453125 19.1875 8.296875 \nz\n\" id=\"DejaVuSans-50\"/>\n       <path d=\"M 31.78125 66.40625 \nQ 24.171875 66.40625 20.328125 58.90625 \nQ 16.5 51.421875 16.5 36.375 \nQ 16.5 21.390625 20.328125 13.890625 \nQ 24.171875 6.390625 31.78125 6.390625 \nQ 39.453125 6.390625 43.28125 13.890625 \nQ 47.125 21.390625 47.125 36.375 \nQ 47.125 51.421875 43.28125 58.90625 \nQ 39.453125 66.40625 31.78125 66.40625 \nz\nM 31.78125 74.21875 \nQ 44.046875 74.21875 50.515625 64.515625 \nQ 56.984375 54.828125 56.984375 36.375 \nQ 56.984375 17.96875 50.515625 8.265625 \nQ 44.046875 -1.421875 31.78125 -1.421875 \nQ 19.53125 -1.421875 13.0625 8.265625 \nQ 6.59375 17.96875 6.59375 36.375 \nQ 6.59375 54.828125 13.0625 64.515625 \nQ 19.53125 74.21875 31.78125 74.21875 \nz\n\" id=\"DejaVuSans-48\"/>\n       <path d=\"M 4.890625 31.390625 \nL 31.203125 31.390625 \nL 31.203125 23.390625 \nL 4.890625 23.390625 \nz\n\" id=\"DejaVuSans-45\"/>\n      </defs>\n      <g transform=\"translate(79.956922 401.198437)scale(0.1 -0.1)\">\n       <use xlink:href=\"#DejaVuSans-50\"/>\n       <use x=\"63.623047\" xlink:href=\"#DejaVuSans-48\"/>\n       <use x=\"127.246094\" xlink:href=\"#DejaVuSans-50\"/>\n       <use x=\"190.869141\" xlink:href=\"#DejaVuSans-48\"/>\n       <use x=\"254.492188\" xlink:href=\"#DejaVuSans-45\"/>\n       <use x=\"290.576172\" xlink:href=\"#DejaVuSans-48\"/>\n       <use x=\"354.199219\" xlink:href=\"#DejaVuSans-50\"/>\n      </g>\n     </g>\n    </g>\n    <g id=\"xtick_2\">\n     <g id=\"line2d_3\">\n      <path clip-path=\"url(#pee1613b20f)\" d=\"M 193.849333 386.6 \nL 193.849333 7.2 \n\" style=\"fill:none;stroke:#808080;stroke-linecap:square;stroke-opacity:0.2;\"/>\n     </g>\n     <g id=\"line2d_4\">\n      <g>\n       <use style=\"stroke:#000000;stroke-width:0.8;\" x=\"193.849333\" xlink:href=\"#m7cb73ef489\" y=\"386.6\"/>\n      </g>\n     </g>\n     <g id=\"text_2\">\n      <!-- 2020-03 -->\n      <defs>\n       <path d=\"M 40.578125 39.3125 \nQ 47.65625 37.796875 51.625 33 \nQ 55.609375 28.21875 55.609375 21.1875 \nQ 55.609375 10.40625 48.1875 4.484375 \nQ 40.765625 -1.421875 27.09375 -1.421875 \nQ 22.515625 -1.421875 17.65625 -0.515625 \nQ 12.796875 0.390625 7.625 2.203125 \nL 7.625 11.71875 \nQ 11.71875 9.328125 16.59375 8.109375 \nQ 21.484375 6.890625 26.8125 6.890625 \nQ 36.078125 6.890625 40.9375 10.546875 \nQ 45.796875 14.203125 45.796875 21.1875 \nQ 45.796875 27.640625 41.28125 31.265625 \nQ 36.765625 34.90625 28.71875 34.90625 \nL 20.21875 34.90625 \nL 20.21875 43.015625 \nL 29.109375 43.015625 \nQ 36.375 43.015625 40.234375 45.921875 \nQ 44.09375 48.828125 44.09375 54.296875 \nQ 44.09375 59.90625 40.109375 62.90625 \nQ 36.140625 65.921875 28.71875 65.921875 \nQ 24.65625 65.921875 20.015625 65.03125 \nQ 15.375 64.15625 9.8125 62.3125 \nL 9.8125 71.09375 \nQ 15.4375 72.65625 20.34375 73.4375 \nQ 25.25 74.21875 29.59375 74.21875 \nQ 40.828125 74.21875 47.359375 69.109375 \nQ 53.90625 64.015625 53.90625 55.328125 \nQ 53.90625 49.265625 50.4375 45.09375 \nQ 46.96875 40.921875 40.578125 39.3125 \nz\n\" id=\"DejaVuSans-51\"/>\n      </defs>\n      <g transform=\"translate(172.957927 401.198437)scale(0.1 -0.1)\">\n       <use xlink:href=\"#DejaVuSans-50\"/>\n       <use x=\"63.623047\" xlink:href=\"#DejaVuSans-48\"/>\n       <use x=\"127.246094\" xlink:href=\"#DejaVuSans-50\"/>\n       <use x=\"190.869141\" xlink:href=\"#DejaVuSans-48\"/>\n       <use x=\"254.492188\" xlink:href=\"#DejaVuSans-45\"/>\n       <use x=\"290.576172\" xlink:href=\"#DejaVuSans-48\"/>\n       <use x=\"354.199219\" xlink:href=\"#DejaVuSans-51\"/>\n      </g>\n     </g>\n    </g>\n    <g id=\"xtick_3\">\n     <g id=\"line2d_5\">\n      <path clip-path=\"url(#pee1613b20f)\" d=\"M 293.2642 386.6 \nL 293.2642 7.2 \n\" style=\"fill:none;stroke:#808080;stroke-linecap:square;stroke-opacity:0.2;\"/>\n     </g>\n     <g id=\"line2d_6\">\n      <g>\n       <use style=\"stroke:#000000;stroke-width:0.8;\" x=\"293.2642\" xlink:href=\"#m7cb73ef489\" y=\"386.6\"/>\n      </g>\n     </g>\n     <g id=\"text_3\">\n      <!-- 2020-04 -->\n      <defs>\n       <path d=\"M 37.796875 64.3125 \nL 12.890625 25.390625 \nL 37.796875 25.390625 \nz\nM 35.203125 72.90625 \nL 47.609375 72.90625 \nL 47.609375 25.390625 \nL 58.015625 25.390625 \nL 58.015625 17.1875 \nL 47.609375 17.1875 \nL 47.609375 0 \nL 37.796875 0 \nL 37.796875 17.1875 \nL 4.890625 17.1875 \nL 4.890625 26.703125 \nz\n\" id=\"DejaVuSans-52\"/>\n      </defs>\n      <g transform=\"translate(272.372794 401.198437)scale(0.1 -0.1)\">\n       <use xlink:href=\"#DejaVuSans-50\"/>\n       <use x=\"63.623047\" xlink:href=\"#DejaVuSans-48\"/>\n       <use x=\"127.246094\" xlink:href=\"#DejaVuSans-50\"/>\n       <use x=\"190.869141\" xlink:href=\"#DejaVuSans-48\"/>\n       <use x=\"254.492188\" xlink:href=\"#DejaVuSans-45\"/>\n       <use x=\"290.576172\" xlink:href=\"#DejaVuSans-48\"/>\n       <use x=\"354.199219\" xlink:href=\"#DejaVuSans-52\"/>\n      </g>\n     </g>\n    </g>\n    <g id=\"xtick_4\">\n     <g id=\"line2d_7\">\n      <path clip-path=\"url(#pee1613b20f)\" d=\"M 389.472136 386.6 \nL 389.472136 7.2 \n\" style=\"fill:none;stroke:#808080;stroke-linecap:square;stroke-opacity:0.2;\"/>\n     </g>\n     <g id=\"line2d_8\">\n      <g>\n       <use style=\"stroke:#000000;stroke-width:0.8;\" x=\"389.472136\" xlink:href=\"#m7cb73ef489\" y=\"386.6\"/>\n      </g>\n     </g>\n     <g id=\"text_4\">\n      <!-- 2020-05 -->\n      <defs>\n       <path d=\"M 10.796875 72.90625 \nL 49.515625 72.90625 \nL 49.515625 64.59375 \nL 19.828125 64.59375 \nL 19.828125 46.734375 \nQ 21.96875 47.46875 24.109375 47.828125 \nQ 26.265625 48.1875 28.421875 48.1875 \nQ 40.625 48.1875 47.75 41.5 \nQ 54.890625 34.8125 54.890625 23.390625 \nQ 54.890625 11.625 47.5625 5.09375 \nQ 40.234375 -1.421875 26.90625 -1.421875 \nQ 22.3125 -1.421875 17.546875 -0.640625 \nQ 12.796875 0.140625 7.71875 1.703125 \nL 7.71875 11.625 \nQ 12.109375 9.234375 16.796875 8.0625 \nQ 21.484375 6.890625 26.703125 6.890625 \nQ 35.15625 6.890625 40.078125 11.328125 \nQ 45.015625 15.765625 45.015625 23.390625 \nQ 45.015625 31 40.078125 35.4375 \nQ 35.15625 39.890625 26.703125 39.890625 \nQ 22.75 39.890625 18.8125 39.015625 \nQ 14.890625 38.140625 10.796875 36.28125 \nz\n\" id=\"DejaVuSans-53\"/>\n      </defs>\n      <g transform=\"translate(368.580729 401.198437)scale(0.1 -0.1)\">\n       <use xlink:href=\"#DejaVuSans-50\"/>\n       <use x=\"63.623047\" xlink:href=\"#DejaVuSans-48\"/>\n       <use x=\"127.246094\" xlink:href=\"#DejaVuSans-50\"/>\n       <use x=\"190.869141\" xlink:href=\"#DejaVuSans-48\"/>\n       <use x=\"254.492188\" xlink:href=\"#DejaVuSans-45\"/>\n       <use x=\"290.576172\" xlink:href=\"#DejaVuSans-48\"/>\n       <use x=\"354.199219\" xlink:href=\"#DejaVuSans-53\"/>\n      </g>\n     </g>\n    </g>\n    <g id=\"xtick_5\">\n     <g id=\"line2d_9\">\n      <path clip-path=\"url(#pee1613b20f)\" d=\"M 488.887003 386.6 \nL 488.887003 7.2 \n\" style=\"fill:none;stroke:#808080;stroke-linecap:square;stroke-opacity:0.2;\"/>\n     </g>\n     <g id=\"line2d_10\">\n      <g>\n       <use style=\"stroke:#000000;stroke-width:0.8;\" x=\"488.887003\" xlink:href=\"#m7cb73ef489\" y=\"386.6\"/>\n      </g>\n     </g>\n     <g id=\"text_5\">\n      <!-- 2020-06 -->\n      <defs>\n       <path d=\"M 33.015625 40.375 \nQ 26.375 40.375 22.484375 35.828125 \nQ 18.609375 31.296875 18.609375 23.390625 \nQ 18.609375 15.53125 22.484375 10.953125 \nQ 26.375 6.390625 33.015625 6.390625 \nQ 39.65625 6.390625 43.53125 10.953125 \nQ 47.40625 15.53125 47.40625 23.390625 \nQ 47.40625 31.296875 43.53125 35.828125 \nQ 39.65625 40.375 33.015625 40.375 \nz\nM 52.59375 71.296875 \nL 52.59375 62.3125 \nQ 48.875 64.0625 45.09375 64.984375 \nQ 41.3125 65.921875 37.59375 65.921875 \nQ 27.828125 65.921875 22.671875 59.328125 \nQ 17.53125 52.734375 16.796875 39.40625 \nQ 19.671875 43.65625 24.015625 45.921875 \nQ 28.375 48.1875 33.59375 48.1875 \nQ 44.578125 48.1875 50.953125 41.515625 \nQ 57.328125 34.859375 57.328125 23.390625 \nQ 57.328125 12.15625 50.6875 5.359375 \nQ 44.046875 -1.421875 33.015625 -1.421875 \nQ 20.359375 -1.421875 13.671875 8.265625 \nQ 6.984375 17.96875 6.984375 36.375 \nQ 6.984375 53.65625 15.1875 63.9375 \nQ 23.390625 74.21875 37.203125 74.21875 \nQ 40.921875 74.21875 44.703125 73.484375 \nQ 48.484375 72.75 52.59375 71.296875 \nz\n\" id=\"DejaVuSans-54\"/>\n      </defs>\n      <g transform=\"translate(467.995596 401.198437)scale(0.1 -0.1)\">\n       <use xlink:href=\"#DejaVuSans-50\"/>\n       <use x=\"63.623047\" xlink:href=\"#DejaVuSans-48\"/>\n       <use x=\"127.246094\" xlink:href=\"#DejaVuSans-50\"/>\n       <use x=\"190.869141\" xlink:href=\"#DejaVuSans-48\"/>\n       <use x=\"254.492188\" xlink:href=\"#DejaVuSans-45\"/>\n       <use x=\"290.576172\" xlink:href=\"#DejaVuSans-48\"/>\n       <use x=\"354.199219\" xlink:href=\"#DejaVuSans-54\"/>\n      </g>\n     </g>\n    </g>\n    <g id=\"xtick_6\">\n     <g id=\"line2d_11\">\n      <path clip-path=\"url(#pee1613b20f)\" d=\"M 585.094938 386.6 \nL 585.094938 7.2 \n\" style=\"fill:none;stroke:#808080;stroke-linecap:square;stroke-opacity:0.2;\"/>\n     </g>\n     <g id=\"line2d_12\">\n      <g>\n       <use style=\"stroke:#000000;stroke-width:0.8;\" x=\"585.094938\" xlink:href=\"#m7cb73ef489\" y=\"386.6\"/>\n      </g>\n     </g>\n     <g id=\"text_6\">\n      <!-- 2020-07 -->\n      <defs>\n       <path d=\"M 8.203125 72.90625 \nL 55.078125 72.90625 \nL 55.078125 68.703125 \nL 28.609375 0 \nL 18.3125 0 \nL 43.21875 64.59375 \nL 8.203125 64.59375 \nz\n\" id=\"DejaVuSans-55\"/>\n      </defs>\n      <g transform=\"translate(564.203532 401.198437)scale(0.1 -0.1)\">\n       <use xlink:href=\"#DejaVuSans-50\"/>\n       <use x=\"63.623047\" xlink:href=\"#DejaVuSans-48\"/>\n       <use x=\"127.246094\" xlink:href=\"#DejaVuSans-50\"/>\n       <use x=\"190.869141\" xlink:href=\"#DejaVuSans-48\"/>\n       <use x=\"254.492188\" xlink:href=\"#DejaVuSans-45\"/>\n       <use x=\"290.576172\" xlink:href=\"#DejaVuSans-48\"/>\n       <use x=\"354.199219\" xlink:href=\"#DejaVuSans-55\"/>\n      </g>\n     </g>\n    </g>\n    <g id=\"xtick_7\">\n     <g id=\"line2d_13\">\n      <path clip-path=\"url(#pee1613b20f)\" d=\"M 684.509805 386.6 \nL 684.509805 7.2 \n\" style=\"fill:none;stroke:#808080;stroke-linecap:square;stroke-opacity:0.2;\"/>\n     </g>\n     <g id=\"line2d_14\">\n      <g>\n       <use style=\"stroke:#000000;stroke-width:0.8;\" x=\"684.509805\" xlink:href=\"#m7cb73ef489\" y=\"386.6\"/>\n      </g>\n     </g>\n     <g id=\"text_7\">\n      <!-- 2020-08 -->\n      <defs>\n       <path d=\"M 31.78125 34.625 \nQ 24.75 34.625 20.71875 30.859375 \nQ 16.703125 27.09375 16.703125 20.515625 \nQ 16.703125 13.921875 20.71875 10.15625 \nQ 24.75 6.390625 31.78125 6.390625 \nQ 38.8125 6.390625 42.859375 10.171875 \nQ 46.921875 13.96875 46.921875 20.515625 \nQ 46.921875 27.09375 42.890625 30.859375 \nQ 38.875 34.625 31.78125 34.625 \nz\nM 21.921875 38.8125 \nQ 15.578125 40.375 12.03125 44.71875 \nQ 8.5 49.078125 8.5 55.328125 \nQ 8.5 64.0625 14.71875 69.140625 \nQ 20.953125 74.21875 31.78125 74.21875 \nQ 42.671875 74.21875 48.875 69.140625 \nQ 55.078125 64.0625 55.078125 55.328125 \nQ 55.078125 49.078125 51.53125 44.71875 \nQ 48 40.375 41.703125 38.8125 \nQ 48.828125 37.15625 52.796875 32.3125 \nQ 56.78125 27.484375 56.78125 20.515625 \nQ 56.78125 9.90625 50.3125 4.234375 \nQ 43.84375 -1.421875 31.78125 -1.421875 \nQ 19.734375 -1.421875 13.25 4.234375 \nQ 6.78125 9.90625 6.78125 20.515625 \nQ 6.78125 27.484375 10.78125 32.3125 \nQ 14.796875 37.15625 21.921875 38.8125 \nz\nM 18.3125 54.390625 \nQ 18.3125 48.734375 21.84375 45.5625 \nQ 25.390625 42.390625 31.78125 42.390625 \nQ 38.140625 42.390625 41.71875 45.5625 \nQ 45.3125 48.734375 45.3125 54.390625 \nQ 45.3125 60.0625 41.71875 63.234375 \nQ 38.140625 66.40625 31.78125 66.40625 \nQ 25.390625 66.40625 21.84375 63.234375 \nQ 18.3125 60.0625 18.3125 54.390625 \nz\n\" id=\"DejaVuSans-56\"/>\n      </defs>\n      <g transform=\"translate(663.618399 401.198437)scale(0.1 -0.1)\">\n       <use xlink:href=\"#DejaVuSans-50\"/>\n       <use x=\"63.623047\" xlink:href=\"#DejaVuSans-48\"/>\n       <use x=\"127.246094\" xlink:href=\"#DejaVuSans-50\"/>\n       <use x=\"190.869141\" xlink:href=\"#DejaVuSans-48\"/>\n       <use x=\"254.492188\" xlink:href=\"#DejaVuSans-45\"/>\n       <use x=\"290.576172\" xlink:href=\"#DejaVuSans-48\"/>\n       <use x=\"354.199219\" xlink:href=\"#DejaVuSans-56\"/>\n      </g>\n     </g>\n    </g>\n    <g id=\"text_8\">\n     <!-- ds -->\n     <defs>\n      <path d=\"M 45.40625 46.390625 \nL 45.40625 75.984375 \nL 54.390625 75.984375 \nL 54.390625 0 \nL 45.40625 0 \nL 45.40625 8.203125 \nQ 42.578125 3.328125 38.25 0.953125 \nQ 33.9375 -1.421875 27.875 -1.421875 \nQ 17.96875 -1.421875 11.734375 6.484375 \nQ 5.515625 14.40625 5.515625 27.296875 \nQ 5.515625 40.1875 11.734375 48.09375 \nQ 17.96875 56 27.875 56 \nQ 33.9375 56 38.25 53.625 \nQ 42.578125 51.265625 45.40625 46.390625 \nz\nM 14.796875 27.296875 \nQ 14.796875 17.390625 18.875 11.75 \nQ 22.953125 6.109375 30.078125 6.109375 \nQ 37.203125 6.109375 41.296875 11.75 \nQ 45.40625 17.390625 45.40625 27.296875 \nQ 45.40625 37.203125 41.296875 42.84375 \nQ 37.203125 48.484375 30.078125 48.484375 \nQ 22.953125 48.484375 18.875 42.84375 \nQ 14.796875 37.203125 14.796875 27.296875 \nz\n\" id=\"DejaVuSans-100\"/>\n      <path d=\"M 44.28125 53.078125 \nL 44.28125 44.578125 \nQ 40.484375 46.53125 36.375 47.5 \nQ 32.28125 48.484375 27.875 48.484375 \nQ 21.1875 48.484375 17.84375 46.4375 \nQ 14.5 44.390625 14.5 40.28125 \nQ 14.5 37.15625 16.890625 35.375 \nQ 19.28125 33.59375 26.515625 31.984375 \nL 29.59375 31.296875 \nQ 39.15625 29.25 43.1875 25.515625 \nQ 47.21875 21.78125 47.21875 15.09375 \nQ 47.21875 7.46875 41.1875 3.015625 \nQ 35.15625 -1.421875 24.609375 -1.421875 \nQ 20.21875 -1.421875 15.453125 -0.5625 \nQ 10.6875 0.296875 5.421875 2 \nL 5.421875 11.28125 \nQ 10.40625 8.6875 15.234375 7.390625 \nQ 20.0625 6.109375 24.8125 6.109375 \nQ 31.15625 6.109375 34.5625 8.28125 \nQ 37.984375 10.453125 37.984375 14.40625 \nQ 37.984375 18.0625 35.515625 20.015625 \nQ 33.0625 21.96875 24.703125 23.78125 \nL 21.578125 24.515625 \nQ 13.234375 26.265625 9.515625 29.90625 \nQ 5.8125 33.546875 5.8125 39.890625 \nQ 5.8125 47.609375 11.28125 51.796875 \nQ 16.75 56 26.8125 56 \nQ 31.78125 56 36.171875 55.265625 \nQ 40.578125 54.546875 44.28125 53.078125 \nz\n\" id=\"DejaVuSans-115\"/>\n     </defs>\n     <g transform=\"translate(372.46897 414.876562)scale(0.1 -0.1)\">\n      <use xlink:href=\"#DejaVuSans-100\"/>\n      <use x=\"63.476562\" xlink:href=\"#DejaVuSans-115\"/>\n     </g>\n    </g>\n   </g>\n   <g id=\"matplotlib.axis_2\">\n    <g id=\"ytick_1\">\n     <g id=\"line2d_15\">\n      <path clip-path=\"url(#pee1613b20f)\" d=\"M 66.053125 365.194694 \nL 690.442628 365.194694 \n\" style=\"fill:none;stroke:#808080;stroke-linecap:square;stroke-opacity:0.2;\"/>\n     </g>\n     <g id=\"line2d_16\">\n      <defs>\n       <path d=\"M 0 0 \nL -3.5 0 \n\" id=\"m310ceb9a03\" style=\"stroke:#000000;stroke-width:0.8;\"/>\n      </defs>\n      <g>\n       <use style=\"stroke:#000000;stroke-width:0.8;\" x=\"66.053125\" xlink:href=\"#m310ceb9a03\" y=\"365.194694\"/>\n      </g>\n     </g>\n     <g id=\"text_9\">\n      <!-- 0 -->\n      <g transform=\"translate(52.690625 368.993913)scale(0.1 -0.1)\">\n       <use xlink:href=\"#DejaVuSans-48\"/>\n      </g>\n     </g>\n    </g>\n    <g id=\"ytick_2\">\n     <g id=\"line2d_17\">\n      <path clip-path=\"url(#pee1613b20f)\" d=\"M 66.053125 307.881652 \nL 690.442628 307.881652 \n\" style=\"fill:none;stroke:#808080;stroke-linecap:square;stroke-opacity:0.2;\"/>\n     </g>\n     <g id=\"line2d_18\">\n      <g>\n       <use style=\"stroke:#000000;stroke-width:0.8;\" x=\"66.053125\" xlink:href=\"#m310ceb9a03\" y=\"307.881652\"/>\n      </g>\n     </g>\n     <g id=\"text_10\">\n      <!-- 100000 -->\n      <defs>\n       <path d=\"M 12.40625 8.296875 \nL 28.515625 8.296875 \nL 28.515625 63.921875 \nL 10.984375 60.40625 \nL 10.984375 69.390625 \nL 28.421875 72.90625 \nL 38.28125 72.90625 \nL 38.28125 8.296875 \nL 54.390625 8.296875 \nL 54.390625 0 \nL 12.40625 0 \nz\n\" id=\"DejaVuSans-49\"/>\n      </defs>\n      <g transform=\"translate(20.878125 311.68087)scale(0.1 -0.1)\">\n       <use xlink:href=\"#DejaVuSans-49\"/>\n       <use x=\"63.623047\" xlink:href=\"#DejaVuSans-48\"/>\n       <use x=\"127.246094\" xlink:href=\"#DejaVuSans-48\"/>\n       <use x=\"190.869141\" xlink:href=\"#DejaVuSans-48\"/>\n       <use x=\"254.492188\" xlink:href=\"#DejaVuSans-48\"/>\n       <use x=\"318.115234\" xlink:href=\"#DejaVuSans-48\"/>\n      </g>\n     </g>\n    </g>\n    <g id=\"ytick_3\">\n     <g id=\"line2d_19\">\n      <path clip-path=\"url(#pee1613b20f)\" d=\"M 66.053125 250.568609 \nL 690.442628 250.568609 \n\" style=\"fill:none;stroke:#808080;stroke-linecap:square;stroke-opacity:0.2;\"/>\n     </g>\n     <g id=\"line2d_20\">\n      <g>\n       <use style=\"stroke:#000000;stroke-width:0.8;\" x=\"66.053125\" xlink:href=\"#m310ceb9a03\" y=\"250.568609\"/>\n      </g>\n     </g>\n     <g id=\"text_11\">\n      <!-- 200000 -->\n      <g transform=\"translate(20.878125 254.367828)scale(0.1 -0.1)\">\n       <use xlink:href=\"#DejaVuSans-50\"/>\n       <use x=\"63.623047\" xlink:href=\"#DejaVuSans-48\"/>\n       <use x=\"127.246094\" xlink:href=\"#DejaVuSans-48\"/>\n       <use x=\"190.869141\" xlink:href=\"#DejaVuSans-48\"/>\n       <use x=\"254.492188\" xlink:href=\"#DejaVuSans-48\"/>\n       <use x=\"318.115234\" xlink:href=\"#DejaVuSans-48\"/>\n      </g>\n     </g>\n    </g>\n    <g id=\"ytick_4\">\n     <g id=\"line2d_21\">\n      <path clip-path=\"url(#pee1613b20f)\" d=\"M 66.053125 193.255566 \nL 690.442628 193.255566 \n\" style=\"fill:none;stroke:#808080;stroke-linecap:square;stroke-opacity:0.2;\"/>\n     </g>\n     <g id=\"line2d_22\">\n      <g>\n       <use style=\"stroke:#000000;stroke-width:0.8;\" x=\"66.053125\" xlink:href=\"#m310ceb9a03\" y=\"193.255566\"/>\n      </g>\n     </g>\n     <g id=\"text_12\">\n      <!-- 300000 -->\n      <g transform=\"translate(20.878125 197.054785)scale(0.1 -0.1)\">\n       <use xlink:href=\"#DejaVuSans-51\"/>\n       <use x=\"63.623047\" xlink:href=\"#DejaVuSans-48\"/>\n       <use x=\"127.246094\" xlink:href=\"#DejaVuSans-48\"/>\n       <use x=\"190.869141\" xlink:href=\"#DejaVuSans-48\"/>\n       <use x=\"254.492188\" xlink:href=\"#DejaVuSans-48\"/>\n       <use x=\"318.115234\" xlink:href=\"#DejaVuSans-48\"/>\n      </g>\n     </g>\n    </g>\n    <g id=\"ytick_5\">\n     <g id=\"line2d_23\">\n      <path clip-path=\"url(#pee1613b20f)\" d=\"M 66.053125 135.942524 \nL 690.442628 135.942524 \n\" style=\"fill:none;stroke:#808080;stroke-linecap:square;stroke-opacity:0.2;\"/>\n     </g>\n     <g id=\"line2d_24\">\n      <g>\n       <use style=\"stroke:#000000;stroke-width:0.8;\" x=\"66.053125\" xlink:href=\"#m310ceb9a03\" y=\"135.942524\"/>\n      </g>\n     </g>\n     <g id=\"text_13\">\n      <!-- 400000 -->\n      <g transform=\"translate(20.878125 139.741742)scale(0.1 -0.1)\">\n       <use xlink:href=\"#DejaVuSans-52\"/>\n       <use x=\"63.623047\" xlink:href=\"#DejaVuSans-48\"/>\n       <use x=\"127.246094\" xlink:href=\"#DejaVuSans-48\"/>\n       <use x=\"190.869141\" xlink:href=\"#DejaVuSans-48\"/>\n       <use x=\"254.492188\" xlink:href=\"#DejaVuSans-48\"/>\n       <use x=\"318.115234\" xlink:href=\"#DejaVuSans-48\"/>\n      </g>\n     </g>\n    </g>\n    <g id=\"ytick_6\">\n     <g id=\"line2d_25\">\n      <path clip-path=\"url(#pee1613b20f)\" d=\"M 66.053125 78.629481 \nL 690.442628 78.629481 \n\" style=\"fill:none;stroke:#808080;stroke-linecap:square;stroke-opacity:0.2;\"/>\n     </g>\n     <g id=\"line2d_26\">\n      <g>\n       <use style=\"stroke:#000000;stroke-width:0.8;\" x=\"66.053125\" xlink:href=\"#m310ceb9a03\" y=\"78.629481\"/>\n      </g>\n     </g>\n     <g id=\"text_14\">\n      <!-- 500000 -->\n      <g transform=\"translate(20.878125 82.4287)scale(0.1 -0.1)\">\n       <use xlink:href=\"#DejaVuSans-53\"/>\n       <use x=\"63.623047\" xlink:href=\"#DejaVuSans-48\"/>\n       <use x=\"127.246094\" xlink:href=\"#DejaVuSans-48\"/>\n       <use x=\"190.869141\" xlink:href=\"#DejaVuSans-48\"/>\n       <use x=\"254.492188\" xlink:href=\"#DejaVuSans-48\"/>\n       <use x=\"318.115234\" xlink:href=\"#DejaVuSans-48\"/>\n      </g>\n     </g>\n    </g>\n    <g id=\"ytick_7\">\n     <g id=\"line2d_27\">\n      <path clip-path=\"url(#pee1613b20f)\" d=\"M 66.053125 21.316438 \nL 690.442628 21.316438 \n\" style=\"fill:none;stroke:#808080;stroke-linecap:square;stroke-opacity:0.2;\"/>\n     </g>\n     <g id=\"line2d_28\">\n      <g>\n       <use style=\"stroke:#000000;stroke-width:0.8;\" x=\"66.053125\" xlink:href=\"#m310ceb9a03\" y=\"21.316438\"/>\n      </g>\n     </g>\n     <g id=\"text_15\">\n      <!-- 600000 -->\n      <g transform=\"translate(20.878125 25.115657)scale(0.1 -0.1)\">\n       <use xlink:href=\"#DejaVuSans-54\"/>\n       <use x=\"63.623047\" xlink:href=\"#DejaVuSans-48\"/>\n       <use x=\"127.246094\" xlink:href=\"#DejaVuSans-48\"/>\n       <use x=\"190.869141\" xlink:href=\"#DejaVuSans-48\"/>\n       <use x=\"254.492188\" xlink:href=\"#DejaVuSans-48\"/>\n       <use x=\"318.115234\" xlink:href=\"#DejaVuSans-48\"/>\n      </g>\n     </g>\n    </g>\n    <g id=\"text_16\">\n     <!-- y -->\n     <defs>\n      <path d=\"M 32.171875 -5.078125 \nQ 28.375 -14.84375 24.75 -17.8125 \nQ 21.140625 -20.796875 15.09375 -20.796875 \nL 7.90625 -20.796875 \nL 7.90625 -13.28125 \nL 13.1875 -13.28125 \nQ 16.890625 -13.28125 18.9375 -11.515625 \nQ 21 -9.765625 23.484375 -3.21875 \nL 25.09375 0.875 \nL 2.984375 54.6875 \nL 12.5 54.6875 \nL 29.59375 11.921875 \nL 46.6875 54.6875 \nL 56.203125 54.6875 \nz\n\" id=\"DejaVuSans-121\"/>\n     </defs>\n     <g transform=\"translate(14.798438 199.859375)rotate(-90)scale(0.1 -0.1)\">\n      <use xlink:href=\"#DejaVuSans-121\"/>\n     </g>\n    </g>\n   </g>\n   <g id=\"line2d_29\">\n    <defs>\n     <path d=\"M 0 1.5 \nC 0.397805 1.5 0.77937 1.341951 1.06066 1.06066 \nC 1.341951 0.77937 1.5 0.397805 1.5 0 \nC 1.5 -0.397805 1.341951 -0.77937 1.06066 -1.06066 \nC 0.77937 -1.341951 0.397805 -1.5 0 -1.5 \nC -0.397805 -1.5 -0.77937 -1.341951 -1.06066 -1.06066 \nC -1.341951 -0.77937 -1.5 -0.397805 -1.5 0 \nC -1.5 0.397805 -1.341951 0.77937 -1.06066 1.06066 \nC -0.77937 1.341951 -0.397805 1.5 0 1.5 \nz\n\" id=\"mc1ff64e259\" style=\"stroke:#000000;\"/>\n    </defs>\n    <g clip-path=\"url(#pee1613b20f)\">\n     <use style=\"stroke:#000000;\" x=\"94.434466\" xlink:href=\"#mc1ff64e259\" y=\"365.194121\"/>\n     <use style=\"stroke:#000000;\" x=\"97.641397\" xlink:href=\"#mc1ff64e259\" y=\"365.194121\"/>\n     <use style=\"stroke:#000000;\" x=\"100.848328\" xlink:href=\"#mc1ff64e259\" y=\"365.194121\"/>\n     <use style=\"stroke:#000000;\" x=\"104.05526\" xlink:href=\"#mc1ff64e259\" y=\"365.193548\"/>\n     <use style=\"stroke:#000000;\" x=\"107.262191\" xlink:href=\"#mc1ff64e259\" y=\"365.192975\"/>\n     <use style=\"stroke:#000000;\" x=\"110.469122\" xlink:href=\"#mc1ff64e259\" y=\"365.192975\"/>\n     <use style=\"stroke:#000000;\" x=\"113.676053\" xlink:href=\"#mc1ff64e259\" y=\"365.192975\"/>\n     <use style=\"stroke:#000000;\" x=\"116.882984\" xlink:href=\"#mc1ff64e259\" y=\"365.192975\"/>\n     <use style=\"stroke:#000000;\" x=\"120.089916\" xlink:href=\"#mc1ff64e259\" y=\"365.192975\"/>\n     <use style=\"stroke:#000000;\" x=\"123.296847\" xlink:href=\"#mc1ff64e259\" y=\"365.192975\"/>\n     <use style=\"stroke:#000000;\" x=\"126.503778\" xlink:href=\"#mc1ff64e259\" y=\"365.192975\"/>\n     <use style=\"stroke:#000000;\" x=\"129.710709\" xlink:href=\"#mc1ff64e259\" y=\"365.192975\"/>\n     <use style=\"stroke:#000000;\" x=\"132.91764\" xlink:href=\"#mc1ff64e259\" y=\"365.192975\"/>\n     <use style=\"stroke:#000000;\" x=\"136.124572\" xlink:href=\"#mc1ff64e259\" y=\"365.192975\"/>\n     <use style=\"stroke:#000000;\" x=\"139.331503\" xlink:href=\"#mc1ff64e259\" y=\"365.192975\"/>\n     <use style=\"stroke:#000000;\" x=\"142.538434\" xlink:href=\"#mc1ff64e259\" y=\"365.192975\"/>\n     <use style=\"stroke:#000000;\" x=\"145.745365\" xlink:href=\"#mc1ff64e259\" y=\"365.192975\"/>\n     <use style=\"stroke:#000000;\" x=\"148.952296\" xlink:href=\"#mc1ff64e259\" y=\"365.192975\"/>\n     <use style=\"stroke:#000000;\" x=\"152.159228\" xlink:href=\"#mc1ff64e259\" y=\"365.192975\"/>\n     <use style=\"stroke:#000000;\" x=\"155.366159\" xlink:href=\"#mc1ff64e259\" y=\"365.192975\"/>\n     <use style=\"stroke:#000000;\" x=\"158.57309\" xlink:href=\"#mc1ff64e259\" y=\"365.192975\"/>\n     <use style=\"stroke:#000000;\" x=\"161.780021\" xlink:href=\"#mc1ff64e259\" y=\"365.192975\"/>\n     <use style=\"stroke:#000000;\" x=\"164.986952\" xlink:href=\"#mc1ff64e259\" y=\"365.192975\"/>\n     <use style=\"stroke:#000000;\" x=\"168.193883\" xlink:href=\"#mc1ff64e259\" y=\"365.192975\"/>\n     <use style=\"stroke:#000000;\" x=\"171.400815\" xlink:href=\"#mc1ff64e259\" y=\"365.192975\"/>\n     <use style=\"stroke:#000000;\" x=\"174.607746\" xlink:href=\"#mc1ff64e259\" y=\"365.192975\"/>\n     <use style=\"stroke:#000000;\" x=\"177.814677\" xlink:href=\"#mc1ff64e259\" y=\"365.192975\"/>\n     <use style=\"stroke:#000000;\" x=\"181.021608\" xlink:href=\"#mc1ff64e259\" y=\"365.192975\"/>\n     <use style=\"stroke:#000000;\" x=\"184.228539\" xlink:href=\"#mc1ff64e259\" y=\"365.192975\"/>\n     <use style=\"stroke:#000000;\" x=\"187.435471\" xlink:href=\"#mc1ff64e259\" y=\"365.192975\"/>\n     <use style=\"stroke:#000000;\" x=\"190.642402\" xlink:href=\"#mc1ff64e259\" y=\"365.192975\"/>\n     <use style=\"stroke:#000000;\" x=\"193.849333\" xlink:href=\"#mc1ff64e259\" y=\"365.192975\"/>\n     <use style=\"stroke:#000000;\" x=\"197.056264\" xlink:href=\"#mc1ff64e259\" y=\"365.191829\"/>\n     <use style=\"stroke:#000000;\" x=\"200.263195\" xlink:href=\"#mc1ff64e259\" y=\"365.191256\"/>\n     <use style=\"stroke:#000000;\" x=\"203.470127\" xlink:href=\"#mc1ff64e259\" y=\"365.178647\"/>\n     <use style=\"stroke:#000000;\" x=\"206.677058\" xlink:href=\"#mc1ff64e259\" y=\"365.177501\"/>\n     <use style=\"stroke:#000000;\" x=\"209.883989\" xlink:href=\"#mc1ff64e259\" y=\"365.176927\"/>\n     <use style=\"stroke:#000000;\" x=\"213.09092\" xlink:href=\"#mc1ff64e259\" y=\"365.175208\"/>\n     <use style=\"stroke:#000000;\" x=\"216.297851\" xlink:href=\"#mc1ff64e259\" y=\"365.172342\"/>\n     <use style=\"stroke:#000000;\" x=\"219.504783\" xlink:href=\"#mc1ff64e259\" y=\"365.167184\"/>\n     <use style=\"stroke:#000000;\" x=\"222.711714\" xlink:href=\"#mc1ff64e259\" y=\"365.158587\"/>\n     <use style=\"stroke:#000000;\" x=\"225.918645\" xlink:href=\"#mc1ff64e259\" y=\"365.154002\"/>\n     <use style=\"stroke:#000000;\" x=\"229.125576\" xlink:href=\"#mc1ff64e259\" y=\"365.148271\"/>\n     <use style=\"stroke:#000000;\" x=\"232.332507\" xlink:href=\"#mc1ff64e259\" y=\"365.14254\"/>\n     <use style=\"stroke:#000000;\" x=\"235.539438\" xlink:href=\"#mc1ff64e259\" y=\"365.136235\"/>\n     <use style=\"stroke:#000000;\" x=\"238.74637\" xlink:href=\"#mc1ff64e259\" y=\"365.130504\"/>\n     <use style=\"stroke:#000000;\" x=\"241.953301\" xlink:href=\"#mc1ff64e259\" y=\"365.12248\"/>\n     <use style=\"stroke:#000000;\" x=\"245.160232\" xlink:href=\"#mc1ff64e259\" y=\"365.111017\"/>\n     <use style=\"stroke:#000000;\" x=\"248.367163\" xlink:href=\"#mc1ff64e259\" y=\"365.096689\"/>\n     <use style=\"stroke:#000000;\" x=\"251.574094\" xlink:href=\"#mc1ff64e259\" y=\"365.081215\"/>\n     <use style=\"stroke:#000000;\" x=\"254.781026\" xlink:href=\"#mc1ff64e259\" y=\"365.047973\"/>\n     <use style=\"stroke:#000000;\" x=\"257.987957\" xlink:href=\"#mc1ff64e259\" y=\"365.003269\"/>\n     <use style=\"stroke:#000000;\" x=\"261.194888\" xlink:href=\"#mc1ff64e259\" y=\"364.963723\"/>\n     <use style=\"stroke:#000000;\" x=\"264.401819\" xlink:href=\"#mc1ff64e259\" y=\"364.909849\"/>\n     <use style=\"stroke:#000000;\" x=\"267.60875\" xlink:href=\"#mc1ff64e259\" y=\"364.867437\"/>\n     <use style=\"stroke:#000000;\" x=\"270.815682\" xlink:href=\"#mc1ff64e259\" y=\"364.818148\"/>\n     <use style=\"stroke:#000000;\" x=\"274.022613\" xlink:href=\"#mc1ff64e259\" y=\"364.776309\"/>\n     <use style=\"stroke:#000000;\" x=\"277.229544\" xlink:href=\"#mc1ff64e259\" y=\"364.68862\"/>\n     <use style=\"stroke:#000000;\" x=\"280.436475\" xlink:href=\"#mc1ff64e259\" y=\"364.610675\"/>\n     <use style=\"stroke:#000000;\" x=\"283.643406\" xlink:href=\"#mc1ff64e259\" y=\"364.541899\"/>\n     <use style=\"stroke:#000000;\" x=\"286.850338\" xlink:href=\"#mc1ff64e259\" y=\"364.434723\"/>\n     <use style=\"stroke:#000000;\" x=\"290.057269\" xlink:href=\"#mc1ff64e259\" y=\"364.257626\"/>\n     <use style=\"stroke:#000000;\" x=\"293.2642\" xlink:href=\"#mc1ff64e259\" y=\"364.014619\"/>\n     <use style=\"stroke:#000000;\" x=\"296.471131\" xlink:href=\"#mc1ff64e259\" y=\"363.736077\"/>\n     <use style=\"stroke:#000000;\" x=\"299.678062\" xlink:href=\"#mc1ff64e259\" y=\"363.415124\"/>\n     <use style=\"stroke:#000000;\" x=\"302.884994\" xlink:href=\"#mc1ff64e259\" y=\"363.083282\"/>\n     <use style=\"stroke:#000000;\" x=\"306.091925\" xlink:href=\"#mc1ff64e259\" y=\"362.734246\"/>\n     <use style=\"stroke:#000000;\" x=\"309.298856\" xlink:href=\"#mc1ff64e259\" y=\"362.45685\"/>\n     <use style=\"stroke:#000000;\" x=\"312.505787\" xlink:href=\"#mc1ff64e259\" y=\"362.128447\"/>\n     <use style=\"stroke:#000000;\" x=\"315.712718\" xlink:href=\"#mc1ff64e259\" y=\"361.804628\"/>\n     <use style=\"stroke:#000000;\" x=\"318.919649\" xlink:href=\"#mc1ff64e259\" y=\"361.338673\"/>\n     <use style=\"stroke:#000000;\" x=\"322.126581\" xlink:href=\"#mc1ff64e259\" y=\"360.839476\"/>\n     <use style=\"stroke:#000000;\" x=\"325.333512\" xlink:href=\"#mc1ff64e259\" y=\"360.350023\"/>\n     <use style=\"stroke:#000000;\" x=\"328.540443\" xlink:href=\"#mc1ff64e259\" y=\"359.91559\"/>\n     <use style=\"stroke:#000000;\" x=\"331.747374\" xlink:href=\"#mc1ff64e259\" y=\"359.203189\"/>\n     <use style=\"stroke:#000000;\" x=\"334.954305\" xlink:href=\"#mc1ff64e259\" y=\"358.612291\"/>\n     <use style=\"stroke:#000000;\" x=\"338.161237\" xlink:href=\"#mc1ff64e259\" y=\"358.104498\"/>\n     <use style=\"stroke:#000000;\" x=\"341.368168\" xlink:href=\"#mc1ff64e259\" y=\"357.496407\"/>\n     <use style=\"stroke:#000000;\" x=\"344.575099\" xlink:href=\"#mc1ff64e259\" y=\"356.96798\"/>\n     <use style=\"stroke:#000000;\" x=\"347.78203\" xlink:href=\"#mc1ff64e259\" y=\"356.182218\"/>\n     <use style=\"stroke:#000000;\" x=\"350.988961\" xlink:href=\"#mc1ff64e259\" y=\"355.276672\"/>\n     <use style=\"stroke:#000000;\" x=\"354.195893\" xlink:href=\"#mc1ff64e259\" y=\"354.566564\"/>\n     <use style=\"stroke:#000000;\" x=\"357.402824\" xlink:href=\"#mc1ff64e259\" y=\"353.685662\"/>\n     <use style=\"stroke:#000000;\" x=\"360.609755\" xlink:href=\"#mc1ff64e259\" y=\"352.945178\"/>\n     <use style=\"stroke:#000000;\" x=\"363.816686\" xlink:href=\"#mc1ff64e259\" y=\"351.989769\"/>\n     <use style=\"stroke:#000000;\" x=\"367.023617\" xlink:href=\"#mc1ff64e259\" y=\"351.182802\"/>\n     <use style=\"stroke:#000000;\" x=\"370.230549\" xlink:href=\"#mc1ff64e259\" y=\"350.131107\"/>\n     <use style=\"stroke:#000000;\" x=\"373.43748\" xlink:href=\"#mc1ff64e259\" y=\"349.210087\"/>\n     <use style=\"stroke:#000000;\" x=\"376.644411\" xlink:href=\"#mc1ff64e259\" y=\"348.311418\"/>\n     <use style=\"stroke:#000000;\" x=\"379.851342\" xlink:href=\"#mc1ff64e259\" y=\"347.221324\"/>\n     <use style=\"stroke:#000000;\" x=\"383.058273\" xlink:href=\"#mc1ff64e259\" y=\"346.244137\"/>\n     <use style=\"stroke:#000000;\" x=\"386.265205\" xlink:href=\"#mc1ff64e259\" y=\"345.211929\"/>\n     <use style=\"stroke:#000000;\" x=\"389.472136\" xlink:href=\"#mc1ff64e259\" y=\"343.838708\"/>\n     <use style=\"stroke:#000000;\" x=\"392.679067\" xlink:href=\"#mc1ff64e259\" y=\"342.369202\"/>\n     <use style=\"stroke:#000000;\" x=\"395.885998\" xlink:href=\"#mc1ff64e259\" y=\"340.677321\"/>\n     <use style=\"stroke:#000000;\" x=\"399.092929\" xlink:href=\"#mc1ff64e259\" y=\"338.581956\"/>\n     <use style=\"stroke:#000000;\" x=\"402.29986\" xlink:href=\"#mc1ff64e259\" y=\"336.879186\"/>\n     <use style=\"stroke:#000000;\" x=\"405.506792\" xlink:href=\"#mc1ff64e259\" y=\"334.81477\"/>\n     <use style=\"stroke:#000000;\" x=\"408.713723\" xlink:href=\"#mc1ff64e259\" y=\"332.898222\"/>\n     <use style=\"stroke:#000000;\" x=\"411.920654\" xlink:href=\"#mc1ff64e259\" y=\"330.984539\"/>\n     <use style=\"stroke:#000000;\" x=\"415.127585\" xlink:href=\"#mc1ff64e259\" y=\"329.16485\"/>\n     <use style=\"stroke:#000000;\" x=\"418.334516\" xlink:href=\"#mc1ff64e259\" y=\"326.694085\"/>\n     <use style=\"stroke:#000000;\" x=\"421.541448\" xlink:href=\"#mc1ff64e259\" y=\"324.6354\"/>\n     <use style=\"stroke:#000000;\" x=\"424.748379\" xlink:href=\"#mc1ff64e259\" y=\"322.59391\"/>\n     <use style=\"stroke:#000000;\" x=\"427.95531\" xlink:href=\"#mc1ff64e259\" y=\"320.458426\"/>\n     <use style=\"stroke:#000000;\" x=\"431.162241\" xlink:href=\"#mc1ff64e259\" y=\"318.171062\"/>\n     <use style=\"stroke:#000000;\" x=\"434.369172\" xlink:href=\"#mc1ff64e259\" y=\"315.988582\"/>\n     <use style=\"stroke:#000000;\" x=\"437.576104\" xlink:href=\"#mc1ff64e259\" y=\"313.240994\"/>\n     <use style=\"stroke:#000000;\" x=\"440.783035\" xlink:href=\"#mc1ff64e259\" y=\"310.347259\"/>\n     <use style=\"stroke:#000000;\" x=\"443.989966\" xlink:href=\"#mc1ff64e259\" y=\"307.694811\"/>\n     <use style=\"stroke:#000000;\" x=\"447.196897\" xlink:href=\"#mc1ff64e259\" y=\"304.167767\"/>\n     <use style=\"stroke:#000000;\" x=\"450.403828\" xlink:href=\"#mc1ff64e259\" y=\"300.889461\"/>\n     <use style=\"stroke:#000000;\" x=\"453.61076\" xlink:href=\"#mc1ff64e259\" y=\"297.437496\"/>\n     <use style=\"stroke:#000000;\" x=\"456.817691\" xlink:href=\"#mc1ff64e259\" y=\"293.691515\"/>\n     <use style=\"stroke:#000000;\" x=\"460.024622\" xlink:href=\"#mc1ff64e259\" y=\"289.871601\"/>\n     <use style=\"stroke:#000000;\" x=\"463.231553\" xlink:href=\"#mc1ff64e259\" y=\"285.794924\"/>\n     <use style=\"stroke:#000000;\" x=\"466.438484\" xlink:href=\"#mc1ff64e259\" y=\"282.118866\"/>\n     <use style=\"stroke:#000000;\" x=\"469.645416\" xlink:href=\"#mc1ff64e259\" y=\"278.733384\"/>\n     <use style=\"stroke:#000000;\" x=\"472.852347\" xlink:href=\"#mc1ff64e259\" y=\"274.580481\"/>\n     <use style=\"stroke:#000000;\" x=\"476.059278\" xlink:href=\"#mc1ff64e259\" y=\"270.422993\"/>\n     <use style=\"stroke:#000000;\" x=\"479.266209\" xlink:href=\"#mc1ff64e259\" y=\"265.758858\"/>\n     <use style=\"stroke:#000000;\" x=\"482.47314\" xlink:href=\"#mc1ff64e259\" y=\"260.965195\"/>\n     <use style=\"stroke:#000000;\" x=\"485.680071\" xlink:href=\"#mc1ff64e259\" y=\"255.927952\"/>\n     <use style=\"stroke:#000000;\" x=\"488.887003\" xlink:href=\"#mc1ff64e259\" y=\"251.501665\"/>\n     <use style=\"stroke:#000000;\" x=\"492.093934\" xlink:href=\"#mc1ff64e259\" y=\"246.449521\"/>\n     <use style=\"stroke:#000000;\" x=\"495.300865\" xlink:href=\"#mc1ff64e259\" y=\"240.89646\"/>\n     <use style=\"stroke:#000000;\" x=\"498.507796\" xlink:href=\"#mc1ff64e259\" y=\"235.252845\"/>\n     <use style=\"stroke:#000000;\" x=\"501.714727\" xlink:href=\"#mc1ff64e259\" y=\"229.824153\"/>\n     <use style=\"stroke:#000000;\" x=\"504.921659\" xlink:href=\"#mc1ff64e259\" y=\"223.859012\"/>\n     <use style=\"stroke:#000000;\" x=\"508.12859\" xlink:href=\"#mc1ff64e259\" y=\"217.622206\"/>\n    </g>\n   </g>\n   <g id=\"line2d_30\">\n    <path clip-path=\"url(#pee1613b20f)\" d=\"M 94.434466 367.103546 \nL 100.848328 365.974288 \nL 104.05526 365.151343 \nL 107.262191 364.801369 \nL 110.469122 364.037644 \nL 113.676053 363.602726 \nL 116.882984 363.449995 \nL 123.296847 363.97776 \nL 126.503778 363.94477 \nL 129.710709 364.35596 \nL 132.91764 364.35562 \nL 139.331503 364.975608 \nL 142.538434 365.491613 \nL 145.745365 365.782665 \nL 148.952296 365.753689 \nL 152.159228 366.232857 \nL 164.986952 366.516243 \nL 171.400815 366.168999 \nL 174.607746 366.672638 \nL 181.021608 366.891406 \nL 184.228539 366.585113 \nL 187.435471 366.16684 \nL 193.849333 365.06177 \nL 197.056264 365.193485 \nL 200.263195 364.799716 \nL 203.470127 364.24004 \nL 206.677058 363.414214 \nL 209.883989 362.85961 \nL 213.09092 362.662977 \nL 216.297851 362.708026 \nL 219.504783 363.580043 \nL 222.711714 363.897333 \nL 225.918645 363.996716 \nL 229.125576 363.824659 \nL 232.332507 363.907272 \nL 238.74637 364.639428 \nL 241.953301 365.633591 \nL 245.160232 365.953035 \nL 248.367163 366.0852 \nL 251.574094 365.999631 \nL 257.987957 366.164066 \nL 261.194888 366.07858 \nL 264.401819 366.47232 \nL 274.022613 366.092146 \nL 277.229544 366.044851 \nL 280.436475 365.786557 \nL 283.643406 365.218539 \nL 286.850338 365.13791 \nL 296.471131 363.60219 \nL 299.678062 362.949508 \nL 306.091925 361.152959 \nL 312.505787 360.752201 \nL 315.712718 360.907959 \nL 318.919649 360.918472 \nL 322.126581 360.408932 \nL 328.540443 358.843303 \nL 331.747374 358.924997 \nL 338.161237 358.366329 \nL 341.368168 357.78424 \nL 344.575099 357.056998 \nL 350.988961 355.159612 \nL 354.195893 354.905757 \nL 357.402824 354.192101 \nL 360.609755 353.357335 \nL 367.023617 351.125499 \nL 373.43748 349.030682 \nL 376.644411 348.546007 \nL 379.851342 347.406205 \nL 383.058273 346.073138 \nL 386.265205 344.494663 \nL 392.679067 341.641141 \nL 395.885998 340.052961 \nL 399.092929 338.919939 \nL 402.29986 337.011205 \nL 405.506792 335.292406 \nL 408.713723 333.813401 \nL 411.920654 332.860445 \nL 415.127585 331.295937 \nL 418.334516 329.542394 \nL 421.541448 328.192008 \nL 424.748379 326.302607 \nL 431.162241 319.179346 \nL 437.576104 312.609407 \nL 440.783035 308.956001 \nL 443.989966 305.736384 \nL 456.817691 290.946755 \nL 463.231553 282.886742 \nL 466.438484 279.452338 \nL 472.852347 271.929727 \nL 479.266209 263.640523 \nL 485.680071 254.733088 \nL 488.887003 250.962078 \nL 495.300865 242.388191 \nL 501.714727 233.128751 \nL 504.921659 228.817777 \nL 508.12859 224.887047 \nL 511.335521 221.926244 \nL 514.542452 218.552562 \nL 517.749383 214.989129 \nL 524.163246 207.254237 \nL 527.370177 203.644203 \nL 530.577108 200.220171 \nL 533.784039 197.497957 \nL 536.990971 194.164978 \nL 540.197902 190.605559 \nL 546.611764 183.007856 \nL 553.025627 175.491527 \nL 556.232558 172.18724 \nL 572.267214 152.665981 \nL 575.474145 148.435898 \nL 578.681076 144.633615 \nL 591.508801 127.38311 \nL 597.922663 118.051972 \nL 604.336526 110.146902 \nL 613.957319 99.596176 \nL 617.16425 95.783204 \nL 620.371182 91.796907 \nL 629.991975 82.110258 \nL 636.405837 75.205639 \nL 642.8197 67.525697 \nL 646.026631 64.339874 \nL 652.440493 57.103228 \nL 662.061287 45.141462 \nL 662.061287 45.141462 \n\" style=\"fill:none;stroke:#0072b2;stroke-linecap:square;stroke-width:1.5;\"/>\n   </g>\n   <g id=\"patch_3\">\n    <path d=\"M 66.053125 386.6 \nL 66.053125 7.2 \n\" style=\"fill:none;stroke:#000000;stroke-linecap:square;stroke-linejoin:miter;stroke-width:0.8;\"/>\n   </g>\n   <g id=\"patch_4\">\n    <path d=\"M 690.442628 386.6 \nL 690.442628 7.2 \n\" style=\"fill:none;stroke:#000000;stroke-linecap:square;stroke-linejoin:miter;stroke-width:0.8;\"/>\n   </g>\n   <g id=\"patch_5\">\n    <path d=\"M 66.053125 386.6 \nL 690.442628 386.6 \n\" style=\"fill:none;stroke:#000000;stroke-linecap:square;stroke-linejoin:miter;stroke-width:0.8;\"/>\n   </g>\n   <g id=\"patch_6\">\n    <path d=\"M 66.053125 7.2 \nL 690.442628 7.2 \n\" style=\"fill:none;stroke:#000000;stroke-linecap:square;stroke-linejoin:miter;stroke-width:0.8;\"/>\n   </g>\n  </g>\n </g>\n <defs>\n  <clipPath id=\"pee1613b20f\">\n   <rect height=\"379.4\" width=\"624.389503\" x=\"66.053125\" y=\"7.2\"/>\n  </clipPath>\n </defs>\n</svg>\n",
      "image/png": "[encoded data removed]"
     },
     "metadata": {},
     "execution_count": 23
    },
    {
     "output_type": "display_data",
     "data": {
      "text/plain": "<Figure size 720x432 with 1 Axes>",
      "image/svg+xml": "<?xml version=\"1.0\" encoding=\"utf-8\" standalone=\"no\"?>\n<!DOCTYPE svg PUBLIC \"-//W3C//DTD SVG 1.1//EN\"\n  \"http://www.w3.org/Graphics/SVG/1.1/DTD/svg11.dtd\">\n<!-- Created with matplotlib (https://matplotlib.org/) -->\n<svg height=\"424.15625pt\" version=\"1.1\" viewBox=\"0 0 712.601212 424.15625\" width=\"712.601212pt\" xmlns=\"http://www.w3.org/2000/svg\" xmlns:xlink=\"http://www.w3.org/1999/xlink\">\n <defs>\n  <style type=\"text/css\">\n*{stroke-linecap:butt;stroke-linejoin:round;}\n  </style>\n </defs>\n <g id=\"figure_1\">\n  <g id=\"patch_1\">\n   <path d=\"M 0 424.15625 \nL 712.601212 424.15625 \nL 712.601212 0 \nL 0 0 \nz\n\" style=\"fill:#ffffff;\"/>\n  </g>\n  <g id=\"axes_1\">\n   <g id=\"patch_2\">\n    <path d=\"M 66.053125 386.6 \nL 690.442628 386.6 \nL 690.442628 7.2 \nL 66.053125 7.2 \nz\n\" style=\"fill:#ffffff;\"/>\n   </g>\n   <g id=\"PolyCollection_1\">\n    <defs>\n     <path d=\"M 94.434466 -58.990347 \nL 94.434466 -54.801705 \nL 97.641397 -55.522191 \nL 100.848328 -56.056274 \nL 104.05526 -56.956202 \nL 107.262191 -57.330701 \nL 110.469122 -57.988788 \nL 113.676053 -58.598023 \nL 116.882984 -58.588484 \nL 120.089916 -58.432216 \nL 123.296847 -58.06652 \nL 126.503778 -58.182385 \nL 129.710709 -57.831163 \nL 132.91764 -57.696193 \nL 136.124572 -57.664417 \nL 139.331503 -56.994252 \nL 142.538434 -56.646513 \nL 145.745365 -56.196932 \nL 148.952296 -56.288948 \nL 152.159228 -55.901013 \nL 155.366159 -55.726213 \nL 158.57309 -55.512081 \nL 161.780021 -55.759411 \nL 164.986952 -55.600268 \nL 168.193883 -55.645822 \nL 171.400815 -55.875861 \nL 174.607746 -55.511598 \nL 177.814677 -55.292301 \nL 181.021608 -55.186863 \nL 184.228539 -55.624745 \nL 187.435471 -55.798863 \nL 190.642402 -56.360012 \nL 193.849333 -57.053129 \nL 197.056264 -56.887832 \nL 200.263195 -57.244538 \nL 203.470127 -57.761165 \nL 206.677058 -58.599372 \nL 209.883989 -59.261747 \nL 213.09092 -59.412986 \nL 216.297851 -59.371493 \nL 219.504783 -58.503122 \nL 222.711714 -58.202913 \nL 225.918645 -58.128 \nL 229.125576 -58.153012 \nL 232.332507 -58.390018 \nL 235.539438 -57.940219 \nL 238.74637 -57.37184 \nL 241.953301 -56.626893 \nL 245.160232 -56.142184 \nL 248.367163 -56.065461 \nL 251.574094 -56.083628 \nL 254.781026 -55.969455 \nL 257.987957 -55.932462 \nL 261.194888 -56.056752 \nL 264.401819 -55.578629 \nL 267.60875 -55.760917 \nL 270.815682 -55.751651 \nL 274.022613 -56.027602 \nL 277.229544 -56.01894 \nL 280.436475 -56.160594 \nL 283.643406 -56.717838 \nL 286.850338 -56.896038 \nL 290.057269 -57.583487 \nL 293.2642 -57.805393 \nL 296.471131 -58.512816 \nL 299.678062 -59.270239 \nL 302.884994 -60.097939 \nL 306.091925 -60.97809 \nL 309.298856 -61.116256 \nL 312.505787 -61.340563 \nL 315.712718 -61.20635 \nL 318.919649 -61.211886 \nL 322.126581 -61.686573 \nL 325.333512 -62.471067 \nL 328.540443 -63.241052 \nL 331.747374 -63.171936 \nL 334.954305 -63.418824 \nL 338.161237 -63.639521 \nL 341.368168 -64.269612 \nL 344.575099 -65.152004 \nL 347.78203 -65.845257 \nL 350.988961 -66.858115 \nL 354.195893 -67.081087 \nL 357.402824 -68.012476 \nL 360.609755 -68.78935 \nL 363.816686 -69.887778 \nL 367.023617 -70.925219 \nL 370.230549 -72.184602 \nL 373.43748 -73.05979 \nL 376.644411 -73.479291 \nL 379.851342 -74.651639 \nL 383.058273 -76.0263 \nL 386.265205 -77.615691 \nL 389.472136 -78.998505 \nL 392.679067 -80.336383 \nL 395.885998 -81.897326 \nL 399.092929 -83.180693 \nL 402.29986 -84.866206 \nL 405.506792 -86.82503 \nL 408.713723 -88.457244 \nL 411.920654 -89.357043 \nL 415.127585 -90.527179 \nL 418.334516 -92.634481 \nL 421.541448 -93.89589 \nL 424.748379 -95.763508 \nL 427.95531 -99.346029 \nL 431.162241 -102.831635 \nL 434.369172 -106.009132 \nL 437.576104 -109.54485 \nL 440.783035 -113.059099 \nL 443.989966 -116.375262 \nL 447.196897 -120.076657 \nL 450.403828 -123.551661 \nL 453.61076 -127.422509 \nL 456.817691 -131.144607 \nL 460.024622 -135.141013 \nL 463.231553 -139.159026 \nL 466.438484 -142.712322 \nL 469.645416 -146.41364 \nL 472.852347 -150.246443 \nL 476.059278 -154.266723 \nL 479.266209 -158.531756 \nL 482.47314 -162.820839 \nL 485.680071 -167.417472 \nL 488.887003 -171.152207 \nL 492.093934 -175.208698 \nL 495.300865 -179.749385 \nL 498.507796 -184.337886 \nL 501.714727 -189.06453 \nL 504.921659 -193.19835 \nL 508.12859 -197.172206 \nL 511.335521 -200.162945 \nL 514.542452 -203.492171 \nL 517.749383 -207.026462 \nL 520.956315 -211.003735 \nL 524.163246 -214.841028 \nL 527.370177 -218.15299 \nL 530.577108 -221.375779 \nL 533.784039 -224.131503 \nL 536.990971 -227.095508 \nL 540.197902 -230.66123 \nL 543.404833 -234.245228 \nL 546.611764 -237.636487 \nL 549.818695 -241.058191 \nL 553.025627 -244.461613 \nL 556.232558 -247.535661 \nL 559.439489 -251.01116 \nL 562.64642 -254.522276 \nL 565.853351 -257.945098 \nL 569.060282 -261.602932 \nL 572.267214 -264.80543 \nL 575.474145 -268.592052 \nL 578.681076 -271.956428 \nL 581.888007 -276.209991 \nL 585.094938 -279.315655 \nL 588.30187 -283.108809 \nL 591.508801 -287.361636 \nL 594.715732 -291.523685 \nL 597.922663 -295.394326 \nL 601.129594 -299.111392 \nL 604.336526 -302.375978 \nL 607.543457 -305.233613 \nL 610.750388 -307.875733 \nL 613.957319 -311.021166 \nL 617.16425 -314.417725 \nL 620.371182 -317.617841 \nL 623.578113 -320.350867 \nL 626.785044 -322.970722 \nL 629.991975 -325.189702 \nL 633.198906 -327.945808 \nL 636.405837 -331.05665 \nL 639.612769 -334.584844 \nL 642.8197 -337.271276 \nL 646.026631 -339.746178 \nL 649.233562 -342.730687 \nL 652.440493 -345.734152 \nL 655.647425 -349.074567 \nL 658.854356 -352.089224 \nL 662.061287 -355.437351 \nL 662.061287 -399.710795 \nL 662.061287 -399.710795 \nL 658.854356 -396.101984 \nL 655.647425 -391.153685 \nL 652.440493 -386.17606 \nL 649.233562 -382.37524 \nL 646.026631 -377.798497 \nL 642.8197 -373.818271 \nL 639.612769 -369.606188 \nL 636.405837 -365.761103 \nL 633.198906 -361.093138 \nL 629.991975 -357.083413 \nL 626.785044 -353.41061 \nL 623.578113 -349.225384 \nL 620.371182 -345.780761 \nL 617.16425 -341.133001 \nL 613.957319 -336.955732 \nL 610.750388 -333.215391 \nL 607.543457 -328.950745 \nL 604.336526 -325.116911 \nL 601.129594 -320.410703 \nL 597.922663 -316.023142 \nL 594.715732 -310.581645 \nL 591.508801 -305.352313 \nL 588.30187 -300.268859 \nL 585.094938 -295.69179 \nL 581.888007 -290.782799 \nL 578.681076 -286.619115 \nL 575.474145 -282.463515 \nL 572.267214 -277.265387 \nL 569.060282 -273.053604 \nL 565.853351 -268.633367 \nL 562.64642 -264.640863 \nL 559.439489 -260.329654 \nL 556.232558 -255.988976 \nL 553.025627 -252.420721 \nL 549.818695 -248.487888 \nL 546.611764 -244.159117 \nL 543.404833 -240.366203 \nL 540.197902 -236.190671 \nL 536.990971 -232.678203 \nL 533.784039 -229.100928 \nL 530.577108 -226.278193 \nL 527.370177 -222.918573 \nL 524.163246 -219.05892 \nL 520.956315 -215.208151 \nL 517.749383 -211.246939 \nL 514.542452 -207.804488 \nL 511.335521 -204.169369 \nL 508.12859 -201.343879 \nL 504.921659 -197.345055 \nL 501.714727 -193.18127 \nL 498.507796 -188.583064 \nL 495.300865 -183.832046 \nL 492.093934 -179.548829 \nL 488.887003 -175.230385 \nL 485.680071 -171.682176 \nL 482.47314 -167.020526 \nL 479.266209 -162.537944 \nL 476.059278 -158.50933 \nL 472.852347 -154.315465 \nL 469.645416 -150.627319 \nL 466.438484 -146.76633 \nL 463.231553 -143.32595 \nL 460.024622 -139.287229 \nL 456.817691 -135.346602 \nL 453.61076 -131.553482 \nL 450.403828 -127.817773 \nL 447.196897 -124.287122 \nL 443.989966 -120.419042 \nL 440.783035 -117.392158 \nL 437.576104 -113.476686 \nL 434.369172 -110.303918 \nL 431.162241 -107.173501 \nL 427.95531 -103.471703 \nL 424.748379 -100.0159 \nL 421.541448 -98.249243 \nL 418.334516 -96.67065 \nL 415.127585 -94.914934 \nL 411.920654 -93.483989 \nL 408.713723 -92.445374 \nL 405.506792 -90.855882 \nL 402.29986 -89.003624 \nL 399.092929 -87.563778 \nL 395.885998 -86.193495 \nL 392.679067 -84.466587 \nL 389.472136 -83.235119 \nL 386.265205 -81.690924 \nL 383.058273 -80.259745 \nL 379.851342 -78.723742 \nL 376.644411 -77.618097 \nL 373.43748 -77.214121 \nL 370.230549 -76.159504 \nL 367.023617 -75.091357 \nL 363.816686 -74.058018 \nL 360.609755 -72.853331 \nL 357.402824 -72.202881 \nL 354.195893 -71.290104 \nL 350.988961 -71.065045 \nL 347.78203 -70.166717 \nL 344.575099 -69.017151 \nL 341.368168 -68.462739 \nL 338.161237 -67.827497 \nL 334.954305 -67.578082 \nL 331.747374 -67.29648 \nL 328.540443 -67.445338 \nL 325.333512 -66.63936 \nL 322.126581 -65.768514 \nL 318.919649 -65.25947 \nL 315.712718 -65.322594 \nL 312.505787 -65.401169 \nL 309.298856 -65.314337 \nL 306.091925 -65.023415 \nL 302.884994 -64.270115 \nL 299.678062 -63.186043 \nL 296.471131 -62.716807 \nL 293.2642 -62.087559 \nL 290.057269 -61.71676 \nL 286.850338 -61.15854 \nL 283.643406 -60.906682 \nL 280.436475 -60.368477 \nL 277.229544 -60.209297 \nL 274.022613 -60.152837 \nL 270.815682 -59.926573 \nL 267.60875 -59.801283 \nL 264.401819 -59.870285 \nL 261.194888 -60.162754 \nL 257.987957 -60.053359 \nL 254.781026 -60.169404 \nL 251.574094 -60.353053 \nL 248.367163 -60.218247 \nL 245.160232 -60.259931 \nL 241.953301 -60.54368 \nL 238.74637 -61.57164 \nL 235.539438 -62.097669 \nL 232.332507 -62.349125 \nL 229.125576 -62.426274 \nL 225.918645 -62.27803 \nL 222.711714 -62.32081 \nL 219.504783 -62.657083 \nL 216.297851 -63.590345 \nL 213.09092 -63.640515 \nL 209.883989 -63.354293 \nL 206.677058 -62.630717 \nL 203.470127 -61.924722 \nL 200.263195 -61.460803 \nL 197.056264 -60.928265 \nL 193.849333 -61.045753 \nL 190.642402 -60.527735 \nL 187.435471 -60.052277 \nL 184.228539 -59.635233 \nL 181.021608 -59.407265 \nL 177.814677 -59.286784 \nL 174.607746 -59.553163 \nL 171.400815 -60.012694 \nL 168.193883 -59.93033 \nL 164.986952 -59.795087 \nL 161.780021 -59.949201 \nL 158.57309 -59.734916 \nL 155.366159 -59.887009 \nL 152.159228 -60.0922 \nL 148.952296 -60.629184 \nL 145.745365 -60.434592 \nL 142.538434 -60.72834 \nL 139.331503 -61.221488 \nL 136.124572 -61.630792 \nL 132.91764 -61.726074 \nL 129.710709 -61.927588 \nL 126.503778 -62.258138 \nL 123.296847 -62.30695 \nL 120.089916 -62.593536 \nL 116.882984 -62.784296 \nL 113.676053 -62.632926 \nL 110.469122 -62.266601 \nL 107.262191 -61.367763 \nL 104.05526 -61.083585 \nL 100.848328 -60.251609 \nL 97.641397 -59.725804 \nL 94.434466 -58.990347 \nz\n\" id=\"mbcab85faa5\" style=\"stroke:#0072b2;stroke-opacity:0.2;\"/>\n    </defs>\n    <g clip-path=\"url(#pe1b26fe296)\">\n     <use style=\"fill:#0072b2;fill-opacity:0.2;stroke:#0072b2;stroke-opacity:0.2;\" x=\"0\" xlink:href=\"#mbcab85faa5\" y=\"424.15625\"/>\n    </g>\n   </g>\n   <g id=\"matplotlib.axis_1\">\n    <g id=\"xtick_1\">\n     <g id=\"line2d_1\">\n      <path clip-path=\"url(#pe1b26fe296)\" d=\"M 100.848328 386.6 \nL 100.848328 7.2 \n\" style=\"fill:none;stroke:#808080;stroke-linecap:square;stroke-opacity:0.2;\"/>\n     </g>\n     <g id=\"line2d_2\">\n      <defs>\n       <path d=\"M 0 0 \nL 0 3.5 \n\" id=\"mbd0aefc75d\" style=\"stroke:#000000;stroke-width:0.8;\"/>\n      </defs>\n      <g>\n       <use style=\"stroke:#000000;stroke-width:0.8;\" x=\"100.848328\" xlink:href=\"#mbd0aefc75d\" y=\"386.6\"/>\n      </g>\n     </g>\n     <g id=\"text_1\">\n      <!-- 2020-02 -->\n      <defs>\n       <path d=\"M 19.1875 8.296875 \nL 53.609375 8.296875 \nL 53.609375 0 \nL 7.328125 0 \nL 7.328125 8.296875 \nQ 12.9375 14.109375 22.625 23.890625 \nQ 32.328125 33.6875 34.8125 36.53125 \nQ 39.546875 41.84375 41.421875 45.53125 \nQ 43.3125 49.21875 43.3125 52.78125 \nQ 43.3125 58.59375 39.234375 62.25 \nQ 35.15625 65.921875 28.609375 65.921875 \nQ 23.96875 65.921875 18.8125 64.3125 \nQ 13.671875 62.703125 7.8125 59.421875 \nL 7.8125 69.390625 \nQ 13.765625 71.78125 18.9375 73 \nQ 24.125 74.21875 28.421875 74.21875 \nQ 39.75 74.21875 46.484375 68.546875 \nQ 53.21875 62.890625 53.21875 53.421875 \nQ 53.21875 48.921875 51.53125 44.890625 \nQ 49.859375 40.875 45.40625 35.40625 \nQ 44.1875 33.984375 37.640625 27.21875 \nQ 31.109375 20.453125 19.1875 8.296875 \nz\n\" id=\"DejaVuSans-50\"/>\n       <path d=\"M 31.78125 66.40625 \nQ 24.171875 66.40625 20.328125 58.90625 \nQ 16.5 51.421875 16.5 36.375 \nQ 16.5 21.390625 20.328125 13.890625 \nQ 24.171875 6.390625 31.78125 6.390625 \nQ 39.453125 6.390625 43.28125 13.890625 \nQ 47.125 21.390625 47.125 36.375 \nQ 47.125 51.421875 43.28125 58.90625 \nQ 39.453125 66.40625 31.78125 66.40625 \nz\nM 31.78125 74.21875 \nQ 44.046875 74.21875 50.515625 64.515625 \nQ 56.984375 54.828125 56.984375 36.375 \nQ 56.984375 17.96875 50.515625 8.265625 \nQ 44.046875 -1.421875 31.78125 -1.421875 \nQ 19.53125 -1.421875 13.0625 8.265625 \nQ 6.59375 17.96875 6.59375 36.375 \nQ 6.59375 54.828125 13.0625 64.515625 \nQ 19.53125 74.21875 31.78125 74.21875 \nz\n\" id=\"DejaVuSans-48\"/>\n       <path d=\"M 4.890625 31.390625 \nL 31.203125 31.390625 \nL 31.203125 23.390625 \nL 4.890625 23.390625 \nz\n\" id=\"DejaVuSans-45\"/>\n      </defs>\n      <g transform=\"translate(79.956922 401.198437)scale(0.1 -0.1)\">\n       <use xlink:href=\"#DejaVuSans-50\"/>\n       <use x=\"63.623047\" xlink:href=\"#DejaVuSans-48\"/>\n       <use x=\"127.246094\" xlink:href=\"#DejaVuSans-50\"/>\n       <use x=\"190.869141\" xlink:href=\"#DejaVuSans-48\"/>\n       <use x=\"254.492188\" xlink:href=\"#DejaVuSans-45\"/>\n       <use x=\"290.576172\" xlink:href=\"#DejaVuSans-48\"/>\n       <use x=\"354.199219\" xlink:href=\"#DejaVuSans-50\"/>\n      </g>\n     </g>\n    </g>\n    <g id=\"xtick_2\">\n     <g id=\"line2d_3\">\n      <path clip-path=\"url(#pe1b26fe296)\" d=\"M 193.849333 386.6 \nL 193.849333 7.2 \n\" style=\"fill:none;stroke:#808080;stroke-linecap:square;stroke-opacity:0.2;\"/>\n     </g>\n     <g id=\"line2d_4\">\n      <g>\n       <use style=\"stroke:#000000;stroke-width:0.8;\" x=\"193.849333\" xlink:href=\"#mbd0aefc75d\" y=\"386.6\"/>\n      </g>\n     </g>\n     <g id=\"text_2\">\n      <!-- 2020-03 -->\n      <defs>\n       <path d=\"M 40.578125 39.3125 \nQ 47.65625 37.796875 51.625 33 \nQ 55.609375 28.21875 55.609375 21.1875 \nQ 55.609375 10.40625 48.1875 4.484375 \nQ 40.765625 -1.421875 27.09375 -1.421875 \nQ 22.515625 -1.421875 17.65625 -0.515625 \nQ 12.796875 0.390625 7.625 2.203125 \nL 7.625 11.71875 \nQ 11.71875 9.328125 16.59375 8.109375 \nQ 21.484375 6.890625 26.8125 6.890625 \nQ 36.078125 6.890625 40.9375 10.546875 \nQ 45.796875 14.203125 45.796875 21.1875 \nQ 45.796875 27.640625 41.28125 31.265625 \nQ 36.765625 34.90625 28.71875 34.90625 \nL 20.21875 34.90625 \nL 20.21875 43.015625 \nL 29.109375 43.015625 \nQ 36.375 43.015625 40.234375 45.921875 \nQ 44.09375 48.828125 44.09375 54.296875 \nQ 44.09375 59.90625 40.109375 62.90625 \nQ 36.140625 65.921875 28.71875 65.921875 \nQ 24.65625 65.921875 20.015625 65.03125 \nQ 15.375 64.15625 9.8125 62.3125 \nL 9.8125 71.09375 \nQ 15.4375 72.65625 20.34375 73.4375 \nQ 25.25 74.21875 29.59375 74.21875 \nQ 40.828125 74.21875 47.359375 69.109375 \nQ 53.90625 64.015625 53.90625 55.328125 \nQ 53.90625 49.265625 50.4375 45.09375 \nQ 46.96875 40.921875 40.578125 39.3125 \nz\n\" id=\"DejaVuSans-51\"/>\n      </defs>\n      <g transform=\"translate(172.957927 401.198437)scale(0.1 -0.1)\">\n       <use xlink:href=\"#DejaVuSans-50\"/>\n       <use x=\"63.623047\" xlink:href=\"#DejaVuSans-48\"/>\n       <use x=\"127.246094\" xlink:href=\"#DejaVuSans-50\"/>\n       <use x=\"190.869141\" xlink:href=\"#DejaVuSans-48\"/>\n       <use x=\"254.492188\" xlink:href=\"#DejaVuSans-45\"/>\n       <use x=\"290.576172\" xlink:href=\"#DejaVuSans-48\"/>\n       <use x=\"354.199219\" xlink:href=\"#DejaVuSans-51\"/>\n      </g>\n     </g>\n    </g>\n    <g id=\"xtick_3\">\n     <g id=\"line2d_5\">\n      <path clip-path=\"url(#pe1b26fe296)\" d=\"M 293.2642 386.6 \nL 293.2642 7.2 \n\" style=\"fill:none;stroke:#808080;stroke-linecap:square;stroke-opacity:0.2;\"/>\n     </g>\n     <g id=\"line2d_6\">\n      <g>\n       <use style=\"stroke:#000000;stroke-width:0.8;\" x=\"293.2642\" xlink:href=\"#mbd0aefc75d\" y=\"386.6\"/>\n      </g>\n     </g>\n     <g id=\"text_3\">\n      <!-- 2020-04 -->\n      <defs>\n       <path d=\"M 37.796875 64.3125 \nL 12.890625 25.390625 \nL 37.796875 25.390625 \nz\nM 35.203125 72.90625 \nL 47.609375 72.90625 \nL 47.609375 25.390625 \nL 58.015625 25.390625 \nL 58.015625 17.1875 \nL 47.609375 17.1875 \nL 47.609375 0 \nL 37.796875 0 \nL 37.796875 17.1875 \nL 4.890625 17.1875 \nL 4.890625 26.703125 \nz\n\" id=\"DejaVuSans-52\"/>\n      </defs>\n      <g transform=\"translate(272.372794 401.198437)scale(0.1 -0.1)\">\n       <use xlink:href=\"#DejaVuSans-50\"/>\n       <use x=\"63.623047\" xlink:href=\"#DejaVuSans-48\"/>\n       <use x=\"127.246094\" xlink:href=\"#DejaVuSans-50\"/>\n       <use x=\"190.869141\" xlink:href=\"#DejaVuSans-48\"/>\n       <use x=\"254.492188\" xlink:href=\"#DejaVuSans-45\"/>\n       <use x=\"290.576172\" xlink:href=\"#DejaVuSans-48\"/>\n       <use x=\"354.199219\" xlink:href=\"#DejaVuSans-52\"/>\n      </g>\n     </g>\n    </g>\n    <g id=\"xtick_4\">\n     <g id=\"line2d_7\">\n      <path clip-path=\"url(#pe1b26fe296)\" d=\"M 389.472136 386.6 \nL 389.472136 7.2 \n\" style=\"fill:none;stroke:#808080;stroke-linecap:square;stroke-opacity:0.2;\"/>\n     </g>\n     <g id=\"line2d_8\">\n      <g>\n       <use style=\"stroke:#000000;stroke-width:0.8;\" x=\"389.472136\" xlink:href=\"#mbd0aefc75d\" y=\"386.6\"/>\n      </g>\n     </g>\n     <g id=\"text_4\">\n      <!-- 2020-05 -->\n      <defs>\n       <path d=\"M 10.796875 72.90625 \nL 49.515625 72.90625 \nL 49.515625 64.59375 \nL 19.828125 64.59375 \nL 19.828125 46.734375 \nQ 21.96875 47.46875 24.109375 47.828125 \nQ 26.265625 48.1875 28.421875 48.1875 \nQ 40.625 48.1875 47.75 41.5 \nQ 54.890625 34.8125 54.890625 23.390625 \nQ 54.890625 11.625 47.5625 5.09375 \nQ 40.234375 -1.421875 26.90625 -1.421875 \nQ 22.3125 -1.421875 17.546875 -0.640625 \nQ 12.796875 0.140625 7.71875 1.703125 \nL 7.71875 11.625 \nQ 12.109375 9.234375 16.796875 8.0625 \nQ 21.484375 6.890625 26.703125 6.890625 \nQ 35.15625 6.890625 40.078125 11.328125 \nQ 45.015625 15.765625 45.015625 23.390625 \nQ 45.015625 31 40.078125 35.4375 \nQ 35.15625 39.890625 26.703125 39.890625 \nQ 22.75 39.890625 18.8125 39.015625 \nQ 14.890625 38.140625 10.796875 36.28125 \nz\n\" id=\"DejaVuSans-53\"/>\n      </defs>\n      <g transform=\"translate(368.580729 401.198437)scale(0.1 -0.1)\">\n       <use xlink:href=\"#DejaVuSans-50\"/>\n       <use x=\"63.623047\" xlink:href=\"#DejaVuSans-48\"/>\n       <use x=\"127.246094\" xlink:href=\"#DejaVuSans-50\"/>\n       <use x=\"190.869141\" xlink:href=\"#DejaVuSans-48\"/>\n       <use x=\"254.492188\" xlink:href=\"#DejaVuSans-45\"/>\n       <use x=\"290.576172\" xlink:href=\"#DejaVuSans-48\"/>\n       <use x=\"354.199219\" xlink:href=\"#DejaVuSans-53\"/>\n      </g>\n     </g>\n    </g>\n    <g id=\"xtick_5\">\n     <g id=\"line2d_9\">\n      <path clip-path=\"url(#pe1b26fe296)\" d=\"M 488.887003 386.6 \nL 488.887003 7.2 \n\" style=\"fill:none;stroke:#808080;stroke-linecap:square;stroke-opacity:0.2;\"/>\n     </g>\n     <g id=\"line2d_10\">\n      <g>\n       <use style=\"stroke:#000000;stroke-width:0.8;\" x=\"488.887003\" xlink:href=\"#mbd0aefc75d\" y=\"386.6\"/>\n      </g>\n     </g>\n     <g id=\"text_5\">\n      <!-- 2020-06 -->\n      <defs>\n       <path d=\"M 33.015625 40.375 \nQ 26.375 40.375 22.484375 35.828125 \nQ 18.609375 31.296875 18.609375 23.390625 \nQ 18.609375 15.53125 22.484375 10.953125 \nQ 26.375 6.390625 33.015625 6.390625 \nQ 39.65625 6.390625 43.53125 10.953125 \nQ 47.40625 15.53125 47.40625 23.390625 \nQ 47.40625 31.296875 43.53125 35.828125 \nQ 39.65625 40.375 33.015625 40.375 \nz\nM 52.59375 71.296875 \nL 52.59375 62.3125 \nQ 48.875 64.0625 45.09375 64.984375 \nQ 41.3125 65.921875 37.59375 65.921875 \nQ 27.828125 65.921875 22.671875 59.328125 \nQ 17.53125 52.734375 16.796875 39.40625 \nQ 19.671875 43.65625 24.015625 45.921875 \nQ 28.375 48.1875 33.59375 48.1875 \nQ 44.578125 48.1875 50.953125 41.515625 \nQ 57.328125 34.859375 57.328125 23.390625 \nQ 57.328125 12.15625 50.6875 5.359375 \nQ 44.046875 -1.421875 33.015625 -1.421875 \nQ 20.359375 -1.421875 13.671875 8.265625 \nQ 6.984375 17.96875 6.984375 36.375 \nQ 6.984375 53.65625 15.1875 63.9375 \nQ 23.390625 74.21875 37.203125 74.21875 \nQ 40.921875 74.21875 44.703125 73.484375 \nQ 48.484375 72.75 52.59375 71.296875 \nz\n\" id=\"DejaVuSans-54\"/>\n      </defs>\n      <g transform=\"translate(467.995596 401.198437)scale(0.1 -0.1)\">\n       <use xlink:href=\"#DejaVuSans-50\"/>\n       <use x=\"63.623047\" xlink:href=\"#DejaVuSans-48\"/>\n       <use x=\"127.246094\" xlink:href=\"#DejaVuSans-50\"/>\n       <use x=\"190.869141\" xlink:href=\"#DejaVuSans-48\"/>\n       <use x=\"254.492188\" xlink:href=\"#DejaVuSans-45\"/>\n       <use x=\"290.576172\" xlink:href=\"#DejaVuSans-48\"/>\n       <use x=\"354.199219\" xlink:href=\"#DejaVuSans-54\"/>\n      </g>\n     </g>\n    </g>\n    <g id=\"xtick_6\">\n     <g id=\"line2d_11\">\n      <path clip-path=\"url(#pe1b26fe296)\" d=\"M 585.094938 386.6 \nL 585.094938 7.2 \n\" style=\"fill:none;stroke:#808080;stroke-linecap:square;stroke-opacity:0.2;\"/>\n     </g>\n     <g id=\"line2d_12\">\n      <g>\n       <use style=\"stroke:#000000;stroke-width:0.8;\" x=\"585.094938\" xlink:href=\"#mbd0aefc75d\" y=\"386.6\"/>\n      </g>\n     </g>\n     <g id=\"text_6\">\n      <!-- 2020-07 -->\n      <defs>\n       <path d=\"M 8.203125 72.90625 \nL 55.078125 72.90625 \nL 55.078125 68.703125 \nL 28.609375 0 \nL 18.3125 0 \nL 43.21875 64.59375 \nL 8.203125 64.59375 \nz\n\" id=\"DejaVuSans-55\"/>\n      </defs>\n      <g transform=\"translate(564.203532 401.198437)scale(0.1 -0.1)\">\n       <use xlink:href=\"#DejaVuSans-50\"/>\n       <use x=\"63.623047\" xlink:href=\"#DejaVuSans-48\"/>\n       <use x=\"127.246094\" xlink:href=\"#DejaVuSans-50\"/>\n       <use x=\"190.869141\" xlink:href=\"#DejaVuSans-48\"/>\n       <use x=\"254.492188\" xlink:href=\"#DejaVuSans-45\"/>\n       <use x=\"290.576172\" xlink:href=\"#DejaVuSans-48\"/>\n       <use x=\"354.199219\" xlink:href=\"#DejaVuSans-55\"/>\n      </g>\n     </g>\n    </g>\n    <g id=\"xtick_7\">\n     <g id=\"line2d_13\">\n      <path clip-path=\"url(#pe1b26fe296)\" d=\"M 684.509805 386.6 \nL 684.509805 7.2 \n\" style=\"fill:none;stroke:#808080;stroke-linecap:square;stroke-opacity:0.2;\"/>\n     </g>\n     <g id=\"line2d_14\">\n      <g>\n       <use style=\"stroke:#000000;stroke-width:0.8;\" x=\"684.509805\" xlink:href=\"#mbd0aefc75d\" y=\"386.6\"/>\n      </g>\n     </g>\n     <g id=\"text_7\">\n      <!-- 2020-08 -->\n      <defs>\n       <path d=\"M 31.78125 34.625 \nQ 24.75 34.625 20.71875 30.859375 \nQ 16.703125 27.09375 16.703125 20.515625 \nQ 16.703125 13.921875 20.71875 10.15625 \nQ 24.75 6.390625 31.78125 6.390625 \nQ 38.8125 6.390625 42.859375 10.171875 \nQ 46.921875 13.96875 46.921875 20.515625 \nQ 46.921875 27.09375 42.890625 30.859375 \nQ 38.875 34.625 31.78125 34.625 \nz\nM 21.921875 38.8125 \nQ 15.578125 40.375 12.03125 44.71875 \nQ 8.5 49.078125 8.5 55.328125 \nQ 8.5 64.0625 14.71875 69.140625 \nQ 20.953125 74.21875 31.78125 74.21875 \nQ 42.671875 74.21875 48.875 69.140625 \nQ 55.078125 64.0625 55.078125 55.328125 \nQ 55.078125 49.078125 51.53125 44.71875 \nQ 48 40.375 41.703125 38.8125 \nQ 48.828125 37.15625 52.796875 32.3125 \nQ 56.78125 27.484375 56.78125 20.515625 \nQ 56.78125 9.90625 50.3125 4.234375 \nQ 43.84375 -1.421875 31.78125 -1.421875 \nQ 19.734375 -1.421875 13.25 4.234375 \nQ 6.78125 9.90625 6.78125 20.515625 \nQ 6.78125 27.484375 10.78125 32.3125 \nQ 14.796875 37.15625 21.921875 38.8125 \nz\nM 18.3125 54.390625 \nQ 18.3125 48.734375 21.84375 45.5625 \nQ 25.390625 42.390625 31.78125 42.390625 \nQ 38.140625 42.390625 41.71875 45.5625 \nQ 45.3125 48.734375 45.3125 54.390625 \nQ 45.3125 60.0625 41.71875 63.234375 \nQ 38.140625 66.40625 31.78125 66.40625 \nQ 25.390625 66.40625 21.84375 63.234375 \nQ 18.3125 60.0625 18.3125 54.390625 \nz\n\" id=\"DejaVuSans-56\"/>\n      </defs>\n      <g transform=\"translate(663.618399 401.198437)scale(0.1 -0.1)\">\n       <use xlink:href=\"#DejaVuSans-50\"/>\n       <use x=\"63.623047\" xlink:href=\"#DejaVuSans-48\"/>\n       <use x=\"127.246094\" xlink:href=\"#DejaVuSans-50\"/>\n       <use x=\"190.869141\" xlink:href=\"#DejaVuSans-48\"/>\n       <use x=\"254.492188\" xlink:href=\"#DejaVuSans-45\"/>\n       <use x=\"290.576172\" xlink:href=\"#DejaVuSans-48\"/>\n       <use x=\"354.199219\" xlink:href=\"#DejaVuSans-56\"/>\n      </g>\n     </g>\n    </g>\n    <g id=\"text_8\">\n     <!-- ds -->\n     <defs>\n      <path d=\"M 45.40625 46.390625 \nL 45.40625 75.984375 \nL 54.390625 75.984375 \nL 54.390625 0 \nL 45.40625 0 \nL 45.40625 8.203125 \nQ 42.578125 3.328125 38.25 0.953125 \nQ 33.9375 -1.421875 27.875 -1.421875 \nQ 17.96875 -1.421875 11.734375 6.484375 \nQ 5.515625 14.40625 5.515625 27.296875 \nQ 5.515625 40.1875 11.734375 48.09375 \nQ 17.96875 56 27.875 56 \nQ 33.9375 56 38.25 53.625 \nQ 42.578125 51.265625 45.40625 46.390625 \nz\nM 14.796875 27.296875 \nQ 14.796875 17.390625 18.875 11.75 \nQ 22.953125 6.109375 30.078125 6.109375 \nQ 37.203125 6.109375 41.296875 11.75 \nQ 45.40625 17.390625 45.40625 27.296875 \nQ 45.40625 37.203125 41.296875 42.84375 \nQ 37.203125 48.484375 30.078125 48.484375 \nQ 22.953125 48.484375 18.875 42.84375 \nQ 14.796875 37.203125 14.796875 27.296875 \nz\n\" id=\"DejaVuSans-100\"/>\n      <path d=\"M 44.28125 53.078125 \nL 44.28125 44.578125 \nQ 40.484375 46.53125 36.375 47.5 \nQ 32.28125 48.484375 27.875 48.484375 \nQ 21.1875 48.484375 17.84375 46.4375 \nQ 14.5 44.390625 14.5 40.28125 \nQ 14.5 37.15625 16.890625 35.375 \nQ 19.28125 33.59375 26.515625 31.984375 \nL 29.59375 31.296875 \nQ 39.15625 29.25 43.1875 25.515625 \nQ 47.21875 21.78125 47.21875 15.09375 \nQ 47.21875 7.46875 41.1875 3.015625 \nQ 35.15625 -1.421875 24.609375 -1.421875 \nQ 20.21875 -1.421875 15.453125 -0.5625 \nQ 10.6875 0.296875 5.421875 2 \nL 5.421875 11.28125 \nQ 10.40625 8.6875 15.234375 7.390625 \nQ 20.0625 6.109375 24.8125 6.109375 \nQ 31.15625 6.109375 34.5625 8.28125 \nQ 37.984375 10.453125 37.984375 14.40625 \nQ 37.984375 18.0625 35.515625 20.015625 \nQ 33.0625 21.96875 24.703125 23.78125 \nL 21.578125 24.515625 \nQ 13.234375 26.265625 9.515625 29.90625 \nQ 5.8125 33.546875 5.8125 39.890625 \nQ 5.8125 47.609375 11.28125 51.796875 \nQ 16.75 56 26.8125 56 \nQ 31.78125 56 36.171875 55.265625 \nQ 40.578125 54.546875 44.28125 53.078125 \nz\n\" id=\"DejaVuSans-115\"/>\n     </defs>\n     <g transform=\"translate(372.46897 414.876562)scale(0.1 -0.1)\">\n      <use xlink:href=\"#DejaVuSans-100\"/>\n      <use x=\"63.476562\" xlink:href=\"#DejaVuSans-115\"/>\n     </g>\n    </g>\n   </g>\n   <g id=\"matplotlib.axis_2\">\n    <g id=\"ytick_1\">\n     <g id=\"line2d_15\">\n      <path clip-path=\"url(#pe1b26fe296)\" d=\"M 66.053125 365.194694 \nL 690.442628 365.194694 \n\" style=\"fill:none;stroke:#808080;stroke-linecap:square;stroke-opacity:0.2;\"/>\n     </g>\n     <g id=\"line2d_16\">\n      <defs>\n       <path d=\"M 0 0 \nL -3.5 0 \n\" id=\"ma4837a46c1\" style=\"stroke:#000000;stroke-width:0.8;\"/>\n      </defs>\n      <g>\n       <use style=\"stroke:#000000;stroke-width:0.8;\" x=\"66.053125\" xlink:href=\"#ma4837a46c1\" y=\"365.194694\"/>\n      </g>\n     </g>\n     <g id=\"text_9\">\n      <!-- 0 -->\n      <g transform=\"translate(52.690625 368.993913)scale(0.1 -0.1)\">\n       <use xlink:href=\"#DejaVuSans-48\"/>\n      </g>\n     </g>\n    </g>\n    <g id=\"ytick_2\">\n     <g id=\"line2d_17\">\n      <path clip-path=\"url(#pe1b26fe296)\" d=\"M 66.053125 307.881652 \nL 690.442628 307.881652 \n\" style=\"fill:none;stroke:#808080;stroke-linecap:square;stroke-opacity:0.2;\"/>\n     </g>\n     <g id=\"line2d_18\">\n      <g>\n       <use style=\"stroke:#000000;stroke-width:0.8;\" x=\"66.053125\" xlink:href=\"#ma4837a46c1\" y=\"307.881652\"/>\n      </g>\n     </g>\n     <g id=\"text_10\">\n      <!-- 100000 -->\n      <defs>\n       <path d=\"M 12.40625 8.296875 \nL 28.515625 8.296875 \nL 28.515625 63.921875 \nL 10.984375 60.40625 \nL 10.984375 69.390625 \nL 28.421875 72.90625 \nL 38.28125 72.90625 \nL 38.28125 8.296875 \nL 54.390625 8.296875 \nL 54.390625 0 \nL 12.40625 0 \nz\n\" id=\"DejaVuSans-49\"/>\n      </defs>\n      <g transform=\"translate(20.878125 311.68087)scale(0.1 -0.1)\">\n       <use xlink:href=\"#DejaVuSans-49\"/>\n       <use x=\"63.623047\" xlink:href=\"#DejaVuSans-48\"/>\n       <use x=\"127.246094\" xlink:href=\"#DejaVuSans-48\"/>\n       <use x=\"190.869141\" xlink:href=\"#DejaVuSans-48\"/>\n       <use x=\"254.492188\" xlink:href=\"#DejaVuSans-48\"/>\n       <use x=\"318.115234\" xlink:href=\"#DejaVuSans-48\"/>\n      </g>\n     </g>\n    </g>\n    <g id=\"ytick_3\">\n     <g id=\"line2d_19\">\n      <path clip-path=\"url(#pe1b26fe296)\" d=\"M 66.053125 250.568609 \nL 690.442628 250.568609 \n\" style=\"fill:none;stroke:#808080;stroke-linecap:square;stroke-opacity:0.2;\"/>\n     </g>\n     <g id=\"line2d_20\">\n      <g>\n       <use style=\"stroke:#000000;stroke-width:0.8;\" x=\"66.053125\" xlink:href=\"#ma4837a46c1\" y=\"250.568609\"/>\n      </g>\n     </g>\n     <g id=\"text_11\">\n      <!-- 200000 -->\n      <g transform=\"translate(20.878125 254.367828)scale(0.1 -0.1)\">\n       <use xlink:href=\"#DejaVuSans-50\"/>\n       <use x=\"63.623047\" xlink:href=\"#DejaVuSans-48\"/>\n       <use x=\"127.246094\" xlink:href=\"#DejaVuSans-48\"/>\n       <use x=\"190.869141\" xlink:href=\"#DejaVuSans-48\"/>\n       <use x=\"254.492188\" xlink:href=\"#DejaVuSans-48\"/>\n       <use x=\"318.115234\" xlink:href=\"#DejaVuSans-48\"/>\n      </g>\n     </g>\n    </g>\n    <g id=\"ytick_4\">\n     <g id=\"line2d_21\">\n      <path clip-path=\"url(#pe1b26fe296)\" d=\"M 66.053125 193.255566 \nL 690.442628 193.255566 \n\" style=\"fill:none;stroke:#808080;stroke-linecap:square;stroke-opacity:0.2;\"/>\n     </g>\n     <g id=\"line2d_22\">\n      <g>\n       <use style=\"stroke:#000000;stroke-width:0.8;\" x=\"66.053125\" xlink:href=\"#ma4837a46c1\" y=\"193.255566\"/>\n      </g>\n     </g>\n     <g id=\"text_12\">\n      <!-- 300000 -->\n      <g transform=\"translate(20.878125 197.054785)scale(0.1 -0.1)\">\n       <use xlink:href=\"#DejaVuSans-51\"/>\n       <use x=\"63.623047\" xlink:href=\"#DejaVuSans-48\"/>\n       <use x=\"127.246094\" xlink:href=\"#DejaVuSans-48\"/>\n       <use x=\"190.869141\" xlink:href=\"#DejaVuSans-48\"/>\n       <use x=\"254.492188\" xlink:href=\"#DejaVuSans-48\"/>\n       <use x=\"318.115234\" xlink:href=\"#DejaVuSans-48\"/>\n      </g>\n     </g>\n    </g>\n    <g id=\"ytick_5\">\n     <g id=\"line2d_23\">\n      <path clip-path=\"url(#pe1b26fe296)\" d=\"M 66.053125 135.942524 \nL 690.442628 135.942524 \n\" style=\"fill:none;stroke:#808080;stroke-linecap:square;stroke-opacity:0.2;\"/>\n     </g>\n     <g id=\"line2d_24\">\n      <g>\n       <use style=\"stroke:#000000;stroke-width:0.8;\" x=\"66.053125\" xlink:href=\"#ma4837a46c1\" y=\"135.942524\"/>\n      </g>\n     </g>\n     <g id=\"text_13\">\n      <!-- 400000 -->\n      <g transform=\"translate(20.878125 139.741742)scale(0.1 -0.1)\">\n       <use xlink:href=\"#DejaVuSans-52\"/>\n       <use x=\"63.623047\" xlink:href=\"#DejaVuSans-48\"/>\n       <use x=\"127.246094\" xlink:href=\"#DejaVuSans-48\"/>\n       <use x=\"190.869141\" xlink:href=\"#DejaVuSans-48\"/>\n       <use x=\"254.492188\" xlink:href=\"#DejaVuSans-48\"/>\n       <use x=\"318.115234\" xlink:href=\"#DejaVuSans-48\"/>\n      </g>\n     </g>\n    </g>\n    <g id=\"ytick_6\">\n     <g id=\"line2d_25\">\n      <path clip-path=\"url(#pe1b26fe296)\" d=\"M 66.053125 78.629481 \nL 690.442628 78.629481 \n\" style=\"fill:none;stroke:#808080;stroke-linecap:square;stroke-opacity:0.2;\"/>\n     </g>\n     <g id=\"line2d_26\">\n      <g>\n       <use style=\"stroke:#000000;stroke-width:0.8;\" x=\"66.053125\" xlink:href=\"#ma4837a46c1\" y=\"78.629481\"/>\n      </g>\n     </g>\n     <g id=\"text_14\">\n      <!-- 500000 -->\n      <g transform=\"translate(20.878125 82.4287)scale(0.1 -0.1)\">\n       <use xlink:href=\"#DejaVuSans-53\"/>\n       <use x=\"63.623047\" xlink:href=\"#DejaVuSans-48\"/>\n       <use x=\"127.246094\" xlink:href=\"#DejaVuSans-48\"/>\n       <use x=\"190.869141\" xlink:href=\"#DejaVuSans-48\"/>\n       <use x=\"254.492188\" xlink:href=\"#DejaVuSans-48\"/>\n       <use x=\"318.115234\" xlink:href=\"#DejaVuSans-48\"/>\n      </g>\n     </g>\n    </g>\n    <g id=\"ytick_7\">\n     <g id=\"line2d_27\">\n      <path clip-path=\"url(#pe1b26fe296)\" d=\"M 66.053125 21.316438 \nL 690.442628 21.316438 \n\" style=\"fill:none;stroke:#808080;stroke-linecap:square;stroke-opacity:0.2;\"/>\n     </g>\n     <g id=\"line2d_28\">\n      <g>\n       <use style=\"stroke:#000000;stroke-width:0.8;\" x=\"66.053125\" xlink:href=\"#ma4837a46c1\" y=\"21.316438\"/>\n      </g>\n     </g>\n     <g id=\"text_15\">\n      <!-- 600000 -->\n      <g transform=\"translate(20.878125 25.115657)scale(0.1 -0.1)\">\n       <use xlink:href=\"#DejaVuSans-54\"/>\n       <use x=\"63.623047\" xlink:href=\"#DejaVuSans-48\"/>\n       <use x=\"127.246094\" xlink:href=\"#DejaVuSans-48\"/>\n       <use x=\"190.869141\" xlink:href=\"#DejaVuSans-48\"/>\n       <use x=\"254.492188\" xlink:href=\"#DejaVuSans-48\"/>\n       <use x=\"318.115234\" xlink:href=\"#DejaVuSans-48\"/>\n      </g>\n     </g>\n    </g>\n    <g id=\"text_16\">\n     <!-- y -->\n     <defs>\n      <path d=\"M 32.171875 -5.078125 \nQ 28.375 -14.84375 24.75 -17.8125 \nQ 21.140625 -20.796875 15.09375 -20.796875 \nL 7.90625 -20.796875 \nL 7.90625 -13.28125 \nL 13.1875 -13.28125 \nQ 16.890625 -13.28125 18.9375 -11.515625 \nQ 21 -9.765625 23.484375 -3.21875 \nL 25.09375 0.875 \nL 2.984375 54.6875 \nL 12.5 54.6875 \nL 29.59375 11.921875 \nL 46.6875 54.6875 \nL 56.203125 54.6875 \nz\n\" id=\"DejaVuSans-121\"/>\n     </defs>\n     <g transform=\"translate(14.798438 199.859375)rotate(-90)scale(0.1 -0.1)\">\n      <use xlink:href=\"#DejaVuSans-121\"/>\n     </g>\n    </g>\n   </g>\n   <g id=\"line2d_29\">\n    <defs>\n     <path d=\"M 0 1.5 \nC 0.397805 1.5 0.77937 1.341951 1.06066 1.06066 \nC 1.341951 0.77937 1.5 0.397805 1.5 0 \nC 1.5 -0.397805 1.341951 -0.77937 1.06066 -1.06066 \nC 0.77937 -1.341951 0.397805 -1.5 0 -1.5 \nC -0.397805 -1.5 -0.77937 -1.341951 -1.06066 -1.06066 \nC -1.341951 -0.77937 -1.5 -0.397805 -1.5 0 \nC -1.5 0.397805 -1.341951 0.77937 -1.06066 1.06066 \nC -0.77937 1.341951 -0.397805 1.5 0 1.5 \nz\n\" id=\"m74d774195a\" style=\"stroke:#000000;\"/>\n    </defs>\n    <g clip-path=\"url(#pe1b26fe296)\">\n     <use style=\"stroke:#000000;\" x=\"94.434466\" xlink:href=\"#m74d774195a\" y=\"365.194121\"/>\n     <use style=\"stroke:#000000;\" x=\"97.641397\" xlink:href=\"#m74d774195a\" y=\"365.194121\"/>\n     <use style=\"stroke:#000000;\" x=\"100.848328\" xlink:href=\"#m74d774195a\" y=\"365.194121\"/>\n     <use style=\"stroke:#000000;\" x=\"104.05526\" xlink:href=\"#m74d774195a\" y=\"365.193548\"/>\n     <use style=\"stroke:#000000;\" x=\"107.262191\" xlink:href=\"#m74d774195a\" y=\"365.192975\"/>\n     <use style=\"stroke:#000000;\" x=\"110.469122\" xlink:href=\"#m74d774195a\" y=\"365.192975\"/>\n     <use style=\"stroke:#000000;\" x=\"113.676053\" xlink:href=\"#m74d774195a\" y=\"365.192975\"/>\n     <use style=\"stroke:#000000;\" x=\"116.882984\" xlink:href=\"#m74d774195a\" y=\"365.192975\"/>\n     <use style=\"stroke:#000000;\" x=\"120.089916\" xlink:href=\"#m74d774195a\" y=\"365.192975\"/>\n     <use style=\"stroke:#000000;\" x=\"123.296847\" xlink:href=\"#m74d774195a\" y=\"365.192975\"/>\n     <use style=\"stroke:#000000;\" x=\"126.503778\" xlink:href=\"#m74d774195a\" y=\"365.192975\"/>\n     <use style=\"stroke:#000000;\" x=\"129.710709\" xlink:href=\"#m74d774195a\" y=\"365.192975\"/>\n     <use style=\"stroke:#000000;\" x=\"132.91764\" xlink:href=\"#m74d774195a\" y=\"365.192975\"/>\n     <use style=\"stroke:#000000;\" x=\"136.124572\" xlink:href=\"#m74d774195a\" y=\"365.192975\"/>\n     <use style=\"stroke:#000000;\" x=\"139.331503\" xlink:href=\"#m74d774195a\" y=\"365.192975\"/>\n     <use style=\"stroke:#000000;\" x=\"142.538434\" xlink:href=\"#m74d774195a\" y=\"365.192975\"/>\n     <use style=\"stroke:#000000;\" x=\"145.745365\" xlink:href=\"#m74d774195a\" y=\"365.192975\"/>\n     <use style=\"stroke:#000000;\" x=\"148.952296\" xlink:href=\"#m74d774195a\" y=\"365.192975\"/>\n     <use style=\"stroke:#000000;\" x=\"152.159228\" xlink:href=\"#m74d774195a\" y=\"365.192975\"/>\n     <use style=\"stroke:#000000;\" x=\"155.366159\" xlink:href=\"#m74d774195a\" y=\"365.192975\"/>\n     <use style=\"stroke:#000000;\" x=\"158.57309\" xlink:href=\"#m74d774195a\" y=\"365.192975\"/>\n     <use style=\"stroke:#000000;\" x=\"161.780021\" xlink:href=\"#m74d774195a\" y=\"365.192975\"/>\n     <use style=\"stroke:#000000;\" x=\"164.986952\" xlink:href=\"#m74d774195a\" y=\"365.192975\"/>\n     <use style=\"stroke:#000000;\" x=\"168.193883\" xlink:href=\"#m74d774195a\" y=\"365.192975\"/>\n     <use style=\"stroke:#000000;\" x=\"171.400815\" xlink:href=\"#m74d774195a\" y=\"365.192975\"/>\n     <use style=\"stroke:#000000;\" x=\"174.607746\" xlink:href=\"#m74d774195a\" y=\"365.192975\"/>\n     <use style=\"stroke:#000000;\" x=\"177.814677\" xlink:href=\"#m74d774195a\" y=\"365.192975\"/>\n     <use style=\"stroke:#000000;\" x=\"181.021608\" xlink:href=\"#m74d774195a\" y=\"365.192975\"/>\n     <use style=\"stroke:#000000;\" x=\"184.228539\" xlink:href=\"#m74d774195a\" y=\"365.192975\"/>\n     <use style=\"stroke:#000000;\" x=\"187.435471\" xlink:href=\"#m74d774195a\" y=\"365.192975\"/>\n     <use style=\"stroke:#000000;\" x=\"190.642402\" xlink:href=\"#m74d774195a\" y=\"365.192975\"/>\n     <use style=\"stroke:#000000;\" x=\"193.849333\" xlink:href=\"#m74d774195a\" y=\"365.192975\"/>\n     <use style=\"stroke:#000000;\" x=\"197.056264\" xlink:href=\"#m74d774195a\" y=\"365.191829\"/>\n     <use style=\"stroke:#000000;\" x=\"200.263195\" xlink:href=\"#m74d774195a\" y=\"365.191256\"/>\n     <use style=\"stroke:#000000;\" x=\"203.470127\" xlink:href=\"#m74d774195a\" y=\"365.178647\"/>\n     <use style=\"stroke:#000000;\" x=\"206.677058\" xlink:href=\"#m74d774195a\" y=\"365.177501\"/>\n     <use style=\"stroke:#000000;\" x=\"209.883989\" xlink:href=\"#m74d774195a\" y=\"365.176927\"/>\n     <use style=\"stroke:#000000;\" x=\"213.09092\" xlink:href=\"#m74d774195a\" y=\"365.175208\"/>\n     <use style=\"stroke:#000000;\" x=\"216.297851\" xlink:href=\"#m74d774195a\" y=\"365.172342\"/>\n     <use style=\"stroke:#000000;\" x=\"219.504783\" xlink:href=\"#m74d774195a\" y=\"365.167184\"/>\n     <use style=\"stroke:#000000;\" x=\"222.711714\" xlink:href=\"#m74d774195a\" y=\"365.158587\"/>\n     <use style=\"stroke:#000000;\" x=\"225.918645\" xlink:href=\"#m74d774195a\" y=\"365.154002\"/>\n     <use style=\"stroke:#000000;\" x=\"229.125576\" xlink:href=\"#m74d774195a\" y=\"365.148271\"/>\n     <use style=\"stroke:#000000;\" x=\"232.332507\" xlink:href=\"#m74d774195a\" y=\"365.14254\"/>\n     <use style=\"stroke:#000000;\" x=\"235.539438\" xlink:href=\"#m74d774195a\" y=\"365.136235\"/>\n     <use style=\"stroke:#000000;\" x=\"238.74637\" xlink:href=\"#m74d774195a\" y=\"365.130504\"/>\n     <use style=\"stroke:#000000;\" x=\"241.953301\" xlink:href=\"#m74d774195a\" y=\"365.12248\"/>\n     <use style=\"stroke:#000000;\" x=\"245.160232\" xlink:href=\"#m74d774195a\" y=\"365.111017\"/>\n     <use style=\"stroke:#000000;\" x=\"248.367163\" xlink:href=\"#m74d774195a\" y=\"365.096689\"/>\n     <use style=\"stroke:#000000;\" x=\"251.574094\" xlink:href=\"#m74d774195a\" y=\"365.081215\"/>\n     <use style=\"stroke:#000000;\" x=\"254.781026\" xlink:href=\"#m74d774195a\" y=\"365.047973\"/>\n     <use style=\"stroke:#000000;\" x=\"257.987957\" xlink:href=\"#m74d774195a\" y=\"365.003269\"/>\n     <use style=\"stroke:#000000;\" x=\"261.194888\" xlink:href=\"#m74d774195a\" y=\"364.963723\"/>\n     <use style=\"stroke:#000000;\" x=\"264.401819\" xlink:href=\"#m74d774195a\" y=\"364.909849\"/>\n     <use style=\"stroke:#000000;\" x=\"267.60875\" xlink:href=\"#m74d774195a\" y=\"364.867437\"/>\n     <use style=\"stroke:#000000;\" x=\"270.815682\" xlink:href=\"#m74d774195a\" y=\"364.818148\"/>\n     <use style=\"stroke:#000000;\" x=\"274.022613\" xlink:href=\"#m74d774195a\" y=\"364.776309\"/>\n     <use style=\"stroke:#000000;\" x=\"277.229544\" xlink:href=\"#m74d774195a\" y=\"364.68862\"/>\n     <use style=\"stroke:#000000;\" x=\"280.436475\" xlink:href=\"#m74d774195a\" y=\"364.610675\"/>\n     <use style=\"stroke:#000000;\" x=\"283.643406\" xlink:href=\"#m74d774195a\" y=\"364.541899\"/>\n     <use style=\"stroke:#000000;\" x=\"286.850338\" xlink:href=\"#m74d774195a\" y=\"364.434723\"/>\n     <use style=\"stroke:#000000;\" x=\"290.057269\" xlink:href=\"#m74d774195a\" y=\"364.257626\"/>\n     <use style=\"stroke:#000000;\" x=\"293.2642\" xlink:href=\"#m74d774195a\" y=\"364.014619\"/>\n     <use style=\"stroke:#000000;\" x=\"296.471131\" xlink:href=\"#m74d774195a\" y=\"363.736077\"/>\n     <use style=\"stroke:#000000;\" x=\"299.678062\" xlink:href=\"#m74d774195a\" y=\"363.415124\"/>\n     <use style=\"stroke:#000000;\" x=\"302.884994\" xlink:href=\"#m74d774195a\" y=\"363.083282\"/>\n     <use style=\"stroke:#000000;\" x=\"306.091925\" xlink:href=\"#m74d774195a\" y=\"362.734246\"/>\n     <use style=\"stroke:#000000;\" x=\"309.298856\" xlink:href=\"#m74d774195a\" y=\"362.45685\"/>\n     <use style=\"stroke:#000000;\" x=\"312.505787\" xlink:href=\"#m74d774195a\" y=\"362.128447\"/>\n     <use style=\"stroke:#000000;\" x=\"315.712718\" xlink:href=\"#m74d774195a\" y=\"361.804628\"/>\n     <use style=\"stroke:#000000;\" x=\"318.919649\" xlink:href=\"#m74d774195a\" y=\"361.338673\"/>\n     <use style=\"stroke:#000000;\" x=\"322.126581\" xlink:href=\"#m74d774195a\" y=\"360.839476\"/>\n     <use style=\"stroke:#000000;\" x=\"325.333512\" xlink:href=\"#m74d774195a\" y=\"360.350023\"/>\n     <use style=\"stroke:#000000;\" x=\"328.540443\" xlink:href=\"#m74d774195a\" y=\"359.91559\"/>\n     <use style=\"stroke:#000000;\" x=\"331.747374\" xlink:href=\"#m74d774195a\" y=\"359.203189\"/>\n     <use style=\"stroke:#000000;\" x=\"334.954305\" xlink:href=\"#m74d774195a\" y=\"358.612291\"/>\n     <use style=\"stroke:#000000;\" x=\"338.161237\" xlink:href=\"#m74d774195a\" y=\"358.104498\"/>\n     <use style=\"stroke:#000000;\" x=\"341.368168\" xlink:href=\"#m74d774195a\" y=\"357.496407\"/>\n     <use style=\"stroke:#000000;\" x=\"344.575099\" xlink:href=\"#m74d774195a\" y=\"356.96798\"/>\n     <use style=\"stroke:#000000;\" x=\"347.78203\" xlink:href=\"#m74d774195a\" y=\"356.182218\"/>\n     <use style=\"stroke:#000000;\" x=\"350.988961\" xlink:href=\"#m74d774195a\" y=\"355.276672\"/>\n     <use style=\"stroke:#000000;\" x=\"354.195893\" xlink:href=\"#m74d774195a\" y=\"354.566564\"/>\n     <use style=\"stroke:#000000;\" x=\"357.402824\" xlink:href=\"#m74d774195a\" y=\"353.685662\"/>\n     <use style=\"stroke:#000000;\" x=\"360.609755\" xlink:href=\"#m74d774195a\" y=\"352.945178\"/>\n     <use style=\"stroke:#000000;\" x=\"363.816686\" xlink:href=\"#m74d774195a\" y=\"351.989769\"/>\n     <use style=\"stroke:#000000;\" x=\"367.023617\" xlink:href=\"#m74d774195a\" y=\"351.182802\"/>\n     <use style=\"stroke:#000000;\" x=\"370.230549\" xlink:href=\"#m74d774195a\" y=\"350.131107\"/>\n     <use style=\"stroke:#000000;\" x=\"373.43748\" xlink:href=\"#m74d774195a\" y=\"349.210087\"/>\n     <use style=\"stroke:#000000;\" x=\"376.644411\" xlink:href=\"#m74d774195a\" y=\"348.311418\"/>\n     <use style=\"stroke:#000000;\" x=\"379.851342\" xlink:href=\"#m74d774195a\" y=\"347.221324\"/>\n     <use style=\"stroke:#000000;\" x=\"383.058273\" xlink:href=\"#m74d774195a\" y=\"346.244137\"/>\n     <use style=\"stroke:#000000;\" x=\"386.265205\" xlink:href=\"#m74d774195a\" y=\"345.211929\"/>\n     <use style=\"stroke:#000000;\" x=\"389.472136\" xlink:href=\"#m74d774195a\" y=\"343.838708\"/>\n     <use style=\"stroke:#000000;\" x=\"392.679067\" xlink:href=\"#m74d774195a\" y=\"342.369202\"/>\n     <use style=\"stroke:#000000;\" x=\"395.885998\" xlink:href=\"#m74d774195a\" y=\"340.677321\"/>\n     <use style=\"stroke:#000000;\" x=\"399.092929\" xlink:href=\"#m74d774195a\" y=\"338.581956\"/>\n     <use style=\"stroke:#000000;\" x=\"402.29986\" xlink:href=\"#m74d774195a\" y=\"336.879186\"/>\n     <use style=\"stroke:#000000;\" x=\"405.506792\" xlink:href=\"#m74d774195a\" y=\"334.81477\"/>\n     <use style=\"stroke:#000000;\" x=\"408.713723\" xlink:href=\"#m74d774195a\" y=\"332.898222\"/>\n     <use style=\"stroke:#000000;\" x=\"411.920654\" xlink:href=\"#m74d774195a\" y=\"330.984539\"/>\n     <use style=\"stroke:#000000;\" x=\"415.127585\" xlink:href=\"#m74d774195a\" y=\"329.16485\"/>\n     <use style=\"stroke:#000000;\" x=\"418.334516\" xlink:href=\"#m74d774195a\" y=\"326.694085\"/>\n     <use style=\"stroke:#000000;\" x=\"421.541448\" xlink:href=\"#m74d774195a\" y=\"324.6354\"/>\n     <use style=\"stroke:#000000;\" x=\"424.748379\" xlink:href=\"#m74d774195a\" y=\"322.59391\"/>\n     <use style=\"stroke:#000000;\" x=\"427.95531\" xlink:href=\"#m74d774195a\" y=\"320.458426\"/>\n     <use style=\"stroke:#000000;\" x=\"431.162241\" xlink:href=\"#m74d774195a\" y=\"318.171062\"/>\n     <use style=\"stroke:#000000;\" x=\"434.369172\" xlink:href=\"#m74d774195a\" y=\"315.988582\"/>\n     <use style=\"stroke:#000000;\" x=\"437.576104\" xlink:href=\"#m74d774195a\" y=\"313.240994\"/>\n     <use style=\"stroke:#000000;\" x=\"440.783035\" xlink:href=\"#m74d774195a\" y=\"310.347259\"/>\n     <use style=\"stroke:#000000;\" x=\"443.989966\" xlink:href=\"#m74d774195a\" y=\"307.694811\"/>\n     <use style=\"stroke:#000000;\" x=\"447.196897\" xlink:href=\"#m74d774195a\" y=\"304.167767\"/>\n     <use style=\"stroke:#000000;\" x=\"450.403828\" xlink:href=\"#m74d774195a\" y=\"300.889461\"/>\n     <use style=\"stroke:#000000;\" x=\"453.61076\" xlink:href=\"#m74d774195a\" y=\"297.437496\"/>\n     <use style=\"stroke:#000000;\" x=\"456.817691\" xlink:href=\"#m74d774195a\" y=\"293.691515\"/>\n     <use style=\"stroke:#000000;\" x=\"460.024622\" xlink:href=\"#m74d774195a\" y=\"289.871601\"/>\n     <use style=\"stroke:#000000;\" x=\"463.231553\" xlink:href=\"#m74d774195a\" y=\"285.794924\"/>\n     <use style=\"stroke:#000000;\" x=\"466.438484\" xlink:href=\"#m74d774195a\" y=\"282.118866\"/>\n     <use style=\"stroke:#000000;\" x=\"469.645416\" xlink:href=\"#m74d774195a\" y=\"278.733384\"/>\n     <use style=\"stroke:#000000;\" x=\"472.852347\" xlink:href=\"#m74d774195a\" y=\"274.580481\"/>\n     <use style=\"stroke:#000000;\" x=\"476.059278\" xlink:href=\"#m74d774195a\" y=\"270.422993\"/>\n     <use style=\"stroke:#000000;\" x=\"479.266209\" xlink:href=\"#m74d774195a\" y=\"265.758858\"/>\n     <use style=\"stroke:#000000;\" x=\"482.47314\" xlink:href=\"#m74d774195a\" y=\"260.965195\"/>\n     <use style=\"stroke:#000000;\" x=\"485.680071\" xlink:href=\"#m74d774195a\" y=\"255.927952\"/>\n     <use style=\"stroke:#000000;\" x=\"488.887003\" xlink:href=\"#m74d774195a\" y=\"251.501665\"/>\n     <use style=\"stroke:#000000;\" x=\"492.093934\" xlink:href=\"#m74d774195a\" y=\"246.449521\"/>\n     <use style=\"stroke:#000000;\" x=\"495.300865\" xlink:href=\"#m74d774195a\" y=\"240.89646\"/>\n     <use style=\"stroke:#000000;\" x=\"498.507796\" xlink:href=\"#m74d774195a\" y=\"235.252845\"/>\n     <use style=\"stroke:#000000;\" x=\"501.714727\" xlink:href=\"#m74d774195a\" y=\"229.824153\"/>\n     <use style=\"stroke:#000000;\" x=\"504.921659\" xlink:href=\"#m74d774195a\" y=\"223.859012\"/>\n     <use style=\"stroke:#000000;\" x=\"508.12859\" xlink:href=\"#m74d774195a\" y=\"217.622206\"/>\n    </g>\n   </g>\n   <g id=\"line2d_30\">\n    <path clip-path=\"url(#pe1b26fe296)\" d=\"M 94.434466 367.103546 \nL 100.848328 365.974288 \nL 104.05526 365.151343 \nL 107.262191 364.801369 \nL 110.469122 364.037644 \nL 113.676053 363.602726 \nL 116.882984 363.449995 \nL 123.296847 363.97776 \nL 126.503778 363.94477 \nL 129.710709 364.35596 \nL 132.91764 364.35562 \nL 139.331503 364.975608 \nL 142.538434 365.491613 \nL 145.745365 365.782665 \nL 148.952296 365.753689 \nL 152.159228 366.232857 \nL 164.986952 366.516243 \nL 171.400815 366.168999 \nL 174.607746 366.672638 \nL 181.021608 366.891406 \nL 184.228539 366.585113 \nL 187.435471 366.16684 \nL 193.849333 365.06177 \nL 197.056264 365.193485 \nL 200.263195 364.799716 \nL 203.470127 364.24004 \nL 206.677058 363.414214 \nL 209.883989 362.85961 \nL 213.09092 362.662977 \nL 216.297851 362.708026 \nL 219.504783 363.580043 \nL 222.711714 363.897333 \nL 225.918645 363.996716 \nL 229.125576 363.824659 \nL 232.332507 363.907272 \nL 238.74637 364.639428 \nL 241.953301 365.633591 \nL 245.160232 365.953035 \nL 248.367163 366.0852 \nL 251.574094 365.999631 \nL 257.987957 366.164066 \nL 261.194888 366.07858 \nL 264.401819 366.47232 \nL 274.022613 366.092146 \nL 277.229544 366.044851 \nL 280.436475 365.786557 \nL 283.643406 365.218539 \nL 286.850338 365.13791 \nL 296.471131 363.60219 \nL 299.678062 362.949508 \nL 306.091925 361.152959 \nL 312.505787 360.752201 \nL 315.712718 360.907959 \nL 318.919649 360.918472 \nL 322.126581 360.408932 \nL 328.540443 358.843303 \nL 331.747374 358.924997 \nL 338.161237 358.366329 \nL 341.368168 357.78424 \nL 344.575099 357.056998 \nL 350.988961 355.159612 \nL 354.195893 354.905757 \nL 357.402824 354.192101 \nL 360.609755 353.357335 \nL 367.023617 351.125499 \nL 373.43748 349.030682 \nL 376.644411 348.546007 \nL 379.851342 347.406205 \nL 383.058273 346.073138 \nL 386.265205 344.494663 \nL 392.679067 341.641141 \nL 395.885998 340.052961 \nL 399.092929 338.919939 \nL 402.29986 337.011205 \nL 405.506792 335.292406 \nL 408.713723 333.813401 \nL 411.920654 332.860445 \nL 415.127585 331.295937 \nL 418.334516 329.542394 \nL 421.541448 328.192008 \nL 424.748379 326.302607 \nL 431.162241 319.179346 \nL 437.576104 312.609407 \nL 440.783035 308.956001 \nL 443.989966 305.736384 \nL 456.817691 290.946755 \nL 463.231553 282.886742 \nL 466.438484 279.452338 \nL 472.852347 271.929727 \nL 479.266209 263.640523 \nL 485.680071 254.733088 \nL 488.887003 250.962078 \nL 495.300865 242.388191 \nL 501.714727 233.128751 \nL 504.921659 228.817777 \nL 508.12859 224.887047 \nL 511.335521 221.926244 \nL 514.542452 218.552562 \nL 517.749383 214.989129 \nL 524.163246 207.254237 \nL 527.370177 203.644203 \nL 530.577108 200.220171 \nL 533.784039 197.497957 \nL 536.990971 194.164978 \nL 540.197902 190.605559 \nL 546.611764 183.007856 \nL 553.025627 175.491527 \nL 556.232558 172.18724 \nL 572.267214 152.665981 \nL 575.474145 148.435898 \nL 578.681076 144.633615 \nL 591.508801 127.38311 \nL 597.922663 118.051972 \nL 604.336526 110.146902 \nL 613.957319 99.596176 \nL 617.16425 95.783204 \nL 620.371182 91.796907 \nL 629.991975 82.110258 \nL 636.405837 75.205639 \nL 642.8197 67.525697 \nL 646.026631 64.339874 \nL 652.440493 57.103228 \nL 662.061287 45.141462 \nL 662.061287 45.141462 \n\" style=\"fill:none;stroke:#0072b2;stroke-linecap:square;stroke-width:1.5;\"/>\n   </g>\n   <g id=\"patch_3\">\n    <path d=\"M 66.053125 386.6 \nL 66.053125 7.2 \n\" style=\"fill:none;stroke:#000000;stroke-linecap:square;stroke-linejoin:miter;stroke-width:0.8;\"/>\n   </g>\n   <g id=\"patch_4\">\n    <path d=\"M 690.442628 386.6 \nL 690.442628 7.2 \n\" style=\"fill:none;stroke:#000000;stroke-linecap:square;stroke-linejoin:miter;stroke-width:0.8;\"/>\n   </g>\n   <g id=\"patch_5\">\n    <path d=\"M 66.053125 386.6 \nL 690.442628 386.6 \n\" style=\"fill:none;stroke:#000000;stroke-linecap:square;stroke-linejoin:miter;stroke-width:0.8;\"/>\n   </g>\n   <g id=\"patch_6\">\n    <path d=\"M 66.053125 7.2 \nL 690.442628 7.2 \n\" style=\"fill:none;stroke:#000000;stroke-linecap:square;stroke-linejoin:miter;stroke-width:0.8;\"/>\n   </g>\n  </g>\n </g>\n <defs>\n  <clipPath id=\"pe1b26fe296\">\n   <rect height=\"379.4\" width=\"624.389503\" x=\"66.053125\" y=\"7.2\"/>\n  </clipPath>\n </defs>\n</svg>\n",
      "image/png": "[encoded data removed]"
     },
     "metadata": {}
    }
   ],
   "source": [
    "m.plot(prediction,uncertainty=True)"
   ]
  },
  {
   "cell_type": "markdown",
   "metadata": {},
   "source": [
    "Plotting components of the prediction"
   ]
  },
  {
   "cell_type": "code",
   "execution_count": 24,
   "metadata": {},
   "outputs": [
    {
     "output_type": "execute_result",
     "data": {
      "text/plain": "<Figure size 648x648 with 3 Axes>",
      "image/svg+xml": "<?xml version=\"1.0\" encoding=\"utf-8\" standalone=\"no\"?>\n<!DOCTYPE svg PUBLIC \"-//W3C//DTD SVG 1.1//EN\"\n  \"http://www.w3.org/Graphics/SVG/1.1/DTD/svg11.dtd\">\n<!-- Created with matplotlib (https://matplotlib.org/) -->\n<svg height=\"640.15625pt\" version=\"1.1\" viewBox=\"0 0 640.760179 640.15625\" width=\"640.760179pt\" xmlns=\"http://www.w3.org/2000/svg\" xmlns:xlink=\"http://www.w3.org/1999/xlink\">\n <defs>\n  <style type=\"text/css\">\n*{stroke-linecap:butt;stroke-linejoin:round;}\n  </style>\n </defs>\n <g id=\"figure_1\">\n  <g id=\"patch_1\">\n   <path d=\"M 0 640.15625 \nL 640.760179 640.15625 \nL 640.760179 0 \nL 0 0 \nz\n\" style=\"fill:#ffffff;\"/>\n  </g>\n  <g id=\"axes_1\">\n   <g id=\"patch_2\">\n    <path d=\"M 66.053125 177.8 \nL 617.912428 177.8 \nL 617.912428 7.2 \nL 66.053125 7.2 \nz\n\" style=\"fill:#ffffff;\"/>\n   </g>\n   <g id=\"PolyCollection_1\">\n    <defs>\n     <path d=\"M 91.137639 -470.110795 \nL 91.137639 -470.110795 \nL 93.972047 -470.153622 \nL 96.806455 -470.19645 \nL 99.640864 -470.239277 \nL 102.475272 -470.282104 \nL 105.30968 -470.324931 \nL 108.144089 -470.367758 \nL 110.978497 -470.410585 \nL 113.812905 -470.453412 \nL 116.647314 -470.496239 \nL 119.481722 -470.539066 \nL 122.31613 -470.581893 \nL 125.150539 -470.62472 \nL 127.984947 -470.667547 \nL 130.819355 -470.710374 \nL 133.653764 -470.753201 \nL 136.488172 -470.796028 \nL 139.32258 -470.838855 \nL 142.156989 -470.881682 \nL 144.991397 -470.924509 \nL 147.825805 -470.967336 \nL 150.660214 -471.010163 \nL 153.494622 -470.98857 \nL 156.32903 -470.966977 \nL 159.163439 -470.945384 \nL 161.997847 -470.923791 \nL 164.832255 -470.900875 \nL 167.666664 -470.877959 \nL 170.501072 -470.855043 \nL 173.33548 -470.832127 \nL 176.169889 -470.809211 \nL 179.004297 -470.786295 \nL 181.838705 -470.763379 \nL 184.673114 -470.740463 \nL 187.507522 -470.717546 \nL 190.34193 -470.69463 \nL 193.176339 -470.671714 \nL 196.010747 -470.648798 \nL 198.845155 -470.675256 \nL 201.679564 -470.701715 \nL 204.513972 -470.728173 \nL 207.34838 -470.754631 \nL 210.182789 -470.781115 \nL 213.017197 -470.807599 \nL 215.851605 -470.834084 \nL 218.686014 -470.860568 \nL 221.520422 -470.887052 \nL 224.35483 -470.913536 \nL 227.189239 -470.94002 \nL 230.023647 -470.966504 \nL 232.858055 -470.992988 \nL 235.692464 -471.019472 \nL 238.526872 -471.045957 \nL 241.361281 -471.072441 \nL 244.195689 -471.098925 \nL 247.030097 -471.125408 \nL 249.864506 -471.151892 \nL 252.698914 -471.178375 \nL 255.533322 -471.204859 \nL 258.367731 -471.231342 \nL 261.202139 -471.257825 \nL 264.036547 -471.284309 \nL 266.870956 -471.310792 \nL 269.705364 -471.337276 \nL 272.539772 -471.363759 \nL 275.374181 -471.390242 \nL 278.208589 -471.416726 \nL 281.042997 -471.549281 \nL 283.877406 -471.681836 \nL 286.711814 -471.814392 \nL 289.546222 -471.946947 \nL 292.380631 -472.265105 \nL 295.215039 -472.583263 \nL 298.049447 -472.901421 \nL 300.883856 -473.219579 \nL 303.718264 -473.637717 \nL 306.552672 -474.055856 \nL 309.387081 -474.473994 \nL 312.221489 -474.892133 \nL 315.055897 -475.316024 \nL 317.890306 -475.739916 \nL 320.724714 -476.163808 \nL 323.559122 -476.587699 \nL 326.393531 -477.012032 \nL 329.227939 -477.436364 \nL 332.062347 -477.860696 \nL 334.896756 -478.285029 \nL 337.731164 -478.709361 \nL 340.565572 -479.133831 \nL 343.399981 -479.558301 \nL 346.234389 -479.98277 \nL 349.068797 -480.40724 \nL 351.903206 -480.835079 \nL 354.737614 -481.262918 \nL 357.572022 -481.690756 \nL 360.406431 -482.118595 \nL 363.240839 -482.655529 \nL 366.075247 -483.192464 \nL 368.909656 -483.729398 \nL 371.744064 -484.266332 \nL 374.578472 -485.13876 \nL 377.412881 -486.011188 \nL 380.247289 -486.883616 \nL 383.081697 -487.756044 \nL 385.916106 -489.486194 \nL 388.750514 -491.216344 \nL 391.584922 -492.946494 \nL 394.419331 -494.676644 \nL 397.253739 -496.406794 \nL 400.088147 -498.136944 \nL 402.922556 -499.867094 \nL 405.756964 -501.597244 \nL 408.591372 -503.327394 \nL 411.425781 -505.057544 \nL 414.260189 -506.787694 \nL 417.094597 -508.517844 \nL 419.929006 -510.247994 \nL 422.763414 -511.978144 \nL 425.597822 -513.708294 \nL 428.432231 -515.438443 \nL 431.266639 -517.168593 \nL 434.101047 -518.898743 \nL 436.935456 -520.628893 \nL 439.769864 -522.359043 \nL 442.604272 -524.089193 \nL 445.438681 -525.819343 \nL 448.273089 -527.549493 \nL 451.107497 -529.279643 \nL 453.941906 -531.009793 \nL 456.776314 -532.739943 \nL 459.610722 -534.470093 \nL 462.445131 -536.166348 \nL 465.279539 -537.831088 \nL 468.113947 -539.481093 \nL 470.948356 -541.104235 \nL 473.782764 -542.718183 \nL 476.617172 -544.337742 \nL 479.451581 -545.919244 \nL 482.285989 -547.524882 \nL 485.120397 -549.116148 \nL 487.954806 -550.710297 \nL 490.789214 -552.269526 \nL 493.623622 -553.798541 \nL 496.458031 -555.344477 \nL 499.292439 -556.915908 \nL 502.126847 -558.462714 \nL 504.961256 -559.995979 \nL 507.795664 -561.503819 \nL 510.630072 -563.08788 \nL 513.464481 -564.619441 \nL 516.298889 -566.09197 \nL 519.133297 -567.601827 \nL 521.967706 -569.091025 \nL 524.802114 -570.531361 \nL 527.636522 -572.021174 \nL 530.470931 -573.562266 \nL 533.305339 -575.048145 \nL 536.139747 -576.656321 \nL 538.974156 -578.056558 \nL 541.808564 -579.395686 \nL 544.642972 -580.894762 \nL 547.477381 -582.298488 \nL 550.311789 -583.814931 \nL 553.146197 -585.382704 \nL 555.980606 -586.798258 \nL 558.815014 -588.11142 \nL 561.649422 -589.586343 \nL 564.483831 -591.055685 \nL 567.318239 -592.337134 \nL 570.152647 -593.909747 \nL 572.987056 -595.333876 \nL 575.821464 -596.690313 \nL 578.655872 -598.138404 \nL 581.490281 -599.548682 \nL 584.324689 -601.023288 \nL 587.159097 -602.485857 \nL 589.993506 -603.980708 \nL 592.827914 -605.34455 \nL 592.827914 -625.201705 \nL 592.827914 -625.201705 \nL 589.993506 -623.144116 \nL 587.159097 -621.176275 \nL 584.324689 -619.178595 \nL 581.490281 -617.246709 \nL 578.655872 -615.21758 \nL 575.821464 -613.257256 \nL 572.987056 -611.264935 \nL 570.152647 -609.241119 \nL 567.318239 -607.144403 \nL 564.483831 -605.094567 \nL 561.649422 -603.051256 \nL 558.815014 -601.12831 \nL 555.980606 -599.145246 \nL 553.146197 -597.263178 \nL 550.311789 -595.28572 \nL 547.477381 -593.269814 \nL 544.642972 -591.3037 \nL 541.808564 -589.384104 \nL 538.974156 -587.41769 \nL 536.139747 -585.436266 \nL 533.305339 -583.50931 \nL 530.470931 -581.516452 \nL 527.636522 -579.592977 \nL 524.802114 -577.636379 \nL 521.967706 -575.66428 \nL 519.133297 -573.729754 \nL 516.298889 -571.781893 \nL 513.464481 -569.880808 \nL 510.630072 -567.967894 \nL 507.795664 -566.049118 \nL 504.961256 -564.143719 \nL 502.126847 -562.21601 \nL 499.292439 -560.297 \nL 496.458031 -558.374135 \nL 493.623622 -556.531615 \nL 490.789214 -554.646764 \nL 487.954806 -552.72108 \nL 485.120397 -550.877695 \nL 482.285989 -548.979002 \nL 479.451581 -547.131527 \nL 476.617172 -545.284102 \nL 473.782764 -543.462459 \nL 470.948356 -541.638761 \nL 468.113947 -539.822253 \nL 465.279539 -538.013416 \nL 462.445131 -536.223358 \nL 459.610722 -534.470093 \nL 456.776314 -532.739943 \nL 453.941906 -531.009793 \nL 451.107497 -529.279643 \nL 448.273089 -527.549493 \nL 445.438681 -525.819343 \nL 442.604272 -524.089193 \nL 439.769864 -522.359043 \nL 436.935456 -520.628893 \nL 434.101047 -518.898743 \nL 431.266639 -517.168593 \nL 428.432231 -515.438443 \nL 425.597822 -513.708294 \nL 422.763414 -511.978144 \nL 419.929006 -510.247994 \nL 417.094597 -508.517844 \nL 414.260189 -506.787694 \nL 411.425781 -505.057544 \nL 408.591372 -503.327394 \nL 405.756964 -501.597244 \nL 402.922556 -499.867094 \nL 400.088147 -498.136944 \nL 397.253739 -496.406794 \nL 394.419331 -494.676644 \nL 391.584922 -492.946494 \nL 388.750514 -491.216344 \nL 385.916106 -489.486194 \nL 383.081697 -487.756044 \nL 380.247289 -486.883616 \nL 377.412881 -486.011188 \nL 374.578472 -485.13876 \nL 371.744064 -484.266332 \nL 368.909656 -483.729398 \nL 366.075247 -483.192464 \nL 363.240839 -482.655529 \nL 360.406431 -482.118595 \nL 357.572022 -481.690756 \nL 354.737614 -481.262918 \nL 351.903206 -480.835079 \nL 349.068797 -480.40724 \nL 346.234389 -479.98277 \nL 343.399981 -479.558301 \nL 340.565572 -479.133831 \nL 337.731164 -478.709361 \nL 334.896756 -478.285029 \nL 332.062347 -477.860696 \nL 329.227939 -477.436364 \nL 326.393531 -477.012032 \nL 323.559122 -476.587699 \nL 320.724714 -476.163808 \nL 317.890306 -475.739916 \nL 315.055897 -475.316024 \nL 312.221489 -474.892133 \nL 309.387081 -474.473994 \nL 306.552672 -474.055856 \nL 303.718264 -473.637717 \nL 300.883856 -473.219579 \nL 298.049447 -472.901421 \nL 295.215039 -472.583263 \nL 292.380631 -472.265105 \nL 289.546222 -471.946947 \nL 286.711814 -471.814392 \nL 283.877406 -471.681836 \nL 281.042997 -471.549281 \nL 278.208589 -471.416726 \nL 275.374181 -471.390242 \nL 272.539772 -471.363759 \nL 269.705364 -471.337276 \nL 266.870956 -471.310792 \nL 264.036547 -471.284309 \nL 261.202139 -471.257825 \nL 258.367731 -471.231342 \nL 255.533322 -471.204859 \nL 252.698914 -471.178375 \nL 249.864506 -471.151892 \nL 247.030097 -471.125408 \nL 244.195689 -471.098925 \nL 241.361281 -471.072441 \nL 238.526872 -471.045957 \nL 235.692464 -471.019472 \nL 232.858055 -470.992988 \nL 230.023647 -470.966504 \nL 227.189239 -470.94002 \nL 224.35483 -470.913536 \nL 221.520422 -470.887052 \nL 218.686014 -470.860568 \nL 215.851605 -470.834084 \nL 213.017197 -470.807599 \nL 210.182789 -470.781115 \nL 207.34838 -470.754631 \nL 204.513972 -470.728173 \nL 201.679564 -470.701715 \nL 198.845155 -470.675256 \nL 196.010747 -470.648798 \nL 193.176339 -470.671714 \nL 190.34193 -470.69463 \nL 187.507522 -470.717546 \nL 184.673114 -470.740463 \nL 181.838705 -470.763379 \nL 179.004297 -470.786295 \nL 176.169889 -470.809211 \nL 173.33548 -470.832127 \nL 170.501072 -470.855043 \nL 167.666664 -470.877959 \nL 164.832255 -470.900875 \nL 161.997847 -470.923791 \nL 159.163439 -470.945384 \nL 156.32903 -470.966977 \nL 153.494622 -470.98857 \nL 150.660214 -471.010163 \nL 147.825805 -470.967336 \nL 144.991397 -470.924509 \nL 142.156989 -470.881682 \nL 139.32258 -470.838855 \nL 136.488172 -470.796028 \nL 133.653764 -470.753201 \nL 130.819355 -470.710374 \nL 127.984947 -470.667547 \nL 125.150539 -470.62472 \nL 122.31613 -470.581893 \nL 119.481722 -470.539066 \nL 116.647314 -470.496239 \nL 113.812905 -470.453412 \nL 110.978497 -470.410585 \nL 108.144089 -470.367758 \nL 105.30968 -470.324931 \nL 102.475272 -470.282104 \nL 99.640864 -470.239277 \nL 96.806455 -470.19645 \nL 93.972047 -470.153622 \nL 91.137639 -470.110795 \nz\n\" id=\"ma8415fe986\" style=\"stroke:#0072b2;stroke-opacity:0.2;\"/>\n    </defs>\n    <g clip-path=\"url(#pf409312ee0)\">\n     <use style=\"fill:#0072b2;fill-opacity:0.2;stroke:#0072b2;stroke-opacity:0.2;\" x=\"0\" xlink:href=\"#ma8415fe986\" y=\"640.15625\"/>\n    </g>\n   </g>\n   <g id=\"matplotlib.axis_1\">\n    <g id=\"xtick_1\">\n     <g id=\"line2d_1\">\n      <path clip-path=\"url(#pf409312ee0)\" d=\"M 96.806455 177.8 \nL 96.806455 7.2 \n\" style=\"fill:none;stroke:#808080;stroke-linecap:square;stroke-opacity:0.2;\"/>\n     </g>\n     <g id=\"line2d_2\">\n      <defs>\n       <path d=\"M 0 0 \nL 0 3.5 \n\" id=\"m4d94871ac5\" style=\"stroke:#000000;stroke-width:0.8;\"/>\n      </defs>\n      <g>\n       <use style=\"stroke:#000000;stroke-width:0.8;\" x=\"96.806455\" xlink:href=\"#m4d94871ac5\" y=\"177.8\"/>\n      </g>\n     </g>\n     <g id=\"text_1\">\n      <!-- 2020-02 -->\n      <defs>\n       <path d=\"M 19.1875 8.296875 \nL 53.609375 8.296875 \nL 53.609375 0 \nL 7.328125 0 \nL 7.328125 8.296875 \nQ 12.9375 14.109375 22.625 23.890625 \nQ 32.328125 33.6875 34.8125 36.53125 \nQ 39.546875 41.84375 41.421875 45.53125 \nQ 43.3125 49.21875 43.3125 52.78125 \nQ 43.3125 58.59375 39.234375 62.25 \nQ 35.15625 65.921875 28.609375 65.921875 \nQ 23.96875 65.921875 18.8125 64.3125 \nQ 13.671875 62.703125 7.8125 59.421875 \nL 7.8125 69.390625 \nQ 13.765625 71.78125 18.9375 73 \nQ 24.125 74.21875 28.421875 74.21875 \nQ 39.75 74.21875 46.484375 68.546875 \nQ 53.21875 62.890625 53.21875 53.421875 \nQ 53.21875 48.921875 51.53125 44.890625 \nQ 49.859375 40.875 45.40625 35.40625 \nQ 44.1875 33.984375 37.640625 27.21875 \nQ 31.109375 20.453125 19.1875 8.296875 \nz\n\" id=\"DejaVuSans-50\"/>\n       <path d=\"M 31.78125 66.40625 \nQ 24.171875 66.40625 20.328125 58.90625 \nQ 16.5 51.421875 16.5 36.375 \nQ 16.5 21.390625 20.328125 13.890625 \nQ 24.171875 6.390625 31.78125 6.390625 \nQ 39.453125 6.390625 43.28125 13.890625 \nQ 47.125 21.390625 47.125 36.375 \nQ 47.125 51.421875 43.28125 58.90625 \nQ 39.453125 66.40625 31.78125 66.40625 \nz\nM 31.78125 74.21875 \nQ 44.046875 74.21875 50.515625 64.515625 \nQ 56.984375 54.828125 56.984375 36.375 \nQ 56.984375 17.96875 50.515625 8.265625 \nQ 44.046875 -1.421875 31.78125 -1.421875 \nQ 19.53125 -1.421875 13.0625 8.265625 \nQ 6.59375 17.96875 6.59375 36.375 \nQ 6.59375 54.828125 13.0625 64.515625 \nQ 19.53125 74.21875 31.78125 74.21875 \nz\n\" id=\"DejaVuSans-48\"/>\n       <path d=\"M 4.890625 31.390625 \nL 31.203125 31.390625 \nL 31.203125 23.390625 \nL 4.890625 23.390625 \nz\n\" id=\"DejaVuSans-45\"/>\n      </defs>\n      <g transform=\"translate(75.915049 192.398437)scale(0.1 -0.1)\">\n       <use xlink:href=\"#DejaVuSans-50\"/>\n       <use x=\"63.623047\" xlink:href=\"#DejaVuSans-48\"/>\n       <use x=\"127.246094\" xlink:href=\"#DejaVuSans-50\"/>\n       <use x=\"190.869141\" xlink:href=\"#DejaVuSans-48\"/>\n       <use x=\"254.492188\" xlink:href=\"#DejaVuSans-45\"/>\n       <use x=\"290.576172\" xlink:href=\"#DejaVuSans-48\"/>\n       <use x=\"354.199219\" xlink:href=\"#DejaVuSans-50\"/>\n      </g>\n     </g>\n    </g>\n    <g id=\"xtick_2\">\n     <g id=\"line2d_3\">\n      <path clip-path=\"url(#pf409312ee0)\" d=\"M 179.004297 177.8 \nL 179.004297 7.2 \n\" style=\"fill:none;stroke:#808080;stroke-linecap:square;stroke-opacity:0.2;\"/>\n     </g>\n     <g id=\"line2d_4\">\n      <g>\n       <use style=\"stroke:#000000;stroke-width:0.8;\" x=\"179.004297\" xlink:href=\"#m4d94871ac5\" y=\"177.8\"/>\n      </g>\n     </g>\n     <g id=\"text_2\">\n      <!-- 2020-03 -->\n      <defs>\n       <path d=\"M 40.578125 39.3125 \nQ 47.65625 37.796875 51.625 33 \nQ 55.609375 28.21875 55.609375 21.1875 \nQ 55.609375 10.40625 48.1875 4.484375 \nQ 40.765625 -1.421875 27.09375 -1.421875 \nQ 22.515625 -1.421875 17.65625 -0.515625 \nQ 12.796875 0.390625 7.625 2.203125 \nL 7.625 11.71875 \nQ 11.71875 9.328125 16.59375 8.109375 \nQ 21.484375 6.890625 26.8125 6.890625 \nQ 36.078125 6.890625 40.9375 10.546875 \nQ 45.796875 14.203125 45.796875 21.1875 \nQ 45.796875 27.640625 41.28125 31.265625 \nQ 36.765625 34.90625 28.71875 34.90625 \nL 20.21875 34.90625 \nL 20.21875 43.015625 \nL 29.109375 43.015625 \nQ 36.375 43.015625 40.234375 45.921875 \nQ 44.09375 48.828125 44.09375 54.296875 \nQ 44.09375 59.90625 40.109375 62.90625 \nQ 36.140625 65.921875 28.71875 65.921875 \nQ 24.65625 65.921875 20.015625 65.03125 \nQ 15.375 64.15625 9.8125 62.3125 \nL 9.8125 71.09375 \nQ 15.4375 72.65625 20.34375 73.4375 \nQ 25.25 74.21875 29.59375 74.21875 \nQ 40.828125 74.21875 47.359375 69.109375 \nQ 53.90625 64.015625 53.90625 55.328125 \nQ 53.90625 49.265625 50.4375 45.09375 \nQ 46.96875 40.921875 40.578125 39.3125 \nz\n\" id=\"DejaVuSans-51\"/>\n      </defs>\n      <g transform=\"translate(158.112891 192.398437)scale(0.1 -0.1)\">\n       <use xlink:href=\"#DejaVuSans-50\"/>\n       <use x=\"63.623047\" xlink:href=\"#DejaVuSans-48\"/>\n       <use x=\"127.246094\" xlink:href=\"#DejaVuSans-50\"/>\n       <use x=\"190.869141\" xlink:href=\"#DejaVuSans-48\"/>\n       <use x=\"254.492188\" xlink:href=\"#DejaVuSans-45\"/>\n       <use x=\"290.576172\" xlink:href=\"#DejaVuSans-48\"/>\n       <use x=\"354.199219\" xlink:href=\"#DejaVuSans-51\"/>\n      </g>\n     </g>\n    </g>\n    <g id=\"xtick_3\">\n     <g id=\"line2d_5\">\n      <path clip-path=\"url(#pf409312ee0)\" d=\"M 266.870956 177.8 \nL 266.870956 7.2 \n\" style=\"fill:none;stroke:#808080;stroke-linecap:square;stroke-opacity:0.2;\"/>\n     </g>\n     <g id=\"line2d_6\">\n      <g>\n       <use style=\"stroke:#000000;stroke-width:0.8;\" x=\"266.870956\" xlink:href=\"#m4d94871ac5\" y=\"177.8\"/>\n      </g>\n     </g>\n     <g id=\"text_3\">\n      <!-- 2020-04 -->\n      <defs>\n       <path d=\"M 37.796875 64.3125 \nL 12.890625 25.390625 \nL 37.796875 25.390625 \nz\nM 35.203125 72.90625 \nL 47.609375 72.90625 \nL 47.609375 25.390625 \nL 58.015625 25.390625 \nL 58.015625 17.1875 \nL 47.609375 17.1875 \nL 47.609375 0 \nL 37.796875 0 \nL 37.796875 17.1875 \nL 4.890625 17.1875 \nL 4.890625 26.703125 \nz\n\" id=\"DejaVuSans-52\"/>\n      </defs>\n      <g transform=\"translate(245.979549 192.398437)scale(0.1 -0.1)\">\n       <use xlink:href=\"#DejaVuSans-50\"/>\n       <use x=\"63.623047\" xlink:href=\"#DejaVuSans-48\"/>\n       <use x=\"127.246094\" xlink:href=\"#DejaVuSans-50\"/>\n       <use x=\"190.869141\" xlink:href=\"#DejaVuSans-48\"/>\n       <use x=\"254.492188\" xlink:href=\"#DejaVuSans-45\"/>\n       <use x=\"290.576172\" xlink:href=\"#DejaVuSans-48\"/>\n       <use x=\"354.199219\" xlink:href=\"#DejaVuSans-52\"/>\n      </g>\n     </g>\n    </g>\n    <g id=\"xtick_4\">\n     <g id=\"line2d_7\">\n      <path clip-path=\"url(#pf409312ee0)\" d=\"M 351.903206 177.8 \nL 351.903206 7.2 \n\" style=\"fill:none;stroke:#808080;stroke-linecap:square;stroke-opacity:0.2;\"/>\n     </g>\n     <g id=\"line2d_8\">\n      <g>\n       <use style=\"stroke:#000000;stroke-width:0.8;\" x=\"351.903206\" xlink:href=\"#m4d94871ac5\" y=\"177.8\"/>\n      </g>\n     </g>\n     <g id=\"text_4\">\n      <!-- 2020-05 -->\n      <defs>\n       <path d=\"M 10.796875 72.90625 \nL 49.515625 72.90625 \nL 49.515625 64.59375 \nL 19.828125 64.59375 \nL 19.828125 46.734375 \nQ 21.96875 47.46875 24.109375 47.828125 \nQ 26.265625 48.1875 28.421875 48.1875 \nQ 40.625 48.1875 47.75 41.5 \nQ 54.890625 34.8125 54.890625 23.390625 \nQ 54.890625 11.625 47.5625 5.09375 \nQ 40.234375 -1.421875 26.90625 -1.421875 \nQ 22.3125 -1.421875 17.546875 -0.640625 \nQ 12.796875 0.140625 7.71875 1.703125 \nL 7.71875 11.625 \nQ 12.109375 9.234375 16.796875 8.0625 \nQ 21.484375 6.890625 26.703125 6.890625 \nQ 35.15625 6.890625 40.078125 11.328125 \nQ 45.015625 15.765625 45.015625 23.390625 \nQ 45.015625 31 40.078125 35.4375 \nQ 35.15625 39.890625 26.703125 39.890625 \nQ 22.75 39.890625 18.8125 39.015625 \nQ 14.890625 38.140625 10.796875 36.28125 \nz\n\" id=\"DejaVuSans-53\"/>\n      </defs>\n      <g transform=\"translate(331.011799 192.398437)scale(0.1 -0.1)\">\n       <use xlink:href=\"#DejaVuSans-50\"/>\n       <use x=\"63.623047\" xlink:href=\"#DejaVuSans-48\"/>\n       <use x=\"127.246094\" xlink:href=\"#DejaVuSans-50\"/>\n       <use x=\"190.869141\" xlink:href=\"#DejaVuSans-48\"/>\n       <use x=\"254.492188\" xlink:href=\"#DejaVuSans-45\"/>\n       <use x=\"290.576172\" xlink:href=\"#DejaVuSans-48\"/>\n       <use x=\"354.199219\" xlink:href=\"#DejaVuSans-53\"/>\n      </g>\n     </g>\n    </g>\n    <g id=\"xtick_5\">\n     <g id=\"line2d_9\">\n      <path clip-path=\"url(#pf409312ee0)\" d=\"M 439.769864 177.8 \nL 439.769864 7.2 \n\" style=\"fill:none;stroke:#808080;stroke-linecap:square;stroke-opacity:0.2;\"/>\n     </g>\n     <g id=\"line2d_10\">\n      <g>\n       <use style=\"stroke:#000000;stroke-width:0.8;\" x=\"439.769864\" xlink:href=\"#m4d94871ac5\" y=\"177.8\"/>\n      </g>\n     </g>\n     <g id=\"text_5\">\n      <!-- 2020-06 -->\n      <defs>\n       <path d=\"M 33.015625 40.375 \nQ 26.375 40.375 22.484375 35.828125 \nQ 18.609375 31.296875 18.609375 23.390625 \nQ 18.609375 15.53125 22.484375 10.953125 \nQ 26.375 6.390625 33.015625 6.390625 \nQ 39.65625 6.390625 43.53125 10.953125 \nQ 47.40625 15.53125 47.40625 23.390625 \nQ 47.40625 31.296875 43.53125 35.828125 \nQ 39.65625 40.375 33.015625 40.375 \nz\nM 52.59375 71.296875 \nL 52.59375 62.3125 \nQ 48.875 64.0625 45.09375 64.984375 \nQ 41.3125 65.921875 37.59375 65.921875 \nQ 27.828125 65.921875 22.671875 59.328125 \nQ 17.53125 52.734375 16.796875 39.40625 \nQ 19.671875 43.65625 24.015625 45.921875 \nQ 28.375 48.1875 33.59375 48.1875 \nQ 44.578125 48.1875 50.953125 41.515625 \nQ 57.328125 34.859375 57.328125 23.390625 \nQ 57.328125 12.15625 50.6875 5.359375 \nQ 44.046875 -1.421875 33.015625 -1.421875 \nQ 20.359375 -1.421875 13.671875 8.265625 \nQ 6.984375 17.96875 6.984375 36.375 \nQ 6.984375 53.65625 15.1875 63.9375 \nQ 23.390625 74.21875 37.203125 74.21875 \nQ 40.921875 74.21875 44.703125 73.484375 \nQ 48.484375 72.75 52.59375 71.296875 \nz\n\" id=\"DejaVuSans-54\"/>\n      </defs>\n      <g transform=\"translate(418.878458 192.398437)scale(0.1 -0.1)\">\n       <use xlink:href=\"#DejaVuSans-50\"/>\n       <use x=\"63.623047\" xlink:href=\"#DejaVuSans-48\"/>\n       <use x=\"127.246094\" xlink:href=\"#DejaVuSans-50\"/>\n       <use x=\"190.869141\" xlink:href=\"#DejaVuSans-48\"/>\n       <use x=\"254.492188\" xlink:href=\"#DejaVuSans-45\"/>\n       <use x=\"290.576172\" xlink:href=\"#DejaVuSans-48\"/>\n       <use x=\"354.199219\" xlink:href=\"#DejaVuSans-54\"/>\n      </g>\n     </g>\n    </g>\n    <g id=\"xtick_6\">\n     <g id=\"line2d_11\">\n      <path clip-path=\"url(#pf409312ee0)\" d=\"M 524.802114 177.8 \nL 524.802114 7.2 \n\" style=\"fill:none;stroke:#808080;stroke-linecap:square;stroke-opacity:0.2;\"/>\n     </g>\n     <g id=\"line2d_12\">\n      <g>\n       <use style=\"stroke:#000000;stroke-width:0.8;\" x=\"524.802114\" xlink:href=\"#m4d94871ac5\" y=\"177.8\"/>\n      </g>\n     </g>\n     <g id=\"text_6\">\n      <!-- 2020-07 -->\n      <defs>\n       <path d=\"M 8.203125 72.90625 \nL 55.078125 72.90625 \nL 55.078125 68.703125 \nL 28.609375 0 \nL 18.3125 0 \nL 43.21875 64.59375 \nL 8.203125 64.59375 \nz\n\" id=\"DejaVuSans-55\"/>\n      </defs>\n      <g transform=\"translate(503.910708 192.398437)scale(0.1 -0.1)\">\n       <use xlink:href=\"#DejaVuSans-50\"/>\n       <use x=\"63.623047\" xlink:href=\"#DejaVuSans-48\"/>\n       <use x=\"127.246094\" xlink:href=\"#DejaVuSans-50\"/>\n       <use x=\"190.869141\" xlink:href=\"#DejaVuSans-48\"/>\n       <use x=\"254.492188\" xlink:href=\"#DejaVuSans-45\"/>\n       <use x=\"290.576172\" xlink:href=\"#DejaVuSans-48\"/>\n       <use x=\"354.199219\" xlink:href=\"#DejaVuSans-55\"/>\n      </g>\n     </g>\n    </g>\n    <g id=\"xtick_7\">\n     <g id=\"line2d_13\">\n      <path clip-path=\"url(#pf409312ee0)\" d=\"M 612.668772 177.8 \nL 612.668772 7.2 \n\" style=\"fill:none;stroke:#808080;stroke-linecap:square;stroke-opacity:0.2;\"/>\n     </g>\n     <g id=\"line2d_14\">\n      <g>\n       <use style=\"stroke:#000000;stroke-width:0.8;\" x=\"612.668772\" xlink:href=\"#m4d94871ac5\" y=\"177.8\"/>\n      </g>\n     </g>\n     <g id=\"text_7\">\n      <!-- 2020-08 -->\n      <defs>\n       <path d=\"M 31.78125 34.625 \nQ 24.75 34.625 20.71875 30.859375 \nQ 16.703125 27.09375 16.703125 20.515625 \nQ 16.703125 13.921875 20.71875 10.15625 \nQ 24.75 6.390625 31.78125 6.390625 \nQ 38.8125 6.390625 42.859375 10.171875 \nQ 46.921875 13.96875 46.921875 20.515625 \nQ 46.921875 27.09375 42.890625 30.859375 \nQ 38.875 34.625 31.78125 34.625 \nz\nM 21.921875 38.8125 \nQ 15.578125 40.375 12.03125 44.71875 \nQ 8.5 49.078125 8.5 55.328125 \nQ 8.5 64.0625 14.71875 69.140625 \nQ 20.953125 74.21875 31.78125 74.21875 \nQ 42.671875 74.21875 48.875 69.140625 \nQ 55.078125 64.0625 55.078125 55.328125 \nQ 55.078125 49.078125 51.53125 44.71875 \nQ 48 40.375 41.703125 38.8125 \nQ 48.828125 37.15625 52.796875 32.3125 \nQ 56.78125 27.484375 56.78125 20.515625 \nQ 56.78125 9.90625 50.3125 4.234375 \nQ 43.84375 -1.421875 31.78125 -1.421875 \nQ 19.734375 -1.421875 13.25 4.234375 \nQ 6.78125 9.90625 6.78125 20.515625 \nQ 6.78125 27.484375 10.78125 32.3125 \nQ 14.796875 37.15625 21.921875 38.8125 \nz\nM 18.3125 54.390625 \nQ 18.3125 48.734375 21.84375 45.5625 \nQ 25.390625 42.390625 31.78125 42.390625 \nQ 38.140625 42.390625 41.71875 45.5625 \nQ 45.3125 48.734375 45.3125 54.390625 \nQ 45.3125 60.0625 41.71875 63.234375 \nQ 38.140625 66.40625 31.78125 66.40625 \nQ 25.390625 66.40625 21.84375 63.234375 \nQ 18.3125 60.0625 18.3125 54.390625 \nz\n\" id=\"DejaVuSans-56\"/>\n      </defs>\n      <g transform=\"translate(591.777366 192.398437)scale(0.1 -0.1)\">\n       <use xlink:href=\"#DejaVuSans-50\"/>\n       <use x=\"63.623047\" xlink:href=\"#DejaVuSans-48\"/>\n       <use x=\"127.246094\" xlink:href=\"#DejaVuSans-50\"/>\n       <use x=\"190.869141\" xlink:href=\"#DejaVuSans-48\"/>\n       <use x=\"254.492188\" xlink:href=\"#DejaVuSans-45\"/>\n       <use x=\"290.576172\" xlink:href=\"#DejaVuSans-48\"/>\n       <use x=\"354.199219\" xlink:href=\"#DejaVuSans-56\"/>\n      </g>\n     </g>\n    </g>\n    <g id=\"text_8\">\n     <!-- ds -->\n     <defs>\n      <path d=\"M 45.40625 46.390625 \nL 45.40625 75.984375 \nL 54.390625 75.984375 \nL 54.390625 0 \nL 45.40625 0 \nL 45.40625 8.203125 \nQ 42.578125 3.328125 38.25 0.953125 \nQ 33.9375 -1.421875 27.875 -1.421875 \nQ 17.96875 -1.421875 11.734375 6.484375 \nQ 5.515625 14.40625 5.515625 27.296875 \nQ 5.515625 40.1875 11.734375 48.09375 \nQ 17.96875 56 27.875 56 \nQ 33.9375 56 38.25 53.625 \nQ 42.578125 51.265625 45.40625 46.390625 \nz\nM 14.796875 27.296875 \nQ 14.796875 17.390625 18.875 11.75 \nQ 22.953125 6.109375 30.078125 6.109375 \nQ 37.203125 6.109375 41.296875 11.75 \nQ 45.40625 17.390625 45.40625 27.296875 \nQ 45.40625 37.203125 41.296875 42.84375 \nQ 37.203125 48.484375 30.078125 48.484375 \nQ 22.953125 48.484375 18.875 42.84375 \nQ 14.796875 37.203125 14.796875 27.296875 \nz\n\" id=\"DejaVuSans-100\"/>\n      <path d=\"M 44.28125 53.078125 \nL 44.28125 44.578125 \nQ 40.484375 46.53125 36.375 47.5 \nQ 32.28125 48.484375 27.875 48.484375 \nQ 21.1875 48.484375 17.84375 46.4375 \nQ 14.5 44.390625 14.5 40.28125 \nQ 14.5 37.15625 16.890625 35.375 \nQ 19.28125 33.59375 26.515625 31.984375 \nL 29.59375 31.296875 \nQ 39.15625 29.25 43.1875 25.515625 \nQ 47.21875 21.78125 47.21875 15.09375 \nQ 47.21875 7.46875 41.1875 3.015625 \nQ 35.15625 -1.421875 24.609375 -1.421875 \nQ 20.21875 -1.421875 15.453125 -0.5625 \nQ 10.6875 0.296875 5.421875 2 \nL 5.421875 11.28125 \nQ 10.40625 8.6875 15.234375 7.390625 \nQ 20.0625 6.109375 24.8125 6.109375 \nQ 31.15625 6.109375 34.5625 8.28125 \nQ 37.984375 10.453125 37.984375 14.40625 \nQ 37.984375 18.0625 35.515625 20.015625 \nQ 33.0625 21.96875 24.703125 23.78125 \nL 21.578125 24.515625 \nQ 13.234375 26.265625 9.515625 29.90625 \nQ 5.8125 33.546875 5.8125 39.890625 \nQ 5.8125 47.609375 11.28125 51.796875 \nQ 16.75 56 26.8125 56 \nQ 31.78125 56 36.171875 55.265625 \nQ 40.578125 54.546875 44.28125 53.078125 \nz\n\" id=\"DejaVuSans-115\"/>\n     </defs>\n     <g transform=\"translate(336.20387 206.076562)scale(0.1 -0.1)\">\n      <use xlink:href=\"#DejaVuSans-100\"/>\n      <use x=\"63.476562\" xlink:href=\"#DejaVuSans-115\"/>\n     </g>\n    </g>\n   </g>\n   <g id=\"matplotlib.axis_2\">\n    <g id=\"ytick_1\">\n     <g id=\"line2d_15\">\n      <path clip-path=\"url(#pf409312ee0)\" d=\"M 66.053125 169.354413 \nL 617.912428 169.354413 \n\" style=\"fill:none;stroke:#808080;stroke-linecap:square;stroke-opacity:0.2;\"/>\n     </g>\n     <g id=\"line2d_16\">\n      <defs>\n       <path d=\"M 0 0 \nL -3.5 0 \n\" id=\"ma196e0b994\" style=\"stroke:#000000;stroke-width:0.8;\"/>\n      </defs>\n      <g>\n       <use style=\"stroke:#000000;stroke-width:0.8;\" x=\"66.053125\" xlink:href=\"#ma196e0b994\" y=\"169.354413\"/>\n      </g>\n     </g>\n     <g id=\"text_9\">\n      <!-- 0 -->\n      <g transform=\"translate(52.690625 173.153632)scale(0.1 -0.1)\">\n       <use xlink:href=\"#DejaVuSans-48\"/>\n      </g>\n     </g>\n    </g>\n    <g id=\"ytick_2\">\n     <g id=\"line2d_17\">\n      <path clip-path=\"url(#pf409312ee0)\" d=\"M 66.053125 143.509627 \nL 617.912428 143.509627 \n\" style=\"fill:none;stroke:#808080;stroke-linecap:square;stroke-opacity:0.2;\"/>\n     </g>\n     <g id=\"line2d_18\">\n      <g>\n       <use style=\"stroke:#000000;stroke-width:0.8;\" x=\"66.053125\" xlink:href=\"#ma196e0b994\" y=\"143.509627\"/>\n      </g>\n     </g>\n     <g id=\"text_10\">\n      <!-- 100000 -->\n      <defs>\n       <path d=\"M 12.40625 8.296875 \nL 28.515625 8.296875 \nL 28.515625 63.921875 \nL 10.984375 60.40625 \nL 10.984375 69.390625 \nL 28.421875 72.90625 \nL 38.28125 72.90625 \nL 38.28125 8.296875 \nL 54.390625 8.296875 \nL 54.390625 0 \nL 12.40625 0 \nz\n\" id=\"DejaVuSans-49\"/>\n      </defs>\n      <g transform=\"translate(20.878125 147.308845)scale(0.1 -0.1)\">\n       <use xlink:href=\"#DejaVuSans-49\"/>\n       <use x=\"63.623047\" xlink:href=\"#DejaVuSans-48\"/>\n       <use x=\"127.246094\" xlink:href=\"#DejaVuSans-48\"/>\n       <use x=\"190.869141\" xlink:href=\"#DejaVuSans-48\"/>\n       <use x=\"254.492188\" xlink:href=\"#DejaVuSans-48\"/>\n       <use x=\"318.115234\" xlink:href=\"#DejaVuSans-48\"/>\n      </g>\n     </g>\n    </g>\n    <g id=\"ytick_3\">\n     <g id=\"line2d_19\">\n      <path clip-path=\"url(#pf409312ee0)\" d=\"M 66.053125 117.66484 \nL 617.912428 117.66484 \n\" style=\"fill:none;stroke:#808080;stroke-linecap:square;stroke-opacity:0.2;\"/>\n     </g>\n     <g id=\"line2d_20\">\n      <g>\n       <use style=\"stroke:#000000;stroke-width:0.8;\" x=\"66.053125\" xlink:href=\"#ma196e0b994\" y=\"117.66484\"/>\n      </g>\n     </g>\n     <g id=\"text_11\">\n      <!-- 200000 -->\n      <g transform=\"translate(20.878125 121.464059)scale(0.1 -0.1)\">\n       <use xlink:href=\"#DejaVuSans-50\"/>\n       <use x=\"63.623047\" xlink:href=\"#DejaVuSans-48\"/>\n       <use x=\"127.246094\" xlink:href=\"#DejaVuSans-48\"/>\n       <use x=\"190.869141\" xlink:href=\"#DejaVuSans-48\"/>\n       <use x=\"254.492188\" xlink:href=\"#DejaVuSans-48\"/>\n       <use x=\"318.115234\" xlink:href=\"#DejaVuSans-48\"/>\n      </g>\n     </g>\n    </g>\n    <g id=\"ytick_4\">\n     <g id=\"line2d_21\">\n      <path clip-path=\"url(#pf409312ee0)\" d=\"M 66.053125 91.820054 \nL 617.912428 91.820054 \n\" style=\"fill:none;stroke:#808080;stroke-linecap:square;stroke-opacity:0.2;\"/>\n     </g>\n     <g id=\"line2d_22\">\n      <g>\n       <use style=\"stroke:#000000;stroke-width:0.8;\" x=\"66.053125\" xlink:href=\"#ma196e0b994\" y=\"91.820054\"/>\n      </g>\n     </g>\n     <g id=\"text_12\">\n      <!-- 300000 -->\n      <g transform=\"translate(20.878125 95.619273)scale(0.1 -0.1)\">\n       <use xlink:href=\"#DejaVuSans-51\"/>\n       <use x=\"63.623047\" xlink:href=\"#DejaVuSans-48\"/>\n       <use x=\"127.246094\" xlink:href=\"#DejaVuSans-48\"/>\n       <use x=\"190.869141\" xlink:href=\"#DejaVuSans-48\"/>\n       <use x=\"254.492188\" xlink:href=\"#DejaVuSans-48\"/>\n       <use x=\"318.115234\" xlink:href=\"#DejaVuSans-48\"/>\n      </g>\n     </g>\n    </g>\n    <g id=\"ytick_5\">\n     <g id=\"line2d_23\">\n      <path clip-path=\"url(#pf409312ee0)\" d=\"M 66.053125 65.975268 \nL 617.912428 65.975268 \n\" style=\"fill:none;stroke:#808080;stroke-linecap:square;stroke-opacity:0.2;\"/>\n     </g>\n     <g id=\"line2d_24\">\n      <g>\n       <use style=\"stroke:#000000;stroke-width:0.8;\" x=\"66.053125\" xlink:href=\"#ma196e0b994\" y=\"65.975268\"/>\n      </g>\n     </g>\n     <g id=\"text_13\">\n      <!-- 400000 -->\n      <g transform=\"translate(20.878125 69.774487)scale(0.1 -0.1)\">\n       <use xlink:href=\"#DejaVuSans-52\"/>\n       <use x=\"63.623047\" xlink:href=\"#DejaVuSans-48\"/>\n       <use x=\"127.246094\" xlink:href=\"#DejaVuSans-48\"/>\n       <use x=\"190.869141\" xlink:href=\"#DejaVuSans-48\"/>\n       <use x=\"254.492188\" xlink:href=\"#DejaVuSans-48\"/>\n       <use x=\"318.115234\" xlink:href=\"#DejaVuSans-48\"/>\n      </g>\n     </g>\n    </g>\n    <g id=\"ytick_6\">\n     <g id=\"line2d_25\">\n      <path clip-path=\"url(#pf409312ee0)\" d=\"M 66.053125 40.130482 \nL 617.912428 40.130482 \n\" style=\"fill:none;stroke:#808080;stroke-linecap:square;stroke-opacity:0.2;\"/>\n     </g>\n     <g id=\"line2d_26\">\n      <g>\n       <use style=\"stroke:#000000;stroke-width:0.8;\" x=\"66.053125\" xlink:href=\"#ma196e0b994\" y=\"40.130482\"/>\n      </g>\n     </g>\n     <g id=\"text_14\">\n      <!-- 500000 -->\n      <g transform=\"translate(20.878125 43.929701)scale(0.1 -0.1)\">\n       <use xlink:href=\"#DejaVuSans-53\"/>\n       <use x=\"63.623047\" xlink:href=\"#DejaVuSans-48\"/>\n       <use x=\"127.246094\" xlink:href=\"#DejaVuSans-48\"/>\n       <use x=\"190.869141\" xlink:href=\"#DejaVuSans-48\"/>\n       <use x=\"254.492188\" xlink:href=\"#DejaVuSans-48\"/>\n       <use x=\"318.115234\" xlink:href=\"#DejaVuSans-48\"/>\n      </g>\n     </g>\n    </g>\n    <g id=\"ytick_7\">\n     <g id=\"line2d_27\">\n      <path clip-path=\"url(#pf409312ee0)\" d=\"M 66.053125 14.285696 \nL 617.912428 14.285696 \n\" style=\"fill:none;stroke:#808080;stroke-linecap:square;stroke-opacity:0.2;\"/>\n     </g>\n     <g id=\"line2d_28\">\n      <g>\n       <use style=\"stroke:#000000;stroke-width:0.8;\" x=\"66.053125\" xlink:href=\"#ma196e0b994\" y=\"14.285696\"/>\n      </g>\n     </g>\n     <g id=\"text_15\">\n      <!-- 600000 -->\n      <g transform=\"translate(20.878125 18.084914)scale(0.1 -0.1)\">\n       <use xlink:href=\"#DejaVuSans-54\"/>\n       <use x=\"63.623047\" xlink:href=\"#DejaVuSans-48\"/>\n       <use x=\"127.246094\" xlink:href=\"#DejaVuSans-48\"/>\n       <use x=\"190.869141\" xlink:href=\"#DejaVuSans-48\"/>\n       <use x=\"254.492188\" xlink:href=\"#DejaVuSans-48\"/>\n       <use x=\"318.115234\" xlink:href=\"#DejaVuSans-48\"/>\n      </g>\n     </g>\n    </g>\n    <g id=\"text_16\">\n     <!-- trend -->\n     <defs>\n      <path d=\"M 18.3125 70.21875 \nL 18.3125 54.6875 \nL 36.8125 54.6875 \nL 36.8125 47.703125 \nL 18.3125 47.703125 \nL 18.3125 18.015625 \nQ 18.3125 11.328125 20.140625 9.421875 \nQ 21.96875 7.515625 27.59375 7.515625 \nL 36.8125 7.515625 \nL 36.8125 0 \nL 27.59375 0 \nQ 17.1875 0 13.234375 3.875 \nQ 9.28125 7.765625 9.28125 18.015625 \nL 9.28125 47.703125 \nL 2.6875 47.703125 \nL 2.6875 54.6875 \nL 9.28125 54.6875 \nL 9.28125 70.21875 \nz\n\" id=\"DejaVuSans-116\"/>\n      <path d=\"M 41.109375 46.296875 \nQ 39.59375 47.171875 37.8125 47.578125 \nQ 36.03125 48 33.890625 48 \nQ 26.265625 48 22.1875 43.046875 \nQ 18.109375 38.09375 18.109375 28.8125 \nL 18.109375 0 \nL 9.078125 0 \nL 9.078125 54.6875 \nL 18.109375 54.6875 \nL 18.109375 46.1875 \nQ 20.953125 51.171875 25.484375 53.578125 \nQ 30.03125 56 36.53125 56 \nQ 37.453125 56 38.578125 55.875 \nQ 39.703125 55.765625 41.0625 55.515625 \nz\n\" id=\"DejaVuSans-114\"/>\n      <path d=\"M 56.203125 29.59375 \nL 56.203125 25.203125 \nL 14.890625 25.203125 \nQ 15.484375 15.921875 20.484375 11.0625 \nQ 25.484375 6.203125 34.421875 6.203125 \nQ 39.59375 6.203125 44.453125 7.46875 \nQ 49.3125 8.734375 54.109375 11.28125 \nL 54.109375 2.78125 \nQ 49.265625 0.734375 44.1875 -0.34375 \nQ 39.109375 -1.421875 33.890625 -1.421875 \nQ 20.796875 -1.421875 13.15625 6.1875 \nQ 5.515625 13.8125 5.515625 26.8125 \nQ 5.515625 40.234375 12.765625 48.109375 \nQ 20.015625 56 32.328125 56 \nQ 43.359375 56 49.78125 48.890625 \nQ 56.203125 41.796875 56.203125 29.59375 \nz\nM 47.21875 32.234375 \nQ 47.125 39.59375 43.09375 43.984375 \nQ 39.0625 48.390625 32.421875 48.390625 \nQ 24.90625 48.390625 20.390625 44.140625 \nQ 15.875 39.890625 15.1875 32.171875 \nz\n\" id=\"DejaVuSans-101\"/>\n      <path d=\"M 54.890625 33.015625 \nL 54.890625 0 \nL 45.90625 0 \nL 45.90625 32.71875 \nQ 45.90625 40.484375 42.875 44.328125 \nQ 39.84375 48.1875 33.796875 48.1875 \nQ 26.515625 48.1875 22.3125 43.546875 \nQ 18.109375 38.921875 18.109375 30.90625 \nL 18.109375 0 \nL 9.078125 0 \nL 9.078125 54.6875 \nL 18.109375 54.6875 \nL 18.109375 46.1875 \nQ 21.34375 51.125 25.703125 53.5625 \nQ 30.078125 56 35.796875 56 \nQ 45.21875 56 50.046875 50.171875 \nQ 54.890625 44.34375 54.890625 33.015625 \nz\n\" id=\"DejaVuSans-110\"/>\n     </defs>\n     <g transform=\"translate(14.798438 105.822656)rotate(-90)scale(0.1 -0.1)\">\n      <use xlink:href=\"#DejaVuSans-116\"/>\n      <use x=\"39.208984\" xlink:href=\"#DejaVuSans-114\"/>\n      <use x=\"78.072266\" xlink:href=\"#DejaVuSans-101\"/>\n      <use x=\"139.595703\" xlink:href=\"#DejaVuSans-110\"/>\n      <use x=\"202.974609\" xlink:href=\"#DejaVuSans-100\"/>\n     </g>\n    </g>\n   </g>\n   <g id=\"line2d_29\">\n    <path clip-path=\"url(#pf409312ee0)\" d=\"M 91.137639 170.045455 \nL 153.494622 169.16768 \nL 201.679564 169.454535 \nL 281.042997 168.606969 \nL 289.546222 168.209303 \nL 303.718264 166.518533 \nL 357.572022 158.465494 \nL 363.240839 157.500721 \nL 371.744064 155.889918 \nL 383.081697 152.400206 \nL 592.827914 24.369108 \nL 592.827914 24.369108 \n\" style=\"fill:none;stroke:#0072b2;stroke-linecap:square;stroke-width:1.5;\"/>\n   </g>\n   <g id=\"patch_3\">\n    <path d=\"M 66.053125 177.8 \nL 66.053125 7.2 \n\" style=\"fill:none;stroke:#000000;stroke-linecap:square;stroke-linejoin:miter;stroke-width:0.8;\"/>\n   </g>\n   <g id=\"patch_4\">\n    <path d=\"M 617.912428 177.8 \nL 617.912428 7.2 \n\" style=\"fill:none;stroke:#000000;stroke-linecap:square;stroke-linejoin:miter;stroke-width:0.8;\"/>\n   </g>\n   <g id=\"patch_5\">\n    <path d=\"M 66.053125 177.8 \nL 617.912428 177.8 \n\" style=\"fill:none;stroke:#000000;stroke-linecap:square;stroke-linejoin:miter;stroke-width:0.8;\"/>\n   </g>\n   <g id=\"patch_6\">\n    <path d=\"M 66.053125 7.2 \nL 617.912428 7.2 \n\" style=\"fill:none;stroke:#000000;stroke-linecap:square;stroke-linejoin:miter;stroke-width:0.8;\"/>\n   </g>\n  </g>\n  <g id=\"axes_2\">\n   <g id=\"patch_7\">\n    <path d=\"M 66.053125 390.2 \nL 617.912428 390.2 \nL 617.912428 219.6 \nL 66.053125 219.6 \nz\n\" style=\"fill:#ffffff;\"/>\n   </g>\n   <g id=\"PolyCollection_2\">\n    <defs>\n     <path d=\"M 91.137639 -412.801705 \nL 91.137639 -412.801705 \nL 174.752685 -269.503733 \nL 258.367731 -266.219024 \nL 341.982776 -257.710795 \nL 425.597822 -304.582662 \nL 509.212868 -320.525786 \nL 592.827914 -354.477877 \nL 592.827914 -354.477877 \nL 592.827914 -354.477877 \nL 509.212868 -320.525786 \nL 425.597822 -304.582662 \nL 341.982776 -257.710795 \nL 258.367731 -266.219024 \nL 174.752685 -269.503733 \nL 91.137639 -412.801705 \nz\n\" id=\"maee7e96d07\" style=\"stroke:#0072b2;stroke-opacity:0.2;\"/>\n    </defs>\n    <g clip-path=\"url(#p7ca37893f3)\">\n     <use style=\"fill:#0072b2;fill-opacity:0.2;stroke:#0072b2;stroke-opacity:0.2;\" x=\"0\" xlink:href=\"#maee7e96d07\" y=\"640.15625\"/>\n    </g>\n   </g>\n   <g id=\"matplotlib.axis_3\">\n    <g id=\"xtick_8\">\n     <g id=\"line2d_30\">\n      <path clip-path=\"url(#p7ca37893f3)\" d=\"M 91.137639 390.2 \nL 91.137639 219.6 \n\" style=\"fill:none;stroke:#808080;stroke-linecap:square;stroke-opacity:0.2;\"/>\n     </g>\n     <g id=\"line2d_31\">\n      <g>\n       <use style=\"stroke:#000000;stroke-width:0.8;\" x=\"91.137639\" xlink:href=\"#m4d94871ac5\" y=\"390.2\"/>\n      </g>\n     </g>\n     <g id=\"text_17\">\n      <!-- Sunday -->\n      <defs>\n       <path d=\"M 53.515625 70.515625 \nL 53.515625 60.890625 \nQ 47.90625 63.578125 42.921875 64.890625 \nQ 37.9375 66.21875 33.296875 66.21875 \nQ 25.25 66.21875 20.875 63.09375 \nQ 16.5 59.96875 16.5 54.203125 \nQ 16.5 49.359375 19.40625 46.890625 \nQ 22.3125 44.4375 30.421875 42.921875 \nL 36.375 41.703125 \nQ 47.40625 39.59375 52.65625 34.296875 \nQ 57.90625 29 57.90625 20.125 \nQ 57.90625 9.515625 50.796875 4.046875 \nQ 43.703125 -1.421875 29.984375 -1.421875 \nQ 24.8125 -1.421875 18.96875 -0.25 \nQ 13.140625 0.921875 6.890625 3.21875 \nL 6.890625 13.375 \nQ 12.890625 10.015625 18.65625 8.296875 \nQ 24.421875 6.59375 29.984375 6.59375 \nQ 38.421875 6.59375 43.015625 9.90625 \nQ 47.609375 13.234375 47.609375 19.390625 \nQ 47.609375 24.75 44.3125 27.78125 \nQ 41.015625 30.8125 33.5 32.328125 \nL 27.484375 33.5 \nQ 16.453125 35.6875 11.515625 40.375 \nQ 6.59375 45.0625 6.59375 53.421875 \nQ 6.59375 63.09375 13.40625 68.65625 \nQ 20.21875 74.21875 32.171875 74.21875 \nQ 37.3125 74.21875 42.625 73.28125 \nQ 47.953125 72.359375 53.515625 70.515625 \nz\n\" id=\"DejaVuSans-83\"/>\n       <path d=\"M 8.5 21.578125 \nL 8.5 54.6875 \nL 17.484375 54.6875 \nL 17.484375 21.921875 \nQ 17.484375 14.15625 20.5 10.265625 \nQ 23.53125 6.390625 29.59375 6.390625 \nQ 36.859375 6.390625 41.078125 11.03125 \nQ 45.3125 15.671875 45.3125 23.6875 \nL 45.3125 54.6875 \nL 54.296875 54.6875 \nL 54.296875 0 \nL 45.3125 0 \nL 45.3125 8.40625 \nQ 42.046875 3.421875 37.71875 1 \nQ 33.40625 -1.421875 27.6875 -1.421875 \nQ 18.265625 -1.421875 13.375 4.4375 \nQ 8.5 10.296875 8.5 21.578125 \nz\nM 31.109375 56 \nz\n\" id=\"DejaVuSans-117\"/>\n       <path d=\"M 34.28125 27.484375 \nQ 23.390625 27.484375 19.1875 25 \nQ 14.984375 22.515625 14.984375 16.5 \nQ 14.984375 11.71875 18.140625 8.90625 \nQ 21.296875 6.109375 26.703125 6.109375 \nQ 34.1875 6.109375 38.703125 11.40625 \nQ 43.21875 16.703125 43.21875 25.484375 \nL 43.21875 27.484375 \nz\nM 52.203125 31.203125 \nL 52.203125 0 \nL 43.21875 0 \nL 43.21875 8.296875 \nQ 40.140625 3.328125 35.546875 0.953125 \nQ 30.953125 -1.421875 24.3125 -1.421875 \nQ 15.921875 -1.421875 10.953125 3.296875 \nQ 6 8.015625 6 15.921875 \nQ 6 25.140625 12.171875 29.828125 \nQ 18.359375 34.515625 30.609375 34.515625 \nL 43.21875 34.515625 \nL 43.21875 35.40625 \nQ 43.21875 41.609375 39.140625 45 \nQ 35.0625 48.390625 27.6875 48.390625 \nQ 23 48.390625 18.546875 47.265625 \nQ 14.109375 46.140625 10.015625 43.890625 \nL 10.015625 52.203125 \nQ 14.9375 54.109375 19.578125 55.046875 \nQ 24.21875 56 28.609375 56 \nQ 40.484375 56 46.34375 49.84375 \nQ 52.203125 43.703125 52.203125 31.203125 \nz\n\" id=\"DejaVuSans-97\"/>\n       <path d=\"M 32.171875 -5.078125 \nQ 28.375 -14.84375 24.75 -17.8125 \nQ 21.140625 -20.796875 15.09375 -20.796875 \nL 7.90625 -20.796875 \nL 7.90625 -13.28125 \nL 13.1875 -13.28125 \nQ 16.890625 -13.28125 18.9375 -11.515625 \nQ 21 -9.765625 23.484375 -3.21875 \nL 25.09375 0.875 \nL 2.984375 54.6875 \nL 12.5 54.6875 \nL 29.59375 11.921875 \nL 46.6875 54.6875 \nL 56.203125 54.6875 \nz\n\" id=\"DejaVuSans-121\"/>\n      </defs>\n      <g transform=\"translate(72.428264 404.798437)scale(0.1 -0.1)\">\n       <use xlink:href=\"#DejaVuSans-83\"/>\n       <use x=\"63.476562\" xlink:href=\"#DejaVuSans-117\"/>\n       <use x=\"126.855469\" xlink:href=\"#DejaVuSans-110\"/>\n       <use x=\"190.234375\" xlink:href=\"#DejaVuSans-100\"/>\n       <use x=\"253.710938\" xlink:href=\"#DejaVuSans-97\"/>\n       <use x=\"314.990234\" xlink:href=\"#DejaVuSans-121\"/>\n      </g>\n     </g>\n    </g>\n    <g id=\"xtick_9\">\n     <g id=\"line2d_32\">\n      <path clip-path=\"url(#p7ca37893f3)\" d=\"M 174.752685 390.2 \nL 174.752685 219.6 \n\" style=\"fill:none;stroke:#808080;stroke-linecap:square;stroke-opacity:0.2;\"/>\n     </g>\n     <g id=\"line2d_33\">\n      <g>\n       <use style=\"stroke:#000000;stroke-width:0.8;\" x=\"174.752685\" xlink:href=\"#m4d94871ac5\" y=\"390.2\"/>\n      </g>\n     </g>\n     <g id=\"text_18\">\n      <!-- Monday -->\n      <defs>\n       <path d=\"M 9.8125 72.90625 \nL 24.515625 72.90625 \nL 43.109375 23.296875 \nL 61.8125 72.90625 \nL 76.515625 72.90625 \nL 76.515625 0 \nL 66.890625 0 \nL 66.890625 64.015625 \nL 48.09375 14.015625 \nL 38.1875 14.015625 \nL 19.390625 64.015625 \nL 19.390625 0 \nL 9.8125 0 \nz\n\" id=\"DejaVuSans-77\"/>\n       <path d=\"M 30.609375 48.390625 \nQ 23.390625 48.390625 19.1875 42.75 \nQ 14.984375 37.109375 14.984375 27.296875 \nQ 14.984375 17.484375 19.15625 11.84375 \nQ 23.34375 6.203125 30.609375 6.203125 \nQ 37.796875 6.203125 41.984375 11.859375 \nQ 46.1875 17.53125 46.1875 27.296875 \nQ 46.1875 37.015625 41.984375 42.703125 \nQ 37.796875 48.390625 30.609375 48.390625 \nz\nM 30.609375 56 \nQ 42.328125 56 49.015625 48.375 \nQ 55.71875 40.765625 55.71875 27.296875 \nQ 55.71875 13.875 49.015625 6.21875 \nQ 42.328125 -1.421875 30.609375 -1.421875 \nQ 18.84375 -1.421875 12.171875 6.21875 \nQ 5.515625 13.875 5.515625 27.296875 \nQ 5.515625 40.765625 12.171875 48.375 \nQ 18.84375 56 30.609375 56 \nz\n\" id=\"DejaVuSans-111\"/>\n      </defs>\n      <g transform=\"translate(155.012841 404.798437)scale(0.1 -0.1)\">\n       <use xlink:href=\"#DejaVuSans-77\"/>\n       <use x=\"86.279297\" xlink:href=\"#DejaVuSans-111\"/>\n       <use x=\"147.460938\" xlink:href=\"#DejaVuSans-110\"/>\n       <use x=\"210.839844\" xlink:href=\"#DejaVuSans-100\"/>\n       <use x=\"274.316406\" xlink:href=\"#DejaVuSans-97\"/>\n       <use x=\"335.595703\" xlink:href=\"#DejaVuSans-121\"/>\n      </g>\n     </g>\n    </g>\n    <g id=\"xtick_10\">\n     <g id=\"line2d_34\">\n      <path clip-path=\"url(#p7ca37893f3)\" d=\"M 258.367731 390.2 \nL 258.367731 219.6 \n\" style=\"fill:none;stroke:#808080;stroke-linecap:square;stroke-opacity:0.2;\"/>\n     </g>\n     <g id=\"line2d_35\">\n      <g>\n       <use style=\"stroke:#000000;stroke-width:0.8;\" x=\"258.367731\" xlink:href=\"#m4d94871ac5\" y=\"390.2\"/>\n      </g>\n     </g>\n     <g id=\"text_19\">\n      <!-- Tuesday -->\n      <defs>\n       <path d=\"M -0.296875 72.90625 \nL 61.375 72.90625 \nL 61.375 64.59375 \nL 35.5 64.59375 \nL 35.5 0 \nL 25.59375 0 \nL 25.59375 64.59375 \nL -0.296875 64.59375 \nz\n\" id=\"DejaVuSans-84\"/>\n      </defs>\n      <g transform=\"translate(238.022418 404.798437)scale(0.1 -0.1)\">\n       <use xlink:href=\"#DejaVuSans-84\"/>\n       <use x=\"45.958984\" xlink:href=\"#DejaVuSans-117\"/>\n       <use x=\"109.337891\" xlink:href=\"#DejaVuSans-101\"/>\n       <use x=\"170.861328\" xlink:href=\"#DejaVuSans-115\"/>\n       <use x=\"222.960938\" xlink:href=\"#DejaVuSans-100\"/>\n       <use x=\"286.4375\" xlink:href=\"#DejaVuSans-97\"/>\n       <use x=\"347.716797\" xlink:href=\"#DejaVuSans-121\"/>\n      </g>\n     </g>\n    </g>\n    <g id=\"xtick_11\">\n     <g id=\"line2d_36\">\n      <path clip-path=\"url(#p7ca37893f3)\" d=\"M 341.982776 390.2 \nL 341.982776 219.6 \n\" style=\"fill:none;stroke:#808080;stroke-linecap:square;stroke-opacity:0.2;\"/>\n     </g>\n     <g id=\"line2d_37\">\n      <g>\n       <use style=\"stroke:#000000;stroke-width:0.8;\" x=\"341.982776\" xlink:href=\"#m4d94871ac5\" y=\"390.2\"/>\n      </g>\n     </g>\n     <g id=\"text_20\">\n      <!-- Wednesday -->\n      <defs>\n       <path d=\"M 3.328125 72.90625 \nL 13.28125 72.90625 \nL 28.609375 11.28125 \nL 43.890625 72.90625 \nL 54.984375 72.90625 \nL 70.3125 11.28125 \nL 85.59375 72.90625 \nL 95.609375 72.90625 \nL 77.296875 0 \nL 64.890625 0 \nL 49.515625 63.28125 \nL 33.984375 0 \nL 21.578125 0 \nz\n\" id=\"DejaVuSans-87\"/>\n      </defs>\n      <g transform=\"translate(313.034339 404.798437)scale(0.1 -0.1)\">\n       <use xlink:href=\"#DejaVuSans-87\"/>\n       <use x=\"93.001953\" xlink:href=\"#DejaVuSans-101\"/>\n       <use x=\"154.525391\" xlink:href=\"#DejaVuSans-100\"/>\n       <use x=\"218.001953\" xlink:href=\"#DejaVuSans-110\"/>\n       <use x=\"281.380859\" xlink:href=\"#DejaVuSans-101\"/>\n       <use x=\"342.904297\" xlink:href=\"#DejaVuSans-115\"/>\n       <use x=\"395.003906\" xlink:href=\"#DejaVuSans-100\"/>\n       <use x=\"458.480469\" xlink:href=\"#DejaVuSans-97\"/>\n       <use x=\"519.759766\" xlink:href=\"#DejaVuSans-121\"/>\n      </g>\n     </g>\n    </g>\n    <g id=\"xtick_12\">\n     <g id=\"line2d_38\">\n      <path clip-path=\"url(#p7ca37893f3)\" d=\"M 425.597822 390.2 \nL 425.597822 219.6 \n\" style=\"fill:none;stroke:#808080;stroke-linecap:square;stroke-opacity:0.2;\"/>\n     </g>\n     <g id=\"line2d_39\">\n      <g>\n       <use style=\"stroke:#000000;stroke-width:0.8;\" x=\"425.597822\" xlink:href=\"#m4d94871ac5\" y=\"390.2\"/>\n      </g>\n     </g>\n     <g id=\"text_21\">\n      <!-- Thursday -->\n      <defs>\n       <path d=\"M 54.890625 33.015625 \nL 54.890625 0 \nL 45.90625 0 \nL 45.90625 32.71875 \nQ 45.90625 40.484375 42.875 44.328125 \nQ 39.84375 48.1875 33.796875 48.1875 \nQ 26.515625 48.1875 22.3125 43.546875 \nQ 18.109375 38.921875 18.109375 30.90625 \nL 18.109375 0 \nL 9.078125 0 \nL 9.078125 75.984375 \nL 18.109375 75.984375 \nL 18.109375 46.1875 \nQ 21.34375 51.125 25.703125 53.5625 \nQ 30.078125 56 35.796875 56 \nQ 45.21875 56 50.046875 50.171875 \nQ 54.890625 44.34375 54.890625 33.015625 \nz\n\" id=\"DejaVuSans-104\"/>\n      </defs>\n      <g transform=\"translate(402.348604 404.798437)scale(0.1 -0.1)\">\n       <use xlink:href=\"#DejaVuSans-84\"/>\n       <use x=\"61.083984\" xlink:href=\"#DejaVuSans-104\"/>\n       <use x=\"124.462891\" xlink:href=\"#DejaVuSans-117\"/>\n       <use x=\"187.841797\" xlink:href=\"#DejaVuSans-114\"/>\n       <use x=\"228.955078\" xlink:href=\"#DejaVuSans-115\"/>\n       <use x=\"281.054688\" xlink:href=\"#DejaVuSans-100\"/>\n       <use x=\"344.53125\" xlink:href=\"#DejaVuSans-97\"/>\n       <use x=\"405.810547\" xlink:href=\"#DejaVuSans-121\"/>\n      </g>\n     </g>\n    </g>\n    <g id=\"xtick_13\">\n     <g id=\"line2d_40\">\n      <path clip-path=\"url(#p7ca37893f3)\" d=\"M 509.212868 390.2 \nL 509.212868 219.6 \n\" style=\"fill:none;stroke:#808080;stroke-linecap:square;stroke-opacity:0.2;\"/>\n     </g>\n     <g id=\"line2d_41\">\n      <g>\n       <use style=\"stroke:#000000;stroke-width:0.8;\" x=\"509.212868\" xlink:href=\"#m4d94871ac5\" y=\"390.2\"/>\n      </g>\n     </g>\n     <g id=\"text_22\">\n      <!-- Friday -->\n      <defs>\n       <path d=\"M 9.8125 72.90625 \nL 51.703125 72.90625 \nL 51.703125 64.59375 \nL 19.671875 64.59375 \nL 19.671875 43.109375 \nL 48.578125 43.109375 \nL 48.578125 34.8125 \nL 19.671875 34.8125 \nL 19.671875 0 \nL 9.8125 0 \nz\n\" id=\"DejaVuSans-70\"/>\n       <path d=\"M 9.421875 54.6875 \nL 18.40625 54.6875 \nL 18.40625 0 \nL 9.421875 0 \nz\nM 9.421875 75.984375 \nL 18.40625 75.984375 \nL 18.40625 64.59375 \nL 9.421875 64.59375 \nz\n\" id=\"DejaVuSans-105\"/>\n      </defs>\n      <g transform=\"translate(494.057399 404.798437)scale(0.1 -0.1)\">\n       <use xlink:href=\"#DejaVuSans-70\"/>\n       <use x=\"50.269531\" xlink:href=\"#DejaVuSans-114\"/>\n       <use x=\"91.382812\" xlink:href=\"#DejaVuSans-105\"/>\n       <use x=\"119.166016\" xlink:href=\"#DejaVuSans-100\"/>\n       <use x=\"182.642578\" xlink:href=\"#DejaVuSans-97\"/>\n       <use x=\"243.921875\" xlink:href=\"#DejaVuSans-121\"/>\n      </g>\n     </g>\n    </g>\n    <g id=\"xtick_14\">\n     <g id=\"line2d_42\">\n      <path clip-path=\"url(#p7ca37893f3)\" d=\"M 592.827914 390.2 \nL 592.827914 219.6 \n\" style=\"fill:none;stroke:#808080;stroke-linecap:square;stroke-opacity:0.2;\"/>\n     </g>\n     <g id=\"line2d_43\">\n      <g>\n       <use style=\"stroke:#000000;stroke-width:0.8;\" x=\"592.827914\" xlink:href=\"#m4d94871ac5\" y=\"390.2\"/>\n      </g>\n     </g>\n     <g id=\"text_23\">\n      <!-- Saturday -->\n      <g transform=\"translate(570.295102 404.798437)scale(0.1 -0.1)\">\n       <use xlink:href=\"#DejaVuSans-83\"/>\n       <use x=\"63.476562\" xlink:href=\"#DejaVuSans-97\"/>\n       <use x=\"124.755859\" xlink:href=\"#DejaVuSans-116\"/>\n       <use x=\"163.964844\" xlink:href=\"#DejaVuSans-117\"/>\n       <use x=\"227.34375\" xlink:href=\"#DejaVuSans-114\"/>\n       <use x=\"266.707031\" xlink:href=\"#DejaVuSans-100\"/>\n       <use x=\"330.183594\" xlink:href=\"#DejaVuSans-97\"/>\n       <use x=\"391.462891\" xlink:href=\"#DejaVuSans-121\"/>\n      </g>\n     </g>\n    </g>\n    <g id=\"text_24\">\n     <!-- Day of week -->\n     <defs>\n      <path d=\"M 19.671875 64.796875 \nL 19.671875 8.109375 \nL 31.59375 8.109375 \nQ 46.6875 8.109375 53.6875 14.9375 \nQ 60.6875 21.78125 60.6875 36.53125 \nQ 60.6875 51.171875 53.6875 57.984375 \nQ 46.6875 64.796875 31.59375 64.796875 \nz\nM 9.8125 72.90625 \nL 30.078125 72.90625 \nQ 51.265625 72.90625 61.171875 64.09375 \nQ 71.09375 55.28125 71.09375 36.53125 \nQ 71.09375 17.671875 61.125 8.828125 \nQ 51.171875 0 30.078125 0 \nL 9.8125 0 \nz\n\" id=\"DejaVuSans-68\"/>\n      <path id=\"DejaVuSans-32\"/>\n      <path d=\"M 37.109375 75.984375 \nL 37.109375 68.5 \nL 28.515625 68.5 \nQ 23.6875 68.5 21.796875 66.546875 \nQ 19.921875 64.59375 19.921875 59.515625 \nL 19.921875 54.6875 \nL 34.71875 54.6875 \nL 34.71875 47.703125 \nL 19.921875 47.703125 \nL 19.921875 0 \nL 10.890625 0 \nL 10.890625 47.703125 \nL 2.296875 47.703125 \nL 2.296875 54.6875 \nL 10.890625 54.6875 \nL 10.890625 58.5 \nQ 10.890625 67.625 15.140625 71.796875 \nQ 19.390625 75.984375 28.609375 75.984375 \nz\n\" id=\"DejaVuSans-102\"/>\n      <path d=\"M 4.203125 54.6875 \nL 13.1875 54.6875 \nL 24.421875 12.015625 \nL 35.59375 54.6875 \nL 46.1875 54.6875 \nL 57.421875 12.015625 \nL 68.609375 54.6875 \nL 77.59375 54.6875 \nL 63.28125 0 \nL 52.6875 0 \nL 40.921875 44.828125 \nL 29.109375 0 \nL 18.5 0 \nz\n\" id=\"DejaVuSans-119\"/>\n      <path d=\"M 9.078125 75.984375 \nL 18.109375 75.984375 \nL 18.109375 31.109375 \nL 44.921875 54.6875 \nL 56.390625 54.6875 \nL 27.390625 29.109375 \nL 57.625 0 \nL 45.90625 0 \nL 18.109375 26.703125 \nL 18.109375 0 \nL 9.078125 0 \nz\n\" id=\"DejaVuSans-107\"/>\n     </defs>\n     <g transform=\"translate(310.974183 418.476562)scale(0.1 -0.1)\">\n      <use xlink:href=\"#DejaVuSans-68\"/>\n      <use x=\"77.001953\" xlink:href=\"#DejaVuSans-97\"/>\n      <use x=\"138.28125\" xlink:href=\"#DejaVuSans-121\"/>\n      <use x=\"197.460938\" xlink:href=\"#DejaVuSans-32\"/>\n      <use x=\"229.248047\" xlink:href=\"#DejaVuSans-111\"/>\n      <use x=\"290.429688\" xlink:href=\"#DejaVuSans-102\"/>\n      <use x=\"325.634766\" xlink:href=\"#DejaVuSans-32\"/>\n      <use x=\"357.421875\" xlink:href=\"#DejaVuSans-119\"/>\n      <use x=\"439.208984\" xlink:href=\"#DejaVuSans-101\"/>\n      <use x=\"500.732422\" xlink:href=\"#DejaVuSans-101\"/>\n      <use x=\"562.255859\" xlink:href=\"#DejaVuSans-107\"/>\n     </g>\n    </g>\n   </g>\n   <g id=\"matplotlib.axis_4\">\n    <g id=\"ytick_8\">\n     <g id=\"line2d_44\">\n      <path clip-path=\"url(#p7ca37893f3)\" d=\"M 66.053125 364.143978 \nL 617.912428 364.143978 \n\" style=\"fill:none;stroke:#808080;stroke-linecap:square;stroke-opacity:0.2;\"/>\n     </g>\n     <g id=\"line2d_45\">\n      <g>\n       <use style=\"stroke:#000000;stroke-width:0.8;\" x=\"66.053125\" xlink:href=\"#ma196e0b994\" y=\"364.143978\"/>\n      </g>\n     </g>\n     <g id=\"text_25\">\n      <!-- −200 -->\n      <defs>\n       <path d=\"M 10.59375 35.5 \nL 73.1875 35.5 \nL 73.1875 27.203125 \nL 10.59375 27.203125 \nz\n\" id=\"DejaVuSans-8722\"/>\n      </defs>\n      <g transform=\"translate(31.585938 367.943197)scale(0.1 -0.1)\">\n       <use xlink:href=\"#DejaVuSans-8722\"/>\n       <use x=\"83.789062\" xlink:href=\"#DejaVuSans-50\"/>\n       <use x=\"147.412109\" xlink:href=\"#DejaVuSans-48\"/>\n       <use x=\"211.035156\" xlink:href=\"#DejaVuSans-48\"/>\n      </g>\n     </g>\n    </g>\n    <g id=\"ytick_9\">\n     <g id=\"line2d_46\">\n      <path clip-path=\"url(#p7ca37893f3)\" d=\"M 66.053125 327.896024 \nL 617.912428 327.896024 \n\" style=\"fill:none;stroke:#808080;stroke-linecap:square;stroke-opacity:0.2;\"/>\n     </g>\n     <g id=\"line2d_47\">\n      <g>\n       <use style=\"stroke:#000000;stroke-width:0.8;\" x=\"66.053125\" xlink:href=\"#ma196e0b994\" y=\"327.896024\"/>\n      </g>\n     </g>\n     <g id=\"text_26\">\n      <!-- 0 -->\n      <g transform=\"translate(52.690625 331.695243)scale(0.1 -0.1)\">\n       <use xlink:href=\"#DejaVuSans-48\"/>\n      </g>\n     </g>\n    </g>\n    <g id=\"ytick_10\">\n     <g id=\"line2d_48\">\n      <path clip-path=\"url(#p7ca37893f3)\" d=\"M 66.053125 291.64807 \nL 617.912428 291.64807 \n\" style=\"fill:none;stroke:#808080;stroke-linecap:square;stroke-opacity:0.2;\"/>\n     </g>\n     <g id=\"line2d_49\">\n      <g>\n       <use style=\"stroke:#000000;stroke-width:0.8;\" x=\"66.053125\" xlink:href=\"#ma196e0b994\" y=\"291.64807\"/>\n      </g>\n     </g>\n     <g id=\"text_27\">\n      <!-- 200 -->\n      <g transform=\"translate(39.965625 295.447289)scale(0.1 -0.1)\">\n       <use xlink:href=\"#DejaVuSans-50\"/>\n       <use x=\"63.623047\" xlink:href=\"#DejaVuSans-48\"/>\n       <use x=\"127.246094\" xlink:href=\"#DejaVuSans-48\"/>\n      </g>\n     </g>\n    </g>\n    <g id=\"ytick_11\">\n     <g id=\"line2d_50\">\n      <path clip-path=\"url(#p7ca37893f3)\" d=\"M 66.053125 255.400117 \nL 617.912428 255.400117 \n\" style=\"fill:none;stroke:#808080;stroke-linecap:square;stroke-opacity:0.2;\"/>\n     </g>\n     <g id=\"line2d_51\">\n      <g>\n       <use style=\"stroke:#000000;stroke-width:0.8;\" x=\"66.053125\" xlink:href=\"#ma196e0b994\" y=\"255.400117\"/>\n      </g>\n     </g>\n     <g id=\"text_28\">\n      <!-- 400 -->\n      <g transform=\"translate(39.965625 259.199335)scale(0.1 -0.1)\">\n       <use xlink:href=\"#DejaVuSans-52\"/>\n       <use x=\"63.623047\" xlink:href=\"#DejaVuSans-48\"/>\n       <use x=\"127.246094\" xlink:href=\"#DejaVuSans-48\"/>\n      </g>\n     </g>\n    </g>\n    <g id=\"text_29\">\n     <!-- weekly -->\n     <defs>\n      <path d=\"M 9.421875 75.984375 \nL 18.40625 75.984375 \nL 18.40625 0 \nL 9.421875 0 \nz\n\" id=\"DejaVuSans-108\"/>\n     </defs>\n     <g transform=\"translate(25.50625 322.385937)rotate(-90)scale(0.1 -0.1)\">\n      <use xlink:href=\"#DejaVuSans-119\"/>\n      <use x=\"81.787109\" xlink:href=\"#DejaVuSans-101\"/>\n      <use x=\"143.310547\" xlink:href=\"#DejaVuSans-101\"/>\n      <use x=\"204.833984\" xlink:href=\"#DejaVuSans-107\"/>\n      <use x=\"262.744141\" xlink:href=\"#DejaVuSans-108\"/>\n      <use x=\"290.527344\" xlink:href=\"#DejaVuSans-121\"/>\n     </g>\n    </g>\n   </g>\n   <g id=\"line2d_52\">\n    <path clip-path=\"url(#p7ca37893f3)\" d=\"M 91.137639 227.354545 \nL 174.752685 370.652517 \nL 258.367731 373.937226 \nL 341.982776 382.445455 \nL 425.597822 335.573588 \nL 509.212868 319.630464 \nL 592.827914 285.678373 \n\" style=\"fill:none;stroke:#0072b2;stroke-linecap:square;stroke-width:1.5;\"/>\n   </g>\n   <g id=\"patch_8\">\n    <path d=\"M 66.053125 390.2 \nL 66.053125 219.6 \n\" style=\"fill:none;stroke:#000000;stroke-linecap:square;stroke-linejoin:miter;stroke-width:0.8;\"/>\n   </g>\n   <g id=\"patch_9\">\n    <path d=\"M 617.912428 390.2 \nL 617.912428 219.6 \n\" style=\"fill:none;stroke:#000000;stroke-linecap:square;stroke-linejoin:miter;stroke-width:0.8;\"/>\n   </g>\n   <g id=\"patch_10\">\n    <path d=\"M 66.053125 390.2 \nL 617.912428 390.2 \n\" style=\"fill:none;stroke:#000000;stroke-linecap:square;stroke-linejoin:miter;stroke-width:0.8;\"/>\n   </g>\n   <g id=\"patch_11\">\n    <path d=\"M 66.053125 219.6 \nL 617.912428 219.6 \n\" style=\"fill:none;stroke:#000000;stroke-linecap:square;stroke-linejoin:miter;stroke-width:0.8;\"/>\n   </g>\n  </g>\n  <g id=\"axes_3\">\n   <g id=\"patch_12\">\n    <path d=\"M 66.053125 602.6 \nL 617.912428 602.6 \nL 617.912428 432 \nL 66.053125 432 \nz\n\" style=\"fill:#ffffff;\"/>\n   </g>\n   <g id=\"PolyCollection_3\">\n    <defs>\n     <path d=\"M 91.137639 -176.165324 \nL 91.137639 -176.165324 \nL 93.658695 -179.737077 \nL 96.179752 -183.128531 \nL 98.700809 -186.302096 \nL 101.221865 -189.222185 \nL 103.742922 -191.855989 \nL 106.263979 -194.174195 \nL 108.785035 -196.151643 \nL 111.306092 -197.767903 \nL 113.827149 -199.007752 \nL 116.348205 -199.861548 \nL 118.869262 -200.32548 \nL 121.390319 -200.401705 \nL 123.911375 -200.098345 \nL 126.432432 -199.429365 \nL 128.953489 -198.414319 \nL 131.474545 -197.077972 \nL 133.995602 -195.449815 \nL 136.516659 -193.563467 \nL 139.037715 -191.455997 \nL 141.558772 -189.167158 \nL 144.079829 -186.738572 \nL 146.600885 -184.212866 \nL 149.121942 -181.632797 \nL 151.642999 -179.040362 \nL 154.164055 -176.475938 \nL 156.685112 -173.977455 \nL 159.206169 -171.579619 \nL 161.727225 -169.313222 \nL 164.248282 -167.20453 \nL 166.769339 -165.274777 \nL 169.290395 -163.539774 \nL 171.811452 -162.009643 \nL 174.332509 -160.688672 \nL 176.853565 -159.575308 \nL 179.374622 -158.662278 \nL 181.895679 -157.936836 \nL 184.416735 -157.381136 \nL 186.937792 -156.97271 \nL 189.458848 -156.685056 \nL 191.979905 -156.488302 \nL 194.500962 -156.349952 \nL 197.022018 -156.235674 \nL 199.543075 -156.110135 \nL 202.064132 -155.937845 \nL 204.585188 -155.683994 \nL 207.106245 -155.315275 \nL 209.627302 -154.800658 \nL 212.148358 -154.112106 \nL 214.669415 -153.225219 \nL 217.190472 -152.119786 \nL 219.711528 -150.78023 \nL 222.232585 -149.195955 \nL 224.753642 -147.361558 \nL 227.274698 -145.276935 \nL 229.795755 -142.947252 \nL 232.316812 -140.382802 \nL 234.837868 -137.598737 \nL 237.358925 -134.614705 \nL 239.879982 -131.454367 \nL 242.401038 -128.14485 \nL 244.922095 -124.716104 \nL 247.443152 -121.200221 \nL 249.964208 -117.6307 \nL 252.485265 -114.041696 \nL 255.006322 -110.467265 \nL 257.527378 -106.940618 \nL 260.048435 -103.493408 \nL 262.569492 -100.155068 \nL 265.090548 -96.952206 \nL 267.611605 -93.908083 \nL 270.132662 -91.042173 \nL 272.653718 -88.369824 \nL 275.174775 -85.902021 \nL 277.695832 -83.645264 \nL 280.216888 -81.601543 \nL 282.737945 -79.768436 \nL 285.259002 -78.1393 \nL 287.780058 -76.703572 \nL 290.301115 -75.447145 \nL 292.822172 -74.35284 \nL 295.343228 -73.400929 \nL 297.864285 -72.569716 \nL 300.385342 -71.836159 \nL 302.906398 -71.176504 \nL 305.427455 -70.56693 \nL 307.948511 -69.984173 \nL 310.469568 -69.406134 \nL 312.990625 -68.812435 \nL 315.511681 -68.184919 \nL 318.032738 -67.508085 \nL 320.553795 -66.769444 \nL 323.074851 -65.959783 \nL 325.595908 -65.073339 \nL 328.116965 -64.107884 \nL 330.638021 -63.064699 \nL 333.159078 -61.948466 \nL 335.680135 -60.767065 \nL 338.201191 -59.53128 \nL 340.722248 -58.254442 \nL 343.243305 -56.951996 \nL 345.764361 -55.64102 \nL 348.285418 -54.339705 \nL 350.806475 -53.066805 \nL 353.327531 -51.841083 \nL 355.848588 -50.680757 \nL 358.369645 -49.602968 \nL 360.890701 -48.623283 \nL 363.411758 -47.755238 \nL 365.932815 -47.009954 \nL 368.453871 -46.395805 \nL 370.974928 -45.918182 \nL 373.495985 -45.579326 \nL 376.017041 -45.378257 \nL 378.538098 -45.310795 \nL 381.059155 -45.369664 \nL 383.580211 -45.544687 \nL 386.101268 -45.823061 \nL 388.622325 -46.189706 \nL 391.143381 -46.627677 \nL 393.664438 -47.118631 \nL 396.185495 -47.643334 \nL 398.706551 -48.182193 \nL 401.227608 -48.715804 \nL 403.748665 -49.225499 \nL 406.269721 -49.693869 \nL 408.790778 -50.105269 \nL 411.311835 -50.446265 \nL 413.832891 -50.706039 \nL 416.353948 -50.876715 \nL 418.875005 -50.953614 \nL 421.396061 -50.93543 \nL 423.917118 -50.824311 \nL 426.438174 -50.625851 \nL 428.959231 -50.349 \nL 431.480288 -50.00587 \nL 434.001344 -49.611472 \nL 436.522401 -49.183365 \nL 439.043458 -48.741242 \nL 441.564514 -48.306457 \nL 444.085571 -47.901506 \nL 446.606628 -47.549474 \nL 449.127684 -47.273463 \nL 451.648741 -47.096023 \nL 454.169798 -47.038586 \nL 456.690854 -47.120929 \nL 459.211911 -47.360682 \nL 461.732968 -47.772879 \nL 464.254024 -48.369587 \nL 466.775081 -49.159595 \nL 469.296138 -50.148202 \nL 471.817194 -51.337079 \nL 474.338251 -52.724238 \nL 476.859308 -54.304082 \nL 479.380364 -56.067561 \nL 481.901421 -58.002407 \nL 484.422478 -60.093458 \nL 486.943534 -62.32306 \nL 489.464591 -64.671527 \nL 491.985648 -67.117662 \nL 494.506704 -69.639315 \nL 497.027761 -72.213966 \nL 499.548818 -74.819322 \nL 502.069874 -77.433903 \nL 504.590931 -80.037617 \nL 507.111988 -82.612286 \nL 509.633044 -85.142135 \nL 512.154101 -87.614206 \nL 514.675158 -90.018708 \nL 517.196214 -92.349272 \nL 519.717271 -94.603119 \nL 522.238328 -96.781131 \nL 524.759384 -98.887816 \nL 527.280441 -100.931177 \nL 529.801498 -102.922479 \nL 532.322554 -104.875924 \nL 534.843611 -106.80824 \nL 537.364667 -108.738184 \nL 539.885724 -110.685999 \nL 542.406781 -112.672795 \nL 544.927837 -114.719914 \nL 547.448894 -116.84826 \nL 549.969951 -119.077633 \nL 552.491007 -121.426073 \nL 555.012064 -123.909233 \nL 557.533121 -126.539801 \nL 560.054177 -129.32698 \nL 562.575234 -132.276053 \nL 565.096291 -135.388022 \nL 567.617347 -138.65936 \nL 570.138404 -142.081859 \nL 572.659461 -145.642601 \nL 575.180517 -149.324029 \nL 577.701574 -153.10415 \nL 580.222631 -156.956841 \nL 582.743687 -160.852259 \nL 585.264744 -164.757357 \nL 587.785801 -168.636485 \nL 590.306857 -172.452065 \nL 592.827914 -176.165324 \nL 592.827914 -176.165324 \nL 592.827914 -176.165324 \nL 590.306857 -172.452065 \nL 587.785801 -168.636485 \nL 585.264744 -164.757357 \nL 582.743687 -160.852259 \nL 580.222631 -156.956841 \nL 577.701574 -153.10415 \nL 575.180517 -149.324029 \nL 572.659461 -145.642601 \nL 570.138404 -142.081859 \nL 567.617347 -138.65936 \nL 565.096291 -135.388022 \nL 562.575234 -132.276053 \nL 560.054177 -129.32698 \nL 557.533121 -126.539801 \nL 555.012064 -123.909233 \nL 552.491007 -121.426073 \nL 549.969951 -119.077633 \nL 547.448894 -116.84826 \nL 544.927837 -114.719914 \nL 542.406781 -112.672795 \nL 539.885724 -110.685999 \nL 537.364667 -108.738184 \nL 534.843611 -106.80824 \nL 532.322554 -104.875924 \nL 529.801498 -102.922479 \nL 527.280441 -100.931177 \nL 524.759384 -98.887816 \nL 522.238328 -96.781131 \nL 519.717271 -94.603119 \nL 517.196214 -92.349272 \nL 514.675158 -90.018708 \nL 512.154101 -87.614206 \nL 509.633044 -85.142135 \nL 507.111988 -82.612286 \nL 504.590931 -80.037617 \nL 502.069874 -77.433903 \nL 499.548818 -74.819322 \nL 497.027761 -72.213966 \nL 494.506704 -69.639315 \nL 491.985648 -67.117662 \nL 489.464591 -64.671527 \nL 486.943534 -62.32306 \nL 484.422478 -60.093458 \nL 481.901421 -58.002407 \nL 479.380364 -56.067561 \nL 476.859308 -54.304082 \nL 474.338251 -52.724238 \nL 471.817194 -51.337079 \nL 469.296138 -50.148202 \nL 466.775081 -49.159595 \nL 464.254024 -48.369587 \nL 461.732968 -47.772879 \nL 459.211911 -47.360682 \nL 456.690854 -47.120929 \nL 454.169798 -47.038586 \nL 451.648741 -47.096023 \nL 449.127684 -47.273463 \nL 446.606628 -47.549474 \nL 444.085571 -47.901506 \nL 441.564514 -48.306457 \nL 439.043458 -48.741242 \nL 436.522401 -49.183365 \nL 434.001344 -49.611472 \nL 431.480288 -50.00587 \nL 428.959231 -50.349 \nL 426.438174 -50.625851 \nL 423.917118 -50.824311 \nL 421.396061 -50.93543 \nL 418.875005 -50.953614 \nL 416.353948 -50.876715 \nL 413.832891 -50.706039 \nL 411.311835 -50.446265 \nL 408.790778 -50.105269 \nL 406.269721 -49.693869 \nL 403.748665 -49.225499 \nL 401.227608 -48.715804 \nL 398.706551 -48.182193 \nL 396.185495 -47.643334 \nL 393.664438 -47.118631 \nL 391.143381 -46.627677 \nL 388.622325 -46.189706 \nL 386.101268 -45.823061 \nL 383.580211 -45.544687 \nL 381.059155 -45.369664 \nL 378.538098 -45.310795 \nL 376.017041 -45.378257 \nL 373.495985 -45.579326 \nL 370.974928 -45.918182 \nL 368.453871 -46.395805 \nL 365.932815 -47.009954 \nL 363.411758 -47.755238 \nL 360.890701 -48.623283 \nL 358.369645 -49.602968 \nL 355.848588 -50.680757 \nL 353.327531 -51.841083 \nL 350.806475 -53.066805 \nL 348.285418 -54.339705 \nL 345.764361 -55.64102 \nL 343.243305 -56.951996 \nL 340.722248 -58.254442 \nL 338.201191 -59.53128 \nL 335.680135 -60.767065 \nL 333.159078 -61.948466 \nL 330.638021 -63.064699 \nL 328.116965 -64.107884 \nL 325.595908 -65.073339 \nL 323.074851 -65.959783 \nL 320.553795 -66.769444 \nL 318.032738 -67.508085 \nL 315.511681 -68.184919 \nL 312.990625 -68.812435 \nL 310.469568 -69.406134 \nL 307.948511 -69.984173 \nL 305.427455 -70.56693 \nL 302.906398 -71.176504 \nL 300.385342 -71.836159 \nL 297.864285 -72.569716 \nL 295.343228 -73.400929 \nL 292.822172 -74.35284 \nL 290.301115 -75.447145 \nL 287.780058 -76.703572 \nL 285.259002 -78.1393 \nL 282.737945 -79.768436 \nL 280.216888 -81.601543 \nL 277.695832 -83.645264 \nL 275.174775 -85.902021 \nL 272.653718 -88.369824 \nL 270.132662 -91.042173 \nL 267.611605 -93.908083 \nL 265.090548 -96.952206 \nL 262.569492 -100.155068 \nL 260.048435 -103.493408 \nL 257.527378 -106.940618 \nL 255.006322 -110.467265 \nL 252.485265 -114.041696 \nL 249.964208 -117.6307 \nL 247.443152 -121.200221 \nL 244.922095 -124.716104 \nL 242.401038 -128.14485 \nL 239.879982 -131.454367 \nL 237.358925 -134.614705 \nL 234.837868 -137.598737 \nL 232.316812 -140.382802 \nL 229.795755 -142.947252 \nL 227.274698 -145.276935 \nL 224.753642 -147.361558 \nL 222.232585 -149.195955 \nL 219.711528 -150.78023 \nL 217.190472 -152.119786 \nL 214.669415 -153.225219 \nL 212.148358 -154.112106 \nL 209.627302 -154.800658 \nL 207.106245 -155.315275 \nL 204.585188 -155.683994 \nL 202.064132 -155.937845 \nL 199.543075 -156.110135 \nL 197.022018 -156.235674 \nL 194.500962 -156.349952 \nL 191.979905 -156.488302 \nL 189.458848 -156.685056 \nL 186.937792 -156.97271 \nL 184.416735 -157.381136 \nL 181.895679 -157.936836 \nL 179.374622 -158.662278 \nL 176.853565 -159.575308 \nL 174.332509 -160.688672 \nL 171.811452 -162.009643 \nL 169.290395 -163.539774 \nL 166.769339 -165.274777 \nL 164.248282 -167.20453 \nL 161.727225 -169.313222 \nL 159.206169 -171.579619 \nL 156.685112 -173.977455 \nL 154.164055 -176.475938 \nL 151.642999 -179.040362 \nL 149.121942 -181.632797 \nL 146.600885 -184.212866 \nL 144.079829 -186.738572 \nL 141.558772 -189.167158 \nL 139.037715 -191.455997 \nL 136.516659 -193.563467 \nL 133.995602 -195.449815 \nL 131.474545 -197.077972 \nL 128.953489 -198.414319 \nL 126.432432 -199.429365 \nL 123.911375 -200.098345 \nL 121.390319 -200.401705 \nL 118.869262 -200.32548 \nL 116.348205 -199.861548 \nL 113.827149 -199.007752 \nL 111.306092 -197.767903 \nL 108.785035 -196.151643 \nL 106.263979 -194.174195 \nL 103.742922 -191.855989 \nL 101.221865 -189.222185 \nL 98.700809 -186.302096 \nL 96.179752 -183.128531 \nL 93.658695 -179.737077 \nL 91.137639 -176.165324 \nz\n\" id=\"m185b274a38\" style=\"stroke:#0072b2;stroke-opacity:0.2;\"/>\n    </defs>\n    <g clip-path=\"url(#p79f8b6f755)\">\n     <use style=\"fill:#0072b2;fill-opacity:0.2;stroke:#0072b2;stroke-opacity:0.2;\" x=\"0\" xlink:href=\"#m185b274a38\" y=\"640.15625\"/>\n    </g>\n   </g>\n   <g id=\"matplotlib.axis_5\">\n    <g id=\"xtick_15\">\n     <g id=\"line2d_53\">\n      <path clip-path=\"url(#p79f8b6f755)\" d=\"M 91.137639 602.6 \nL 91.137639 432 \n\" style=\"fill:none;stroke:#808080;stroke-linecap:square;stroke-opacity:0.2;\"/>\n     </g>\n     <g id=\"line2d_54\">\n      <g>\n       <use style=\"stroke:#000000;stroke-width:0.8;\" x=\"91.137639\" xlink:href=\"#m4d94871ac5\" y=\"602.6\"/>\n      </g>\n     </g>\n     <g id=\"text_30\">\n      <!-- 01/01 -->\n      <defs>\n       <path d=\"M 25.390625 72.90625 \nL 33.6875 72.90625 \nL 8.296875 -9.28125 \nL 0 -9.28125 \nz\n\" id=\"DejaVuSans-47\"/>\n      </defs>\n      <g transform=\"translate(76.728264 617.198437)scale(0.1 -0.1)\">\n       <use xlink:href=\"#DejaVuSans-48\"/>\n       <use x=\"63.623047\" xlink:href=\"#DejaVuSans-49\"/>\n       <use x=\"127.246094\" xlink:href=\"#DejaVuSans-47\"/>\n       <use x=\"160.9375\" xlink:href=\"#DejaVuSans-48\"/>\n       <use x=\"224.560547\" xlink:href=\"#DejaVuSans-49\"/>\n      </g>\n     </g>\n    </g>\n    <g id=\"xtick_16\">\n     <g id=\"line2d_55\">\n      <path clip-path=\"url(#p79f8b6f755)\" d=\"M 174.752685 602.6 \nL 174.752685 432 \n\" style=\"fill:none;stroke:#808080;stroke-linecap:square;stroke-opacity:0.2;\"/>\n     </g>\n     <g id=\"line2d_56\">\n      <g>\n       <use style=\"stroke:#000000;stroke-width:0.8;\" x=\"174.752685\" xlink:href=\"#m4d94871ac5\" y=\"602.6\"/>\n      </g>\n     </g>\n     <g id=\"text_31\">\n      <!-- 01/06 -->\n      <g transform=\"translate(160.34331 617.198437)scale(0.1 -0.1)\">\n       <use xlink:href=\"#DejaVuSans-48\"/>\n       <use x=\"63.623047\" xlink:href=\"#DejaVuSans-49\"/>\n       <use x=\"127.246094\" xlink:href=\"#DejaVuSans-47\"/>\n       <use x=\"160.9375\" xlink:href=\"#DejaVuSans-48\"/>\n       <use x=\"224.560547\" xlink:href=\"#DejaVuSans-54\"/>\n      </g>\n     </g>\n    </g>\n    <g id=\"xtick_17\">\n     <g id=\"line2d_57\">\n      <path clip-path=\"url(#p79f8b6f755)\" d=\"M 258.367731 602.6 \nL 258.367731 432 \n\" style=\"fill:none;stroke:#808080;stroke-linecap:square;stroke-opacity:0.2;\"/>\n     </g>\n     <g id=\"line2d_58\">\n      <g>\n       <use style=\"stroke:#000000;stroke-width:0.8;\" x=\"258.367731\" xlink:href=\"#m4d94871ac5\" y=\"602.6\"/>\n      </g>\n     </g>\n     <g id=\"text_32\">\n      <!-- 01/11 -->\n      <g transform=\"translate(243.958356 617.198437)scale(0.1 -0.1)\">\n       <use xlink:href=\"#DejaVuSans-48\"/>\n       <use x=\"63.623047\" xlink:href=\"#DejaVuSans-49\"/>\n       <use x=\"127.246094\" xlink:href=\"#DejaVuSans-47\"/>\n       <use x=\"160.9375\" xlink:href=\"#DejaVuSans-49\"/>\n       <use x=\"224.560547\" xlink:href=\"#DejaVuSans-49\"/>\n      </g>\n     </g>\n    </g>\n    <g id=\"xtick_18\">\n     <g id=\"line2d_59\">\n      <path clip-path=\"url(#p79f8b6f755)\" d=\"M 341.982776 602.6 \nL 341.982776 432 \n\" style=\"fill:none;stroke:#808080;stroke-linecap:square;stroke-opacity:0.2;\"/>\n     </g>\n     <g id=\"line2d_60\">\n      <g>\n       <use style=\"stroke:#000000;stroke-width:0.8;\" x=\"341.982776\" xlink:href=\"#m4d94871ac5\" y=\"602.6\"/>\n      </g>\n     </g>\n     <g id=\"text_33\">\n      <!-- 01/16 -->\n      <g transform=\"translate(327.573401 617.198437)scale(0.1 -0.1)\">\n       <use xlink:href=\"#DejaVuSans-48\"/>\n       <use x=\"63.623047\" xlink:href=\"#DejaVuSans-49\"/>\n       <use x=\"127.246094\" xlink:href=\"#DejaVuSans-47\"/>\n       <use x=\"160.9375\" xlink:href=\"#DejaVuSans-49\"/>\n       <use x=\"224.560547\" xlink:href=\"#DejaVuSans-54\"/>\n      </g>\n     </g>\n    </g>\n    <g id=\"xtick_19\">\n     <g id=\"line2d_61\">\n      <path clip-path=\"url(#p79f8b6f755)\" d=\"M 425.597822 602.6 \nL 425.597822 432 \n\" style=\"fill:none;stroke:#808080;stroke-linecap:square;stroke-opacity:0.2;\"/>\n     </g>\n     <g id=\"line2d_62\">\n      <g>\n       <use style=\"stroke:#000000;stroke-width:0.8;\" x=\"425.597822\" xlink:href=\"#m4d94871ac5\" y=\"602.6\"/>\n      </g>\n     </g>\n     <g id=\"text_34\">\n      <!-- 01/21 -->\n      <g transform=\"translate(411.188447 617.198437)scale(0.1 -0.1)\">\n       <use xlink:href=\"#DejaVuSans-48\"/>\n       <use x=\"63.623047\" xlink:href=\"#DejaVuSans-49\"/>\n       <use x=\"127.246094\" xlink:href=\"#DejaVuSans-47\"/>\n       <use x=\"160.9375\" xlink:href=\"#DejaVuSans-50\"/>\n       <use x=\"224.560547\" xlink:href=\"#DejaVuSans-49\"/>\n      </g>\n     </g>\n    </g>\n    <g id=\"xtick_20\">\n     <g id=\"line2d_63\">\n      <path clip-path=\"url(#p79f8b6f755)\" d=\"M 509.212868 602.6 \nL 509.212868 432 \n\" style=\"fill:none;stroke:#808080;stroke-linecap:square;stroke-opacity:0.2;\"/>\n     </g>\n     <g id=\"line2d_64\">\n      <g>\n       <use style=\"stroke:#000000;stroke-width:0.8;\" x=\"509.212868\" xlink:href=\"#m4d94871ac5\" y=\"602.6\"/>\n      </g>\n     </g>\n     <g id=\"text_35\">\n      <!-- 01/26 -->\n      <g transform=\"translate(494.803493 617.198437)scale(0.1 -0.1)\">\n       <use xlink:href=\"#DejaVuSans-48\"/>\n       <use x=\"63.623047\" xlink:href=\"#DejaVuSans-49\"/>\n       <use x=\"127.246094\" xlink:href=\"#DejaVuSans-47\"/>\n       <use x=\"160.9375\" xlink:href=\"#DejaVuSans-50\"/>\n       <use x=\"224.560547\" xlink:href=\"#DejaVuSans-54\"/>\n      </g>\n     </g>\n    </g>\n    <g id=\"xtick_21\">\n     <g id=\"line2d_65\">\n      <path clip-path=\"url(#p79f8b6f755)\" d=\"M 592.827914 602.6 \nL 592.827914 432 \n\" style=\"fill:none;stroke:#808080;stroke-linecap:square;stroke-opacity:0.2;\"/>\n     </g>\n     <g id=\"line2d_66\">\n      <g>\n       <use style=\"stroke:#000000;stroke-width:0.8;\" x=\"592.827914\" xlink:href=\"#m4d94871ac5\" y=\"602.6\"/>\n      </g>\n     </g>\n     <g id=\"text_36\">\n      <!-- 01/31 -->\n      <g transform=\"translate(578.418539 617.198437)scale(0.1 -0.1)\">\n       <use xlink:href=\"#DejaVuSans-48\"/>\n       <use x=\"63.623047\" xlink:href=\"#DejaVuSans-49\"/>\n       <use x=\"127.246094\" xlink:href=\"#DejaVuSans-47\"/>\n       <use x=\"160.9375\" xlink:href=\"#DejaVuSans-51\"/>\n       <use x=\"224.560547\" xlink:href=\"#DejaVuSans-49\"/>\n      </g>\n     </g>\n    </g>\n    <g id=\"text_37\">\n     <!-- ds -->\n     <g transform=\"translate(336.20387 630.876562)scale(0.1 -0.1)\">\n      <use xlink:href=\"#DejaVuSans-100\"/>\n      <use x=\"63.476562\" xlink:href=\"#DejaVuSans-115\"/>\n     </g>\n    </g>\n   </g>\n   <g id=\"matplotlib.axis_6\">\n    <g id=\"ytick_12\">\n     <g id=\"line2d_67\">\n      <path clip-path=\"url(#p79f8b6f755)\" d=\"M 66.053125 573.672282 \nL 617.912428 573.672282 \n\" style=\"fill:none;stroke:#808080;stroke-linecap:square;stroke-opacity:0.2;\"/>\n     </g>\n     <g id=\"line2d_68\">\n      <g>\n       <use style=\"stroke:#000000;stroke-width:0.8;\" x=\"66.053125\" xlink:href=\"#ma196e0b994\" y=\"573.672282\"/>\n      </g>\n     </g>\n     <g id=\"text_38\">\n      <!-- −2000 -->\n      <g transform=\"translate(25.223438 577.4715)scale(0.1 -0.1)\">\n       <use xlink:href=\"#DejaVuSans-8722\"/>\n       <use x=\"83.789062\" xlink:href=\"#DejaVuSans-50\"/>\n       <use x=\"147.412109\" xlink:href=\"#DejaVuSans-48\"/>\n       <use x=\"211.035156\" xlink:href=\"#DejaVuSans-48\"/>\n       <use x=\"274.658203\" xlink:href=\"#DejaVuSans-48\"/>\n      </g>\n     </g>\n    </g>\n    <g id=\"ytick_13\">\n     <g id=\"line2d_69\">\n      <path clip-path=\"url(#p79f8b6f755)\" d=\"M 66.053125 534.245223 \nL 617.912428 534.245223 \n\" style=\"fill:none;stroke:#808080;stroke-linecap:square;stroke-opacity:0.2;\"/>\n     </g>\n     <g id=\"line2d_70\">\n      <g>\n       <use style=\"stroke:#000000;stroke-width:0.8;\" x=\"66.053125\" xlink:href=\"#ma196e0b994\" y=\"534.245223\"/>\n      </g>\n     </g>\n     <g id=\"text_39\">\n      <!-- 0 -->\n      <g transform=\"translate(52.690625 538.044442)scale(0.1 -0.1)\">\n       <use xlink:href=\"#DejaVuSans-48\"/>\n      </g>\n     </g>\n    </g>\n    <g id=\"ytick_14\">\n     <g id=\"line2d_71\">\n      <path clip-path=\"url(#p79f8b6f755)\" d=\"M 66.053125 494.818164 \nL 617.912428 494.818164 \n\" style=\"fill:none;stroke:#808080;stroke-linecap:square;stroke-opacity:0.2;\"/>\n     </g>\n     <g id=\"line2d_72\">\n      <g>\n       <use style=\"stroke:#000000;stroke-width:0.8;\" x=\"66.053125\" xlink:href=\"#ma196e0b994\" y=\"494.818164\"/>\n      </g>\n     </g>\n     <g id=\"text_40\">\n      <!-- 2000 -->\n      <g transform=\"translate(33.603125 498.617383)scale(0.1 -0.1)\">\n       <use xlink:href=\"#DejaVuSans-50\"/>\n       <use x=\"63.623047\" xlink:href=\"#DejaVuSans-48\"/>\n       <use x=\"127.246094\" xlink:href=\"#DejaVuSans-48\"/>\n       <use x=\"190.869141\" xlink:href=\"#DejaVuSans-48\"/>\n      </g>\n     </g>\n    </g>\n    <g id=\"ytick_15\">\n     <g id=\"line2d_73\">\n      <path clip-path=\"url(#p79f8b6f755)\" d=\"M 66.053125 455.391105 \nL 617.912428 455.391105 \n\" style=\"fill:none;stroke:#808080;stroke-linecap:square;stroke-opacity:0.2;\"/>\n     </g>\n     <g id=\"line2d_74\">\n      <g>\n       <use style=\"stroke:#000000;stroke-width:0.8;\" x=\"66.053125\" xlink:href=\"#ma196e0b994\" y=\"455.391105\"/>\n      </g>\n     </g>\n     <g id=\"text_41\">\n      <!-- 4000 -->\n      <g transform=\"translate(33.603125 459.190324)scale(0.1 -0.1)\">\n       <use xlink:href=\"#DejaVuSans-52\"/>\n       <use x=\"63.623047\" xlink:href=\"#DejaVuSans-48\"/>\n       <use x=\"127.246094\" xlink:href=\"#DejaVuSans-48\"/>\n       <use x=\"190.869141\" xlink:href=\"#DejaVuSans-48\"/>\n      </g>\n     </g>\n    </g>\n    <g id=\"text_42\">\n     <!-- Monthly -->\n     <g transform=\"translate(19.14375 537.319531)rotate(-90)scale(0.1 -0.1)\">\n      <use xlink:href=\"#DejaVuSans-77\"/>\n      <use x=\"86.279297\" xlink:href=\"#DejaVuSans-111\"/>\n      <use x=\"147.460938\" xlink:href=\"#DejaVuSans-110\"/>\n      <use x=\"210.839844\" xlink:href=\"#DejaVuSans-116\"/>\n      <use x=\"250.048828\" xlink:href=\"#DejaVuSans-104\"/>\n      <use x=\"313.427734\" xlink:href=\"#DejaVuSans-108\"/>\n      <use x=\"341.210938\" xlink:href=\"#DejaVuSans-121\"/>\n     </g>\n    </g>\n   </g>\n   <g id=\"line2d_75\">\n    <path clip-path=\"url(#p79f8b6f755)\" d=\"M 91.137639 463.990926 \nL 96.179752 457.027719 \nL 98.700809 453.854154 \nL 101.221865 450.934065 \nL 103.742922 448.300261 \nL 106.263979 445.982055 \nL 108.785035 444.004607 \nL 111.306092 442.388347 \nL 113.827149 441.148498 \nL 116.348205 440.294702 \nL 118.869262 439.83077 \nL 121.390319 439.754545 \nL 123.911375 440.057905 \nL 126.432432 440.726885 \nL 128.953489 441.741931 \nL 131.474545 443.078278 \nL 133.995602 444.706435 \nL 136.516659 446.592783 \nL 139.037715 448.700253 \nL 144.079829 453.417678 \nL 151.642999 461.115888 \nL 156.685112 466.178795 \nL 161.727225 470.843028 \nL 164.248282 472.95172 \nL 166.769339 474.881473 \nL 169.290395 476.616476 \nL 171.811452 478.146607 \nL 174.332509 479.467578 \nL 176.853565 480.580942 \nL 179.374622 481.493972 \nL 181.895679 482.219414 \nL 184.416735 482.775114 \nL 186.937792 483.18354 \nL 191.979905 483.667948 \nL 202.064132 484.218405 \nL 204.585188 484.472256 \nL 207.106245 484.840975 \nL 209.627302 485.355592 \nL 212.148358 486.044144 \nL 214.669415 486.931031 \nL 217.190472 488.036464 \nL 219.711528 489.37602 \nL 222.232585 490.960295 \nL 224.753642 492.794692 \nL 227.274698 494.879315 \nL 229.795755 497.208998 \nL 232.316812 499.773448 \nL 234.837868 502.557513 \nL 237.358925 505.541545 \nL 242.401038 512.0114 \nL 247.443152 518.956029 \nL 260.048435 536.662842 \nL 265.090548 543.204044 \nL 267.611605 546.248167 \nL 270.132662 549.114077 \nL 272.653718 551.786426 \nL 275.174775 554.254229 \nL 277.695832 556.510986 \nL 280.216888 558.554707 \nL 282.737945 560.387814 \nL 285.259002 562.01695 \nL 287.780058 563.452678 \nL 290.301115 564.709105 \nL 292.822172 565.80341 \nL 295.343228 566.755321 \nL 300.385342 568.320091 \nL 305.427455 569.58932 \nL 315.511681 571.971331 \nL 320.553795 573.386806 \nL 325.595908 575.082911 \nL 330.638021 577.091551 \nL 335.680135 579.389185 \nL 343.243305 583.204254 \nL 350.806475 587.089445 \nL 355.848588 589.475493 \nL 360.890701 591.532967 \nL 363.411758 592.401012 \nL 365.932815 593.146296 \nL 368.453871 593.760445 \nL 370.974928 594.238068 \nL 373.495985 594.576924 \nL 376.017041 594.777993 \nL 378.538098 594.845455 \nL 381.059155 594.786586 \nL 386.101268 594.333189 \nL 391.143381 593.528573 \nL 398.706551 591.974057 \nL 406.269721 590.462381 \nL 411.311835 589.709985 \nL 416.353948 589.279535 \nL 421.396061 589.22082 \nL 426.438174 589.530399 \nL 431.480288 590.15038 \nL 439.043458 591.415008 \nL 446.606628 592.606776 \nL 451.648741 593.060227 \nL 454.169798 593.117664 \nL 456.690854 593.035321 \nL 459.211911 592.795568 \nL 461.732968 592.383371 \nL 464.254024 591.786663 \nL 466.775081 590.996655 \nL 469.296138 590.008048 \nL 471.817194 588.819171 \nL 474.338251 587.432012 \nL 476.859308 585.852168 \nL 479.380364 584.088689 \nL 481.901421 582.153843 \nL 486.943534 577.83319 \nL 491.985648 573.038588 \nL 499.548818 565.336928 \nL 509.633044 555.014115 \nL 514.675158 550.137542 \nL 519.717271 545.553131 \nL 524.759384 541.268434 \nL 532.322554 535.280326 \nL 542.406781 527.483455 \nL 547.448894 523.30799 \nL 552.491007 518.730177 \nL 557.533121 513.616449 \nL 562.575234 507.880197 \nL 567.617347 501.49689 \nL 572.659461 494.513649 \nL 577.701574 487.0521 \nL 592.827914 463.990926 \nL 592.827914 463.990926 \n\" style=\"fill:none;stroke:#0072b2;stroke-linecap:square;stroke-width:1.5;\"/>\n   </g>\n   <g id=\"patch_13\">\n    <path d=\"M 66.053125 602.6 \nL 66.053125 432 \n\" style=\"fill:none;stroke:#000000;stroke-linecap:square;stroke-linejoin:miter;stroke-width:0.8;\"/>\n   </g>\n   <g id=\"patch_14\">\n    <path d=\"M 617.912428 602.6 \nL 617.912428 432 \n\" style=\"fill:none;stroke:#000000;stroke-linecap:square;stroke-linejoin:miter;stroke-width:0.8;\"/>\n   </g>\n   <g id=\"patch_15\">\n    <path d=\"M 66.053125 602.6 \nL 617.912428 602.6 \n\" style=\"fill:none;stroke:#000000;stroke-linecap:square;stroke-linejoin:miter;stroke-width:0.8;\"/>\n   </g>\n   <g id=\"patch_16\">\n    <path d=\"M 66.053125 432 \nL 617.912428 432 \n\" style=\"fill:none;stroke:#000000;stroke-linecap:square;stroke-linejoin:miter;stroke-width:0.8;\"/>\n   </g>\n  </g>\n </g>\n <defs>\n  <clipPath id=\"pf409312ee0\">\n   <rect height=\"170.6\" width=\"551.859303\" x=\"66.053125\" y=\"7.2\"/>\n  </clipPath>\n  <clipPath id=\"p7ca37893f3\">\n   <rect height=\"170.6\" width=\"551.859303\" x=\"66.053125\" y=\"219.6\"/>\n  </clipPath>\n  <clipPath id=\"p79f8b6f755\">\n   <rect height=\"170.6\" width=\"551.859303\" x=\"66.053125\" y=\"432\"/>\n  </clipPath>\n </defs>\n</svg>\n",
      "image/png": "[encoded data removed]"
     },
     "metadata": {},
     "execution_count": 24
    },
    {
     "output_type": "display_data",
     "data": {
      "text/plain": "<Figure size 648x648 with 3 Axes>",
      "image/svg+xml": "<?xml version=\"1.0\" encoding=\"utf-8\" standalone=\"no\"?>\n<!DOCTYPE svg PUBLIC \"-//W3C//DTD SVG 1.1//EN\"\n  \"http://www.w3.org/Graphics/SVG/1.1/DTD/svg11.dtd\">\n<!-- Created with matplotlib (https://matplotlib.org/) -->\n<svg height=\"640.15625pt\" version=\"1.1\" viewBox=\"0 0 640.760179 640.15625\" width=\"640.760179pt\" xmlns=\"http://www.w3.org/2000/svg\" xmlns:xlink=\"http://www.w3.org/1999/xlink\">\n <defs>\n  <style type=\"text/css\">\n*{stroke-linecap:butt;stroke-linejoin:round;}\n  </style>\n </defs>\n <g id=\"figure_1\">\n  <g id=\"patch_1\">\n   <path d=\"M 0 640.15625 \nL 640.760179 640.15625 \nL 640.760179 0 \nL 0 0 \nz\n\" style=\"fill:#ffffff;\"/>\n  </g>\n  <g id=\"axes_1\">\n   <g id=\"patch_2\">\n    <path d=\"M 66.053125 177.8 \nL 617.912428 177.8 \nL 617.912428 7.2 \nL 66.053125 7.2 \nz\n\" style=\"fill:#ffffff;\"/>\n   </g>\n   <g id=\"PolyCollection_1\">\n    <defs>\n     <path d=\"M 91.137639 -470.110795 \nL 91.137639 -470.110795 \nL 93.972047 -470.153622 \nL 96.806455 -470.19645 \nL 99.640864 -470.239277 \nL 102.475272 -470.282104 \nL 105.30968 -470.324931 \nL 108.144089 -470.367758 \nL 110.978497 -470.410585 \nL 113.812905 -470.453412 \nL 116.647314 -470.496239 \nL 119.481722 -470.539066 \nL 122.31613 -470.581893 \nL 125.150539 -470.62472 \nL 127.984947 -470.667547 \nL 130.819355 -470.710374 \nL 133.653764 -470.753201 \nL 136.488172 -470.796028 \nL 139.32258 -470.838855 \nL 142.156989 -470.881682 \nL 144.991397 -470.924509 \nL 147.825805 -470.967336 \nL 150.660214 -471.010163 \nL 153.494622 -470.98857 \nL 156.32903 -470.966977 \nL 159.163439 -470.945384 \nL 161.997847 -470.923791 \nL 164.832255 -470.900875 \nL 167.666664 -470.877959 \nL 170.501072 -470.855043 \nL 173.33548 -470.832127 \nL 176.169889 -470.809211 \nL 179.004297 -470.786295 \nL 181.838705 -470.763379 \nL 184.673114 -470.740463 \nL 187.507522 -470.717546 \nL 190.34193 -470.69463 \nL 193.176339 -470.671714 \nL 196.010747 -470.648798 \nL 198.845155 -470.675256 \nL 201.679564 -470.701715 \nL 204.513972 -470.728173 \nL 207.34838 -470.754631 \nL 210.182789 -470.781115 \nL 213.017197 -470.807599 \nL 215.851605 -470.834084 \nL 218.686014 -470.860568 \nL 221.520422 -470.887052 \nL 224.35483 -470.913536 \nL 227.189239 -470.94002 \nL 230.023647 -470.966504 \nL 232.858055 -470.992988 \nL 235.692464 -471.019472 \nL 238.526872 -471.045957 \nL 241.361281 -471.072441 \nL 244.195689 -471.098925 \nL 247.030097 -471.125408 \nL 249.864506 -471.151892 \nL 252.698914 -471.178375 \nL 255.533322 -471.204859 \nL 258.367731 -471.231342 \nL 261.202139 -471.257825 \nL 264.036547 -471.284309 \nL 266.870956 -471.310792 \nL 269.705364 -471.337276 \nL 272.539772 -471.363759 \nL 275.374181 -471.390242 \nL 278.208589 -471.416726 \nL 281.042997 -471.549281 \nL 283.877406 -471.681836 \nL 286.711814 -471.814392 \nL 289.546222 -471.946947 \nL 292.380631 -472.265105 \nL 295.215039 -472.583263 \nL 298.049447 -472.901421 \nL 300.883856 -473.219579 \nL 303.718264 -473.637717 \nL 306.552672 -474.055856 \nL 309.387081 -474.473994 \nL 312.221489 -474.892133 \nL 315.055897 -475.316024 \nL 317.890306 -475.739916 \nL 320.724714 -476.163808 \nL 323.559122 -476.587699 \nL 326.393531 -477.012032 \nL 329.227939 -477.436364 \nL 332.062347 -477.860696 \nL 334.896756 -478.285029 \nL 337.731164 -478.709361 \nL 340.565572 -479.133831 \nL 343.399981 -479.558301 \nL 346.234389 -479.98277 \nL 349.068797 -480.40724 \nL 351.903206 -480.835079 \nL 354.737614 -481.262918 \nL 357.572022 -481.690756 \nL 360.406431 -482.118595 \nL 363.240839 -482.655529 \nL 366.075247 -483.192464 \nL 368.909656 -483.729398 \nL 371.744064 -484.266332 \nL 374.578472 -485.13876 \nL 377.412881 -486.011188 \nL 380.247289 -486.883616 \nL 383.081697 -487.756044 \nL 385.916106 -489.486194 \nL 388.750514 -491.216344 \nL 391.584922 -492.946494 \nL 394.419331 -494.676644 \nL 397.253739 -496.406794 \nL 400.088147 -498.136944 \nL 402.922556 -499.867094 \nL 405.756964 -501.597244 \nL 408.591372 -503.327394 \nL 411.425781 -505.057544 \nL 414.260189 -506.787694 \nL 417.094597 -508.517844 \nL 419.929006 -510.247994 \nL 422.763414 -511.978144 \nL 425.597822 -513.708294 \nL 428.432231 -515.438443 \nL 431.266639 -517.168593 \nL 434.101047 -518.898743 \nL 436.935456 -520.628893 \nL 439.769864 -522.359043 \nL 442.604272 -524.089193 \nL 445.438681 -525.819343 \nL 448.273089 -527.549493 \nL 451.107497 -529.279643 \nL 453.941906 -531.009793 \nL 456.776314 -532.739943 \nL 459.610722 -534.470093 \nL 462.445131 -536.166348 \nL 465.279539 -537.831088 \nL 468.113947 -539.481093 \nL 470.948356 -541.104235 \nL 473.782764 -542.718183 \nL 476.617172 -544.337742 \nL 479.451581 -545.919244 \nL 482.285989 -547.524882 \nL 485.120397 -549.116148 \nL 487.954806 -550.710297 \nL 490.789214 -552.269526 \nL 493.623622 -553.798541 \nL 496.458031 -555.344477 \nL 499.292439 -556.915908 \nL 502.126847 -558.462714 \nL 504.961256 -559.995979 \nL 507.795664 -561.503819 \nL 510.630072 -563.08788 \nL 513.464481 -564.619441 \nL 516.298889 -566.09197 \nL 519.133297 -567.601827 \nL 521.967706 -569.091025 \nL 524.802114 -570.531361 \nL 527.636522 -572.021174 \nL 530.470931 -573.562266 \nL 533.305339 -575.048145 \nL 536.139747 -576.656321 \nL 538.974156 -578.056558 \nL 541.808564 -579.395686 \nL 544.642972 -580.894762 \nL 547.477381 -582.298488 \nL 550.311789 -583.814931 \nL 553.146197 -585.382704 \nL 555.980606 -586.798258 \nL 558.815014 -588.11142 \nL 561.649422 -589.586343 \nL 564.483831 -591.055685 \nL 567.318239 -592.337134 \nL 570.152647 -593.909747 \nL 572.987056 -595.333876 \nL 575.821464 -596.690313 \nL 578.655872 -598.138404 \nL 581.490281 -599.548682 \nL 584.324689 -601.023288 \nL 587.159097 -602.485857 \nL 589.993506 -603.980708 \nL 592.827914 -605.34455 \nL 592.827914 -625.201705 \nL 592.827914 -625.201705 \nL 589.993506 -623.144116 \nL 587.159097 -621.176275 \nL 584.324689 -619.178595 \nL 581.490281 -617.246709 \nL 578.655872 -615.21758 \nL 575.821464 -613.257256 \nL 572.987056 -611.264935 \nL 570.152647 -609.241119 \nL 567.318239 -607.144403 \nL 564.483831 -605.094567 \nL 561.649422 -603.051256 \nL 558.815014 -601.12831 \nL 555.980606 -599.145246 \nL 553.146197 -597.263178 \nL 550.311789 -595.28572 \nL 547.477381 -593.269814 \nL 544.642972 -591.3037 \nL 541.808564 -589.384104 \nL 538.974156 -587.41769 \nL 536.139747 -585.436266 \nL 533.305339 -583.50931 \nL 530.470931 -581.516452 \nL 527.636522 -579.592977 \nL 524.802114 -577.636379 \nL 521.967706 -575.66428 \nL 519.133297 -573.729754 \nL 516.298889 -571.781893 \nL 513.464481 -569.880808 \nL 510.630072 -567.967894 \nL 507.795664 -566.049118 \nL 504.961256 -564.143719 \nL 502.126847 -562.21601 \nL 499.292439 -560.297 \nL 496.458031 -558.374135 \nL 493.623622 -556.531615 \nL 490.789214 -554.646764 \nL 487.954806 -552.72108 \nL 485.120397 -550.877695 \nL 482.285989 -548.979002 \nL 479.451581 -547.131527 \nL 476.617172 -545.284102 \nL 473.782764 -543.462459 \nL 470.948356 -541.638761 \nL 468.113947 -539.822253 \nL 465.279539 -538.013416 \nL 462.445131 -536.223358 \nL 459.610722 -534.470093 \nL 456.776314 -532.739943 \nL 453.941906 -531.009793 \nL 451.107497 -529.279643 \nL 448.273089 -527.549493 \nL 445.438681 -525.819343 \nL 442.604272 -524.089193 \nL 439.769864 -522.359043 \nL 436.935456 -520.628893 \nL 434.101047 -518.898743 \nL 431.266639 -517.168593 \nL 428.432231 -515.438443 \nL 425.597822 -513.708294 \nL 422.763414 -511.978144 \nL 419.929006 -510.247994 \nL 417.094597 -508.517844 \nL 414.260189 -506.787694 \nL 411.425781 -505.057544 \nL 408.591372 -503.327394 \nL 405.756964 -501.597244 \nL 402.922556 -499.867094 \nL 400.088147 -498.136944 \nL 397.253739 -496.406794 \nL 394.419331 -494.676644 \nL 391.584922 -492.946494 \nL 388.750514 -491.216344 \nL 385.916106 -489.486194 \nL 383.081697 -487.756044 \nL 380.247289 -486.883616 \nL 377.412881 -486.011188 \nL 374.578472 -485.13876 \nL 371.744064 -484.266332 \nL 368.909656 -483.729398 \nL 366.075247 -483.192464 \nL 363.240839 -482.655529 \nL 360.406431 -482.118595 \nL 357.572022 -481.690756 \nL 354.737614 -481.262918 \nL 351.903206 -480.835079 \nL 349.068797 -480.40724 \nL 346.234389 -479.98277 \nL 343.399981 -479.558301 \nL 340.565572 -479.133831 \nL 337.731164 -478.709361 \nL 334.896756 -478.285029 \nL 332.062347 -477.860696 \nL 329.227939 -477.436364 \nL 326.393531 -477.012032 \nL 323.559122 -476.587699 \nL 320.724714 -476.163808 \nL 317.890306 -475.739916 \nL 315.055897 -475.316024 \nL 312.221489 -474.892133 \nL 309.387081 -474.473994 \nL 306.552672 -474.055856 \nL 303.718264 -473.637717 \nL 300.883856 -473.219579 \nL 298.049447 -472.901421 \nL 295.215039 -472.583263 \nL 292.380631 -472.265105 \nL 289.546222 -471.946947 \nL 286.711814 -471.814392 \nL 283.877406 -471.681836 \nL 281.042997 -471.549281 \nL 278.208589 -471.416726 \nL 275.374181 -471.390242 \nL 272.539772 -471.363759 \nL 269.705364 -471.337276 \nL 266.870956 -471.310792 \nL 264.036547 -471.284309 \nL 261.202139 -471.257825 \nL 258.367731 -471.231342 \nL 255.533322 -471.204859 \nL 252.698914 -471.178375 \nL 249.864506 -471.151892 \nL 247.030097 -471.125408 \nL 244.195689 -471.098925 \nL 241.361281 -471.072441 \nL 238.526872 -471.045957 \nL 235.692464 -471.019472 \nL 232.858055 -470.992988 \nL 230.023647 -470.966504 \nL 227.189239 -470.94002 \nL 224.35483 -470.913536 \nL 221.520422 -470.887052 \nL 218.686014 -470.860568 \nL 215.851605 -470.834084 \nL 213.017197 -470.807599 \nL 210.182789 -470.781115 \nL 207.34838 -470.754631 \nL 204.513972 -470.728173 \nL 201.679564 -470.701715 \nL 198.845155 -470.675256 \nL 196.010747 -470.648798 \nL 193.176339 -470.671714 \nL 190.34193 -470.69463 \nL 187.507522 -470.717546 \nL 184.673114 -470.740463 \nL 181.838705 -470.763379 \nL 179.004297 -470.786295 \nL 176.169889 -470.809211 \nL 173.33548 -470.832127 \nL 170.501072 -470.855043 \nL 167.666664 -470.877959 \nL 164.832255 -470.900875 \nL 161.997847 -470.923791 \nL 159.163439 -470.945384 \nL 156.32903 -470.966977 \nL 153.494622 -470.98857 \nL 150.660214 -471.010163 \nL 147.825805 -470.967336 \nL 144.991397 -470.924509 \nL 142.156989 -470.881682 \nL 139.32258 -470.838855 \nL 136.488172 -470.796028 \nL 133.653764 -470.753201 \nL 130.819355 -470.710374 \nL 127.984947 -470.667547 \nL 125.150539 -470.62472 \nL 122.31613 -470.581893 \nL 119.481722 -470.539066 \nL 116.647314 -470.496239 \nL 113.812905 -470.453412 \nL 110.978497 -470.410585 \nL 108.144089 -470.367758 \nL 105.30968 -470.324931 \nL 102.475272 -470.282104 \nL 99.640864 -470.239277 \nL 96.806455 -470.19645 \nL 93.972047 -470.153622 \nL 91.137639 -470.110795 \nz\n\" id=\"m48f65d56a5\" style=\"stroke:#0072b2;stroke-opacity:0.2;\"/>\n    </defs>\n    <g clip-path=\"url(#pb02c1206c1)\">\n     <use style=\"fill:#0072b2;fill-opacity:0.2;stroke:#0072b2;stroke-opacity:0.2;\" x=\"0\" xlink:href=\"#m48f65d56a5\" y=\"640.15625\"/>\n    </g>\n   </g>\n   <g id=\"matplotlib.axis_1\">\n    <g id=\"xtick_1\">\n     <g id=\"line2d_1\">\n      <path clip-path=\"url(#pb02c1206c1)\" d=\"M 96.806455 177.8 \nL 96.806455 7.2 \n\" style=\"fill:none;stroke:#808080;stroke-linecap:square;stroke-opacity:0.2;\"/>\n     </g>\n     <g id=\"line2d_2\">\n      <defs>\n       <path d=\"M 0 0 \nL 0 3.5 \n\" id=\"m63fae7dc8c\" style=\"stroke:#000000;stroke-width:0.8;\"/>\n      </defs>\n      <g>\n       <use style=\"stroke:#000000;stroke-width:0.8;\" x=\"96.806455\" xlink:href=\"#m63fae7dc8c\" y=\"177.8\"/>\n      </g>\n     </g>\n     <g id=\"text_1\">\n      <!-- 2020-02 -->\n      <defs>\n       <path d=\"M 19.1875 8.296875 \nL 53.609375 8.296875 \nL 53.609375 0 \nL 7.328125 0 \nL 7.328125 8.296875 \nQ 12.9375 14.109375 22.625 23.890625 \nQ 32.328125 33.6875 34.8125 36.53125 \nQ 39.546875 41.84375 41.421875 45.53125 \nQ 43.3125 49.21875 43.3125 52.78125 \nQ 43.3125 58.59375 39.234375 62.25 \nQ 35.15625 65.921875 28.609375 65.921875 \nQ 23.96875 65.921875 18.8125 64.3125 \nQ 13.671875 62.703125 7.8125 59.421875 \nL 7.8125 69.390625 \nQ 13.765625 71.78125 18.9375 73 \nQ 24.125 74.21875 28.421875 74.21875 \nQ 39.75 74.21875 46.484375 68.546875 \nQ 53.21875 62.890625 53.21875 53.421875 \nQ 53.21875 48.921875 51.53125 44.890625 \nQ 49.859375 40.875 45.40625 35.40625 \nQ 44.1875 33.984375 37.640625 27.21875 \nQ 31.109375 20.453125 19.1875 8.296875 \nz\n\" id=\"DejaVuSans-50\"/>\n       <path d=\"M 31.78125 66.40625 \nQ 24.171875 66.40625 20.328125 58.90625 \nQ 16.5 51.421875 16.5 36.375 \nQ 16.5 21.390625 20.328125 13.890625 \nQ 24.171875 6.390625 31.78125 6.390625 \nQ 39.453125 6.390625 43.28125 13.890625 \nQ 47.125 21.390625 47.125 36.375 \nQ 47.125 51.421875 43.28125 58.90625 \nQ 39.453125 66.40625 31.78125 66.40625 \nz\nM 31.78125 74.21875 \nQ 44.046875 74.21875 50.515625 64.515625 \nQ 56.984375 54.828125 56.984375 36.375 \nQ 56.984375 17.96875 50.515625 8.265625 \nQ 44.046875 -1.421875 31.78125 -1.421875 \nQ 19.53125 -1.421875 13.0625 8.265625 \nQ 6.59375 17.96875 6.59375 36.375 \nQ 6.59375 54.828125 13.0625 64.515625 \nQ 19.53125 74.21875 31.78125 74.21875 \nz\n\" id=\"DejaVuSans-48\"/>\n       <path d=\"M 4.890625 31.390625 \nL 31.203125 31.390625 \nL 31.203125 23.390625 \nL 4.890625 23.390625 \nz\n\" id=\"DejaVuSans-45\"/>\n      </defs>\n      <g transform=\"translate(75.915049 192.398437)scale(0.1 -0.1)\">\n       <use xlink:href=\"#DejaVuSans-50\"/>\n       <use x=\"63.623047\" xlink:href=\"#DejaVuSans-48\"/>\n       <use x=\"127.246094\" xlink:href=\"#DejaVuSans-50\"/>\n       <use x=\"190.869141\" xlink:href=\"#DejaVuSans-48\"/>\n       <use x=\"254.492188\" xlink:href=\"#DejaVuSans-45\"/>\n       <use x=\"290.576172\" xlink:href=\"#DejaVuSans-48\"/>\n       <use x=\"354.199219\" xlink:href=\"#DejaVuSans-50\"/>\n      </g>\n     </g>\n    </g>\n    <g id=\"xtick_2\">\n     <g id=\"line2d_3\">\n      <path clip-path=\"url(#pb02c1206c1)\" d=\"M 179.004297 177.8 \nL 179.004297 7.2 \n\" style=\"fill:none;stroke:#808080;stroke-linecap:square;stroke-opacity:0.2;\"/>\n     </g>\n     <g id=\"line2d_4\">\n      <g>\n       <use style=\"stroke:#000000;stroke-width:0.8;\" x=\"179.004297\" xlink:href=\"#m63fae7dc8c\" y=\"177.8\"/>\n      </g>\n     </g>\n     <g id=\"text_2\">\n      <!-- 2020-03 -->\n      <defs>\n       <path d=\"M 40.578125 39.3125 \nQ 47.65625 37.796875 51.625 33 \nQ 55.609375 28.21875 55.609375 21.1875 \nQ 55.609375 10.40625 48.1875 4.484375 \nQ 40.765625 -1.421875 27.09375 -1.421875 \nQ 22.515625 -1.421875 17.65625 -0.515625 \nQ 12.796875 0.390625 7.625 2.203125 \nL 7.625 11.71875 \nQ 11.71875 9.328125 16.59375 8.109375 \nQ 21.484375 6.890625 26.8125 6.890625 \nQ 36.078125 6.890625 40.9375 10.546875 \nQ 45.796875 14.203125 45.796875 21.1875 \nQ 45.796875 27.640625 41.28125 31.265625 \nQ 36.765625 34.90625 28.71875 34.90625 \nL 20.21875 34.90625 \nL 20.21875 43.015625 \nL 29.109375 43.015625 \nQ 36.375 43.015625 40.234375 45.921875 \nQ 44.09375 48.828125 44.09375 54.296875 \nQ 44.09375 59.90625 40.109375 62.90625 \nQ 36.140625 65.921875 28.71875 65.921875 \nQ 24.65625 65.921875 20.015625 65.03125 \nQ 15.375 64.15625 9.8125 62.3125 \nL 9.8125 71.09375 \nQ 15.4375 72.65625 20.34375 73.4375 \nQ 25.25 74.21875 29.59375 74.21875 \nQ 40.828125 74.21875 47.359375 69.109375 \nQ 53.90625 64.015625 53.90625 55.328125 \nQ 53.90625 49.265625 50.4375 45.09375 \nQ 46.96875 40.921875 40.578125 39.3125 \nz\n\" id=\"DejaVuSans-51\"/>\n      </defs>\n      <g transform=\"translate(158.112891 192.398437)scale(0.1 -0.1)\">\n       <use xlink:href=\"#DejaVuSans-50\"/>\n       <use x=\"63.623047\" xlink:href=\"#DejaVuSans-48\"/>\n       <use x=\"127.246094\" xlink:href=\"#DejaVuSans-50\"/>\n       <use x=\"190.869141\" xlink:href=\"#DejaVuSans-48\"/>\n       <use x=\"254.492188\" xlink:href=\"#DejaVuSans-45\"/>\n       <use x=\"290.576172\" xlink:href=\"#DejaVuSans-48\"/>\n       <use x=\"354.199219\" xlink:href=\"#DejaVuSans-51\"/>\n      </g>\n     </g>\n    </g>\n    <g id=\"xtick_3\">\n     <g id=\"line2d_5\">\n      <path clip-path=\"url(#pb02c1206c1)\" d=\"M 266.870956 177.8 \nL 266.870956 7.2 \n\" style=\"fill:none;stroke:#808080;stroke-linecap:square;stroke-opacity:0.2;\"/>\n     </g>\n     <g id=\"line2d_6\">\n      <g>\n       <use style=\"stroke:#000000;stroke-width:0.8;\" x=\"266.870956\" xlink:href=\"#m63fae7dc8c\" y=\"177.8\"/>\n      </g>\n     </g>\n     <g id=\"text_3\">\n      <!-- 2020-04 -->\n      <defs>\n       <path d=\"M 37.796875 64.3125 \nL 12.890625 25.390625 \nL 37.796875 25.390625 \nz\nM 35.203125 72.90625 \nL 47.609375 72.90625 \nL 47.609375 25.390625 \nL 58.015625 25.390625 \nL 58.015625 17.1875 \nL 47.609375 17.1875 \nL 47.609375 0 \nL 37.796875 0 \nL 37.796875 17.1875 \nL 4.890625 17.1875 \nL 4.890625 26.703125 \nz\n\" id=\"DejaVuSans-52\"/>\n      </defs>\n      <g transform=\"translate(245.979549 192.398437)scale(0.1 -0.1)\">\n       <use xlink:href=\"#DejaVuSans-50\"/>\n       <use x=\"63.623047\" xlink:href=\"#DejaVuSans-48\"/>\n       <use x=\"127.246094\" xlink:href=\"#DejaVuSans-50\"/>\n       <use x=\"190.869141\" xlink:href=\"#DejaVuSans-48\"/>\n       <use x=\"254.492188\" xlink:href=\"#DejaVuSans-45\"/>\n       <use x=\"290.576172\" xlink:href=\"#DejaVuSans-48\"/>\n       <use x=\"354.199219\" xlink:href=\"#DejaVuSans-52\"/>\n      </g>\n     </g>\n    </g>\n    <g id=\"xtick_4\">\n     <g id=\"line2d_7\">\n      <path clip-path=\"url(#pb02c1206c1)\" d=\"M 351.903206 177.8 \nL 351.903206 7.2 \n\" style=\"fill:none;stroke:#808080;stroke-linecap:square;stroke-opacity:0.2;\"/>\n     </g>\n     <g id=\"line2d_8\">\n      <g>\n       <use style=\"stroke:#000000;stroke-width:0.8;\" x=\"351.903206\" xlink:href=\"#m63fae7dc8c\" y=\"177.8\"/>\n      </g>\n     </g>\n     <g id=\"text_4\">\n      <!-- 2020-05 -->\n      <defs>\n       <path d=\"M 10.796875 72.90625 \nL 49.515625 72.90625 \nL 49.515625 64.59375 \nL 19.828125 64.59375 \nL 19.828125 46.734375 \nQ 21.96875 47.46875 24.109375 47.828125 \nQ 26.265625 48.1875 28.421875 48.1875 \nQ 40.625 48.1875 47.75 41.5 \nQ 54.890625 34.8125 54.890625 23.390625 \nQ 54.890625 11.625 47.5625 5.09375 \nQ 40.234375 -1.421875 26.90625 -1.421875 \nQ 22.3125 -1.421875 17.546875 -0.640625 \nQ 12.796875 0.140625 7.71875 1.703125 \nL 7.71875 11.625 \nQ 12.109375 9.234375 16.796875 8.0625 \nQ 21.484375 6.890625 26.703125 6.890625 \nQ 35.15625 6.890625 40.078125 11.328125 \nQ 45.015625 15.765625 45.015625 23.390625 \nQ 45.015625 31 40.078125 35.4375 \nQ 35.15625 39.890625 26.703125 39.890625 \nQ 22.75 39.890625 18.8125 39.015625 \nQ 14.890625 38.140625 10.796875 36.28125 \nz\n\" id=\"DejaVuSans-53\"/>\n      </defs>\n      <g transform=\"translate(331.011799 192.398437)scale(0.1 -0.1)\">\n       <use xlink:href=\"#DejaVuSans-50\"/>\n       <use x=\"63.623047\" xlink:href=\"#DejaVuSans-48\"/>\n       <use x=\"127.246094\" xlink:href=\"#DejaVuSans-50\"/>\n       <use x=\"190.869141\" xlink:href=\"#DejaVuSans-48\"/>\n       <use x=\"254.492188\" xlink:href=\"#DejaVuSans-45\"/>\n       <use x=\"290.576172\" xlink:href=\"#DejaVuSans-48\"/>\n       <use x=\"354.199219\" xlink:href=\"#DejaVuSans-53\"/>\n      </g>\n     </g>\n    </g>\n    <g id=\"xtick_5\">\n     <g id=\"line2d_9\">\n      <path clip-path=\"url(#pb02c1206c1)\" d=\"M 439.769864 177.8 \nL 439.769864 7.2 \n\" style=\"fill:none;stroke:#808080;stroke-linecap:square;stroke-opacity:0.2;\"/>\n     </g>\n     <g id=\"line2d_10\">\n      <g>\n       <use style=\"stroke:#000000;stroke-width:0.8;\" x=\"439.769864\" xlink:href=\"#m63fae7dc8c\" y=\"177.8\"/>\n      </g>\n     </g>\n     <g id=\"text_5\">\n      <!-- 2020-06 -->\n      <defs>\n       <path d=\"M 33.015625 40.375 \nQ 26.375 40.375 22.484375 35.828125 \nQ 18.609375 31.296875 18.609375 23.390625 \nQ 18.609375 15.53125 22.484375 10.953125 \nQ 26.375 6.390625 33.015625 6.390625 \nQ 39.65625 6.390625 43.53125 10.953125 \nQ 47.40625 15.53125 47.40625 23.390625 \nQ 47.40625 31.296875 43.53125 35.828125 \nQ 39.65625 40.375 33.015625 40.375 \nz\nM 52.59375 71.296875 \nL 52.59375 62.3125 \nQ 48.875 64.0625 45.09375 64.984375 \nQ 41.3125 65.921875 37.59375 65.921875 \nQ 27.828125 65.921875 22.671875 59.328125 \nQ 17.53125 52.734375 16.796875 39.40625 \nQ 19.671875 43.65625 24.015625 45.921875 \nQ 28.375 48.1875 33.59375 48.1875 \nQ 44.578125 48.1875 50.953125 41.515625 \nQ 57.328125 34.859375 57.328125 23.390625 \nQ 57.328125 12.15625 50.6875 5.359375 \nQ 44.046875 -1.421875 33.015625 -1.421875 \nQ 20.359375 -1.421875 13.671875 8.265625 \nQ 6.984375 17.96875 6.984375 36.375 \nQ 6.984375 53.65625 15.1875 63.9375 \nQ 23.390625 74.21875 37.203125 74.21875 \nQ 40.921875 74.21875 44.703125 73.484375 \nQ 48.484375 72.75 52.59375 71.296875 \nz\n\" id=\"DejaVuSans-54\"/>\n      </defs>\n      <g transform=\"translate(418.878458 192.398437)scale(0.1 -0.1)\">\n       <use xlink:href=\"#DejaVuSans-50\"/>\n       <use x=\"63.623047\" xlink:href=\"#DejaVuSans-48\"/>\n       <use x=\"127.246094\" xlink:href=\"#DejaVuSans-50\"/>\n       <use x=\"190.869141\" xlink:href=\"#DejaVuSans-48\"/>\n       <use x=\"254.492188\" xlink:href=\"#DejaVuSans-45\"/>\n       <use x=\"290.576172\" xlink:href=\"#DejaVuSans-48\"/>\n       <use x=\"354.199219\" xlink:href=\"#DejaVuSans-54\"/>\n      </g>\n     </g>\n    </g>\n    <g id=\"xtick_6\">\n     <g id=\"line2d_11\">\n      <path clip-path=\"url(#pb02c1206c1)\" d=\"M 524.802114 177.8 \nL 524.802114 7.2 \n\" style=\"fill:none;stroke:#808080;stroke-linecap:square;stroke-opacity:0.2;\"/>\n     </g>\n     <g id=\"line2d_12\">\n      <g>\n       <use style=\"stroke:#000000;stroke-width:0.8;\" x=\"524.802114\" xlink:href=\"#m63fae7dc8c\" y=\"177.8\"/>\n      </g>\n     </g>\n     <g id=\"text_6\">\n      <!-- 2020-07 -->\n      <defs>\n       <path d=\"M 8.203125 72.90625 \nL 55.078125 72.90625 \nL 55.078125 68.703125 \nL 28.609375 0 \nL 18.3125 0 \nL 43.21875 64.59375 \nL 8.203125 64.59375 \nz\n\" id=\"DejaVuSans-55\"/>\n      </defs>\n      <g transform=\"translate(503.910708 192.398437)scale(0.1 -0.1)\">\n       <use xlink:href=\"#DejaVuSans-50\"/>\n       <use x=\"63.623047\" xlink:href=\"#DejaVuSans-48\"/>\n       <use x=\"127.246094\" xlink:href=\"#DejaVuSans-50\"/>\n       <use x=\"190.869141\" xlink:href=\"#DejaVuSans-48\"/>\n       <use x=\"254.492188\" xlink:href=\"#DejaVuSans-45\"/>\n       <use x=\"290.576172\" xlink:href=\"#DejaVuSans-48\"/>\n       <use x=\"354.199219\" xlink:href=\"#DejaVuSans-55\"/>\n      </g>\n     </g>\n    </g>\n    <g id=\"xtick_7\">\n     <g id=\"line2d_13\">\n      <path clip-path=\"url(#pb02c1206c1)\" d=\"M 612.668772 177.8 \nL 612.668772 7.2 \n\" style=\"fill:none;stroke:#808080;stroke-linecap:square;stroke-opacity:0.2;\"/>\n     </g>\n     <g id=\"line2d_14\">\n      <g>\n       <use style=\"stroke:#000000;stroke-width:0.8;\" x=\"612.668772\" xlink:href=\"#m63fae7dc8c\" y=\"177.8\"/>\n      </g>\n     </g>\n     <g id=\"text_7\">\n      <!-- 2020-08 -->\n      <defs>\n       <path d=\"M 31.78125 34.625 \nQ 24.75 34.625 20.71875 30.859375 \nQ 16.703125 27.09375 16.703125 20.515625 \nQ 16.703125 13.921875 20.71875 10.15625 \nQ 24.75 6.390625 31.78125 6.390625 \nQ 38.8125 6.390625 42.859375 10.171875 \nQ 46.921875 13.96875 46.921875 20.515625 \nQ 46.921875 27.09375 42.890625 30.859375 \nQ 38.875 34.625 31.78125 34.625 \nz\nM 21.921875 38.8125 \nQ 15.578125 40.375 12.03125 44.71875 \nQ 8.5 49.078125 8.5 55.328125 \nQ 8.5 64.0625 14.71875 69.140625 \nQ 20.953125 74.21875 31.78125 74.21875 \nQ 42.671875 74.21875 48.875 69.140625 \nQ 55.078125 64.0625 55.078125 55.328125 \nQ 55.078125 49.078125 51.53125 44.71875 \nQ 48 40.375 41.703125 38.8125 \nQ 48.828125 37.15625 52.796875 32.3125 \nQ 56.78125 27.484375 56.78125 20.515625 \nQ 56.78125 9.90625 50.3125 4.234375 \nQ 43.84375 -1.421875 31.78125 -1.421875 \nQ 19.734375 -1.421875 13.25 4.234375 \nQ 6.78125 9.90625 6.78125 20.515625 \nQ 6.78125 27.484375 10.78125 32.3125 \nQ 14.796875 37.15625 21.921875 38.8125 \nz\nM 18.3125 54.390625 \nQ 18.3125 48.734375 21.84375 45.5625 \nQ 25.390625 42.390625 31.78125 42.390625 \nQ 38.140625 42.390625 41.71875 45.5625 \nQ 45.3125 48.734375 45.3125 54.390625 \nQ 45.3125 60.0625 41.71875 63.234375 \nQ 38.140625 66.40625 31.78125 66.40625 \nQ 25.390625 66.40625 21.84375 63.234375 \nQ 18.3125 60.0625 18.3125 54.390625 \nz\n\" id=\"DejaVuSans-56\"/>\n      </defs>\n      <g transform=\"translate(591.777366 192.398437)scale(0.1 -0.1)\">\n       <use xlink:href=\"#DejaVuSans-50\"/>\n       <use x=\"63.623047\" xlink:href=\"#DejaVuSans-48\"/>\n       <use x=\"127.246094\" xlink:href=\"#DejaVuSans-50\"/>\n       <use x=\"190.869141\" xlink:href=\"#DejaVuSans-48\"/>\n       <use x=\"254.492188\" xlink:href=\"#DejaVuSans-45\"/>\n       <use x=\"290.576172\" xlink:href=\"#DejaVuSans-48\"/>\n       <use x=\"354.199219\" xlink:href=\"#DejaVuSans-56\"/>\n      </g>\n     </g>\n    </g>\n    <g id=\"text_8\">\n     <!-- ds -->\n     <defs>\n      <path d=\"M 45.40625 46.390625 \nL 45.40625 75.984375 \nL 54.390625 75.984375 \nL 54.390625 0 \nL 45.40625 0 \nL 45.40625 8.203125 \nQ 42.578125 3.328125 38.25 0.953125 \nQ 33.9375 -1.421875 27.875 -1.421875 \nQ 17.96875 -1.421875 11.734375 6.484375 \nQ 5.515625 14.40625 5.515625 27.296875 \nQ 5.515625 40.1875 11.734375 48.09375 \nQ 17.96875 56 27.875 56 \nQ 33.9375 56 38.25 53.625 \nQ 42.578125 51.265625 45.40625 46.390625 \nz\nM 14.796875 27.296875 \nQ 14.796875 17.390625 18.875 11.75 \nQ 22.953125 6.109375 30.078125 6.109375 \nQ 37.203125 6.109375 41.296875 11.75 \nQ 45.40625 17.390625 45.40625 27.296875 \nQ 45.40625 37.203125 41.296875 42.84375 \nQ 37.203125 48.484375 30.078125 48.484375 \nQ 22.953125 48.484375 18.875 42.84375 \nQ 14.796875 37.203125 14.796875 27.296875 \nz\n\" id=\"DejaVuSans-100\"/>\n      <path d=\"M 44.28125 53.078125 \nL 44.28125 44.578125 \nQ 40.484375 46.53125 36.375 47.5 \nQ 32.28125 48.484375 27.875 48.484375 \nQ 21.1875 48.484375 17.84375 46.4375 \nQ 14.5 44.390625 14.5 40.28125 \nQ 14.5 37.15625 16.890625 35.375 \nQ 19.28125 33.59375 26.515625 31.984375 \nL 29.59375 31.296875 \nQ 39.15625 29.25 43.1875 25.515625 \nQ 47.21875 21.78125 47.21875 15.09375 \nQ 47.21875 7.46875 41.1875 3.015625 \nQ 35.15625 -1.421875 24.609375 -1.421875 \nQ 20.21875 -1.421875 15.453125 -0.5625 \nQ 10.6875 0.296875 5.421875 2 \nL 5.421875 11.28125 \nQ 10.40625 8.6875 15.234375 7.390625 \nQ 20.0625 6.109375 24.8125 6.109375 \nQ 31.15625 6.109375 34.5625 8.28125 \nQ 37.984375 10.453125 37.984375 14.40625 \nQ 37.984375 18.0625 35.515625 20.015625 \nQ 33.0625 21.96875 24.703125 23.78125 \nL 21.578125 24.515625 \nQ 13.234375 26.265625 9.515625 29.90625 \nQ 5.8125 33.546875 5.8125 39.890625 \nQ 5.8125 47.609375 11.28125 51.796875 \nQ 16.75 56 26.8125 56 \nQ 31.78125 56 36.171875 55.265625 \nQ 40.578125 54.546875 44.28125 53.078125 \nz\n\" id=\"DejaVuSans-115\"/>\n     </defs>\n     <g transform=\"translate(336.20387 206.076562)scale(0.1 -0.1)\">\n      <use xlink:href=\"#DejaVuSans-100\"/>\n      <use x=\"63.476562\" xlink:href=\"#DejaVuSans-115\"/>\n     </g>\n    </g>\n   </g>\n   <g id=\"matplotlib.axis_2\">\n    <g id=\"ytick_1\">\n     <g id=\"line2d_15\">\n      <path clip-path=\"url(#pb02c1206c1)\" d=\"M 66.053125 169.354413 \nL 617.912428 169.354413 \n\" style=\"fill:none;stroke:#808080;stroke-linecap:square;stroke-opacity:0.2;\"/>\n     </g>\n     <g id=\"line2d_16\">\n      <defs>\n       <path d=\"M 0 0 \nL -3.5 0 \n\" id=\"ma7368119a7\" style=\"stroke:#000000;stroke-width:0.8;\"/>\n      </defs>\n      <g>\n       <use style=\"stroke:#000000;stroke-width:0.8;\" x=\"66.053125\" xlink:href=\"#ma7368119a7\" y=\"169.354413\"/>\n      </g>\n     </g>\n     <g id=\"text_9\">\n      <!-- 0 -->\n      <g transform=\"translate(52.690625 173.153632)scale(0.1 -0.1)\">\n       <use xlink:href=\"#DejaVuSans-48\"/>\n      </g>\n     </g>\n    </g>\n    <g id=\"ytick_2\">\n     <g id=\"line2d_17\">\n      <path clip-path=\"url(#pb02c1206c1)\" d=\"M 66.053125 143.509627 \nL 617.912428 143.509627 \n\" style=\"fill:none;stroke:#808080;stroke-linecap:square;stroke-opacity:0.2;\"/>\n     </g>\n     <g id=\"line2d_18\">\n      <g>\n       <use style=\"stroke:#000000;stroke-width:0.8;\" x=\"66.053125\" xlink:href=\"#ma7368119a7\" y=\"143.509627\"/>\n      </g>\n     </g>\n     <g id=\"text_10\">\n      <!-- 100000 -->\n      <defs>\n       <path d=\"M 12.40625 8.296875 \nL 28.515625 8.296875 \nL 28.515625 63.921875 \nL 10.984375 60.40625 \nL 10.984375 69.390625 \nL 28.421875 72.90625 \nL 38.28125 72.90625 \nL 38.28125 8.296875 \nL 54.390625 8.296875 \nL 54.390625 0 \nL 12.40625 0 \nz\n\" id=\"DejaVuSans-49\"/>\n      </defs>\n      <g transform=\"translate(20.878125 147.308845)scale(0.1 -0.1)\">\n       <use xlink:href=\"#DejaVuSans-49\"/>\n       <use x=\"63.623047\" xlink:href=\"#DejaVuSans-48\"/>\n       <use x=\"127.246094\" xlink:href=\"#DejaVuSans-48\"/>\n       <use x=\"190.869141\" xlink:href=\"#DejaVuSans-48\"/>\n       <use x=\"254.492188\" xlink:href=\"#DejaVuSans-48\"/>\n       <use x=\"318.115234\" xlink:href=\"#DejaVuSans-48\"/>\n      </g>\n     </g>\n    </g>\n    <g id=\"ytick_3\">\n     <g id=\"line2d_19\">\n      <path clip-path=\"url(#pb02c1206c1)\" d=\"M 66.053125 117.66484 \nL 617.912428 117.66484 \n\" style=\"fill:none;stroke:#808080;stroke-linecap:square;stroke-opacity:0.2;\"/>\n     </g>\n     <g id=\"line2d_20\">\n      <g>\n       <use style=\"stroke:#000000;stroke-width:0.8;\" x=\"66.053125\" xlink:href=\"#ma7368119a7\" y=\"117.66484\"/>\n      </g>\n     </g>\n     <g id=\"text_11\">\n      <!-- 200000 -->\n      <g transform=\"translate(20.878125 121.464059)scale(0.1 -0.1)\">\n       <use xlink:href=\"#DejaVuSans-50\"/>\n       <use x=\"63.623047\" xlink:href=\"#DejaVuSans-48\"/>\n       <use x=\"127.246094\" xlink:href=\"#DejaVuSans-48\"/>\n       <use x=\"190.869141\" xlink:href=\"#DejaVuSans-48\"/>\n       <use x=\"254.492188\" xlink:href=\"#DejaVuSans-48\"/>\n       <use x=\"318.115234\" xlink:href=\"#DejaVuSans-48\"/>\n      </g>\n     </g>\n    </g>\n    <g id=\"ytick_4\">\n     <g id=\"line2d_21\">\n      <path clip-path=\"url(#pb02c1206c1)\" d=\"M 66.053125 91.820054 \nL 617.912428 91.820054 \n\" style=\"fill:none;stroke:#808080;stroke-linecap:square;stroke-opacity:0.2;\"/>\n     </g>\n     <g id=\"line2d_22\">\n      <g>\n       <use style=\"stroke:#000000;stroke-width:0.8;\" x=\"66.053125\" xlink:href=\"#ma7368119a7\" y=\"91.820054\"/>\n      </g>\n     </g>\n     <g id=\"text_12\">\n      <!-- 300000 -->\n      <g transform=\"translate(20.878125 95.619273)scale(0.1 -0.1)\">\n       <use xlink:href=\"#DejaVuSans-51\"/>\n       <use x=\"63.623047\" xlink:href=\"#DejaVuSans-48\"/>\n       <use x=\"127.246094\" xlink:href=\"#DejaVuSans-48\"/>\n       <use x=\"190.869141\" xlink:href=\"#DejaVuSans-48\"/>\n       <use x=\"254.492188\" xlink:href=\"#DejaVuSans-48\"/>\n       <use x=\"318.115234\" xlink:href=\"#DejaVuSans-48\"/>\n      </g>\n     </g>\n    </g>\n    <g id=\"ytick_5\">\n     <g id=\"line2d_23\">\n      <path clip-path=\"url(#pb02c1206c1)\" d=\"M 66.053125 65.975268 \nL 617.912428 65.975268 \n\" style=\"fill:none;stroke:#808080;stroke-linecap:square;stroke-opacity:0.2;\"/>\n     </g>\n     <g id=\"line2d_24\">\n      <g>\n       <use style=\"stroke:#000000;stroke-width:0.8;\" x=\"66.053125\" xlink:href=\"#ma7368119a7\" y=\"65.975268\"/>\n      </g>\n     </g>\n     <g id=\"text_13\">\n      <!-- 400000 -->\n      <g transform=\"translate(20.878125 69.774487)scale(0.1 -0.1)\">\n       <use xlink:href=\"#DejaVuSans-52\"/>\n       <use x=\"63.623047\" xlink:href=\"#DejaVuSans-48\"/>\n       <use x=\"127.246094\" xlink:href=\"#DejaVuSans-48\"/>\n       <use x=\"190.869141\" xlink:href=\"#DejaVuSans-48\"/>\n       <use x=\"254.492188\" xlink:href=\"#DejaVuSans-48\"/>\n       <use x=\"318.115234\" xlink:href=\"#DejaVuSans-48\"/>\n      </g>\n     </g>\n    </g>\n    <g id=\"ytick_6\">\n     <g id=\"line2d_25\">\n      <path clip-path=\"url(#pb02c1206c1)\" d=\"M 66.053125 40.130482 \nL 617.912428 40.130482 \n\" style=\"fill:none;stroke:#808080;stroke-linecap:square;stroke-opacity:0.2;\"/>\n     </g>\n     <g id=\"line2d_26\">\n      <g>\n       <use style=\"stroke:#000000;stroke-width:0.8;\" x=\"66.053125\" xlink:href=\"#ma7368119a7\" y=\"40.130482\"/>\n      </g>\n     </g>\n     <g id=\"text_14\">\n      <!-- 500000 -->\n      <g transform=\"translate(20.878125 43.929701)scale(0.1 -0.1)\">\n       <use xlink:href=\"#DejaVuSans-53\"/>\n       <use x=\"63.623047\" xlink:href=\"#DejaVuSans-48\"/>\n       <use x=\"127.246094\" xlink:href=\"#DejaVuSans-48\"/>\n       <use x=\"190.869141\" xlink:href=\"#DejaVuSans-48\"/>\n       <use x=\"254.492188\" xlink:href=\"#DejaVuSans-48\"/>\n       <use x=\"318.115234\" xlink:href=\"#DejaVuSans-48\"/>\n      </g>\n     </g>\n    </g>\n    <g id=\"ytick_7\">\n     <g id=\"line2d_27\">\n      <path clip-path=\"url(#pb02c1206c1)\" d=\"M 66.053125 14.285696 \nL 617.912428 14.285696 \n\" style=\"fill:none;stroke:#808080;stroke-linecap:square;stroke-opacity:0.2;\"/>\n     </g>\n     <g id=\"line2d_28\">\n      <g>\n       <use style=\"stroke:#000000;stroke-width:0.8;\" x=\"66.053125\" xlink:href=\"#ma7368119a7\" y=\"14.285696\"/>\n      </g>\n     </g>\n     <g id=\"text_15\">\n      <!-- 600000 -->\n      <g transform=\"translate(20.878125 18.084914)scale(0.1 -0.1)\">\n       <use xlink:href=\"#DejaVuSans-54\"/>\n       <use x=\"63.623047\" xlink:href=\"#DejaVuSans-48\"/>\n       <use x=\"127.246094\" xlink:href=\"#DejaVuSans-48\"/>\n       <use x=\"190.869141\" xlink:href=\"#DejaVuSans-48\"/>\n       <use x=\"254.492188\" xlink:href=\"#DejaVuSans-48\"/>\n       <use x=\"318.115234\" xlink:href=\"#DejaVuSans-48\"/>\n      </g>\n     </g>\n    </g>\n    <g id=\"text_16\">\n     <!-- trend -->\n     <defs>\n      <path d=\"M 18.3125 70.21875 \nL 18.3125 54.6875 \nL 36.8125 54.6875 \nL 36.8125 47.703125 \nL 18.3125 47.703125 \nL 18.3125 18.015625 \nQ 18.3125 11.328125 20.140625 9.421875 \nQ 21.96875 7.515625 27.59375 7.515625 \nL 36.8125 7.515625 \nL 36.8125 0 \nL 27.59375 0 \nQ 17.1875 0 13.234375 3.875 \nQ 9.28125 7.765625 9.28125 18.015625 \nL 9.28125 47.703125 \nL 2.6875 47.703125 \nL 2.6875 54.6875 \nL 9.28125 54.6875 \nL 9.28125 70.21875 \nz\n\" id=\"DejaVuSans-116\"/>\n      <path d=\"M 41.109375 46.296875 \nQ 39.59375 47.171875 37.8125 47.578125 \nQ 36.03125 48 33.890625 48 \nQ 26.265625 48 22.1875 43.046875 \nQ 18.109375 38.09375 18.109375 28.8125 \nL 18.109375 0 \nL 9.078125 0 \nL 9.078125 54.6875 \nL 18.109375 54.6875 \nL 18.109375 46.1875 \nQ 20.953125 51.171875 25.484375 53.578125 \nQ 30.03125 56 36.53125 56 \nQ 37.453125 56 38.578125 55.875 \nQ 39.703125 55.765625 41.0625 55.515625 \nz\n\" id=\"DejaVuSans-114\"/>\n      <path d=\"M 56.203125 29.59375 \nL 56.203125 25.203125 \nL 14.890625 25.203125 \nQ 15.484375 15.921875 20.484375 11.0625 \nQ 25.484375 6.203125 34.421875 6.203125 \nQ 39.59375 6.203125 44.453125 7.46875 \nQ 49.3125 8.734375 54.109375 11.28125 \nL 54.109375 2.78125 \nQ 49.265625 0.734375 44.1875 -0.34375 \nQ 39.109375 -1.421875 33.890625 -1.421875 \nQ 20.796875 -1.421875 13.15625 6.1875 \nQ 5.515625 13.8125 5.515625 26.8125 \nQ 5.515625 40.234375 12.765625 48.109375 \nQ 20.015625 56 32.328125 56 \nQ 43.359375 56 49.78125 48.890625 \nQ 56.203125 41.796875 56.203125 29.59375 \nz\nM 47.21875 32.234375 \nQ 47.125 39.59375 43.09375 43.984375 \nQ 39.0625 48.390625 32.421875 48.390625 \nQ 24.90625 48.390625 20.390625 44.140625 \nQ 15.875 39.890625 15.1875 32.171875 \nz\n\" id=\"DejaVuSans-101\"/>\n      <path d=\"M 54.890625 33.015625 \nL 54.890625 0 \nL 45.90625 0 \nL 45.90625 32.71875 \nQ 45.90625 40.484375 42.875 44.328125 \nQ 39.84375 48.1875 33.796875 48.1875 \nQ 26.515625 48.1875 22.3125 43.546875 \nQ 18.109375 38.921875 18.109375 30.90625 \nL 18.109375 0 \nL 9.078125 0 \nL 9.078125 54.6875 \nL 18.109375 54.6875 \nL 18.109375 46.1875 \nQ 21.34375 51.125 25.703125 53.5625 \nQ 30.078125 56 35.796875 56 \nQ 45.21875 56 50.046875 50.171875 \nQ 54.890625 44.34375 54.890625 33.015625 \nz\n\" id=\"DejaVuSans-110\"/>\n     </defs>\n     <g transform=\"translate(14.798438 105.822656)rotate(-90)scale(0.1 -0.1)\">\n      <use xlink:href=\"#DejaVuSans-116\"/>\n      <use x=\"39.208984\" xlink:href=\"#DejaVuSans-114\"/>\n      <use x=\"78.072266\" xlink:href=\"#DejaVuSans-101\"/>\n      <use x=\"139.595703\" xlink:href=\"#DejaVuSans-110\"/>\n      <use x=\"202.974609\" xlink:href=\"#DejaVuSans-100\"/>\n     </g>\n    </g>\n   </g>\n   <g id=\"line2d_29\">\n    <path clip-path=\"url(#pb02c1206c1)\" d=\"M 91.137639 170.045455 \nL 153.494622 169.16768 \nL 201.679564 169.454535 \nL 281.042997 168.606969 \nL 289.546222 168.209303 \nL 303.718264 166.518533 \nL 357.572022 158.465494 \nL 363.240839 157.500721 \nL 371.744064 155.889918 \nL 383.081697 152.400206 \nL 592.827914 24.369108 \nL 592.827914 24.369108 \n\" style=\"fill:none;stroke:#0072b2;stroke-linecap:square;stroke-width:1.5;\"/>\n   </g>\n   <g id=\"patch_3\">\n    <path d=\"M 66.053125 177.8 \nL 66.053125 7.2 \n\" style=\"fill:none;stroke:#000000;stroke-linecap:square;stroke-linejoin:miter;stroke-width:0.8;\"/>\n   </g>\n   <g id=\"patch_4\">\n    <path d=\"M 617.912428 177.8 \nL 617.912428 7.2 \n\" style=\"fill:none;stroke:#000000;stroke-linecap:square;stroke-linejoin:miter;stroke-width:0.8;\"/>\n   </g>\n   <g id=\"patch_5\">\n    <path d=\"M 66.053125 177.8 \nL 617.912428 177.8 \n\" style=\"fill:none;stroke:#000000;stroke-linecap:square;stroke-linejoin:miter;stroke-width:0.8;\"/>\n   </g>\n   <g id=\"patch_6\">\n    <path d=\"M 66.053125 7.2 \nL 617.912428 7.2 \n\" style=\"fill:none;stroke:#000000;stroke-linecap:square;stroke-linejoin:miter;stroke-width:0.8;\"/>\n   </g>\n  </g>\n  <g id=\"axes_2\">\n   <g id=\"patch_7\">\n    <path d=\"M 66.053125 390.2 \nL 617.912428 390.2 \nL 617.912428 219.6 \nL 66.053125 219.6 \nz\n\" style=\"fill:#ffffff;\"/>\n   </g>\n   <g id=\"PolyCollection_2\">\n    <defs>\n     <path d=\"M 91.137639 -412.801705 \nL 91.137639 -412.801705 \nL 174.752685 -269.503733 \nL 258.367731 -266.219024 \nL 341.982776 -257.710795 \nL 425.597822 -304.582662 \nL 509.212868 -320.525786 \nL 592.827914 -354.477877 \nL 592.827914 -354.477877 \nL 592.827914 -354.477877 \nL 509.212868 -320.525786 \nL 425.597822 -304.582662 \nL 341.982776 -257.710795 \nL 258.367731 -266.219024 \nL 174.752685 -269.503733 \nL 91.137639 -412.801705 \nz\n\" id=\"m68cbe313c9\" style=\"stroke:#0072b2;stroke-opacity:0.2;\"/>\n    </defs>\n    <g clip-path=\"url(#pb2bd741854)\">\n     <use style=\"fill:#0072b2;fill-opacity:0.2;stroke:#0072b2;stroke-opacity:0.2;\" x=\"0\" xlink:href=\"#m68cbe313c9\" y=\"640.15625\"/>\n    </g>\n   </g>\n   <g id=\"matplotlib.axis_3\">\n    <g id=\"xtick_8\">\n     <g id=\"line2d_30\">\n      <path clip-path=\"url(#pb2bd741854)\" d=\"M 91.137639 390.2 \nL 91.137639 219.6 \n\" style=\"fill:none;stroke:#808080;stroke-linecap:square;stroke-opacity:0.2;\"/>\n     </g>\n     <g id=\"line2d_31\">\n      <g>\n       <use style=\"stroke:#000000;stroke-width:0.8;\" x=\"91.137639\" xlink:href=\"#m63fae7dc8c\" y=\"390.2\"/>\n      </g>\n     </g>\n     <g id=\"text_17\">\n      <!-- Sunday -->\n      <defs>\n       <path d=\"M 53.515625 70.515625 \nL 53.515625 60.890625 \nQ 47.90625 63.578125 42.921875 64.890625 \nQ 37.9375 66.21875 33.296875 66.21875 \nQ 25.25 66.21875 20.875 63.09375 \nQ 16.5 59.96875 16.5 54.203125 \nQ 16.5 49.359375 19.40625 46.890625 \nQ 22.3125 44.4375 30.421875 42.921875 \nL 36.375 41.703125 \nQ 47.40625 39.59375 52.65625 34.296875 \nQ 57.90625 29 57.90625 20.125 \nQ 57.90625 9.515625 50.796875 4.046875 \nQ 43.703125 -1.421875 29.984375 -1.421875 \nQ 24.8125 -1.421875 18.96875 -0.25 \nQ 13.140625 0.921875 6.890625 3.21875 \nL 6.890625 13.375 \nQ 12.890625 10.015625 18.65625 8.296875 \nQ 24.421875 6.59375 29.984375 6.59375 \nQ 38.421875 6.59375 43.015625 9.90625 \nQ 47.609375 13.234375 47.609375 19.390625 \nQ 47.609375 24.75 44.3125 27.78125 \nQ 41.015625 30.8125 33.5 32.328125 \nL 27.484375 33.5 \nQ 16.453125 35.6875 11.515625 40.375 \nQ 6.59375 45.0625 6.59375 53.421875 \nQ 6.59375 63.09375 13.40625 68.65625 \nQ 20.21875 74.21875 32.171875 74.21875 \nQ 37.3125 74.21875 42.625 73.28125 \nQ 47.953125 72.359375 53.515625 70.515625 \nz\n\" id=\"DejaVuSans-83\"/>\n       <path d=\"M 8.5 21.578125 \nL 8.5 54.6875 \nL 17.484375 54.6875 \nL 17.484375 21.921875 \nQ 17.484375 14.15625 20.5 10.265625 \nQ 23.53125 6.390625 29.59375 6.390625 \nQ 36.859375 6.390625 41.078125 11.03125 \nQ 45.3125 15.671875 45.3125 23.6875 \nL 45.3125 54.6875 \nL 54.296875 54.6875 \nL 54.296875 0 \nL 45.3125 0 \nL 45.3125 8.40625 \nQ 42.046875 3.421875 37.71875 1 \nQ 33.40625 -1.421875 27.6875 -1.421875 \nQ 18.265625 -1.421875 13.375 4.4375 \nQ 8.5 10.296875 8.5 21.578125 \nz\nM 31.109375 56 \nz\n\" id=\"DejaVuSans-117\"/>\n       <path d=\"M 34.28125 27.484375 \nQ 23.390625 27.484375 19.1875 25 \nQ 14.984375 22.515625 14.984375 16.5 \nQ 14.984375 11.71875 18.140625 8.90625 \nQ 21.296875 6.109375 26.703125 6.109375 \nQ 34.1875 6.109375 38.703125 11.40625 \nQ 43.21875 16.703125 43.21875 25.484375 \nL 43.21875 27.484375 \nz\nM 52.203125 31.203125 \nL 52.203125 0 \nL 43.21875 0 \nL 43.21875 8.296875 \nQ 40.140625 3.328125 35.546875 0.953125 \nQ 30.953125 -1.421875 24.3125 -1.421875 \nQ 15.921875 -1.421875 10.953125 3.296875 \nQ 6 8.015625 6 15.921875 \nQ 6 25.140625 12.171875 29.828125 \nQ 18.359375 34.515625 30.609375 34.515625 \nL 43.21875 34.515625 \nL 43.21875 35.40625 \nQ 43.21875 41.609375 39.140625 45 \nQ 35.0625 48.390625 27.6875 48.390625 \nQ 23 48.390625 18.546875 47.265625 \nQ 14.109375 46.140625 10.015625 43.890625 \nL 10.015625 52.203125 \nQ 14.9375 54.109375 19.578125 55.046875 \nQ 24.21875 56 28.609375 56 \nQ 40.484375 56 46.34375 49.84375 \nQ 52.203125 43.703125 52.203125 31.203125 \nz\n\" id=\"DejaVuSans-97\"/>\n       <path d=\"M 32.171875 -5.078125 \nQ 28.375 -14.84375 24.75 -17.8125 \nQ 21.140625 -20.796875 15.09375 -20.796875 \nL 7.90625 -20.796875 \nL 7.90625 -13.28125 \nL 13.1875 -13.28125 \nQ 16.890625 -13.28125 18.9375 -11.515625 \nQ 21 -9.765625 23.484375 -3.21875 \nL 25.09375 0.875 \nL 2.984375 54.6875 \nL 12.5 54.6875 \nL 29.59375 11.921875 \nL 46.6875 54.6875 \nL 56.203125 54.6875 \nz\n\" id=\"DejaVuSans-121\"/>\n      </defs>\n      <g transform=\"translate(72.428264 404.798437)scale(0.1 -0.1)\">\n       <use xlink:href=\"#DejaVuSans-83\"/>\n       <use x=\"63.476562\" xlink:href=\"#DejaVuSans-117\"/>\n       <use x=\"126.855469\" xlink:href=\"#DejaVuSans-110\"/>\n       <use x=\"190.234375\" xlink:href=\"#DejaVuSans-100\"/>\n       <use x=\"253.710938\" xlink:href=\"#DejaVuSans-97\"/>\n       <use x=\"314.990234\" xlink:href=\"#DejaVuSans-121\"/>\n      </g>\n     </g>\n    </g>\n    <g id=\"xtick_9\">\n     <g id=\"line2d_32\">\n      <path clip-path=\"url(#pb2bd741854)\" d=\"M 174.752685 390.2 \nL 174.752685 219.6 \n\" style=\"fill:none;stroke:#808080;stroke-linecap:square;stroke-opacity:0.2;\"/>\n     </g>\n     <g id=\"line2d_33\">\n      <g>\n       <use style=\"stroke:#000000;stroke-width:0.8;\" x=\"174.752685\" xlink:href=\"#m63fae7dc8c\" y=\"390.2\"/>\n      </g>\n     </g>\n     <g id=\"text_18\">\n      <!-- Monday -->\n      <defs>\n       <path d=\"M 9.8125 72.90625 \nL 24.515625 72.90625 \nL 43.109375 23.296875 \nL 61.8125 72.90625 \nL 76.515625 72.90625 \nL 76.515625 0 \nL 66.890625 0 \nL 66.890625 64.015625 \nL 48.09375 14.015625 \nL 38.1875 14.015625 \nL 19.390625 64.015625 \nL 19.390625 0 \nL 9.8125 0 \nz\n\" id=\"DejaVuSans-77\"/>\n       <path d=\"M 30.609375 48.390625 \nQ 23.390625 48.390625 19.1875 42.75 \nQ 14.984375 37.109375 14.984375 27.296875 \nQ 14.984375 17.484375 19.15625 11.84375 \nQ 23.34375 6.203125 30.609375 6.203125 \nQ 37.796875 6.203125 41.984375 11.859375 \nQ 46.1875 17.53125 46.1875 27.296875 \nQ 46.1875 37.015625 41.984375 42.703125 \nQ 37.796875 48.390625 30.609375 48.390625 \nz\nM 30.609375 56 \nQ 42.328125 56 49.015625 48.375 \nQ 55.71875 40.765625 55.71875 27.296875 \nQ 55.71875 13.875 49.015625 6.21875 \nQ 42.328125 -1.421875 30.609375 -1.421875 \nQ 18.84375 -1.421875 12.171875 6.21875 \nQ 5.515625 13.875 5.515625 27.296875 \nQ 5.515625 40.765625 12.171875 48.375 \nQ 18.84375 56 30.609375 56 \nz\n\" id=\"DejaVuSans-111\"/>\n      </defs>\n      <g transform=\"translate(155.012841 404.798437)scale(0.1 -0.1)\">\n       <use xlink:href=\"#DejaVuSans-77\"/>\n       <use x=\"86.279297\" xlink:href=\"#DejaVuSans-111\"/>\n       <use x=\"147.460938\" xlink:href=\"#DejaVuSans-110\"/>\n       <use x=\"210.839844\" xlink:href=\"#DejaVuSans-100\"/>\n       <use x=\"274.316406\" xlink:href=\"#DejaVuSans-97\"/>\n       <use x=\"335.595703\" xlink:href=\"#DejaVuSans-121\"/>\n      </g>\n     </g>\n    </g>\n    <g id=\"xtick_10\">\n     <g id=\"line2d_34\">\n      <path clip-path=\"url(#pb2bd741854)\" d=\"M 258.367731 390.2 \nL 258.367731 219.6 \n\" style=\"fill:none;stroke:#808080;stroke-linecap:square;stroke-opacity:0.2;\"/>\n     </g>\n     <g id=\"line2d_35\">\n      <g>\n       <use style=\"stroke:#000000;stroke-width:0.8;\" x=\"258.367731\" xlink:href=\"#m63fae7dc8c\" y=\"390.2\"/>\n      </g>\n     </g>\n     <g id=\"text_19\">\n      <!-- Tuesday -->\n      <defs>\n       <path d=\"M -0.296875 72.90625 \nL 61.375 72.90625 \nL 61.375 64.59375 \nL 35.5 64.59375 \nL 35.5 0 \nL 25.59375 0 \nL 25.59375 64.59375 \nL -0.296875 64.59375 \nz\n\" id=\"DejaVuSans-84\"/>\n      </defs>\n      <g transform=\"translate(238.022418 404.798437)scale(0.1 -0.1)\">\n       <use xlink:href=\"#DejaVuSans-84\"/>\n       <use x=\"45.958984\" xlink:href=\"#DejaVuSans-117\"/>\n       <use x=\"109.337891\" xlink:href=\"#DejaVuSans-101\"/>\n       <use x=\"170.861328\" xlink:href=\"#DejaVuSans-115\"/>\n       <use x=\"222.960938\" xlink:href=\"#DejaVuSans-100\"/>\n       <use x=\"286.4375\" xlink:href=\"#DejaVuSans-97\"/>\n       <use x=\"347.716797\" xlink:href=\"#DejaVuSans-121\"/>\n      </g>\n     </g>\n    </g>\n    <g id=\"xtick_11\">\n     <g id=\"line2d_36\">\n      <path clip-path=\"url(#pb2bd741854)\" d=\"M 341.982776 390.2 \nL 341.982776 219.6 \n\" style=\"fill:none;stroke:#808080;stroke-linecap:square;stroke-opacity:0.2;\"/>\n     </g>\n     <g id=\"line2d_37\">\n      <g>\n       <use style=\"stroke:#000000;stroke-width:0.8;\" x=\"341.982776\" xlink:href=\"#m63fae7dc8c\" y=\"390.2\"/>\n      </g>\n     </g>\n     <g id=\"text_20\">\n      <!-- Wednesday -->\n      <defs>\n       <path d=\"M 3.328125 72.90625 \nL 13.28125 72.90625 \nL 28.609375 11.28125 \nL 43.890625 72.90625 \nL 54.984375 72.90625 \nL 70.3125 11.28125 \nL 85.59375 72.90625 \nL 95.609375 72.90625 \nL 77.296875 0 \nL 64.890625 0 \nL 49.515625 63.28125 \nL 33.984375 0 \nL 21.578125 0 \nz\n\" id=\"DejaVuSans-87\"/>\n      </defs>\n      <g transform=\"translate(313.034339 404.798437)scale(0.1 -0.1)\">\n       <use xlink:href=\"#DejaVuSans-87\"/>\n       <use x=\"93.001953\" xlink:href=\"#DejaVuSans-101\"/>\n       <use x=\"154.525391\" xlink:href=\"#DejaVuSans-100\"/>\n       <use x=\"218.001953\" xlink:href=\"#DejaVuSans-110\"/>\n       <use x=\"281.380859\" xlink:href=\"#DejaVuSans-101\"/>\n       <use x=\"342.904297\" xlink:href=\"#DejaVuSans-115\"/>\n       <use x=\"395.003906\" xlink:href=\"#DejaVuSans-100\"/>\n       <use x=\"458.480469\" xlink:href=\"#DejaVuSans-97\"/>\n       <use x=\"519.759766\" xlink:href=\"#DejaVuSans-121\"/>\n      </g>\n     </g>\n    </g>\n    <g id=\"xtick_12\">\n     <g id=\"line2d_38\">\n      <path clip-path=\"url(#pb2bd741854)\" d=\"M 425.597822 390.2 \nL 425.597822 219.6 \n\" style=\"fill:none;stroke:#808080;stroke-linecap:square;stroke-opacity:0.2;\"/>\n     </g>\n     <g id=\"line2d_39\">\n      <g>\n       <use style=\"stroke:#000000;stroke-width:0.8;\" x=\"425.597822\" xlink:href=\"#m63fae7dc8c\" y=\"390.2\"/>\n      </g>\n     </g>\n     <g id=\"text_21\">\n      <!-- Thursday -->\n      <defs>\n       <path d=\"M 54.890625 33.015625 \nL 54.890625 0 \nL 45.90625 0 \nL 45.90625 32.71875 \nQ 45.90625 40.484375 42.875 44.328125 \nQ 39.84375 48.1875 33.796875 48.1875 \nQ 26.515625 48.1875 22.3125 43.546875 \nQ 18.109375 38.921875 18.109375 30.90625 \nL 18.109375 0 \nL 9.078125 0 \nL 9.078125 75.984375 \nL 18.109375 75.984375 \nL 18.109375 46.1875 \nQ 21.34375 51.125 25.703125 53.5625 \nQ 30.078125 56 35.796875 56 \nQ 45.21875 56 50.046875 50.171875 \nQ 54.890625 44.34375 54.890625 33.015625 \nz\n\" id=\"DejaVuSans-104\"/>\n      </defs>\n      <g transform=\"translate(402.348604 404.798437)scale(0.1 -0.1)\">\n       <use xlink:href=\"#DejaVuSans-84\"/>\n       <use x=\"61.083984\" xlink:href=\"#DejaVuSans-104\"/>\n       <use x=\"124.462891\" xlink:href=\"#DejaVuSans-117\"/>\n       <use x=\"187.841797\" xlink:href=\"#DejaVuSans-114\"/>\n       <use x=\"228.955078\" xlink:href=\"#DejaVuSans-115\"/>\n       <use x=\"281.054688\" xlink:href=\"#DejaVuSans-100\"/>\n       <use x=\"344.53125\" xlink:href=\"#DejaVuSans-97\"/>\n       <use x=\"405.810547\" xlink:href=\"#DejaVuSans-121\"/>\n      </g>\n     </g>\n    </g>\n    <g id=\"xtick_13\">\n     <g id=\"line2d_40\">\n      <path clip-path=\"url(#pb2bd741854)\" d=\"M 509.212868 390.2 \nL 509.212868 219.6 \n\" style=\"fill:none;stroke:#808080;stroke-linecap:square;stroke-opacity:0.2;\"/>\n     </g>\n     <g id=\"line2d_41\">\n      <g>\n       <use style=\"stroke:#000000;stroke-width:0.8;\" x=\"509.212868\" xlink:href=\"#m63fae7dc8c\" y=\"390.2\"/>\n      </g>\n     </g>\n     <g id=\"text_22\">\n      <!-- Friday -->\n      <defs>\n       <path d=\"M 9.8125 72.90625 \nL 51.703125 72.90625 \nL 51.703125 64.59375 \nL 19.671875 64.59375 \nL 19.671875 43.109375 \nL 48.578125 43.109375 \nL 48.578125 34.8125 \nL 19.671875 34.8125 \nL 19.671875 0 \nL 9.8125 0 \nz\n\" id=\"DejaVuSans-70\"/>\n       <path d=\"M 9.421875 54.6875 \nL 18.40625 54.6875 \nL 18.40625 0 \nL 9.421875 0 \nz\nM 9.421875 75.984375 \nL 18.40625 75.984375 \nL 18.40625 64.59375 \nL 9.421875 64.59375 \nz\n\" id=\"DejaVuSans-105\"/>\n      </defs>\n      <g transform=\"translate(494.057399 404.798437)scale(0.1 -0.1)\">\n       <use xlink:href=\"#DejaVuSans-70\"/>\n       <use x=\"50.269531\" xlink:href=\"#DejaVuSans-114\"/>\n       <use x=\"91.382812\" xlink:href=\"#DejaVuSans-105\"/>\n       <use x=\"119.166016\" xlink:href=\"#DejaVuSans-100\"/>\n       <use x=\"182.642578\" xlink:href=\"#DejaVuSans-97\"/>\n       <use x=\"243.921875\" xlink:href=\"#DejaVuSans-121\"/>\n      </g>\n     </g>\n    </g>\n    <g id=\"xtick_14\">\n     <g id=\"line2d_42\">\n      <path clip-path=\"url(#pb2bd741854)\" d=\"M 592.827914 390.2 \nL 592.827914 219.6 \n\" style=\"fill:none;stroke:#808080;stroke-linecap:square;stroke-opacity:0.2;\"/>\n     </g>\n     <g id=\"line2d_43\">\n      <g>\n       <use style=\"stroke:#000000;stroke-width:0.8;\" x=\"592.827914\" xlink:href=\"#m63fae7dc8c\" y=\"390.2\"/>\n      </g>\n     </g>\n     <g id=\"text_23\">\n      <!-- Saturday -->\n      <g transform=\"translate(570.295102 404.798437)scale(0.1 -0.1)\">\n       <use xlink:href=\"#DejaVuSans-83\"/>\n       <use x=\"63.476562\" xlink:href=\"#DejaVuSans-97\"/>\n       <use x=\"124.755859\" xlink:href=\"#DejaVuSans-116\"/>\n       <use x=\"163.964844\" xlink:href=\"#DejaVuSans-117\"/>\n       <use x=\"227.34375\" xlink:href=\"#DejaVuSans-114\"/>\n       <use x=\"266.707031\" xlink:href=\"#DejaVuSans-100\"/>\n       <use x=\"330.183594\" xlink:href=\"#DejaVuSans-97\"/>\n       <use x=\"391.462891\" xlink:href=\"#DejaVuSans-121\"/>\n      </g>\n     </g>\n    </g>\n    <g id=\"text_24\">\n     <!-- Day of week -->\n     <defs>\n      <path d=\"M 19.671875 64.796875 \nL 19.671875 8.109375 \nL 31.59375 8.109375 \nQ 46.6875 8.109375 53.6875 14.9375 \nQ 60.6875 21.78125 60.6875 36.53125 \nQ 60.6875 51.171875 53.6875 57.984375 \nQ 46.6875 64.796875 31.59375 64.796875 \nz\nM 9.8125 72.90625 \nL 30.078125 72.90625 \nQ 51.265625 72.90625 61.171875 64.09375 \nQ 71.09375 55.28125 71.09375 36.53125 \nQ 71.09375 17.671875 61.125 8.828125 \nQ 51.171875 0 30.078125 0 \nL 9.8125 0 \nz\n\" id=\"DejaVuSans-68\"/>\n      <path id=\"DejaVuSans-32\"/>\n      <path d=\"M 37.109375 75.984375 \nL 37.109375 68.5 \nL 28.515625 68.5 \nQ 23.6875 68.5 21.796875 66.546875 \nQ 19.921875 64.59375 19.921875 59.515625 \nL 19.921875 54.6875 \nL 34.71875 54.6875 \nL 34.71875 47.703125 \nL 19.921875 47.703125 \nL 19.921875 0 \nL 10.890625 0 \nL 10.890625 47.703125 \nL 2.296875 47.703125 \nL 2.296875 54.6875 \nL 10.890625 54.6875 \nL 10.890625 58.5 \nQ 10.890625 67.625 15.140625 71.796875 \nQ 19.390625 75.984375 28.609375 75.984375 \nz\n\" id=\"DejaVuSans-102\"/>\n      <path d=\"M 4.203125 54.6875 \nL 13.1875 54.6875 \nL 24.421875 12.015625 \nL 35.59375 54.6875 \nL 46.1875 54.6875 \nL 57.421875 12.015625 \nL 68.609375 54.6875 \nL 77.59375 54.6875 \nL 63.28125 0 \nL 52.6875 0 \nL 40.921875 44.828125 \nL 29.109375 0 \nL 18.5 0 \nz\n\" id=\"DejaVuSans-119\"/>\n      <path d=\"M 9.078125 75.984375 \nL 18.109375 75.984375 \nL 18.109375 31.109375 \nL 44.921875 54.6875 \nL 56.390625 54.6875 \nL 27.390625 29.109375 \nL 57.625 0 \nL 45.90625 0 \nL 18.109375 26.703125 \nL 18.109375 0 \nL 9.078125 0 \nz\n\" id=\"DejaVuSans-107\"/>\n     </defs>\n     <g transform=\"translate(310.974183 418.476562)scale(0.1 -0.1)\">\n      <use xlink:href=\"#DejaVuSans-68\"/>\n      <use x=\"77.001953\" xlink:href=\"#DejaVuSans-97\"/>\n      <use x=\"138.28125\" xlink:href=\"#DejaVuSans-121\"/>\n      <use x=\"197.460938\" xlink:href=\"#DejaVuSans-32\"/>\n      <use x=\"229.248047\" xlink:href=\"#DejaVuSans-111\"/>\n      <use x=\"290.429688\" xlink:href=\"#DejaVuSans-102\"/>\n      <use x=\"325.634766\" xlink:href=\"#DejaVuSans-32\"/>\n      <use x=\"357.421875\" xlink:href=\"#DejaVuSans-119\"/>\n      <use x=\"439.208984\" xlink:href=\"#DejaVuSans-101\"/>\n      <use x=\"500.732422\" xlink:href=\"#DejaVuSans-101\"/>\n      <use x=\"562.255859\" xlink:href=\"#DejaVuSans-107\"/>\n     </g>\n    </g>\n   </g>\n   <g id=\"matplotlib.axis_4\">\n    <g id=\"ytick_8\">\n     <g id=\"line2d_44\">\n      <path clip-path=\"url(#pb2bd741854)\" d=\"M 66.053125 364.143978 \nL 617.912428 364.143978 \n\" style=\"fill:none;stroke:#808080;stroke-linecap:square;stroke-opacity:0.2;\"/>\n     </g>\n     <g id=\"line2d_45\">\n      <g>\n       <use style=\"stroke:#000000;stroke-width:0.8;\" x=\"66.053125\" xlink:href=\"#ma7368119a7\" y=\"364.143978\"/>\n      </g>\n     </g>\n     <g id=\"text_25\">\n      <!-- −200 -->\n      <defs>\n       <path d=\"M 10.59375 35.5 \nL 73.1875 35.5 \nL 73.1875 27.203125 \nL 10.59375 27.203125 \nz\n\" id=\"DejaVuSans-8722\"/>\n      </defs>\n      <g transform=\"translate(31.585938 367.943197)scale(0.1 -0.1)\">\n       <use xlink:href=\"#DejaVuSans-8722\"/>\n       <use x=\"83.789062\" xlink:href=\"#DejaVuSans-50\"/>\n       <use x=\"147.412109\" xlink:href=\"#DejaVuSans-48\"/>\n       <use x=\"211.035156\" xlink:href=\"#DejaVuSans-48\"/>\n      </g>\n     </g>\n    </g>\n    <g id=\"ytick_9\">\n     <g id=\"line2d_46\">\n      <path clip-path=\"url(#pb2bd741854)\" d=\"M 66.053125 327.896024 \nL 617.912428 327.896024 \n\" style=\"fill:none;stroke:#808080;stroke-linecap:square;stroke-opacity:0.2;\"/>\n     </g>\n     <g id=\"line2d_47\">\n      <g>\n       <use style=\"stroke:#000000;stroke-width:0.8;\" x=\"66.053125\" xlink:href=\"#ma7368119a7\" y=\"327.896024\"/>\n      </g>\n     </g>\n     <g id=\"text_26\">\n      <!-- 0 -->\n      <g transform=\"translate(52.690625 331.695243)scale(0.1 -0.1)\">\n       <use xlink:href=\"#DejaVuSans-48\"/>\n      </g>\n     </g>\n    </g>\n    <g id=\"ytick_10\">\n     <g id=\"line2d_48\">\n      <path clip-path=\"url(#pb2bd741854)\" d=\"M 66.053125 291.64807 \nL 617.912428 291.64807 \n\" style=\"fill:none;stroke:#808080;stroke-linecap:square;stroke-opacity:0.2;\"/>\n     </g>\n     <g id=\"line2d_49\">\n      <g>\n       <use style=\"stroke:#000000;stroke-width:0.8;\" x=\"66.053125\" xlink:href=\"#ma7368119a7\" y=\"291.64807\"/>\n      </g>\n     </g>\n     <g id=\"text_27\">\n      <!-- 200 -->\n      <g transform=\"translate(39.965625 295.447289)scale(0.1 -0.1)\">\n       <use xlink:href=\"#DejaVuSans-50\"/>\n       <use x=\"63.623047\" xlink:href=\"#DejaVuSans-48\"/>\n       <use x=\"127.246094\" xlink:href=\"#DejaVuSans-48\"/>\n      </g>\n     </g>\n    </g>\n    <g id=\"ytick_11\">\n     <g id=\"line2d_50\">\n      <path clip-path=\"url(#pb2bd741854)\" d=\"M 66.053125 255.400117 \nL 617.912428 255.400117 \n\" style=\"fill:none;stroke:#808080;stroke-linecap:square;stroke-opacity:0.2;\"/>\n     </g>\n     <g id=\"line2d_51\">\n      <g>\n       <use style=\"stroke:#000000;stroke-width:0.8;\" x=\"66.053125\" xlink:href=\"#ma7368119a7\" y=\"255.400117\"/>\n      </g>\n     </g>\n     <g id=\"text_28\">\n      <!-- 400 -->\n      <g transform=\"translate(39.965625 259.199335)scale(0.1 -0.1)\">\n       <use xlink:href=\"#DejaVuSans-52\"/>\n       <use x=\"63.623047\" xlink:href=\"#DejaVuSans-48\"/>\n       <use x=\"127.246094\" xlink:href=\"#DejaVuSans-48\"/>\n      </g>\n     </g>\n    </g>\n    <g id=\"text_29\">\n     <!-- weekly -->\n     <defs>\n      <path d=\"M 9.421875 75.984375 \nL 18.40625 75.984375 \nL 18.40625 0 \nL 9.421875 0 \nz\n\" id=\"DejaVuSans-108\"/>\n     </defs>\n     <g transform=\"translate(25.50625 322.385937)rotate(-90)scale(0.1 -0.1)\">\n      <use xlink:href=\"#DejaVuSans-119\"/>\n      <use x=\"81.787109\" xlink:href=\"#DejaVuSans-101\"/>\n      <use x=\"143.310547\" xlink:href=\"#DejaVuSans-101\"/>\n      <use x=\"204.833984\" xlink:href=\"#DejaVuSans-107\"/>\n      <use x=\"262.744141\" xlink:href=\"#DejaVuSans-108\"/>\n      <use x=\"290.527344\" xlink:href=\"#DejaVuSans-121\"/>\n     </g>\n    </g>\n   </g>\n   <g id=\"line2d_52\">\n    <path clip-path=\"url(#pb2bd741854)\" d=\"M 91.137639 227.354545 \nL 174.752685 370.652517 \nL 258.367731 373.937226 \nL 341.982776 382.445455 \nL 425.597822 335.573588 \nL 509.212868 319.630464 \nL 592.827914 285.678373 \n\" style=\"fill:none;stroke:#0072b2;stroke-linecap:square;stroke-width:1.5;\"/>\n   </g>\n   <g id=\"patch_8\">\n    <path d=\"M 66.053125 390.2 \nL 66.053125 219.6 \n\" style=\"fill:none;stroke:#000000;stroke-linecap:square;stroke-linejoin:miter;stroke-width:0.8;\"/>\n   </g>\n   <g id=\"patch_9\">\n    <path d=\"M 617.912428 390.2 \nL 617.912428 219.6 \n\" style=\"fill:none;stroke:#000000;stroke-linecap:square;stroke-linejoin:miter;stroke-width:0.8;\"/>\n   </g>\n   <g id=\"patch_10\">\n    <path d=\"M 66.053125 390.2 \nL 617.912428 390.2 \n\" style=\"fill:none;stroke:#000000;stroke-linecap:square;stroke-linejoin:miter;stroke-width:0.8;\"/>\n   </g>\n   <g id=\"patch_11\">\n    <path d=\"M 66.053125 219.6 \nL 617.912428 219.6 \n\" style=\"fill:none;stroke:#000000;stroke-linecap:square;stroke-linejoin:miter;stroke-width:0.8;\"/>\n   </g>\n  </g>\n  <g id=\"axes_3\">\n   <g id=\"patch_12\">\n    <path d=\"M 66.053125 602.6 \nL 617.912428 602.6 \nL 617.912428 432 \nL 66.053125 432 \nz\n\" style=\"fill:#ffffff;\"/>\n   </g>\n   <g id=\"PolyCollection_3\">\n    <defs>\n     <path d=\"M 91.137639 -176.165324 \nL 91.137639 -176.165324 \nL 93.658695 -179.737077 \nL 96.179752 -183.128531 \nL 98.700809 -186.302096 \nL 101.221865 -189.222185 \nL 103.742922 -191.855989 \nL 106.263979 -194.174195 \nL 108.785035 -196.151643 \nL 111.306092 -197.767903 \nL 113.827149 -199.007752 \nL 116.348205 -199.861548 \nL 118.869262 -200.32548 \nL 121.390319 -200.401705 \nL 123.911375 -200.098345 \nL 126.432432 -199.429365 \nL 128.953489 -198.414319 \nL 131.474545 -197.077972 \nL 133.995602 -195.449815 \nL 136.516659 -193.563467 \nL 139.037715 -191.455997 \nL 141.558772 -189.167158 \nL 144.079829 -186.738572 \nL 146.600885 -184.212866 \nL 149.121942 -181.632797 \nL 151.642999 -179.040362 \nL 154.164055 -176.475938 \nL 156.685112 -173.977455 \nL 159.206169 -171.579619 \nL 161.727225 -169.313222 \nL 164.248282 -167.20453 \nL 166.769339 -165.274777 \nL 169.290395 -163.539774 \nL 171.811452 -162.009643 \nL 174.332509 -160.688672 \nL 176.853565 -159.575308 \nL 179.374622 -158.662278 \nL 181.895679 -157.936836 \nL 184.416735 -157.381136 \nL 186.937792 -156.97271 \nL 189.458848 -156.685056 \nL 191.979905 -156.488302 \nL 194.500962 -156.349952 \nL 197.022018 -156.235674 \nL 199.543075 -156.110135 \nL 202.064132 -155.937845 \nL 204.585188 -155.683994 \nL 207.106245 -155.315275 \nL 209.627302 -154.800658 \nL 212.148358 -154.112106 \nL 214.669415 -153.225219 \nL 217.190472 -152.119786 \nL 219.711528 -150.78023 \nL 222.232585 -149.195955 \nL 224.753642 -147.361558 \nL 227.274698 -145.276935 \nL 229.795755 -142.947252 \nL 232.316812 -140.382802 \nL 234.837868 -137.598737 \nL 237.358925 -134.614705 \nL 239.879982 -131.454367 \nL 242.401038 -128.14485 \nL 244.922095 -124.716104 \nL 247.443152 -121.200221 \nL 249.964208 -117.6307 \nL 252.485265 -114.041696 \nL 255.006322 -110.467265 \nL 257.527378 -106.940618 \nL 260.048435 -103.493408 \nL 262.569492 -100.155068 \nL 265.090548 -96.952206 \nL 267.611605 -93.908083 \nL 270.132662 -91.042173 \nL 272.653718 -88.369824 \nL 275.174775 -85.902021 \nL 277.695832 -83.645264 \nL 280.216888 -81.601543 \nL 282.737945 -79.768436 \nL 285.259002 -78.1393 \nL 287.780058 -76.703572 \nL 290.301115 -75.447145 \nL 292.822172 -74.35284 \nL 295.343228 -73.400929 \nL 297.864285 -72.569716 \nL 300.385342 -71.836159 \nL 302.906398 -71.176504 \nL 305.427455 -70.56693 \nL 307.948511 -69.984173 \nL 310.469568 -69.406134 \nL 312.990625 -68.812435 \nL 315.511681 -68.184919 \nL 318.032738 -67.508085 \nL 320.553795 -66.769444 \nL 323.074851 -65.959783 \nL 325.595908 -65.073339 \nL 328.116965 -64.107884 \nL 330.638021 -63.064699 \nL 333.159078 -61.948466 \nL 335.680135 -60.767065 \nL 338.201191 -59.53128 \nL 340.722248 -58.254442 \nL 343.243305 -56.951996 \nL 345.764361 -55.64102 \nL 348.285418 -54.339705 \nL 350.806475 -53.066805 \nL 353.327531 -51.841083 \nL 355.848588 -50.680757 \nL 358.369645 -49.602968 \nL 360.890701 -48.623283 \nL 363.411758 -47.755238 \nL 365.932815 -47.009954 \nL 368.453871 -46.395805 \nL 370.974928 -45.918182 \nL 373.495985 -45.579326 \nL 376.017041 -45.378257 \nL 378.538098 -45.310795 \nL 381.059155 -45.369664 \nL 383.580211 -45.544687 \nL 386.101268 -45.823061 \nL 388.622325 -46.189706 \nL 391.143381 -46.627677 \nL 393.664438 -47.118631 \nL 396.185495 -47.643334 \nL 398.706551 -48.182193 \nL 401.227608 -48.715804 \nL 403.748665 -49.225499 \nL 406.269721 -49.693869 \nL 408.790778 -50.105269 \nL 411.311835 -50.446265 \nL 413.832891 -50.706039 \nL 416.353948 -50.876715 \nL 418.875005 -50.953614 \nL 421.396061 -50.93543 \nL 423.917118 -50.824311 \nL 426.438174 -50.625851 \nL 428.959231 -50.349 \nL 431.480288 -50.00587 \nL 434.001344 -49.611472 \nL 436.522401 -49.183365 \nL 439.043458 -48.741242 \nL 441.564514 -48.306457 \nL 444.085571 -47.901506 \nL 446.606628 -47.549474 \nL 449.127684 -47.273463 \nL 451.648741 -47.096023 \nL 454.169798 -47.038586 \nL 456.690854 -47.120929 \nL 459.211911 -47.360682 \nL 461.732968 -47.772879 \nL 464.254024 -48.369587 \nL 466.775081 -49.159595 \nL 469.296138 -50.148202 \nL 471.817194 -51.337079 \nL 474.338251 -52.724238 \nL 476.859308 -54.304082 \nL 479.380364 -56.067561 \nL 481.901421 -58.002407 \nL 484.422478 -60.093458 \nL 486.943534 -62.32306 \nL 489.464591 -64.671527 \nL 491.985648 -67.117662 \nL 494.506704 -69.639315 \nL 497.027761 -72.213966 \nL 499.548818 -74.819322 \nL 502.069874 -77.433903 \nL 504.590931 -80.037617 \nL 507.111988 -82.612286 \nL 509.633044 -85.142135 \nL 512.154101 -87.614206 \nL 514.675158 -90.018708 \nL 517.196214 -92.349272 \nL 519.717271 -94.603119 \nL 522.238328 -96.781131 \nL 524.759384 -98.887816 \nL 527.280441 -100.931177 \nL 529.801498 -102.922479 \nL 532.322554 -104.875924 \nL 534.843611 -106.80824 \nL 537.364667 -108.738184 \nL 539.885724 -110.685999 \nL 542.406781 -112.672795 \nL 544.927837 -114.719914 \nL 547.448894 -116.84826 \nL 549.969951 -119.077633 \nL 552.491007 -121.426073 \nL 555.012064 -123.909233 \nL 557.533121 -126.539801 \nL 560.054177 -129.32698 \nL 562.575234 -132.276053 \nL 565.096291 -135.388022 \nL 567.617347 -138.65936 \nL 570.138404 -142.081859 \nL 572.659461 -145.642601 \nL 575.180517 -149.324029 \nL 577.701574 -153.10415 \nL 580.222631 -156.956841 \nL 582.743687 -160.852259 \nL 585.264744 -164.757357 \nL 587.785801 -168.636485 \nL 590.306857 -172.452065 \nL 592.827914 -176.165324 \nL 592.827914 -176.165324 \nL 592.827914 -176.165324 \nL 590.306857 -172.452065 \nL 587.785801 -168.636485 \nL 585.264744 -164.757357 \nL 582.743687 -160.852259 \nL 580.222631 -156.956841 \nL 577.701574 -153.10415 \nL 575.180517 -149.324029 \nL 572.659461 -145.642601 \nL 570.138404 -142.081859 \nL 567.617347 -138.65936 \nL 565.096291 -135.388022 \nL 562.575234 -132.276053 \nL 560.054177 -129.32698 \nL 557.533121 -126.539801 \nL 555.012064 -123.909233 \nL 552.491007 -121.426073 \nL 549.969951 -119.077633 \nL 547.448894 -116.84826 \nL 544.927837 -114.719914 \nL 542.406781 -112.672795 \nL 539.885724 -110.685999 \nL 537.364667 -108.738184 \nL 534.843611 -106.80824 \nL 532.322554 -104.875924 \nL 529.801498 -102.922479 \nL 527.280441 -100.931177 \nL 524.759384 -98.887816 \nL 522.238328 -96.781131 \nL 519.717271 -94.603119 \nL 517.196214 -92.349272 \nL 514.675158 -90.018708 \nL 512.154101 -87.614206 \nL 509.633044 -85.142135 \nL 507.111988 -82.612286 \nL 504.590931 -80.037617 \nL 502.069874 -77.433903 \nL 499.548818 -74.819322 \nL 497.027761 -72.213966 \nL 494.506704 -69.639315 \nL 491.985648 -67.117662 \nL 489.464591 -64.671527 \nL 486.943534 -62.32306 \nL 484.422478 -60.093458 \nL 481.901421 -58.002407 \nL 479.380364 -56.067561 \nL 476.859308 -54.304082 \nL 474.338251 -52.724238 \nL 471.817194 -51.337079 \nL 469.296138 -50.148202 \nL 466.775081 -49.159595 \nL 464.254024 -48.369587 \nL 461.732968 -47.772879 \nL 459.211911 -47.360682 \nL 456.690854 -47.120929 \nL 454.169798 -47.038586 \nL 451.648741 -47.096023 \nL 449.127684 -47.273463 \nL 446.606628 -47.549474 \nL 444.085571 -47.901506 \nL 441.564514 -48.306457 \nL 439.043458 -48.741242 \nL 436.522401 -49.183365 \nL 434.001344 -49.611472 \nL 431.480288 -50.00587 \nL 428.959231 -50.349 \nL 426.438174 -50.625851 \nL 423.917118 -50.824311 \nL 421.396061 -50.93543 \nL 418.875005 -50.953614 \nL 416.353948 -50.876715 \nL 413.832891 -50.706039 \nL 411.311835 -50.446265 \nL 408.790778 -50.105269 \nL 406.269721 -49.693869 \nL 403.748665 -49.225499 \nL 401.227608 -48.715804 \nL 398.706551 -48.182193 \nL 396.185495 -47.643334 \nL 393.664438 -47.118631 \nL 391.143381 -46.627677 \nL 388.622325 -46.189706 \nL 386.101268 -45.823061 \nL 383.580211 -45.544687 \nL 381.059155 -45.369664 \nL 378.538098 -45.310795 \nL 376.017041 -45.378257 \nL 373.495985 -45.579326 \nL 370.974928 -45.918182 \nL 368.453871 -46.395805 \nL 365.932815 -47.009954 \nL 363.411758 -47.755238 \nL 360.890701 -48.623283 \nL 358.369645 -49.602968 \nL 355.848588 -50.680757 \nL 353.327531 -51.841083 \nL 350.806475 -53.066805 \nL 348.285418 -54.339705 \nL 345.764361 -55.64102 \nL 343.243305 -56.951996 \nL 340.722248 -58.254442 \nL 338.201191 -59.53128 \nL 335.680135 -60.767065 \nL 333.159078 -61.948466 \nL 330.638021 -63.064699 \nL 328.116965 -64.107884 \nL 325.595908 -65.073339 \nL 323.074851 -65.959783 \nL 320.553795 -66.769444 \nL 318.032738 -67.508085 \nL 315.511681 -68.184919 \nL 312.990625 -68.812435 \nL 310.469568 -69.406134 \nL 307.948511 -69.984173 \nL 305.427455 -70.56693 \nL 302.906398 -71.176504 \nL 300.385342 -71.836159 \nL 297.864285 -72.569716 \nL 295.343228 -73.400929 \nL 292.822172 -74.35284 \nL 290.301115 -75.447145 \nL 287.780058 -76.703572 \nL 285.259002 -78.1393 \nL 282.737945 -79.768436 \nL 280.216888 -81.601543 \nL 277.695832 -83.645264 \nL 275.174775 -85.902021 \nL 272.653718 -88.369824 \nL 270.132662 -91.042173 \nL 267.611605 -93.908083 \nL 265.090548 -96.952206 \nL 262.569492 -100.155068 \nL 260.048435 -103.493408 \nL 257.527378 -106.940618 \nL 255.006322 -110.467265 \nL 252.485265 -114.041696 \nL 249.964208 -117.6307 \nL 247.443152 -121.200221 \nL 244.922095 -124.716104 \nL 242.401038 -128.14485 \nL 239.879982 -131.454367 \nL 237.358925 -134.614705 \nL 234.837868 -137.598737 \nL 232.316812 -140.382802 \nL 229.795755 -142.947252 \nL 227.274698 -145.276935 \nL 224.753642 -147.361558 \nL 222.232585 -149.195955 \nL 219.711528 -150.78023 \nL 217.190472 -152.119786 \nL 214.669415 -153.225219 \nL 212.148358 -154.112106 \nL 209.627302 -154.800658 \nL 207.106245 -155.315275 \nL 204.585188 -155.683994 \nL 202.064132 -155.937845 \nL 199.543075 -156.110135 \nL 197.022018 -156.235674 \nL 194.500962 -156.349952 \nL 191.979905 -156.488302 \nL 189.458848 -156.685056 \nL 186.937792 -156.97271 \nL 184.416735 -157.381136 \nL 181.895679 -157.936836 \nL 179.374622 -158.662278 \nL 176.853565 -159.575308 \nL 174.332509 -160.688672 \nL 171.811452 -162.009643 \nL 169.290395 -163.539774 \nL 166.769339 -165.274777 \nL 164.248282 -167.20453 \nL 161.727225 -169.313222 \nL 159.206169 -171.579619 \nL 156.685112 -173.977455 \nL 154.164055 -176.475938 \nL 151.642999 -179.040362 \nL 149.121942 -181.632797 \nL 146.600885 -184.212866 \nL 144.079829 -186.738572 \nL 141.558772 -189.167158 \nL 139.037715 -191.455997 \nL 136.516659 -193.563467 \nL 133.995602 -195.449815 \nL 131.474545 -197.077972 \nL 128.953489 -198.414319 \nL 126.432432 -199.429365 \nL 123.911375 -200.098345 \nL 121.390319 -200.401705 \nL 118.869262 -200.32548 \nL 116.348205 -199.861548 \nL 113.827149 -199.007752 \nL 111.306092 -197.767903 \nL 108.785035 -196.151643 \nL 106.263979 -194.174195 \nL 103.742922 -191.855989 \nL 101.221865 -189.222185 \nL 98.700809 -186.302096 \nL 96.179752 -183.128531 \nL 93.658695 -179.737077 \nL 91.137639 -176.165324 \nz\n\" id=\"m7fe04c82ce\" style=\"stroke:#0072b2;stroke-opacity:0.2;\"/>\n    </defs>\n    <g clip-path=\"url(#p8722b605e3)\">\n     <use style=\"fill:#0072b2;fill-opacity:0.2;stroke:#0072b2;stroke-opacity:0.2;\" x=\"0\" xlink:href=\"#m7fe04c82ce\" y=\"640.15625\"/>\n    </g>\n   </g>\n   <g id=\"matplotlib.axis_5\">\n    <g id=\"xtick_15\">\n     <g id=\"line2d_53\">\n      <path clip-path=\"url(#p8722b605e3)\" d=\"M 91.137639 602.6 \nL 91.137639 432 \n\" style=\"fill:none;stroke:#808080;stroke-linecap:square;stroke-opacity:0.2;\"/>\n     </g>\n     <g id=\"line2d_54\">\n      <g>\n       <use style=\"stroke:#000000;stroke-width:0.8;\" x=\"91.137639\" xlink:href=\"#m63fae7dc8c\" y=\"602.6\"/>\n      </g>\n     </g>\n     <g id=\"text_30\">\n      <!-- 01/01 -->\n      <defs>\n       <path d=\"M 25.390625 72.90625 \nL 33.6875 72.90625 \nL 8.296875 -9.28125 \nL 0 -9.28125 \nz\n\" id=\"DejaVuSans-47\"/>\n      </defs>\n      <g transform=\"translate(76.728264 617.198437)scale(0.1 -0.1)\">\n       <use xlink:href=\"#DejaVuSans-48\"/>\n       <use x=\"63.623047\" xlink:href=\"#DejaVuSans-49\"/>\n       <use x=\"127.246094\" xlink:href=\"#DejaVuSans-47\"/>\n       <use x=\"160.9375\" xlink:href=\"#DejaVuSans-48\"/>\n       <use x=\"224.560547\" xlink:href=\"#DejaVuSans-49\"/>\n      </g>\n     </g>\n    </g>\n    <g id=\"xtick_16\">\n     <g id=\"line2d_55\">\n      <path clip-path=\"url(#p8722b605e3)\" d=\"M 174.752685 602.6 \nL 174.752685 432 \n\" style=\"fill:none;stroke:#808080;stroke-linecap:square;stroke-opacity:0.2;\"/>\n     </g>\n     <g id=\"line2d_56\">\n      <g>\n       <use style=\"stroke:#000000;stroke-width:0.8;\" x=\"174.752685\" xlink:href=\"#m63fae7dc8c\" y=\"602.6\"/>\n      </g>\n     </g>\n     <g id=\"text_31\">\n      <!-- 01/06 -->\n      <g transform=\"translate(160.34331 617.198437)scale(0.1 -0.1)\">\n       <use xlink:href=\"#DejaVuSans-48\"/>\n       <use x=\"63.623047\" xlink:href=\"#DejaVuSans-49\"/>\n       <use x=\"127.246094\" xlink:href=\"#DejaVuSans-47\"/>\n       <use x=\"160.9375\" xlink:href=\"#DejaVuSans-48\"/>\n       <use x=\"224.560547\" xlink:href=\"#DejaVuSans-54\"/>\n      </g>\n     </g>\n    </g>\n    <g id=\"xtick_17\">\n     <g id=\"line2d_57\">\n      <path clip-path=\"url(#p8722b605e3)\" d=\"M 258.367731 602.6 \nL 258.367731 432 \n\" style=\"fill:none;stroke:#808080;stroke-linecap:square;stroke-opacity:0.2;\"/>\n     </g>\n     <g id=\"line2d_58\">\n      <g>\n       <use style=\"stroke:#000000;stroke-width:0.8;\" x=\"258.367731\" xlink:href=\"#m63fae7dc8c\" y=\"602.6\"/>\n      </g>\n     </g>\n     <g id=\"text_32\">\n      <!-- 01/11 -->\n      <g transform=\"translate(243.958356 617.198437)scale(0.1 -0.1)\">\n       <use xlink:href=\"#DejaVuSans-48\"/>\n       <use x=\"63.623047\" xlink:href=\"#DejaVuSans-49\"/>\n       <use x=\"127.246094\" xlink:href=\"#DejaVuSans-47\"/>\n       <use x=\"160.9375\" xlink:href=\"#DejaVuSans-49\"/>\n       <use x=\"224.560547\" xlink:href=\"#DejaVuSans-49\"/>\n      </g>\n     </g>\n    </g>\n    <g id=\"xtick_18\">\n     <g id=\"line2d_59\">\n      <path clip-path=\"url(#p8722b605e3)\" d=\"M 341.982776 602.6 \nL 341.982776 432 \n\" style=\"fill:none;stroke:#808080;stroke-linecap:square;stroke-opacity:0.2;\"/>\n     </g>\n     <g id=\"line2d_60\">\n      <g>\n       <use style=\"stroke:#000000;stroke-width:0.8;\" x=\"341.982776\" xlink:href=\"#m63fae7dc8c\" y=\"602.6\"/>\n      </g>\n     </g>\n     <g id=\"text_33\">\n      <!-- 01/16 -->\n      <g transform=\"translate(327.573401 617.198437)scale(0.1 -0.1)\">\n       <use xlink:href=\"#DejaVuSans-48\"/>\n       <use x=\"63.623047\" xlink:href=\"#DejaVuSans-49\"/>\n       <use x=\"127.246094\" xlink:href=\"#DejaVuSans-47\"/>\n       <use x=\"160.9375\" xlink:href=\"#DejaVuSans-49\"/>\n       <use x=\"224.560547\" xlink:href=\"#DejaVuSans-54\"/>\n      </g>\n     </g>\n    </g>\n    <g id=\"xtick_19\">\n     <g id=\"line2d_61\">\n      <path clip-path=\"url(#p8722b605e3)\" d=\"M 425.597822 602.6 \nL 425.597822 432 \n\" style=\"fill:none;stroke:#808080;stroke-linecap:square;stroke-opacity:0.2;\"/>\n     </g>\n     <g id=\"line2d_62\">\n      <g>\n       <use style=\"stroke:#000000;stroke-width:0.8;\" x=\"425.597822\" xlink:href=\"#m63fae7dc8c\" y=\"602.6\"/>\n      </g>\n     </g>\n     <g id=\"text_34\">\n      <!-- 01/21 -->\n      <g transform=\"translate(411.188447 617.198437)scale(0.1 -0.1)\">\n       <use xlink:href=\"#DejaVuSans-48\"/>\n       <use x=\"63.623047\" xlink:href=\"#DejaVuSans-49\"/>\n       <use x=\"127.246094\" xlink:href=\"#DejaVuSans-47\"/>\n       <use x=\"160.9375\" xlink:href=\"#DejaVuSans-50\"/>\n       <use x=\"224.560547\" xlink:href=\"#DejaVuSans-49\"/>\n      </g>\n     </g>\n    </g>\n    <g id=\"xtick_20\">\n     <g id=\"line2d_63\">\n      <path clip-path=\"url(#p8722b605e3)\" d=\"M 509.212868 602.6 \nL 509.212868 432 \n\" style=\"fill:none;stroke:#808080;stroke-linecap:square;stroke-opacity:0.2;\"/>\n     </g>\n     <g id=\"line2d_64\">\n      <g>\n       <use style=\"stroke:#000000;stroke-width:0.8;\" x=\"509.212868\" xlink:href=\"#m63fae7dc8c\" y=\"602.6\"/>\n      </g>\n     </g>\n     <g id=\"text_35\">\n      <!-- 01/26 -->\n      <g transform=\"translate(494.803493 617.198437)scale(0.1 -0.1)\">\n       <use xlink:href=\"#DejaVuSans-48\"/>\n       <use x=\"63.623047\" xlink:href=\"#DejaVuSans-49\"/>\n       <use x=\"127.246094\" xlink:href=\"#DejaVuSans-47\"/>\n       <use x=\"160.9375\" xlink:href=\"#DejaVuSans-50\"/>\n       <use x=\"224.560547\" xlink:href=\"#DejaVuSans-54\"/>\n      </g>\n     </g>\n    </g>\n    <g id=\"xtick_21\">\n     <g id=\"line2d_65\">\n      <path clip-path=\"url(#p8722b605e3)\" d=\"M 592.827914 602.6 \nL 592.827914 432 \n\" style=\"fill:none;stroke:#808080;stroke-linecap:square;stroke-opacity:0.2;\"/>\n     </g>\n     <g id=\"line2d_66\">\n      <g>\n       <use style=\"stroke:#000000;stroke-width:0.8;\" x=\"592.827914\" xlink:href=\"#m63fae7dc8c\" y=\"602.6\"/>\n      </g>\n     </g>\n     <g id=\"text_36\">\n      <!-- 01/31 -->\n      <g transform=\"translate(578.418539 617.198437)scale(0.1 -0.1)\">\n       <use xlink:href=\"#DejaVuSans-48\"/>\n       <use x=\"63.623047\" xlink:href=\"#DejaVuSans-49\"/>\n       <use x=\"127.246094\" xlink:href=\"#DejaVuSans-47\"/>\n       <use x=\"160.9375\" xlink:href=\"#DejaVuSans-51\"/>\n       <use x=\"224.560547\" xlink:href=\"#DejaVuSans-49\"/>\n      </g>\n     </g>\n    </g>\n    <g id=\"text_37\">\n     <!-- ds -->\n     <g transform=\"translate(336.20387 630.876562)scale(0.1 -0.1)\">\n      <use xlink:href=\"#DejaVuSans-100\"/>\n      <use x=\"63.476562\" xlink:href=\"#DejaVuSans-115\"/>\n     </g>\n    </g>\n   </g>\n   <g id=\"matplotlib.axis_6\">\n    <g id=\"ytick_12\">\n     <g id=\"line2d_67\">\n      <path clip-path=\"url(#p8722b605e3)\" d=\"M 66.053125 573.672282 \nL 617.912428 573.672282 \n\" style=\"fill:none;stroke:#808080;stroke-linecap:square;stroke-opacity:0.2;\"/>\n     </g>\n     <g id=\"line2d_68\">\n      <g>\n       <use style=\"stroke:#000000;stroke-width:0.8;\" x=\"66.053125\" xlink:href=\"#ma7368119a7\" y=\"573.672282\"/>\n      </g>\n     </g>\n     <g id=\"text_38\">\n      <!-- −2000 -->\n      <g transform=\"translate(25.223438 577.4715)scale(0.1 -0.1)\">\n       <use xlink:href=\"#DejaVuSans-8722\"/>\n       <use x=\"83.789062\" xlink:href=\"#DejaVuSans-50\"/>\n       <use x=\"147.412109\" xlink:href=\"#DejaVuSans-48\"/>\n       <use x=\"211.035156\" xlink:href=\"#DejaVuSans-48\"/>\n       <use x=\"274.658203\" xlink:href=\"#DejaVuSans-48\"/>\n      </g>\n     </g>\n    </g>\n    <g id=\"ytick_13\">\n     <g id=\"line2d_69\">\n      <path clip-path=\"url(#p8722b605e3)\" d=\"M 66.053125 534.245223 \nL 617.912428 534.245223 \n\" style=\"fill:none;stroke:#808080;stroke-linecap:square;stroke-opacity:0.2;\"/>\n     </g>\n     <g id=\"line2d_70\">\n      <g>\n       <use style=\"stroke:#000000;stroke-width:0.8;\" x=\"66.053125\" xlink:href=\"#ma7368119a7\" y=\"534.245223\"/>\n      </g>\n     </g>\n     <g id=\"text_39\">\n      <!-- 0 -->\n      <g transform=\"translate(52.690625 538.044442)scale(0.1 -0.1)\">\n       <use xlink:href=\"#DejaVuSans-48\"/>\n      </g>\n     </g>\n    </g>\n    <g id=\"ytick_14\">\n     <g id=\"line2d_71\">\n      <path clip-path=\"url(#p8722b605e3)\" d=\"M 66.053125 494.818164 \nL 617.912428 494.818164 \n\" style=\"fill:none;stroke:#808080;stroke-linecap:square;stroke-opacity:0.2;\"/>\n     </g>\n     <g id=\"line2d_72\">\n      <g>\n       <use style=\"stroke:#000000;stroke-width:0.8;\" x=\"66.053125\" xlink:href=\"#ma7368119a7\" y=\"494.818164\"/>\n      </g>\n     </g>\n     <g id=\"text_40\">\n      <!-- 2000 -->\n      <g transform=\"translate(33.603125 498.617383)scale(0.1 -0.1)\">\n       <use xlink:href=\"#DejaVuSans-50\"/>\n       <use x=\"63.623047\" xlink:href=\"#DejaVuSans-48\"/>\n       <use x=\"127.246094\" xlink:href=\"#DejaVuSans-48\"/>\n       <use x=\"190.869141\" xlink:href=\"#DejaVuSans-48\"/>\n      </g>\n     </g>\n    </g>\n    <g id=\"ytick_15\">\n     <g id=\"line2d_73\">\n      <path clip-path=\"url(#p8722b605e3)\" d=\"M 66.053125 455.391105 \nL 617.912428 455.391105 \n\" style=\"fill:none;stroke:#808080;stroke-linecap:square;stroke-opacity:0.2;\"/>\n     </g>\n     <g id=\"line2d_74\">\n      <g>\n       <use style=\"stroke:#000000;stroke-width:0.8;\" x=\"66.053125\" xlink:href=\"#ma7368119a7\" y=\"455.391105\"/>\n      </g>\n     </g>\n     <g id=\"text_41\">\n      <!-- 4000 -->\n      <g transform=\"translate(33.603125 459.190324)scale(0.1 -0.1)\">\n       <use xlink:href=\"#DejaVuSans-52\"/>\n       <use x=\"63.623047\" xlink:href=\"#DejaVuSans-48\"/>\n       <use x=\"127.246094\" xlink:href=\"#DejaVuSans-48\"/>\n       <use x=\"190.869141\" xlink:href=\"#DejaVuSans-48\"/>\n      </g>\n     </g>\n    </g>\n    <g id=\"text_42\">\n     <!-- Monthly -->\n     <g transform=\"translate(19.14375 537.319531)rotate(-90)scale(0.1 -0.1)\">\n      <use xlink:href=\"#DejaVuSans-77\"/>\n      <use x=\"86.279297\" xlink:href=\"#DejaVuSans-111\"/>\n      <use x=\"147.460938\" xlink:href=\"#DejaVuSans-110\"/>\n      <use x=\"210.839844\" xlink:href=\"#DejaVuSans-116\"/>\n      <use x=\"250.048828\" xlink:href=\"#DejaVuSans-104\"/>\n      <use x=\"313.427734\" xlink:href=\"#DejaVuSans-108\"/>\n      <use x=\"341.210938\" xlink:href=\"#DejaVuSans-121\"/>\n     </g>\n    </g>\n   </g>\n   <g id=\"line2d_75\">\n    <path clip-path=\"url(#p8722b605e3)\" d=\"M 91.137639 463.990926 \nL 96.179752 457.027719 \nL 98.700809 453.854154 \nL 101.221865 450.934065 \nL 103.742922 448.300261 \nL 106.263979 445.982055 \nL 108.785035 444.004607 \nL 111.306092 442.388347 \nL 113.827149 441.148498 \nL 116.348205 440.294702 \nL 118.869262 439.83077 \nL 121.390319 439.754545 \nL 123.911375 440.057905 \nL 126.432432 440.726885 \nL 128.953489 441.741931 \nL 131.474545 443.078278 \nL 133.995602 444.706435 \nL 136.516659 446.592783 \nL 139.037715 448.700253 \nL 144.079829 453.417678 \nL 151.642999 461.115888 \nL 156.685112 466.178795 \nL 161.727225 470.843028 \nL 164.248282 472.95172 \nL 166.769339 474.881473 \nL 169.290395 476.616476 \nL 171.811452 478.146607 \nL 174.332509 479.467578 \nL 176.853565 480.580942 \nL 179.374622 481.493972 \nL 181.895679 482.219414 \nL 184.416735 482.775114 \nL 186.937792 483.18354 \nL 191.979905 483.667948 \nL 202.064132 484.218405 \nL 204.585188 484.472256 \nL 207.106245 484.840975 \nL 209.627302 485.355592 \nL 212.148358 486.044144 \nL 214.669415 486.931031 \nL 217.190472 488.036464 \nL 219.711528 489.37602 \nL 222.232585 490.960295 \nL 224.753642 492.794692 \nL 227.274698 494.879315 \nL 229.795755 497.208998 \nL 232.316812 499.773448 \nL 234.837868 502.557513 \nL 237.358925 505.541545 \nL 242.401038 512.0114 \nL 247.443152 518.956029 \nL 260.048435 536.662842 \nL 265.090548 543.204044 \nL 267.611605 546.248167 \nL 270.132662 549.114077 \nL 272.653718 551.786426 \nL 275.174775 554.254229 \nL 277.695832 556.510986 \nL 280.216888 558.554707 \nL 282.737945 560.387814 \nL 285.259002 562.01695 \nL 287.780058 563.452678 \nL 290.301115 564.709105 \nL 292.822172 565.80341 \nL 295.343228 566.755321 \nL 300.385342 568.320091 \nL 305.427455 569.58932 \nL 315.511681 571.971331 \nL 320.553795 573.386806 \nL 325.595908 575.082911 \nL 330.638021 577.091551 \nL 335.680135 579.389185 \nL 343.243305 583.204254 \nL 350.806475 587.089445 \nL 355.848588 589.475493 \nL 360.890701 591.532967 \nL 363.411758 592.401012 \nL 365.932815 593.146296 \nL 368.453871 593.760445 \nL 370.974928 594.238068 \nL 373.495985 594.576924 \nL 376.017041 594.777993 \nL 378.538098 594.845455 \nL 381.059155 594.786586 \nL 386.101268 594.333189 \nL 391.143381 593.528573 \nL 398.706551 591.974057 \nL 406.269721 590.462381 \nL 411.311835 589.709985 \nL 416.353948 589.279535 \nL 421.396061 589.22082 \nL 426.438174 589.530399 \nL 431.480288 590.15038 \nL 439.043458 591.415008 \nL 446.606628 592.606776 \nL 451.648741 593.060227 \nL 454.169798 593.117664 \nL 456.690854 593.035321 \nL 459.211911 592.795568 \nL 461.732968 592.383371 \nL 464.254024 591.786663 \nL 466.775081 590.996655 \nL 469.296138 590.008048 \nL 471.817194 588.819171 \nL 474.338251 587.432012 \nL 476.859308 585.852168 \nL 479.380364 584.088689 \nL 481.901421 582.153843 \nL 486.943534 577.83319 \nL 491.985648 573.038588 \nL 499.548818 565.336928 \nL 509.633044 555.014115 \nL 514.675158 550.137542 \nL 519.717271 545.553131 \nL 524.759384 541.268434 \nL 532.322554 535.280326 \nL 542.406781 527.483455 \nL 547.448894 523.30799 \nL 552.491007 518.730177 \nL 557.533121 513.616449 \nL 562.575234 507.880197 \nL 567.617347 501.49689 \nL 572.659461 494.513649 \nL 577.701574 487.0521 \nL 592.827914 463.990926 \nL 592.827914 463.990926 \n\" style=\"fill:none;stroke:#0072b2;stroke-linecap:square;stroke-width:1.5;\"/>\n   </g>\n   <g id=\"patch_13\">\n    <path d=\"M 66.053125 602.6 \nL 66.053125 432 \n\" style=\"fill:none;stroke:#000000;stroke-linecap:square;stroke-linejoin:miter;stroke-width:0.8;\"/>\n   </g>\n   <g id=\"patch_14\">\n    <path d=\"M 617.912428 602.6 \nL 617.912428 432 \n\" style=\"fill:none;stroke:#000000;stroke-linecap:square;stroke-linejoin:miter;stroke-width:0.8;\"/>\n   </g>\n   <g id=\"patch_15\">\n    <path d=\"M 66.053125 602.6 \nL 617.912428 602.6 \n\" style=\"fill:none;stroke:#000000;stroke-linecap:square;stroke-linejoin:miter;stroke-width:0.8;\"/>\n   </g>\n   <g id=\"patch_16\">\n    <path d=\"M 66.053125 432 \nL 617.912428 432 \n\" style=\"fill:none;stroke:#000000;stroke-linecap:square;stroke-linejoin:miter;stroke-width:0.8;\"/>\n   </g>\n  </g>\n </g>\n <defs>\n  <clipPath id=\"pb02c1206c1\">\n   <rect height=\"170.6\" width=\"551.859303\" x=\"66.053125\" y=\"7.2\"/>\n  </clipPath>\n  <clipPath id=\"pb2bd741854\">\n   <rect height=\"170.6\" width=\"551.859303\" x=\"66.053125\" y=\"219.6\"/>\n  </clipPath>\n  <clipPath id=\"p8722b605e3\">\n   <rect height=\"170.6\" width=\"551.859303\" x=\"66.053125\" y=\"432\"/>\n  </clipPath>\n </defs>\n</svg>\n",
      "image/png": "[encoded data removed]"
     },
     "metadata": {}
    }
   ],
   "source": [
    "m.plot_components(prediction)"
   ]
  },
  {
   "cell_type": "code",
   "execution_count": 25,
   "metadata": {},
   "outputs": [
    {
     "output_type": "execute_result",
     "data": {
      "text/plain": "<matplotlib.axes._subplots.AxesSubplot at 0x11d2b8f70>"
     },
     "metadata": {},
     "execution_count": 25
    },
    {
     "output_type": "display_data",
     "data": {
      "text/plain": "<Figure size 432x288 with 1 Axes>",
      "image/svg+xml": "<?xml version=\"1.0\" encoding=\"utf-8\" standalone=\"no\"?>\n<!DOCTYPE svg PUBLIC \"-//W3C//DTD SVG 1.1//EN\"\n  \"http://www.w3.org/Graphics/SVG/1.1/DTD/svg11.dtd\">\n<!-- Created with matplotlib (https://matplotlib.org/) -->\n<svg height=\"248.518125pt\" version=\"1.1\" viewBox=\"0 0 381.65 248.518125\" width=\"381.65pt\" xmlns=\"http://www.w3.org/2000/svg\" xmlns:xlink=\"http://www.w3.org/1999/xlink\">\n <defs>\n  <style type=\"text/css\">\n*{stroke-linecap:butt;stroke-linejoin:round;}\n  </style>\n </defs>\n <g id=\"figure_1\">\n  <g id=\"patch_1\">\n   <path d=\"M -0 248.518125 \nL 381.65 248.518125 \nL 381.65 0 \nL -0 0 \nz\n\" style=\"fill:none;\"/>\n  </g>\n  <g id=\"axes_1\">\n   <g id=\"patch_2\">\n    <path d=\"M 39.65 224.64 \nL 374.45 224.64 \nL 374.45 7.2 \nL 39.65 7.2 \nz\n\" style=\"fill:#ffffff;\"/>\n   </g>\n   <g id=\"matplotlib.axis_1\">\n    <g id=\"xtick_1\">\n     <g id=\"line2d_1\">\n      <defs>\n       <path d=\"M 0 0 \nL 0 3.5 \n\" id=\"mcfc70108eb\" style=\"stroke:#000000;stroke-width:0.8;\"/>\n      </defs>\n      <g>\n       <use style=\"stroke:#000000;stroke-width:0.8;\" x=\"54.868182\" xlink:href=\"#mcfc70108eb\" y=\"224.64\"/>\n      </g>\n     </g>\n     <g id=\"text_1\">\n      <!-- 130 -->\n      <defs>\n       <path d=\"M 12.40625 8.296875 \nL 28.515625 8.296875 \nL 28.515625 63.921875 \nL 10.984375 60.40625 \nL 10.984375 69.390625 \nL 28.421875 72.90625 \nL 38.28125 72.90625 \nL 38.28125 8.296875 \nL 54.390625 8.296875 \nL 54.390625 0 \nL 12.40625 0 \nz\n\" id=\"DejaVuSans-49\"/>\n       <path d=\"M 40.578125 39.3125 \nQ 47.65625 37.796875 51.625 33 \nQ 55.609375 28.21875 55.609375 21.1875 \nQ 55.609375 10.40625 48.1875 4.484375 \nQ 40.765625 -1.421875 27.09375 -1.421875 \nQ 22.515625 -1.421875 17.65625 -0.515625 \nQ 12.796875 0.390625 7.625 2.203125 \nL 7.625 11.71875 \nQ 11.71875 9.328125 16.59375 8.109375 \nQ 21.484375 6.890625 26.8125 6.890625 \nQ 36.078125 6.890625 40.9375 10.546875 \nQ 45.796875 14.203125 45.796875 21.1875 \nQ 45.796875 27.640625 41.28125 31.265625 \nQ 36.765625 34.90625 28.71875 34.90625 \nL 20.21875 34.90625 \nL 20.21875 43.015625 \nL 29.109375 43.015625 \nQ 36.375 43.015625 40.234375 45.921875 \nQ 44.09375 48.828125 44.09375 54.296875 \nQ 44.09375 59.90625 40.109375 62.90625 \nQ 36.140625 65.921875 28.71875 65.921875 \nQ 24.65625 65.921875 20.015625 65.03125 \nQ 15.375 64.15625 9.8125 62.3125 \nL 9.8125 71.09375 \nQ 15.4375 72.65625 20.34375 73.4375 \nQ 25.25 74.21875 29.59375 74.21875 \nQ 40.828125 74.21875 47.359375 69.109375 \nQ 53.90625 64.015625 53.90625 55.328125 \nQ 53.90625 49.265625 50.4375 45.09375 \nQ 46.96875 40.921875 40.578125 39.3125 \nz\n\" id=\"DejaVuSans-51\"/>\n       <path d=\"M 31.78125 66.40625 \nQ 24.171875 66.40625 20.328125 58.90625 \nQ 16.5 51.421875 16.5 36.375 \nQ 16.5 21.390625 20.328125 13.890625 \nQ 24.171875 6.390625 31.78125 6.390625 \nQ 39.453125 6.390625 43.28125 13.890625 \nQ 47.125 21.390625 47.125 36.375 \nQ 47.125 51.421875 43.28125 58.90625 \nQ 39.453125 66.40625 31.78125 66.40625 \nz\nM 31.78125 74.21875 \nQ 44.046875 74.21875 50.515625 64.515625 \nQ 56.984375 54.828125 56.984375 36.375 \nQ 56.984375 17.96875 50.515625 8.265625 \nQ 44.046875 -1.421875 31.78125 -1.421875 \nQ 19.53125 -1.421875 13.0625 8.265625 \nQ 6.59375 17.96875 6.59375 36.375 \nQ 6.59375 54.828125 13.0625 64.515625 \nQ 19.53125 74.21875 31.78125 74.21875 \nz\n\" id=\"DejaVuSans-48\"/>\n      </defs>\n      <g transform=\"translate(45.324432 239.238437)scale(0.1 -0.1)\">\n       <use xlink:href=\"#DejaVuSans-49\"/>\n       <use x=\"63.623047\" xlink:href=\"#DejaVuSans-51\"/>\n       <use x=\"127.246094\" xlink:href=\"#DejaVuSans-48\"/>\n      </g>\n     </g>\n    </g>\n    <g id=\"xtick_2\">\n     <g id=\"line2d_2\">\n      <g>\n       <use style=\"stroke:#000000;stroke-width:0.8;\" x=\"98.348701\" xlink:href=\"#mcfc70108eb\" y=\"224.64\"/>\n      </g>\n     </g>\n     <g id=\"text_2\">\n      <!-- 135 -->\n      <defs>\n       <path d=\"M 10.796875 72.90625 \nL 49.515625 72.90625 \nL 49.515625 64.59375 \nL 19.828125 64.59375 \nL 19.828125 46.734375 \nQ 21.96875 47.46875 24.109375 47.828125 \nQ 26.265625 48.1875 28.421875 48.1875 \nQ 40.625 48.1875 47.75 41.5 \nQ 54.890625 34.8125 54.890625 23.390625 \nQ 54.890625 11.625 47.5625 5.09375 \nQ 40.234375 -1.421875 26.90625 -1.421875 \nQ 22.3125 -1.421875 17.546875 -0.640625 \nQ 12.796875 0.140625 7.71875 1.703125 \nL 7.71875 11.625 \nQ 12.109375 9.234375 16.796875 8.0625 \nQ 21.484375 6.890625 26.703125 6.890625 \nQ 35.15625 6.890625 40.078125 11.328125 \nQ 45.015625 15.765625 45.015625 23.390625 \nQ 45.015625 31 40.078125 35.4375 \nQ 35.15625 39.890625 26.703125 39.890625 \nQ 22.75 39.890625 18.8125 39.015625 \nQ 14.890625 38.140625 10.796875 36.28125 \nz\n\" id=\"DejaVuSans-53\"/>\n      </defs>\n      <g transform=\"translate(88.804951 239.238437)scale(0.1 -0.1)\">\n       <use xlink:href=\"#DejaVuSans-49\"/>\n       <use x=\"63.623047\" xlink:href=\"#DejaVuSans-51\"/>\n       <use x=\"127.246094\" xlink:href=\"#DejaVuSans-53\"/>\n      </g>\n     </g>\n    </g>\n    <g id=\"xtick_3\">\n     <g id=\"line2d_3\">\n      <g>\n       <use style=\"stroke:#000000;stroke-width:0.8;\" x=\"141.829221\" xlink:href=\"#mcfc70108eb\" y=\"224.64\"/>\n      </g>\n     </g>\n     <g id=\"text_3\">\n      <!-- 140 -->\n      <defs>\n       <path d=\"M 37.796875 64.3125 \nL 12.890625 25.390625 \nL 37.796875 25.390625 \nz\nM 35.203125 72.90625 \nL 47.609375 72.90625 \nL 47.609375 25.390625 \nL 58.015625 25.390625 \nL 58.015625 17.1875 \nL 47.609375 17.1875 \nL 47.609375 0 \nL 37.796875 0 \nL 37.796875 17.1875 \nL 4.890625 17.1875 \nL 4.890625 26.703125 \nz\n\" id=\"DejaVuSans-52\"/>\n      </defs>\n      <g transform=\"translate(132.285471 239.238437)scale(0.1 -0.1)\">\n       <use xlink:href=\"#DejaVuSans-49\"/>\n       <use x=\"63.623047\" xlink:href=\"#DejaVuSans-52\"/>\n       <use x=\"127.246094\" xlink:href=\"#DejaVuSans-48\"/>\n      </g>\n     </g>\n    </g>\n    <g id=\"xtick_4\">\n     <g id=\"line2d_4\">\n      <g>\n       <use style=\"stroke:#000000;stroke-width:0.8;\" x=\"185.30974\" xlink:href=\"#mcfc70108eb\" y=\"224.64\"/>\n      </g>\n     </g>\n     <g id=\"text_4\">\n      <!-- 145 -->\n      <g transform=\"translate(175.76599 239.238437)scale(0.1 -0.1)\">\n       <use xlink:href=\"#DejaVuSans-49\"/>\n       <use x=\"63.623047\" xlink:href=\"#DejaVuSans-52\"/>\n       <use x=\"127.246094\" xlink:href=\"#DejaVuSans-53\"/>\n      </g>\n     </g>\n    </g>\n    <g id=\"xtick_5\">\n     <g id=\"line2d_5\">\n      <g>\n       <use style=\"stroke:#000000;stroke-width:0.8;\" x=\"228.79026\" xlink:href=\"#mcfc70108eb\" y=\"224.64\"/>\n      </g>\n     </g>\n     <g id=\"text_5\">\n      <!-- 150 -->\n      <g transform=\"translate(219.24651 239.238437)scale(0.1 -0.1)\">\n       <use xlink:href=\"#DejaVuSans-49\"/>\n       <use x=\"63.623047\" xlink:href=\"#DejaVuSans-53\"/>\n       <use x=\"127.246094\" xlink:href=\"#DejaVuSans-48\"/>\n      </g>\n     </g>\n    </g>\n    <g id=\"xtick_6\">\n     <g id=\"line2d_6\">\n      <g>\n       <use style=\"stroke:#000000;stroke-width:0.8;\" x=\"272.270779\" xlink:href=\"#mcfc70108eb\" y=\"224.64\"/>\n      </g>\n     </g>\n     <g id=\"text_6\">\n      <!-- 155 -->\n      <g transform=\"translate(262.727029 239.238437)scale(0.1 -0.1)\">\n       <use xlink:href=\"#DejaVuSans-49\"/>\n       <use x=\"63.623047\" xlink:href=\"#DejaVuSans-53\"/>\n       <use x=\"127.246094\" xlink:href=\"#DejaVuSans-53\"/>\n      </g>\n     </g>\n    </g>\n    <g id=\"xtick_7\">\n     <g id=\"line2d_7\">\n      <g>\n       <use style=\"stroke:#000000;stroke-width:0.8;\" x=\"315.751299\" xlink:href=\"#mcfc70108eb\" y=\"224.64\"/>\n      </g>\n     </g>\n     <g id=\"text_7\">\n      <!-- 160 -->\n      <defs>\n       <path d=\"M 33.015625 40.375 \nQ 26.375 40.375 22.484375 35.828125 \nQ 18.609375 31.296875 18.609375 23.390625 \nQ 18.609375 15.53125 22.484375 10.953125 \nQ 26.375 6.390625 33.015625 6.390625 \nQ 39.65625 6.390625 43.53125 10.953125 \nQ 47.40625 15.53125 47.40625 23.390625 \nQ 47.40625 31.296875 43.53125 35.828125 \nQ 39.65625 40.375 33.015625 40.375 \nz\nM 52.59375 71.296875 \nL 52.59375 62.3125 \nQ 48.875 64.0625 45.09375 64.984375 \nQ 41.3125 65.921875 37.59375 65.921875 \nQ 27.828125 65.921875 22.671875 59.328125 \nQ 17.53125 52.734375 16.796875 39.40625 \nQ 19.671875 43.65625 24.015625 45.921875 \nQ 28.375 48.1875 33.59375 48.1875 \nQ 44.578125 48.1875 50.953125 41.515625 \nQ 57.328125 34.859375 57.328125 23.390625 \nQ 57.328125 12.15625 50.6875 5.359375 \nQ 44.046875 -1.421875 33.015625 -1.421875 \nQ 20.359375 -1.421875 13.671875 8.265625 \nQ 6.984375 17.96875 6.984375 36.375 \nQ 6.984375 53.65625 15.1875 63.9375 \nQ 23.390625 74.21875 37.203125 74.21875 \nQ 40.921875 74.21875 44.703125 73.484375 \nQ 48.484375 72.75 52.59375 71.296875 \nz\n\" id=\"DejaVuSans-54\"/>\n      </defs>\n      <g transform=\"translate(306.207549 239.238437)scale(0.1 -0.1)\">\n       <use xlink:href=\"#DejaVuSans-49\"/>\n       <use x=\"63.623047\" xlink:href=\"#DejaVuSans-54\"/>\n       <use x=\"127.246094\" xlink:href=\"#DejaVuSans-48\"/>\n      </g>\n     </g>\n    </g>\n    <g id=\"xtick_8\">\n     <g id=\"line2d_8\">\n      <g>\n       <use style=\"stroke:#000000;stroke-width:0.8;\" x=\"359.231818\" xlink:href=\"#mcfc70108eb\" y=\"224.64\"/>\n      </g>\n     </g>\n     <g id=\"text_8\">\n      <!-- 165 -->\n      <g transform=\"translate(349.688068 239.238437)scale(0.1 -0.1)\">\n       <use xlink:href=\"#DejaVuSans-49\"/>\n       <use x=\"63.623047\" xlink:href=\"#DejaVuSans-54\"/>\n       <use x=\"127.246094\" xlink:href=\"#DejaVuSans-53\"/>\n      </g>\n     </g>\n    </g>\n   </g>\n   <g id=\"matplotlib.axis_2\">\n    <g id=\"ytick_1\">\n     <g id=\"line2d_9\">\n      <defs>\n       <path d=\"M 0 0 \nL -3.5 0 \n\" id=\"m01bcac6244\" style=\"stroke:#000000;stroke-width:0.8;\"/>\n      </defs>\n      <g>\n       <use style=\"stroke:#000000;stroke-width:0.8;\" x=\"39.65\" xlink:href=\"#m01bcac6244\" y=\"206.805448\"/>\n      </g>\n     </g>\n     <g id=\"text_9\">\n      <!-- 0800 -->\n      <defs>\n       <path d=\"M 31.78125 34.625 \nQ 24.75 34.625 20.71875 30.859375 \nQ 16.703125 27.09375 16.703125 20.515625 \nQ 16.703125 13.921875 20.71875 10.15625 \nQ 24.75 6.390625 31.78125 6.390625 \nQ 38.8125 6.390625 42.859375 10.171875 \nQ 46.921875 13.96875 46.921875 20.515625 \nQ 46.921875 27.09375 42.890625 30.859375 \nQ 38.875 34.625 31.78125 34.625 \nz\nM 21.921875 38.8125 \nQ 15.578125 40.375 12.03125 44.71875 \nQ 8.5 49.078125 8.5 55.328125 \nQ 8.5 64.0625 14.71875 69.140625 \nQ 20.953125 74.21875 31.78125 74.21875 \nQ 42.671875 74.21875 48.875 69.140625 \nQ 55.078125 64.0625 55.078125 55.328125 \nQ 55.078125 49.078125 51.53125 44.71875 \nQ 48 40.375 41.703125 38.8125 \nQ 48.828125 37.15625 52.796875 32.3125 \nQ 56.78125 27.484375 56.78125 20.515625 \nQ 56.78125 9.90625 50.3125 4.234375 \nQ 43.84375 -1.421875 31.78125 -1.421875 \nQ 19.734375 -1.421875 13.25 4.234375 \nQ 6.78125 9.90625 6.78125 20.515625 \nQ 6.78125 27.484375 10.78125 32.3125 \nQ 14.796875 37.15625 21.921875 38.8125 \nz\nM 18.3125 54.390625 \nQ 18.3125 48.734375 21.84375 45.5625 \nQ 25.390625 42.390625 31.78125 42.390625 \nQ 38.140625 42.390625 41.71875 45.5625 \nQ 45.3125 48.734375 45.3125 54.390625 \nQ 45.3125 60.0625 41.71875 63.234375 \nQ 38.140625 66.40625 31.78125 66.40625 \nQ 25.390625 66.40625 21.84375 63.234375 \nQ 18.3125 60.0625 18.3125 54.390625 \nz\n\" id=\"DejaVuSans-56\"/>\n      </defs>\n      <g transform=\"translate(7.2 210.604667)scale(0.1 -0.1)\">\n       <use xlink:href=\"#DejaVuSans-48\"/>\n       <use x=\"63.623047\" xlink:href=\"#DejaVuSans-56\"/>\n       <use x=\"127.246094\" xlink:href=\"#DejaVuSans-48\"/>\n       <use x=\"190.869141\" xlink:href=\"#DejaVuSans-48\"/>\n      </g>\n     </g>\n    </g>\n    <g id=\"ytick_2\">\n     <g id=\"line2d_10\">\n      <g>\n       <use style=\"stroke:#000000;stroke-width:0.8;\" x=\"39.65\" xlink:href=\"#m01bcac6244\" y=\"184.300551\"/>\n      </g>\n     </g>\n     <g id=\"text_10\">\n      <!-- 1000 -->\n      <g transform=\"translate(7.2 188.099769)scale(0.1 -0.1)\">\n       <use xlink:href=\"#DejaVuSans-49\"/>\n       <use x=\"63.623047\" xlink:href=\"#DejaVuSans-48\"/>\n       <use x=\"127.246094\" xlink:href=\"#DejaVuSans-48\"/>\n       <use x=\"190.869141\" xlink:href=\"#DejaVuSans-48\"/>\n      </g>\n     </g>\n    </g>\n    <g id=\"ytick_3\">\n     <g id=\"line2d_11\">\n      <g>\n       <use style=\"stroke:#000000;stroke-width:0.8;\" x=\"39.65\" xlink:href=\"#m01bcac6244\" y=\"161.795961\"/>\n      </g>\n     </g>\n     <g id=\"text_11\">\n      <!-- 1200 -->\n      <defs>\n       <path d=\"M 19.1875 8.296875 \nL 53.609375 8.296875 \nL 53.609375 0 \nL 7.328125 0 \nL 7.328125 8.296875 \nQ 12.9375 14.109375 22.625 23.890625 \nQ 32.328125 33.6875 34.8125 36.53125 \nQ 39.546875 41.84375 41.421875 45.53125 \nQ 43.3125 49.21875 43.3125 52.78125 \nQ 43.3125 58.59375 39.234375 62.25 \nQ 35.15625 65.921875 28.609375 65.921875 \nQ 23.96875 65.921875 18.8125 64.3125 \nQ 13.671875 62.703125 7.8125 59.421875 \nL 7.8125 69.390625 \nQ 13.765625 71.78125 18.9375 73 \nQ 24.125 74.21875 28.421875 74.21875 \nQ 39.75 74.21875 46.484375 68.546875 \nQ 53.21875 62.890625 53.21875 53.421875 \nQ 53.21875 48.921875 51.53125 44.890625 \nQ 49.859375 40.875 45.40625 35.40625 \nQ 44.1875 33.984375 37.640625 27.21875 \nQ 31.109375 20.453125 19.1875 8.296875 \nz\n\" id=\"DejaVuSans-50\"/>\n      </defs>\n      <g transform=\"translate(7.2 165.59518)scale(0.1 -0.1)\">\n       <use xlink:href=\"#DejaVuSans-49\"/>\n       <use x=\"63.623047\" xlink:href=\"#DejaVuSans-50\"/>\n       <use x=\"127.246094\" xlink:href=\"#DejaVuSans-48\"/>\n       <use x=\"190.869141\" xlink:href=\"#DejaVuSans-48\"/>\n      </g>\n     </g>\n    </g>\n    <g id=\"ytick_4\">\n     <g id=\"line2d_12\">\n      <g>\n       <use style=\"stroke:#000000;stroke-width:0.8;\" x=\"39.65\" xlink:href=\"#m01bcac6244\" y=\"139.291063\"/>\n      </g>\n     </g>\n     <g id=\"text_12\">\n      <!-- 1400 -->\n      <g transform=\"translate(7.2 143.090282)scale(0.1 -0.1)\">\n       <use xlink:href=\"#DejaVuSans-49\"/>\n       <use x=\"63.623047\" xlink:href=\"#DejaVuSans-52\"/>\n       <use x=\"127.246094\" xlink:href=\"#DejaVuSans-48\"/>\n       <use x=\"190.869141\" xlink:href=\"#DejaVuSans-48\"/>\n      </g>\n     </g>\n    </g>\n    <g id=\"ytick_5\">\n     <g id=\"line2d_13\">\n      <g>\n       <use style=\"stroke:#000000;stroke-width:0.8;\" x=\"39.65\" xlink:href=\"#m01bcac6244\" y=\"116.786474\"/>\n      </g>\n     </g>\n     <g id=\"text_13\">\n      <!-- 1600 -->\n      <g transform=\"translate(7.2 120.585692)scale(0.1 -0.1)\">\n       <use xlink:href=\"#DejaVuSans-49\"/>\n       <use x=\"63.623047\" xlink:href=\"#DejaVuSans-54\"/>\n       <use x=\"127.246094\" xlink:href=\"#DejaVuSans-48\"/>\n       <use x=\"190.869141\" xlink:href=\"#DejaVuSans-48\"/>\n      </g>\n     </g>\n    </g>\n    <g id=\"ytick_6\">\n     <g id=\"line2d_14\">\n      <g>\n       <use style=\"stroke:#000000;stroke-width:0.8;\" x=\"39.65\" xlink:href=\"#m01bcac6244\" y=\"94.281576\"/>\n      </g>\n     </g>\n     <g id=\"text_14\">\n      <!-- 1800 -->\n      <g transform=\"translate(7.2 98.080795)scale(0.1 -0.1)\">\n       <use xlink:href=\"#DejaVuSans-49\"/>\n       <use x=\"63.623047\" xlink:href=\"#DejaVuSans-56\"/>\n       <use x=\"127.246094\" xlink:href=\"#DejaVuSans-48\"/>\n       <use x=\"190.869141\" xlink:href=\"#DejaVuSans-48\"/>\n      </g>\n     </g>\n    </g>\n    <g id=\"ytick_7\">\n     <g id=\"line2d_15\">\n      <g>\n       <use style=\"stroke:#000000;stroke-width:0.8;\" x=\"39.65\" xlink:href=\"#m01bcac6244\" y=\"71.776986\"/>\n      </g>\n     </g>\n     <g id=\"text_15\">\n      <!-- 2000 -->\n      <g transform=\"translate(7.2 75.576205)scale(0.1 -0.1)\">\n       <use xlink:href=\"#DejaVuSans-50\"/>\n       <use x=\"63.623047\" xlink:href=\"#DejaVuSans-48\"/>\n       <use x=\"127.246094\" xlink:href=\"#DejaVuSans-48\"/>\n       <use x=\"190.869141\" xlink:href=\"#DejaVuSans-48\"/>\n      </g>\n     </g>\n    </g>\n    <g id=\"ytick_8\">\n     <g id=\"line2d_16\">\n      <g>\n       <use style=\"stroke:#000000;stroke-width:0.8;\" x=\"39.65\" xlink:href=\"#m01bcac6244\" y=\"49.272088\"/>\n      </g>\n     </g>\n     <g id=\"text_16\">\n      <!-- 2200 -->\n      <g transform=\"translate(7.2 53.071307)scale(0.1 -0.1)\">\n       <use xlink:href=\"#DejaVuSans-50\"/>\n       <use x=\"63.623047\" xlink:href=\"#DejaVuSans-50\"/>\n       <use x=\"127.246094\" xlink:href=\"#DejaVuSans-48\"/>\n       <use x=\"190.869141\" xlink:href=\"#DejaVuSans-48\"/>\n      </g>\n     </g>\n    </g>\n    <g id=\"ytick_9\">\n     <g id=\"line2d_17\">\n      <g>\n       <use style=\"stroke:#000000;stroke-width:0.8;\" x=\"39.65\" xlink:href=\"#m01bcac6244\" y=\"26.767499\"/>\n      </g>\n     </g>\n     <g id=\"text_17\">\n      <!-- 2400 -->\n      <g transform=\"translate(7.2 30.566717)scale(0.1 -0.1)\">\n       <use xlink:href=\"#DejaVuSans-50\"/>\n       <use x=\"63.623047\" xlink:href=\"#DejaVuSans-52\"/>\n       <use x=\"127.246094\" xlink:href=\"#DejaVuSans-48\"/>\n       <use x=\"190.869141\" xlink:href=\"#DejaVuSans-48\"/>\n      </g>\n     </g>\n    </g>\n   </g>\n   <g id=\"line2d_18\">\n    <path clip-path=\"url(#p38cd5f1feb)\" d=\"M 54.868182 69.477481 \nL 63.564286 69.477173 \nL 72.26039 69.476865 \nL 80.956494 69.476557 \nL 89.652597 69.476249 \nL 98.348701 69.47594 \nL 107.044805 69.475632 \nL 115.740909 69.475324 \nL 124.437013 69.475016 \nL 133.133117 69.474708 \nL 141.829221 69.4744 \nL 150.525325 69.474092 \nL 159.221429 69.473784 \nL 167.917532 69.473476 \nL 176.613636 69.473168 \nL 185.30974 69.47286 \nL 194.005844 69.472552 \nL 202.701948 69.472243 \nL 211.398052 69.471935 \nL 220.094156 69.471627 \nL 228.79026 69.471319 \nL 237.486364 69.471011 \nL 246.182468 69.470703 \nL 254.878571 69.470395 \nL 263.574675 69.470087 \nL 272.270779 69.469779 \nL 280.966883 69.469471 \nL 289.662987 69.469163 \nL 298.359091 69.468855 \nL 307.055195 69.468547 \nL 315.751299 69.468238 \nL 324.447403 69.46793 \nL 333.143506 69.467622 \nL 341.83961 69.467314 \nL 350.535714 69.467006 \nL 359.231818 69.466698 \n\" style=\"fill:none;stroke:#1f77b4;stroke-linecap:square;stroke-width:1.5;\"/>\n   </g>\n   <g id=\"line2d_19\">\n    <path clip-path=\"url(#p38cd5f1feb)\" d=\"M 54.868182 214.756364 \nL 63.564286 211.681422 \nL 72.26039 208.244488 \nL 80.956494 204.814023 \nL 89.652597 201.330876 \nL 98.348701 197.621907 \nL 107.044805 194.108261 \nL 115.740909 191.017608 \nL 124.437013 187.602238 \nL 133.133117 183.563933 \nL 141.829221 179.303502 \nL 150.525325 174.76241 \nL 159.221429 169.859325 \nL 167.917532 165.191613 \nL 176.613636 161.014055 \nL 185.30974 156.190763 \nL 194.005844 150.994078 \nL 202.701948 145.385491 \nL 211.398052 139.761501 \nL 220.094156 133.556164 \nL 228.79026 127.514725 \nL 237.486364 121.864856 \nL 246.182468 116.240557 \nL 254.878571 110.254881 \nL 263.574675 103.49346 \nL 272.270779 96.494511 \nL 280.966883 89.095058 \nL 289.662987 81.719019 \nL 298.359091 74.787231 \nL 307.055195 67.656115 \nL 315.751299 59.781295 \nL 324.447403 51.835926 \nL 333.143506 43.283023 \nL 341.83961 34.731661 \nL 350.535714 25.7647 \nL 359.231818 17.083636 \n\" style=\"fill:none;stroke:#ff7f0e;stroke-linecap:square;stroke-width:1.5;\"/>\n   </g>\n   <g id=\"patch_3\">\n    <path d=\"M 39.65 224.64 \nL 39.65 7.2 \n\" style=\"fill:none;stroke:#000000;stroke-linecap:square;stroke-linejoin:miter;stroke-width:0.8;\"/>\n   </g>\n   <g id=\"patch_4\">\n    <path d=\"M 374.45 224.64 \nL 374.45 7.2 \n\" style=\"fill:none;stroke:#000000;stroke-linecap:square;stroke-linejoin:miter;stroke-width:0.8;\"/>\n   </g>\n   <g id=\"patch_5\">\n    <path d=\"M 39.65 224.64 \nL 374.45 224.64 \n\" style=\"fill:none;stroke:#000000;stroke-linecap:square;stroke-linejoin:miter;stroke-width:0.8;\"/>\n   </g>\n   <g id=\"patch_6\">\n    <path d=\"M 39.65 7.2 \nL 374.45 7.2 \n\" style=\"fill:none;stroke:#000000;stroke-linecap:square;stroke-linejoin:miter;stroke-width:0.8;\"/>\n   </g>\n   <g id=\"legend_1\">\n    <g id=\"patch_7\">\n     <path d=\"M 46.65 44.55625 \nL 90.207813 44.55625 \nQ 92.207813 44.55625 92.207813 42.55625 \nL 92.207813 14.2 \nQ 92.207813 12.2 90.207813 12.2 \nL 46.65 12.2 \nQ 44.65 12.2 44.65 14.2 \nL 44.65 42.55625 \nQ 44.65 44.55625 46.65 44.55625 \nz\n\" style=\"fill:#ffffff;opacity:0.8;stroke:#cccccc;stroke-linejoin:miter;\"/>\n    </g>\n    <g id=\"line2d_20\">\n     <path d=\"M 48.65 20.298437 \nL 68.65 20.298437 \n\" style=\"fill:none;stroke:#1f77b4;stroke-linecap:square;stroke-width:1.5;\"/>\n    </g>\n    <g id=\"line2d_21\"/>\n    <g id=\"text_18\">\n     <!-- ds -->\n     <defs>\n      <path d=\"M 45.40625 46.390625 \nL 45.40625 75.984375 \nL 54.390625 75.984375 \nL 54.390625 0 \nL 45.40625 0 \nL 45.40625 8.203125 \nQ 42.578125 3.328125 38.25 0.953125 \nQ 33.9375 -1.421875 27.875 -1.421875 \nQ 17.96875 -1.421875 11.734375 6.484375 \nQ 5.515625 14.40625 5.515625 27.296875 \nQ 5.515625 40.1875 11.734375 48.09375 \nQ 17.96875 56 27.875 56 \nQ 33.9375 56 38.25 53.625 \nQ 42.578125 51.265625 45.40625 46.390625 \nz\nM 14.796875 27.296875 \nQ 14.796875 17.390625 18.875 11.75 \nQ 22.953125 6.109375 30.078125 6.109375 \nQ 37.203125 6.109375 41.296875 11.75 \nQ 45.40625 17.390625 45.40625 27.296875 \nQ 45.40625 37.203125 41.296875 42.84375 \nQ 37.203125 48.484375 30.078125 48.484375 \nQ 22.953125 48.484375 18.875 42.84375 \nQ 14.796875 37.203125 14.796875 27.296875 \nz\n\" id=\"DejaVuSans-100\"/>\n      <path d=\"M 44.28125 53.078125 \nL 44.28125 44.578125 \nQ 40.484375 46.53125 36.375 47.5 \nQ 32.28125 48.484375 27.875 48.484375 \nQ 21.1875 48.484375 17.84375 46.4375 \nQ 14.5 44.390625 14.5 40.28125 \nQ 14.5 37.15625 16.890625 35.375 \nQ 19.28125 33.59375 26.515625 31.984375 \nL 29.59375 31.296875 \nQ 39.15625 29.25 43.1875 25.515625 \nQ 47.21875 21.78125 47.21875 15.09375 \nQ 47.21875 7.46875 41.1875 3.015625 \nQ 35.15625 -1.421875 24.609375 -1.421875 \nQ 20.21875 -1.421875 15.453125 -0.5625 \nQ 10.6875 0.296875 5.421875 2 \nL 5.421875 11.28125 \nQ 10.40625 8.6875 15.234375 7.390625 \nQ 20.0625 6.109375 24.8125 6.109375 \nQ 31.15625 6.109375 34.5625 8.28125 \nQ 37.984375 10.453125 37.984375 14.40625 \nQ 37.984375 18.0625 35.515625 20.015625 \nQ 33.0625 21.96875 24.703125 23.78125 \nL 21.578125 24.515625 \nQ 13.234375 26.265625 9.515625 29.90625 \nQ 5.8125 33.546875 5.8125 39.890625 \nQ 5.8125 47.609375 11.28125 51.796875 \nQ 16.75 56 26.8125 56 \nQ 31.78125 56 36.171875 55.265625 \nQ 40.578125 54.546875 44.28125 53.078125 \nz\n\" id=\"DejaVuSans-115\"/>\n     </defs>\n     <g transform=\"translate(76.65 23.798437)scale(0.1 -0.1)\">\n      <use xlink:href=\"#DejaVuSans-100\"/>\n      <use x=\"63.476562\" xlink:href=\"#DejaVuSans-115\"/>\n     </g>\n    </g>\n    <g id=\"line2d_22\">\n     <path d=\"M 48.65 34.976562 \nL 68.65 34.976562 \n\" style=\"fill:none;stroke:#ff7f0e;stroke-linecap:square;stroke-width:1.5;\"/>\n    </g>\n    <g id=\"line2d_23\"/>\n    <g id=\"text_19\">\n     <!-- y -->\n     <defs>\n      <path d=\"M 32.171875 -5.078125 \nQ 28.375 -14.84375 24.75 -17.8125 \nQ 21.140625 -20.796875 15.09375 -20.796875 \nL 7.90625 -20.796875 \nL 7.90625 -13.28125 \nL 13.1875 -13.28125 \nQ 16.890625 -13.28125 18.9375 -11.515625 \nQ 21 -9.765625 23.484375 -3.21875 \nL 25.09375 0.875 \nL 2.984375 54.6875 \nL 12.5 54.6875 \nL 29.59375 11.921875 \nL 46.6875 54.6875 \nL 56.203125 54.6875 \nz\n\" id=\"DejaVuSans-121\"/>\n     </defs>\n     <g transform=\"translate(76.65 38.476562)scale(0.1 -0.1)\">\n      <use xlink:href=\"#DejaVuSans-121\"/>\n     </g>\n    </g>\n   </g>\n  </g>\n </g>\n <defs>\n  <clipPath id=\"p38cd5f1feb\">\n   <rect height=\"217.44\" width=\"334.8\" x=\"39.65\" y=\"7.2\"/>\n  </clipPath>\n </defs>\n</svg>\n",
      "image/png": "[encoded data removed]"
     },
     "metadata": {
      "needs_background": "light"
     }
    }
   ],
   "source": [
    "test.plot()"
   ]
  },
  {
   "cell_type": "markdown",
   "metadata": {},
   "source": [
    "Plotting the changepoints in the trend"
   ]
  },
  {
   "cell_type": "code",
   "execution_count": 26,
   "metadata": {},
   "outputs": [
    {
     "output_type": "display_data",
     "data": {
      "text/plain": "<Figure size 720x432 with 1 Axes>",
      "image/svg+xml": "<?xml version=\"1.0\" encoding=\"utf-8\" standalone=\"no\"?>\n<!DOCTYPE svg PUBLIC \"-//W3C//DTD SVG 1.1//EN\"\n  \"http://www.w3.org/Graphics/SVG/1.1/DTD/svg11.dtd\">\n<!-- Created with matplotlib (https://matplotlib.org/) -->\n<svg height=\"424.15625pt\" version=\"1.1\" viewBox=\"0 0 712.601212 424.15625\" width=\"712.601212pt\" xmlns=\"http://www.w3.org/2000/svg\" xmlns:xlink=\"http://www.w3.org/1999/xlink\">\n <defs>\n  <style type=\"text/css\">\n*{stroke-linecap:butt;stroke-linejoin:round;}\n  </style>\n </defs>\n <g id=\"figure_1\">\n  <g id=\"patch_1\">\n   <path d=\"M 0 424.15625 \nL 712.601212 424.15625 \nL 712.601212 0 \nL 0 0 \nz\n\" style=\"fill:#ffffff;\"/>\n  </g>\n  <g id=\"axes_1\">\n   <g id=\"patch_2\">\n    <path d=\"M 66.053125 386.6 \nL 690.442628 386.6 \nL 690.442628 7.2 \nL 66.053125 7.2 \nz\n\" style=\"fill:#ffffff;\"/>\n   </g>\n   <g id=\"PolyCollection_1\">\n    <defs>\n     <path d=\"M 94.434466 -58.990347 \nL 94.434466 -54.801705 \nL 97.641397 -55.522191 \nL 100.848328 -56.056274 \nL 104.05526 -56.956202 \nL 107.262191 -57.330701 \nL 110.469122 -57.988788 \nL 113.676053 -58.598023 \nL 116.882984 -58.588484 \nL 120.089916 -58.432216 \nL 123.296847 -58.06652 \nL 126.503778 -58.182385 \nL 129.710709 -57.831163 \nL 132.91764 -57.696193 \nL 136.124572 -57.664417 \nL 139.331503 -56.994252 \nL 142.538434 -56.646513 \nL 145.745365 -56.196932 \nL 148.952296 -56.288948 \nL 152.159228 -55.901013 \nL 155.366159 -55.726213 \nL 158.57309 -55.512081 \nL 161.780021 -55.759411 \nL 164.986952 -55.600268 \nL 168.193883 -55.645822 \nL 171.400815 -55.875861 \nL 174.607746 -55.511598 \nL 177.814677 -55.292301 \nL 181.021608 -55.186863 \nL 184.228539 -55.624745 \nL 187.435471 -55.798863 \nL 190.642402 -56.360012 \nL 193.849333 -57.053129 \nL 197.056264 -56.887832 \nL 200.263195 -57.244538 \nL 203.470127 -57.761165 \nL 206.677058 -58.599372 \nL 209.883989 -59.261747 \nL 213.09092 -59.412986 \nL 216.297851 -59.371493 \nL 219.504783 -58.503122 \nL 222.711714 -58.202913 \nL 225.918645 -58.128 \nL 229.125576 -58.153012 \nL 232.332507 -58.390018 \nL 235.539438 -57.940219 \nL 238.74637 -57.37184 \nL 241.953301 -56.626893 \nL 245.160232 -56.142184 \nL 248.367163 -56.065461 \nL 251.574094 -56.083628 \nL 254.781026 -55.969455 \nL 257.987957 -55.932462 \nL 261.194888 -56.056752 \nL 264.401819 -55.578629 \nL 267.60875 -55.760917 \nL 270.815682 -55.751651 \nL 274.022613 -56.027602 \nL 277.229544 -56.01894 \nL 280.436475 -56.160594 \nL 283.643406 -56.717838 \nL 286.850338 -56.896038 \nL 290.057269 -57.583487 \nL 293.2642 -57.805393 \nL 296.471131 -58.512816 \nL 299.678062 -59.270239 \nL 302.884994 -60.097939 \nL 306.091925 -60.97809 \nL 309.298856 -61.116256 \nL 312.505787 -61.340563 \nL 315.712718 -61.20635 \nL 318.919649 -61.211886 \nL 322.126581 -61.686573 \nL 325.333512 -62.471067 \nL 328.540443 -63.241052 \nL 331.747374 -63.171936 \nL 334.954305 -63.418824 \nL 338.161237 -63.639521 \nL 341.368168 -64.269612 \nL 344.575099 -65.152004 \nL 347.78203 -65.845257 \nL 350.988961 -66.858115 \nL 354.195893 -67.081087 \nL 357.402824 -68.012476 \nL 360.609755 -68.78935 \nL 363.816686 -69.887778 \nL 367.023617 -70.925219 \nL 370.230549 -72.184602 \nL 373.43748 -73.05979 \nL 376.644411 -73.479291 \nL 379.851342 -74.651639 \nL 383.058273 -76.0263 \nL 386.265205 -77.615691 \nL 389.472136 -78.998505 \nL 392.679067 -80.336383 \nL 395.885998 -81.897326 \nL 399.092929 -83.180693 \nL 402.29986 -84.866206 \nL 405.506792 -86.82503 \nL 408.713723 -88.457244 \nL 411.920654 -89.357043 \nL 415.127585 -90.527179 \nL 418.334516 -92.634481 \nL 421.541448 -93.89589 \nL 424.748379 -95.763508 \nL 427.95531 -99.346029 \nL 431.162241 -102.831635 \nL 434.369172 -106.009132 \nL 437.576104 -109.54485 \nL 440.783035 -113.059099 \nL 443.989966 -116.375262 \nL 447.196897 -120.076657 \nL 450.403828 -123.551661 \nL 453.61076 -127.422509 \nL 456.817691 -131.144607 \nL 460.024622 -135.141013 \nL 463.231553 -139.159026 \nL 466.438484 -142.712322 \nL 469.645416 -146.41364 \nL 472.852347 -150.246443 \nL 476.059278 -154.266723 \nL 479.266209 -158.531756 \nL 482.47314 -162.820839 \nL 485.680071 -167.417472 \nL 488.887003 -171.152207 \nL 492.093934 -175.208698 \nL 495.300865 -179.749385 \nL 498.507796 -184.337886 \nL 501.714727 -189.06453 \nL 504.921659 -193.19835 \nL 508.12859 -197.172206 \nL 511.335521 -200.162945 \nL 514.542452 -203.492171 \nL 517.749383 -207.026462 \nL 520.956315 -211.003735 \nL 524.163246 -214.841028 \nL 527.370177 -218.15299 \nL 530.577108 -221.375779 \nL 533.784039 -224.131503 \nL 536.990971 -227.095508 \nL 540.197902 -230.66123 \nL 543.404833 -234.245228 \nL 546.611764 -237.636487 \nL 549.818695 -241.058191 \nL 553.025627 -244.461613 \nL 556.232558 -247.535661 \nL 559.439489 -251.01116 \nL 562.64642 -254.522276 \nL 565.853351 -257.945098 \nL 569.060282 -261.602932 \nL 572.267214 -264.80543 \nL 575.474145 -268.592052 \nL 578.681076 -271.956428 \nL 581.888007 -276.209991 \nL 585.094938 -279.315655 \nL 588.30187 -283.108809 \nL 591.508801 -287.361636 \nL 594.715732 -291.523685 \nL 597.922663 -295.394326 \nL 601.129594 -299.111392 \nL 604.336526 -302.375978 \nL 607.543457 -305.233613 \nL 610.750388 -307.875733 \nL 613.957319 -311.021166 \nL 617.16425 -314.417725 \nL 620.371182 -317.617841 \nL 623.578113 -320.350867 \nL 626.785044 -322.970722 \nL 629.991975 -325.189702 \nL 633.198906 -327.945808 \nL 636.405837 -331.05665 \nL 639.612769 -334.584844 \nL 642.8197 -337.271276 \nL 646.026631 -339.746178 \nL 649.233562 -342.730687 \nL 652.440493 -345.734152 \nL 655.647425 -349.074567 \nL 658.854356 -352.089224 \nL 662.061287 -355.437351 \nL 662.061287 -399.710795 \nL 662.061287 -399.710795 \nL 658.854356 -396.101984 \nL 655.647425 -391.153685 \nL 652.440493 -386.17606 \nL 649.233562 -382.37524 \nL 646.026631 -377.798497 \nL 642.8197 -373.818271 \nL 639.612769 -369.606188 \nL 636.405837 -365.761103 \nL 633.198906 -361.093138 \nL 629.991975 -357.083413 \nL 626.785044 -353.41061 \nL 623.578113 -349.225384 \nL 620.371182 -345.780761 \nL 617.16425 -341.133001 \nL 613.957319 -336.955732 \nL 610.750388 -333.215391 \nL 607.543457 -328.950745 \nL 604.336526 -325.116911 \nL 601.129594 -320.410703 \nL 597.922663 -316.023142 \nL 594.715732 -310.581645 \nL 591.508801 -305.352313 \nL 588.30187 -300.268859 \nL 585.094938 -295.69179 \nL 581.888007 -290.782799 \nL 578.681076 -286.619115 \nL 575.474145 -282.463515 \nL 572.267214 -277.265387 \nL 569.060282 -273.053604 \nL 565.853351 -268.633367 \nL 562.64642 -264.640863 \nL 559.439489 -260.329654 \nL 556.232558 -255.988976 \nL 553.025627 -252.420721 \nL 549.818695 -248.487888 \nL 546.611764 -244.159117 \nL 543.404833 -240.366203 \nL 540.197902 -236.190671 \nL 536.990971 -232.678203 \nL 533.784039 -229.100928 \nL 530.577108 -226.278193 \nL 527.370177 -222.918573 \nL 524.163246 -219.05892 \nL 520.956315 -215.208151 \nL 517.749383 -211.246939 \nL 514.542452 -207.804488 \nL 511.335521 -204.169369 \nL 508.12859 -201.343879 \nL 504.921659 -197.345055 \nL 501.714727 -193.18127 \nL 498.507796 -188.583064 \nL 495.300865 -183.832046 \nL 492.093934 -179.548829 \nL 488.887003 -175.230385 \nL 485.680071 -171.682176 \nL 482.47314 -167.020526 \nL 479.266209 -162.537944 \nL 476.059278 -158.50933 \nL 472.852347 -154.315465 \nL 469.645416 -150.627319 \nL 466.438484 -146.76633 \nL 463.231553 -143.32595 \nL 460.024622 -139.287229 \nL 456.817691 -135.346602 \nL 453.61076 -131.553482 \nL 450.403828 -127.817773 \nL 447.196897 -124.287122 \nL 443.989966 -120.419042 \nL 440.783035 -117.392158 \nL 437.576104 -113.476686 \nL 434.369172 -110.303918 \nL 431.162241 -107.173501 \nL 427.95531 -103.471703 \nL 424.748379 -100.0159 \nL 421.541448 -98.249243 \nL 418.334516 -96.67065 \nL 415.127585 -94.914934 \nL 411.920654 -93.483989 \nL 408.713723 -92.445374 \nL 405.506792 -90.855882 \nL 402.29986 -89.003624 \nL 399.092929 -87.563778 \nL 395.885998 -86.193495 \nL 392.679067 -84.466587 \nL 389.472136 -83.235119 \nL 386.265205 -81.690924 \nL 383.058273 -80.259745 \nL 379.851342 -78.723742 \nL 376.644411 -77.618097 \nL 373.43748 -77.214121 \nL 370.230549 -76.159504 \nL 367.023617 -75.091357 \nL 363.816686 -74.058018 \nL 360.609755 -72.853331 \nL 357.402824 -72.202881 \nL 354.195893 -71.290104 \nL 350.988961 -71.065045 \nL 347.78203 -70.166717 \nL 344.575099 -69.017151 \nL 341.368168 -68.462739 \nL 338.161237 -67.827497 \nL 334.954305 -67.578082 \nL 331.747374 -67.29648 \nL 328.540443 -67.445338 \nL 325.333512 -66.63936 \nL 322.126581 -65.768514 \nL 318.919649 -65.25947 \nL 315.712718 -65.322594 \nL 312.505787 -65.401169 \nL 309.298856 -65.314337 \nL 306.091925 -65.023415 \nL 302.884994 -64.270115 \nL 299.678062 -63.186043 \nL 296.471131 -62.716807 \nL 293.2642 -62.087559 \nL 290.057269 -61.71676 \nL 286.850338 -61.15854 \nL 283.643406 -60.906682 \nL 280.436475 -60.368477 \nL 277.229544 -60.209297 \nL 274.022613 -60.152837 \nL 270.815682 -59.926573 \nL 267.60875 -59.801283 \nL 264.401819 -59.870285 \nL 261.194888 -60.162754 \nL 257.987957 -60.053359 \nL 254.781026 -60.169404 \nL 251.574094 -60.353053 \nL 248.367163 -60.218247 \nL 245.160232 -60.259931 \nL 241.953301 -60.54368 \nL 238.74637 -61.57164 \nL 235.539438 -62.097669 \nL 232.332507 -62.349125 \nL 229.125576 -62.426274 \nL 225.918645 -62.27803 \nL 222.711714 -62.32081 \nL 219.504783 -62.657083 \nL 216.297851 -63.590345 \nL 213.09092 -63.640515 \nL 209.883989 -63.354293 \nL 206.677058 -62.630717 \nL 203.470127 -61.924722 \nL 200.263195 -61.460803 \nL 197.056264 -60.928265 \nL 193.849333 -61.045753 \nL 190.642402 -60.527735 \nL 187.435471 -60.052277 \nL 184.228539 -59.635233 \nL 181.021608 -59.407265 \nL 177.814677 -59.286784 \nL 174.607746 -59.553163 \nL 171.400815 -60.012694 \nL 168.193883 -59.93033 \nL 164.986952 -59.795087 \nL 161.780021 -59.949201 \nL 158.57309 -59.734916 \nL 155.366159 -59.887009 \nL 152.159228 -60.0922 \nL 148.952296 -60.629184 \nL 145.745365 -60.434592 \nL 142.538434 -60.72834 \nL 139.331503 -61.221488 \nL 136.124572 -61.630792 \nL 132.91764 -61.726074 \nL 129.710709 -61.927588 \nL 126.503778 -62.258138 \nL 123.296847 -62.30695 \nL 120.089916 -62.593536 \nL 116.882984 -62.784296 \nL 113.676053 -62.632926 \nL 110.469122 -62.266601 \nL 107.262191 -61.367763 \nL 104.05526 -61.083585 \nL 100.848328 -60.251609 \nL 97.641397 -59.725804 \nL 94.434466 -58.990347 \nz\n\" id=\"mb1619c75cf\" style=\"stroke:#0072b2;stroke-opacity:0.2;\"/>\n    </defs>\n    <g clip-path=\"url(#pa2cdd010b0)\">\n     <use style=\"fill:#0072b2;fill-opacity:0.2;stroke:#0072b2;stroke-opacity:0.2;\" x=\"0\" xlink:href=\"#mb1619c75cf\" y=\"424.15625\"/>\n    </g>\n   </g>\n   <g id=\"matplotlib.axis_1\">\n    <g id=\"xtick_1\">\n     <g id=\"line2d_1\">\n      <path clip-path=\"url(#pa2cdd010b0)\" d=\"M 100.848328 386.6 \nL 100.848328 7.2 \n\" style=\"fill:none;stroke:#808080;stroke-linecap:square;stroke-opacity:0.2;\"/>\n     </g>\n     <g id=\"line2d_2\">\n      <defs>\n       <path d=\"M 0 0 \nL 0 3.5 \n\" id=\"mcac7d68e04\" style=\"stroke:#000000;stroke-width:0.8;\"/>\n      </defs>\n      <g>\n       <use style=\"stroke:#000000;stroke-width:0.8;\" x=\"100.848328\" xlink:href=\"#mcac7d68e04\" y=\"386.6\"/>\n      </g>\n     </g>\n     <g id=\"text_1\">\n      <!-- 2020-02 -->\n      <defs>\n       <path d=\"M 19.1875 8.296875 \nL 53.609375 8.296875 \nL 53.609375 0 \nL 7.328125 0 \nL 7.328125 8.296875 \nQ 12.9375 14.109375 22.625 23.890625 \nQ 32.328125 33.6875 34.8125 36.53125 \nQ 39.546875 41.84375 41.421875 45.53125 \nQ 43.3125 49.21875 43.3125 52.78125 \nQ 43.3125 58.59375 39.234375 62.25 \nQ 35.15625 65.921875 28.609375 65.921875 \nQ 23.96875 65.921875 18.8125 64.3125 \nQ 13.671875 62.703125 7.8125 59.421875 \nL 7.8125 69.390625 \nQ 13.765625 71.78125 18.9375 73 \nQ 24.125 74.21875 28.421875 74.21875 \nQ 39.75 74.21875 46.484375 68.546875 \nQ 53.21875 62.890625 53.21875 53.421875 \nQ 53.21875 48.921875 51.53125 44.890625 \nQ 49.859375 40.875 45.40625 35.40625 \nQ 44.1875 33.984375 37.640625 27.21875 \nQ 31.109375 20.453125 19.1875 8.296875 \nz\n\" id=\"DejaVuSans-50\"/>\n       <path d=\"M 31.78125 66.40625 \nQ 24.171875 66.40625 20.328125 58.90625 \nQ 16.5 51.421875 16.5 36.375 \nQ 16.5 21.390625 20.328125 13.890625 \nQ 24.171875 6.390625 31.78125 6.390625 \nQ 39.453125 6.390625 43.28125 13.890625 \nQ 47.125 21.390625 47.125 36.375 \nQ 47.125 51.421875 43.28125 58.90625 \nQ 39.453125 66.40625 31.78125 66.40625 \nz\nM 31.78125 74.21875 \nQ 44.046875 74.21875 50.515625 64.515625 \nQ 56.984375 54.828125 56.984375 36.375 \nQ 56.984375 17.96875 50.515625 8.265625 \nQ 44.046875 -1.421875 31.78125 -1.421875 \nQ 19.53125 -1.421875 13.0625 8.265625 \nQ 6.59375 17.96875 6.59375 36.375 \nQ 6.59375 54.828125 13.0625 64.515625 \nQ 19.53125 74.21875 31.78125 74.21875 \nz\n\" id=\"DejaVuSans-48\"/>\n       <path d=\"M 4.890625 31.390625 \nL 31.203125 31.390625 \nL 31.203125 23.390625 \nL 4.890625 23.390625 \nz\n\" id=\"DejaVuSans-45\"/>\n      </defs>\n      <g transform=\"translate(79.956922 401.198437)scale(0.1 -0.1)\">\n       <use xlink:href=\"#DejaVuSans-50\"/>\n       <use x=\"63.623047\" xlink:href=\"#DejaVuSans-48\"/>\n       <use x=\"127.246094\" xlink:href=\"#DejaVuSans-50\"/>\n       <use x=\"190.869141\" xlink:href=\"#DejaVuSans-48\"/>\n       <use x=\"254.492188\" xlink:href=\"#DejaVuSans-45\"/>\n       <use x=\"290.576172\" xlink:href=\"#DejaVuSans-48\"/>\n       <use x=\"354.199219\" xlink:href=\"#DejaVuSans-50\"/>\n      </g>\n     </g>\n    </g>\n    <g id=\"xtick_2\">\n     <g id=\"line2d_3\">\n      <path clip-path=\"url(#pa2cdd010b0)\" d=\"M 193.849333 386.6 \nL 193.849333 7.2 \n\" style=\"fill:none;stroke:#808080;stroke-linecap:square;stroke-opacity:0.2;\"/>\n     </g>\n     <g id=\"line2d_4\">\n      <g>\n       <use style=\"stroke:#000000;stroke-width:0.8;\" x=\"193.849333\" xlink:href=\"#mcac7d68e04\" y=\"386.6\"/>\n      </g>\n     </g>\n     <g id=\"text_2\">\n      <!-- 2020-03 -->\n      <defs>\n       <path d=\"M 40.578125 39.3125 \nQ 47.65625 37.796875 51.625 33 \nQ 55.609375 28.21875 55.609375 21.1875 \nQ 55.609375 10.40625 48.1875 4.484375 \nQ 40.765625 -1.421875 27.09375 -1.421875 \nQ 22.515625 -1.421875 17.65625 -0.515625 \nQ 12.796875 0.390625 7.625 2.203125 \nL 7.625 11.71875 \nQ 11.71875 9.328125 16.59375 8.109375 \nQ 21.484375 6.890625 26.8125 6.890625 \nQ 36.078125 6.890625 40.9375 10.546875 \nQ 45.796875 14.203125 45.796875 21.1875 \nQ 45.796875 27.640625 41.28125 31.265625 \nQ 36.765625 34.90625 28.71875 34.90625 \nL 20.21875 34.90625 \nL 20.21875 43.015625 \nL 29.109375 43.015625 \nQ 36.375 43.015625 40.234375 45.921875 \nQ 44.09375 48.828125 44.09375 54.296875 \nQ 44.09375 59.90625 40.109375 62.90625 \nQ 36.140625 65.921875 28.71875 65.921875 \nQ 24.65625 65.921875 20.015625 65.03125 \nQ 15.375 64.15625 9.8125 62.3125 \nL 9.8125 71.09375 \nQ 15.4375 72.65625 20.34375 73.4375 \nQ 25.25 74.21875 29.59375 74.21875 \nQ 40.828125 74.21875 47.359375 69.109375 \nQ 53.90625 64.015625 53.90625 55.328125 \nQ 53.90625 49.265625 50.4375 45.09375 \nQ 46.96875 40.921875 40.578125 39.3125 \nz\n\" id=\"DejaVuSans-51\"/>\n      </defs>\n      <g transform=\"translate(172.957927 401.198437)scale(0.1 -0.1)\">\n       <use xlink:href=\"#DejaVuSans-50\"/>\n       <use x=\"63.623047\" xlink:href=\"#DejaVuSans-48\"/>\n       <use x=\"127.246094\" xlink:href=\"#DejaVuSans-50\"/>\n       <use x=\"190.869141\" xlink:href=\"#DejaVuSans-48\"/>\n       <use x=\"254.492188\" xlink:href=\"#DejaVuSans-45\"/>\n       <use x=\"290.576172\" xlink:href=\"#DejaVuSans-48\"/>\n       <use x=\"354.199219\" xlink:href=\"#DejaVuSans-51\"/>\n      </g>\n     </g>\n    </g>\n    <g id=\"xtick_3\">\n     <g id=\"line2d_5\">\n      <path clip-path=\"url(#pa2cdd010b0)\" d=\"M 293.2642 386.6 \nL 293.2642 7.2 \n\" style=\"fill:none;stroke:#808080;stroke-linecap:square;stroke-opacity:0.2;\"/>\n     </g>\n     <g id=\"line2d_6\">\n      <g>\n       <use style=\"stroke:#000000;stroke-width:0.8;\" x=\"293.2642\" xlink:href=\"#mcac7d68e04\" y=\"386.6\"/>\n      </g>\n     </g>\n     <g id=\"text_3\">\n      <!-- 2020-04 -->\n      <defs>\n       <path d=\"M 37.796875 64.3125 \nL 12.890625 25.390625 \nL 37.796875 25.390625 \nz\nM 35.203125 72.90625 \nL 47.609375 72.90625 \nL 47.609375 25.390625 \nL 58.015625 25.390625 \nL 58.015625 17.1875 \nL 47.609375 17.1875 \nL 47.609375 0 \nL 37.796875 0 \nL 37.796875 17.1875 \nL 4.890625 17.1875 \nL 4.890625 26.703125 \nz\n\" id=\"DejaVuSans-52\"/>\n      </defs>\n      <g transform=\"translate(272.372794 401.198437)scale(0.1 -0.1)\">\n       <use xlink:href=\"#DejaVuSans-50\"/>\n       <use x=\"63.623047\" xlink:href=\"#DejaVuSans-48\"/>\n       <use x=\"127.246094\" xlink:href=\"#DejaVuSans-50\"/>\n       <use x=\"190.869141\" xlink:href=\"#DejaVuSans-48\"/>\n       <use x=\"254.492188\" xlink:href=\"#DejaVuSans-45\"/>\n       <use x=\"290.576172\" xlink:href=\"#DejaVuSans-48\"/>\n       <use x=\"354.199219\" xlink:href=\"#DejaVuSans-52\"/>\n      </g>\n     </g>\n    </g>\n    <g id=\"xtick_4\">\n     <g id=\"line2d_7\">\n      <path clip-path=\"url(#pa2cdd010b0)\" d=\"M 389.472136 386.6 \nL 389.472136 7.2 \n\" style=\"fill:none;stroke:#808080;stroke-linecap:square;stroke-opacity:0.2;\"/>\n     </g>\n     <g id=\"line2d_8\">\n      <g>\n       <use style=\"stroke:#000000;stroke-width:0.8;\" x=\"389.472136\" xlink:href=\"#mcac7d68e04\" y=\"386.6\"/>\n      </g>\n     </g>\n     <g id=\"text_4\">\n      <!-- 2020-05 -->\n      <defs>\n       <path d=\"M 10.796875 72.90625 \nL 49.515625 72.90625 \nL 49.515625 64.59375 \nL 19.828125 64.59375 \nL 19.828125 46.734375 \nQ 21.96875 47.46875 24.109375 47.828125 \nQ 26.265625 48.1875 28.421875 48.1875 \nQ 40.625 48.1875 47.75 41.5 \nQ 54.890625 34.8125 54.890625 23.390625 \nQ 54.890625 11.625 47.5625 5.09375 \nQ 40.234375 -1.421875 26.90625 -1.421875 \nQ 22.3125 -1.421875 17.546875 -0.640625 \nQ 12.796875 0.140625 7.71875 1.703125 \nL 7.71875 11.625 \nQ 12.109375 9.234375 16.796875 8.0625 \nQ 21.484375 6.890625 26.703125 6.890625 \nQ 35.15625 6.890625 40.078125 11.328125 \nQ 45.015625 15.765625 45.015625 23.390625 \nQ 45.015625 31 40.078125 35.4375 \nQ 35.15625 39.890625 26.703125 39.890625 \nQ 22.75 39.890625 18.8125 39.015625 \nQ 14.890625 38.140625 10.796875 36.28125 \nz\n\" id=\"DejaVuSans-53\"/>\n      </defs>\n      <g transform=\"translate(368.580729 401.198437)scale(0.1 -0.1)\">\n       <use xlink:href=\"#DejaVuSans-50\"/>\n       <use x=\"63.623047\" xlink:href=\"#DejaVuSans-48\"/>\n       <use x=\"127.246094\" xlink:href=\"#DejaVuSans-50\"/>\n       <use x=\"190.869141\" xlink:href=\"#DejaVuSans-48\"/>\n       <use x=\"254.492188\" xlink:href=\"#DejaVuSans-45\"/>\n       <use x=\"290.576172\" xlink:href=\"#DejaVuSans-48\"/>\n       <use x=\"354.199219\" xlink:href=\"#DejaVuSans-53\"/>\n      </g>\n     </g>\n    </g>\n    <g id=\"xtick_5\">\n     <g id=\"line2d_9\">\n      <path clip-path=\"url(#pa2cdd010b0)\" d=\"M 488.887003 386.6 \nL 488.887003 7.2 \n\" style=\"fill:none;stroke:#808080;stroke-linecap:square;stroke-opacity:0.2;\"/>\n     </g>\n     <g id=\"line2d_10\">\n      <g>\n       <use style=\"stroke:#000000;stroke-width:0.8;\" x=\"488.887003\" xlink:href=\"#mcac7d68e04\" y=\"386.6\"/>\n      </g>\n     </g>\n     <g id=\"text_5\">\n      <!-- 2020-06 -->\n      <defs>\n       <path d=\"M 33.015625 40.375 \nQ 26.375 40.375 22.484375 35.828125 \nQ 18.609375 31.296875 18.609375 23.390625 \nQ 18.609375 15.53125 22.484375 10.953125 \nQ 26.375 6.390625 33.015625 6.390625 \nQ 39.65625 6.390625 43.53125 10.953125 \nQ 47.40625 15.53125 47.40625 23.390625 \nQ 47.40625 31.296875 43.53125 35.828125 \nQ 39.65625 40.375 33.015625 40.375 \nz\nM 52.59375 71.296875 \nL 52.59375 62.3125 \nQ 48.875 64.0625 45.09375 64.984375 \nQ 41.3125 65.921875 37.59375 65.921875 \nQ 27.828125 65.921875 22.671875 59.328125 \nQ 17.53125 52.734375 16.796875 39.40625 \nQ 19.671875 43.65625 24.015625 45.921875 \nQ 28.375 48.1875 33.59375 48.1875 \nQ 44.578125 48.1875 50.953125 41.515625 \nQ 57.328125 34.859375 57.328125 23.390625 \nQ 57.328125 12.15625 50.6875 5.359375 \nQ 44.046875 -1.421875 33.015625 -1.421875 \nQ 20.359375 -1.421875 13.671875 8.265625 \nQ 6.984375 17.96875 6.984375 36.375 \nQ 6.984375 53.65625 15.1875 63.9375 \nQ 23.390625 74.21875 37.203125 74.21875 \nQ 40.921875 74.21875 44.703125 73.484375 \nQ 48.484375 72.75 52.59375 71.296875 \nz\n\" id=\"DejaVuSans-54\"/>\n      </defs>\n      <g transform=\"translate(467.995596 401.198437)scale(0.1 -0.1)\">\n       <use xlink:href=\"#DejaVuSans-50\"/>\n       <use x=\"63.623047\" xlink:href=\"#DejaVuSans-48\"/>\n       <use x=\"127.246094\" xlink:href=\"#DejaVuSans-50\"/>\n       <use x=\"190.869141\" xlink:href=\"#DejaVuSans-48\"/>\n       <use x=\"254.492188\" xlink:href=\"#DejaVuSans-45\"/>\n       <use x=\"290.576172\" xlink:href=\"#DejaVuSans-48\"/>\n       <use x=\"354.199219\" xlink:href=\"#DejaVuSans-54\"/>\n      </g>\n     </g>\n    </g>\n    <g id=\"xtick_6\">\n     <g id=\"line2d_11\">\n      <path clip-path=\"url(#pa2cdd010b0)\" d=\"M 585.094938 386.6 \nL 585.094938 7.2 \n\" style=\"fill:none;stroke:#808080;stroke-linecap:square;stroke-opacity:0.2;\"/>\n     </g>\n     <g id=\"line2d_12\">\n      <g>\n       <use style=\"stroke:#000000;stroke-width:0.8;\" x=\"585.094938\" xlink:href=\"#mcac7d68e04\" y=\"386.6\"/>\n      </g>\n     </g>\n     <g id=\"text_6\">\n      <!-- 2020-07 -->\n      <defs>\n       <path d=\"M 8.203125 72.90625 \nL 55.078125 72.90625 \nL 55.078125 68.703125 \nL 28.609375 0 \nL 18.3125 0 \nL 43.21875 64.59375 \nL 8.203125 64.59375 \nz\n\" id=\"DejaVuSans-55\"/>\n      </defs>\n      <g transform=\"translate(564.203532 401.198437)scale(0.1 -0.1)\">\n       <use xlink:href=\"#DejaVuSans-50\"/>\n       <use x=\"63.623047\" xlink:href=\"#DejaVuSans-48\"/>\n       <use x=\"127.246094\" xlink:href=\"#DejaVuSans-50\"/>\n       <use x=\"190.869141\" xlink:href=\"#DejaVuSans-48\"/>\n       <use x=\"254.492188\" xlink:href=\"#DejaVuSans-45\"/>\n       <use x=\"290.576172\" xlink:href=\"#DejaVuSans-48\"/>\n       <use x=\"354.199219\" xlink:href=\"#DejaVuSans-55\"/>\n      </g>\n     </g>\n    </g>\n    <g id=\"xtick_7\">\n     <g id=\"line2d_13\">\n      <path clip-path=\"url(#pa2cdd010b0)\" d=\"M 684.509805 386.6 \nL 684.509805 7.2 \n\" style=\"fill:none;stroke:#808080;stroke-linecap:square;stroke-opacity:0.2;\"/>\n     </g>\n     <g id=\"line2d_14\">\n      <g>\n       <use style=\"stroke:#000000;stroke-width:0.8;\" x=\"684.509805\" xlink:href=\"#mcac7d68e04\" y=\"386.6\"/>\n      </g>\n     </g>\n     <g id=\"text_7\">\n      <!-- 2020-08 -->\n      <defs>\n       <path d=\"M 31.78125 34.625 \nQ 24.75 34.625 20.71875 30.859375 \nQ 16.703125 27.09375 16.703125 20.515625 \nQ 16.703125 13.921875 20.71875 10.15625 \nQ 24.75 6.390625 31.78125 6.390625 \nQ 38.8125 6.390625 42.859375 10.171875 \nQ 46.921875 13.96875 46.921875 20.515625 \nQ 46.921875 27.09375 42.890625 30.859375 \nQ 38.875 34.625 31.78125 34.625 \nz\nM 21.921875 38.8125 \nQ 15.578125 40.375 12.03125 44.71875 \nQ 8.5 49.078125 8.5 55.328125 \nQ 8.5 64.0625 14.71875 69.140625 \nQ 20.953125 74.21875 31.78125 74.21875 \nQ 42.671875 74.21875 48.875 69.140625 \nQ 55.078125 64.0625 55.078125 55.328125 \nQ 55.078125 49.078125 51.53125 44.71875 \nQ 48 40.375 41.703125 38.8125 \nQ 48.828125 37.15625 52.796875 32.3125 \nQ 56.78125 27.484375 56.78125 20.515625 \nQ 56.78125 9.90625 50.3125 4.234375 \nQ 43.84375 -1.421875 31.78125 -1.421875 \nQ 19.734375 -1.421875 13.25 4.234375 \nQ 6.78125 9.90625 6.78125 20.515625 \nQ 6.78125 27.484375 10.78125 32.3125 \nQ 14.796875 37.15625 21.921875 38.8125 \nz\nM 18.3125 54.390625 \nQ 18.3125 48.734375 21.84375 45.5625 \nQ 25.390625 42.390625 31.78125 42.390625 \nQ 38.140625 42.390625 41.71875 45.5625 \nQ 45.3125 48.734375 45.3125 54.390625 \nQ 45.3125 60.0625 41.71875 63.234375 \nQ 38.140625 66.40625 31.78125 66.40625 \nQ 25.390625 66.40625 21.84375 63.234375 \nQ 18.3125 60.0625 18.3125 54.390625 \nz\n\" id=\"DejaVuSans-56\"/>\n      </defs>\n      <g transform=\"translate(663.618399 401.198437)scale(0.1 -0.1)\">\n       <use xlink:href=\"#DejaVuSans-50\"/>\n       <use x=\"63.623047\" xlink:href=\"#DejaVuSans-48\"/>\n       <use x=\"127.246094\" xlink:href=\"#DejaVuSans-50\"/>\n       <use x=\"190.869141\" xlink:href=\"#DejaVuSans-48\"/>\n       <use x=\"254.492188\" xlink:href=\"#DejaVuSans-45\"/>\n       <use x=\"290.576172\" xlink:href=\"#DejaVuSans-48\"/>\n       <use x=\"354.199219\" xlink:href=\"#DejaVuSans-56\"/>\n      </g>\n     </g>\n    </g>\n    <g id=\"text_8\">\n     <!-- ds -->\n     <defs>\n      <path d=\"M 45.40625 46.390625 \nL 45.40625 75.984375 \nL 54.390625 75.984375 \nL 54.390625 0 \nL 45.40625 0 \nL 45.40625 8.203125 \nQ 42.578125 3.328125 38.25 0.953125 \nQ 33.9375 -1.421875 27.875 -1.421875 \nQ 17.96875 -1.421875 11.734375 6.484375 \nQ 5.515625 14.40625 5.515625 27.296875 \nQ 5.515625 40.1875 11.734375 48.09375 \nQ 17.96875 56 27.875 56 \nQ 33.9375 56 38.25 53.625 \nQ 42.578125 51.265625 45.40625 46.390625 \nz\nM 14.796875 27.296875 \nQ 14.796875 17.390625 18.875 11.75 \nQ 22.953125 6.109375 30.078125 6.109375 \nQ 37.203125 6.109375 41.296875 11.75 \nQ 45.40625 17.390625 45.40625 27.296875 \nQ 45.40625 37.203125 41.296875 42.84375 \nQ 37.203125 48.484375 30.078125 48.484375 \nQ 22.953125 48.484375 18.875 42.84375 \nQ 14.796875 37.203125 14.796875 27.296875 \nz\n\" id=\"DejaVuSans-100\"/>\n      <path d=\"M 44.28125 53.078125 \nL 44.28125 44.578125 \nQ 40.484375 46.53125 36.375 47.5 \nQ 32.28125 48.484375 27.875 48.484375 \nQ 21.1875 48.484375 17.84375 46.4375 \nQ 14.5 44.390625 14.5 40.28125 \nQ 14.5 37.15625 16.890625 35.375 \nQ 19.28125 33.59375 26.515625 31.984375 \nL 29.59375 31.296875 \nQ 39.15625 29.25 43.1875 25.515625 \nQ 47.21875 21.78125 47.21875 15.09375 \nQ 47.21875 7.46875 41.1875 3.015625 \nQ 35.15625 -1.421875 24.609375 -1.421875 \nQ 20.21875 -1.421875 15.453125 -0.5625 \nQ 10.6875 0.296875 5.421875 2 \nL 5.421875 11.28125 \nQ 10.40625 8.6875 15.234375 7.390625 \nQ 20.0625 6.109375 24.8125 6.109375 \nQ 31.15625 6.109375 34.5625 8.28125 \nQ 37.984375 10.453125 37.984375 14.40625 \nQ 37.984375 18.0625 35.515625 20.015625 \nQ 33.0625 21.96875 24.703125 23.78125 \nL 21.578125 24.515625 \nQ 13.234375 26.265625 9.515625 29.90625 \nQ 5.8125 33.546875 5.8125 39.890625 \nQ 5.8125 47.609375 11.28125 51.796875 \nQ 16.75 56 26.8125 56 \nQ 31.78125 56 36.171875 55.265625 \nQ 40.578125 54.546875 44.28125 53.078125 \nz\n\" id=\"DejaVuSans-115\"/>\n     </defs>\n     <g transform=\"translate(372.46897 414.876562)scale(0.1 -0.1)\">\n      <use xlink:href=\"#DejaVuSans-100\"/>\n      <use x=\"63.476562\" xlink:href=\"#DejaVuSans-115\"/>\n     </g>\n    </g>\n   </g>\n   <g id=\"matplotlib.axis_2\">\n    <g id=\"ytick_1\">\n     <g id=\"line2d_15\">\n      <path clip-path=\"url(#pa2cdd010b0)\" d=\"M 66.053125 365.194694 \nL 690.442628 365.194694 \n\" style=\"fill:none;stroke:#808080;stroke-linecap:square;stroke-opacity:0.2;\"/>\n     </g>\n     <g id=\"line2d_16\">\n      <defs>\n       <path d=\"M 0 0 \nL -3.5 0 \n\" id=\"mb096acf31a\" style=\"stroke:#000000;stroke-width:0.8;\"/>\n      </defs>\n      <g>\n       <use style=\"stroke:#000000;stroke-width:0.8;\" x=\"66.053125\" xlink:href=\"#mb096acf31a\" y=\"365.194694\"/>\n      </g>\n     </g>\n     <g id=\"text_9\">\n      <!-- 0 -->\n      <g transform=\"translate(52.690625 368.993913)scale(0.1 -0.1)\">\n       <use xlink:href=\"#DejaVuSans-48\"/>\n      </g>\n     </g>\n    </g>\n    <g id=\"ytick_2\">\n     <g id=\"line2d_17\">\n      <path clip-path=\"url(#pa2cdd010b0)\" d=\"M 66.053125 307.881652 \nL 690.442628 307.881652 \n\" style=\"fill:none;stroke:#808080;stroke-linecap:square;stroke-opacity:0.2;\"/>\n     </g>\n     <g id=\"line2d_18\">\n      <g>\n       <use style=\"stroke:#000000;stroke-width:0.8;\" x=\"66.053125\" xlink:href=\"#mb096acf31a\" y=\"307.881652\"/>\n      </g>\n     </g>\n     <g id=\"text_10\">\n      <!-- 100000 -->\n      <defs>\n       <path d=\"M 12.40625 8.296875 \nL 28.515625 8.296875 \nL 28.515625 63.921875 \nL 10.984375 60.40625 \nL 10.984375 69.390625 \nL 28.421875 72.90625 \nL 38.28125 72.90625 \nL 38.28125 8.296875 \nL 54.390625 8.296875 \nL 54.390625 0 \nL 12.40625 0 \nz\n\" id=\"DejaVuSans-49\"/>\n      </defs>\n      <g transform=\"translate(20.878125 311.68087)scale(0.1 -0.1)\">\n       <use xlink:href=\"#DejaVuSans-49\"/>\n       <use x=\"63.623047\" xlink:href=\"#DejaVuSans-48\"/>\n       <use x=\"127.246094\" xlink:href=\"#DejaVuSans-48\"/>\n       <use x=\"190.869141\" xlink:href=\"#DejaVuSans-48\"/>\n       <use x=\"254.492188\" xlink:href=\"#DejaVuSans-48\"/>\n       <use x=\"318.115234\" xlink:href=\"#DejaVuSans-48\"/>\n      </g>\n     </g>\n    </g>\n    <g id=\"ytick_3\">\n     <g id=\"line2d_19\">\n      <path clip-path=\"url(#pa2cdd010b0)\" d=\"M 66.053125 250.568609 \nL 690.442628 250.568609 \n\" style=\"fill:none;stroke:#808080;stroke-linecap:square;stroke-opacity:0.2;\"/>\n     </g>\n     <g id=\"line2d_20\">\n      <g>\n       <use style=\"stroke:#000000;stroke-width:0.8;\" x=\"66.053125\" xlink:href=\"#mb096acf31a\" y=\"250.568609\"/>\n      </g>\n     </g>\n     <g id=\"text_11\">\n      <!-- 200000 -->\n      <g transform=\"translate(20.878125 254.367828)scale(0.1 -0.1)\">\n       <use xlink:href=\"#DejaVuSans-50\"/>\n       <use x=\"63.623047\" xlink:href=\"#DejaVuSans-48\"/>\n       <use x=\"127.246094\" xlink:href=\"#DejaVuSans-48\"/>\n       <use x=\"190.869141\" xlink:href=\"#DejaVuSans-48\"/>\n       <use x=\"254.492188\" xlink:href=\"#DejaVuSans-48\"/>\n       <use x=\"318.115234\" xlink:href=\"#DejaVuSans-48\"/>\n      </g>\n     </g>\n    </g>\n    <g id=\"ytick_4\">\n     <g id=\"line2d_21\">\n      <path clip-path=\"url(#pa2cdd010b0)\" d=\"M 66.053125 193.255566 \nL 690.442628 193.255566 \n\" style=\"fill:none;stroke:#808080;stroke-linecap:square;stroke-opacity:0.2;\"/>\n     </g>\n     <g id=\"line2d_22\">\n      <g>\n       <use style=\"stroke:#000000;stroke-width:0.8;\" x=\"66.053125\" xlink:href=\"#mb096acf31a\" y=\"193.255566\"/>\n      </g>\n     </g>\n     <g id=\"text_12\">\n      <!-- 300000 -->\n      <g transform=\"translate(20.878125 197.054785)scale(0.1 -0.1)\">\n       <use xlink:href=\"#DejaVuSans-51\"/>\n       <use x=\"63.623047\" xlink:href=\"#DejaVuSans-48\"/>\n       <use x=\"127.246094\" xlink:href=\"#DejaVuSans-48\"/>\n       <use x=\"190.869141\" xlink:href=\"#DejaVuSans-48\"/>\n       <use x=\"254.492188\" xlink:href=\"#DejaVuSans-48\"/>\n       <use x=\"318.115234\" xlink:href=\"#DejaVuSans-48\"/>\n      </g>\n     </g>\n    </g>\n    <g id=\"ytick_5\">\n     <g id=\"line2d_23\">\n      <path clip-path=\"url(#pa2cdd010b0)\" d=\"M 66.053125 135.942524 \nL 690.442628 135.942524 \n\" style=\"fill:none;stroke:#808080;stroke-linecap:square;stroke-opacity:0.2;\"/>\n     </g>\n     <g id=\"line2d_24\">\n      <g>\n       <use style=\"stroke:#000000;stroke-width:0.8;\" x=\"66.053125\" xlink:href=\"#mb096acf31a\" y=\"135.942524\"/>\n      </g>\n     </g>\n     <g id=\"text_13\">\n      <!-- 400000 -->\n      <g transform=\"translate(20.878125 139.741742)scale(0.1 -0.1)\">\n       <use xlink:href=\"#DejaVuSans-52\"/>\n       <use x=\"63.623047\" xlink:href=\"#DejaVuSans-48\"/>\n       <use x=\"127.246094\" xlink:href=\"#DejaVuSans-48\"/>\n       <use x=\"190.869141\" xlink:href=\"#DejaVuSans-48\"/>\n       <use x=\"254.492188\" xlink:href=\"#DejaVuSans-48\"/>\n       <use x=\"318.115234\" xlink:href=\"#DejaVuSans-48\"/>\n      </g>\n     </g>\n    </g>\n    <g id=\"ytick_6\">\n     <g id=\"line2d_25\">\n      <path clip-path=\"url(#pa2cdd010b0)\" d=\"M 66.053125 78.629481 \nL 690.442628 78.629481 \n\" style=\"fill:none;stroke:#808080;stroke-linecap:square;stroke-opacity:0.2;\"/>\n     </g>\n     <g id=\"line2d_26\">\n      <g>\n       <use style=\"stroke:#000000;stroke-width:0.8;\" x=\"66.053125\" xlink:href=\"#mb096acf31a\" y=\"78.629481\"/>\n      </g>\n     </g>\n     <g id=\"text_14\">\n      <!-- 500000 -->\n      <g transform=\"translate(20.878125 82.4287)scale(0.1 -0.1)\">\n       <use xlink:href=\"#DejaVuSans-53\"/>\n       <use x=\"63.623047\" xlink:href=\"#DejaVuSans-48\"/>\n       <use x=\"127.246094\" xlink:href=\"#DejaVuSans-48\"/>\n       <use x=\"190.869141\" xlink:href=\"#DejaVuSans-48\"/>\n       <use x=\"254.492188\" xlink:href=\"#DejaVuSans-48\"/>\n       <use x=\"318.115234\" xlink:href=\"#DejaVuSans-48\"/>\n      </g>\n     </g>\n    </g>\n    <g id=\"ytick_7\">\n     <g id=\"line2d_27\">\n      <path clip-path=\"url(#pa2cdd010b0)\" d=\"M 66.053125 21.316438 \nL 690.442628 21.316438 \n\" style=\"fill:none;stroke:#808080;stroke-linecap:square;stroke-opacity:0.2;\"/>\n     </g>\n     <g id=\"line2d_28\">\n      <g>\n       <use style=\"stroke:#000000;stroke-width:0.8;\" x=\"66.053125\" xlink:href=\"#mb096acf31a\" y=\"21.316438\"/>\n      </g>\n     </g>\n     <g id=\"text_15\">\n      <!-- 600000 -->\n      <g transform=\"translate(20.878125 25.115657)scale(0.1 -0.1)\">\n       <use xlink:href=\"#DejaVuSans-54\"/>\n       <use x=\"63.623047\" xlink:href=\"#DejaVuSans-48\"/>\n       <use x=\"127.246094\" xlink:href=\"#DejaVuSans-48\"/>\n       <use x=\"190.869141\" xlink:href=\"#DejaVuSans-48\"/>\n       <use x=\"254.492188\" xlink:href=\"#DejaVuSans-48\"/>\n       <use x=\"318.115234\" xlink:href=\"#DejaVuSans-48\"/>\n      </g>\n     </g>\n    </g>\n    <g id=\"text_16\">\n     <!-- y -->\n     <defs>\n      <path d=\"M 32.171875 -5.078125 \nQ 28.375 -14.84375 24.75 -17.8125 \nQ 21.140625 -20.796875 15.09375 -20.796875 \nL 7.90625 -20.796875 \nL 7.90625 -13.28125 \nL 13.1875 -13.28125 \nQ 16.890625 -13.28125 18.9375 -11.515625 \nQ 21 -9.765625 23.484375 -3.21875 \nL 25.09375 0.875 \nL 2.984375 54.6875 \nL 12.5 54.6875 \nL 29.59375 11.921875 \nL 46.6875 54.6875 \nL 56.203125 54.6875 \nz\n\" id=\"DejaVuSans-121\"/>\n     </defs>\n     <g transform=\"translate(14.798438 199.859375)rotate(-90)scale(0.1 -0.1)\">\n      <use xlink:href=\"#DejaVuSans-121\"/>\n     </g>\n    </g>\n   </g>\n   <g id=\"line2d_29\">\n    <defs>\n     <path d=\"M 0 1.5 \nC 0.397805 1.5 0.77937 1.341951 1.06066 1.06066 \nC 1.341951 0.77937 1.5 0.397805 1.5 0 \nC 1.5 -0.397805 1.341951 -0.77937 1.06066 -1.06066 \nC 0.77937 -1.341951 0.397805 -1.5 0 -1.5 \nC -0.397805 -1.5 -0.77937 -1.341951 -1.06066 -1.06066 \nC -1.341951 -0.77937 -1.5 -0.397805 -1.5 0 \nC -1.5 0.397805 -1.341951 0.77937 -1.06066 1.06066 \nC -0.77937 1.341951 -0.397805 1.5 0 1.5 \nz\n\" id=\"me4f8817c46\" style=\"stroke:#000000;\"/>\n    </defs>\n    <g clip-path=\"url(#pa2cdd010b0)\">\n     <use style=\"stroke:#000000;\" x=\"94.434466\" xlink:href=\"#me4f8817c46\" y=\"365.194121\"/>\n     <use style=\"stroke:#000000;\" x=\"97.641397\" xlink:href=\"#me4f8817c46\" y=\"365.194121\"/>\n     <use style=\"stroke:#000000;\" x=\"100.848328\" xlink:href=\"#me4f8817c46\" y=\"365.194121\"/>\n     <use style=\"stroke:#000000;\" x=\"104.05526\" xlink:href=\"#me4f8817c46\" y=\"365.193548\"/>\n     <use style=\"stroke:#000000;\" x=\"107.262191\" xlink:href=\"#me4f8817c46\" y=\"365.192975\"/>\n     <use style=\"stroke:#000000;\" x=\"110.469122\" xlink:href=\"#me4f8817c46\" y=\"365.192975\"/>\n     <use style=\"stroke:#000000;\" x=\"113.676053\" xlink:href=\"#me4f8817c46\" y=\"365.192975\"/>\n     <use style=\"stroke:#000000;\" x=\"116.882984\" xlink:href=\"#me4f8817c46\" y=\"365.192975\"/>\n     <use style=\"stroke:#000000;\" x=\"120.089916\" xlink:href=\"#me4f8817c46\" y=\"365.192975\"/>\n     <use style=\"stroke:#000000;\" x=\"123.296847\" xlink:href=\"#me4f8817c46\" y=\"365.192975\"/>\n     <use style=\"stroke:#000000;\" x=\"126.503778\" xlink:href=\"#me4f8817c46\" y=\"365.192975\"/>\n     <use style=\"stroke:#000000;\" x=\"129.710709\" xlink:href=\"#me4f8817c46\" y=\"365.192975\"/>\n     <use style=\"stroke:#000000;\" x=\"132.91764\" xlink:href=\"#me4f8817c46\" y=\"365.192975\"/>\n     <use style=\"stroke:#000000;\" x=\"136.124572\" xlink:href=\"#me4f8817c46\" y=\"365.192975\"/>\n     <use style=\"stroke:#000000;\" x=\"139.331503\" xlink:href=\"#me4f8817c46\" y=\"365.192975\"/>\n     <use style=\"stroke:#000000;\" x=\"142.538434\" xlink:href=\"#me4f8817c46\" y=\"365.192975\"/>\n     <use style=\"stroke:#000000;\" x=\"145.745365\" xlink:href=\"#me4f8817c46\" y=\"365.192975\"/>\n     <use style=\"stroke:#000000;\" x=\"148.952296\" xlink:href=\"#me4f8817c46\" y=\"365.192975\"/>\n     <use style=\"stroke:#000000;\" x=\"152.159228\" xlink:href=\"#me4f8817c46\" y=\"365.192975\"/>\n     <use style=\"stroke:#000000;\" x=\"155.366159\" xlink:href=\"#me4f8817c46\" y=\"365.192975\"/>\n     <use style=\"stroke:#000000;\" x=\"158.57309\" xlink:href=\"#me4f8817c46\" y=\"365.192975\"/>\n     <use style=\"stroke:#000000;\" x=\"161.780021\" xlink:href=\"#me4f8817c46\" y=\"365.192975\"/>\n     <use style=\"stroke:#000000;\" x=\"164.986952\" xlink:href=\"#me4f8817c46\" y=\"365.192975\"/>\n     <use style=\"stroke:#000000;\" x=\"168.193883\" xlink:href=\"#me4f8817c46\" y=\"365.192975\"/>\n     <use style=\"stroke:#000000;\" x=\"171.400815\" xlink:href=\"#me4f8817c46\" y=\"365.192975\"/>\n     <use style=\"stroke:#000000;\" x=\"174.607746\" xlink:href=\"#me4f8817c46\" y=\"365.192975\"/>\n     <use style=\"stroke:#000000;\" x=\"177.814677\" xlink:href=\"#me4f8817c46\" y=\"365.192975\"/>\n     <use style=\"stroke:#000000;\" x=\"181.021608\" xlink:href=\"#me4f8817c46\" y=\"365.192975\"/>\n     <use style=\"stroke:#000000;\" x=\"184.228539\" xlink:href=\"#me4f8817c46\" y=\"365.192975\"/>\n     <use style=\"stroke:#000000;\" x=\"187.435471\" xlink:href=\"#me4f8817c46\" y=\"365.192975\"/>\n     <use style=\"stroke:#000000;\" x=\"190.642402\" xlink:href=\"#me4f8817c46\" y=\"365.192975\"/>\n     <use style=\"stroke:#000000;\" x=\"193.849333\" xlink:href=\"#me4f8817c46\" y=\"365.192975\"/>\n     <use style=\"stroke:#000000;\" x=\"197.056264\" xlink:href=\"#me4f8817c46\" y=\"365.191829\"/>\n     <use style=\"stroke:#000000;\" x=\"200.263195\" xlink:href=\"#me4f8817c46\" y=\"365.191256\"/>\n     <use style=\"stroke:#000000;\" x=\"203.470127\" xlink:href=\"#me4f8817c46\" y=\"365.178647\"/>\n     <use style=\"stroke:#000000;\" x=\"206.677058\" xlink:href=\"#me4f8817c46\" y=\"365.177501\"/>\n     <use style=\"stroke:#000000;\" x=\"209.883989\" xlink:href=\"#me4f8817c46\" y=\"365.176927\"/>\n     <use style=\"stroke:#000000;\" x=\"213.09092\" xlink:href=\"#me4f8817c46\" y=\"365.175208\"/>\n     <use style=\"stroke:#000000;\" x=\"216.297851\" xlink:href=\"#me4f8817c46\" y=\"365.172342\"/>\n     <use style=\"stroke:#000000;\" x=\"219.504783\" xlink:href=\"#me4f8817c46\" y=\"365.167184\"/>\n     <use style=\"stroke:#000000;\" x=\"222.711714\" xlink:href=\"#me4f8817c46\" y=\"365.158587\"/>\n     <use style=\"stroke:#000000;\" x=\"225.918645\" xlink:href=\"#me4f8817c46\" y=\"365.154002\"/>\n     <use style=\"stroke:#000000;\" x=\"229.125576\" xlink:href=\"#me4f8817c46\" y=\"365.148271\"/>\n     <use style=\"stroke:#000000;\" x=\"232.332507\" xlink:href=\"#me4f8817c46\" y=\"365.14254\"/>\n     <use style=\"stroke:#000000;\" x=\"235.539438\" xlink:href=\"#me4f8817c46\" y=\"365.136235\"/>\n     <use style=\"stroke:#000000;\" x=\"238.74637\" xlink:href=\"#me4f8817c46\" y=\"365.130504\"/>\n     <use style=\"stroke:#000000;\" x=\"241.953301\" xlink:href=\"#me4f8817c46\" y=\"365.12248\"/>\n     <use style=\"stroke:#000000;\" x=\"245.160232\" xlink:href=\"#me4f8817c46\" y=\"365.111017\"/>\n     <use style=\"stroke:#000000;\" x=\"248.367163\" xlink:href=\"#me4f8817c46\" y=\"365.096689\"/>\n     <use style=\"stroke:#000000;\" x=\"251.574094\" xlink:href=\"#me4f8817c46\" y=\"365.081215\"/>\n     <use style=\"stroke:#000000;\" x=\"254.781026\" xlink:href=\"#me4f8817c46\" y=\"365.047973\"/>\n     <use style=\"stroke:#000000;\" x=\"257.987957\" xlink:href=\"#me4f8817c46\" y=\"365.003269\"/>\n     <use style=\"stroke:#000000;\" x=\"261.194888\" xlink:href=\"#me4f8817c46\" y=\"364.963723\"/>\n     <use style=\"stroke:#000000;\" x=\"264.401819\" xlink:href=\"#me4f8817c46\" y=\"364.909849\"/>\n     <use style=\"stroke:#000000;\" x=\"267.60875\" xlink:href=\"#me4f8817c46\" y=\"364.867437\"/>\n     <use style=\"stroke:#000000;\" x=\"270.815682\" xlink:href=\"#me4f8817c46\" y=\"364.818148\"/>\n     <use style=\"stroke:#000000;\" x=\"274.022613\" xlink:href=\"#me4f8817c46\" y=\"364.776309\"/>\n     <use style=\"stroke:#000000;\" x=\"277.229544\" xlink:href=\"#me4f8817c46\" y=\"364.68862\"/>\n     <use style=\"stroke:#000000;\" x=\"280.436475\" xlink:href=\"#me4f8817c46\" y=\"364.610675\"/>\n     <use style=\"stroke:#000000;\" x=\"283.643406\" xlink:href=\"#me4f8817c46\" y=\"364.541899\"/>\n     <use style=\"stroke:#000000;\" x=\"286.850338\" xlink:href=\"#me4f8817c46\" y=\"364.434723\"/>\n     <use style=\"stroke:#000000;\" x=\"290.057269\" xlink:href=\"#me4f8817c46\" y=\"364.257626\"/>\n     <use style=\"stroke:#000000;\" x=\"293.2642\" xlink:href=\"#me4f8817c46\" y=\"364.014619\"/>\n     <use style=\"stroke:#000000;\" x=\"296.471131\" xlink:href=\"#me4f8817c46\" y=\"363.736077\"/>\n     <use style=\"stroke:#000000;\" x=\"299.678062\" xlink:href=\"#me4f8817c46\" y=\"363.415124\"/>\n     <use style=\"stroke:#000000;\" x=\"302.884994\" xlink:href=\"#me4f8817c46\" y=\"363.083282\"/>\n     <use style=\"stroke:#000000;\" x=\"306.091925\" xlink:href=\"#me4f8817c46\" y=\"362.734246\"/>\n     <use style=\"stroke:#000000;\" x=\"309.298856\" xlink:href=\"#me4f8817c46\" y=\"362.45685\"/>\n     <use style=\"stroke:#000000;\" x=\"312.505787\" xlink:href=\"#me4f8817c46\" y=\"362.128447\"/>\n     <use style=\"stroke:#000000;\" x=\"315.712718\" xlink:href=\"#me4f8817c46\" y=\"361.804628\"/>\n     <use style=\"stroke:#000000;\" x=\"318.919649\" xlink:href=\"#me4f8817c46\" y=\"361.338673\"/>\n     <use style=\"stroke:#000000;\" x=\"322.126581\" xlink:href=\"#me4f8817c46\" y=\"360.839476\"/>\n     <use style=\"stroke:#000000;\" x=\"325.333512\" xlink:href=\"#me4f8817c46\" y=\"360.350023\"/>\n     <use style=\"stroke:#000000;\" x=\"328.540443\" xlink:href=\"#me4f8817c46\" y=\"359.91559\"/>\n     <use style=\"stroke:#000000;\" x=\"331.747374\" xlink:href=\"#me4f8817c46\" y=\"359.203189\"/>\n     <use style=\"stroke:#000000;\" x=\"334.954305\" xlink:href=\"#me4f8817c46\" y=\"358.612291\"/>\n     <use style=\"stroke:#000000;\" x=\"338.161237\" xlink:href=\"#me4f8817c46\" y=\"358.104498\"/>\n     <use style=\"stroke:#000000;\" x=\"341.368168\" xlink:href=\"#me4f8817c46\" y=\"357.496407\"/>\n     <use style=\"stroke:#000000;\" x=\"344.575099\" xlink:href=\"#me4f8817c46\" y=\"356.96798\"/>\n     <use style=\"stroke:#000000;\" x=\"347.78203\" xlink:href=\"#me4f8817c46\" y=\"356.182218\"/>\n     <use style=\"stroke:#000000;\" x=\"350.988961\" xlink:href=\"#me4f8817c46\" y=\"355.276672\"/>\n     <use style=\"stroke:#000000;\" x=\"354.195893\" xlink:href=\"#me4f8817c46\" y=\"354.566564\"/>\n     <use style=\"stroke:#000000;\" x=\"357.402824\" xlink:href=\"#me4f8817c46\" y=\"353.685662\"/>\n     <use style=\"stroke:#000000;\" x=\"360.609755\" xlink:href=\"#me4f8817c46\" y=\"352.945178\"/>\n     <use style=\"stroke:#000000;\" x=\"363.816686\" xlink:href=\"#me4f8817c46\" y=\"351.989769\"/>\n     <use style=\"stroke:#000000;\" x=\"367.023617\" xlink:href=\"#me4f8817c46\" y=\"351.182802\"/>\n     <use style=\"stroke:#000000;\" x=\"370.230549\" xlink:href=\"#me4f8817c46\" y=\"350.131107\"/>\n     <use style=\"stroke:#000000;\" x=\"373.43748\" xlink:href=\"#me4f8817c46\" y=\"349.210087\"/>\n     <use style=\"stroke:#000000;\" x=\"376.644411\" xlink:href=\"#me4f8817c46\" y=\"348.311418\"/>\n     <use style=\"stroke:#000000;\" x=\"379.851342\" xlink:href=\"#me4f8817c46\" y=\"347.221324\"/>\n     <use style=\"stroke:#000000;\" x=\"383.058273\" xlink:href=\"#me4f8817c46\" y=\"346.244137\"/>\n     <use style=\"stroke:#000000;\" x=\"386.265205\" xlink:href=\"#me4f8817c46\" y=\"345.211929\"/>\n     <use style=\"stroke:#000000;\" x=\"389.472136\" xlink:href=\"#me4f8817c46\" y=\"343.838708\"/>\n     <use style=\"stroke:#000000;\" x=\"392.679067\" xlink:href=\"#me4f8817c46\" y=\"342.369202\"/>\n     <use style=\"stroke:#000000;\" x=\"395.885998\" xlink:href=\"#me4f8817c46\" y=\"340.677321\"/>\n     <use style=\"stroke:#000000;\" x=\"399.092929\" xlink:href=\"#me4f8817c46\" y=\"338.581956\"/>\n     <use style=\"stroke:#000000;\" x=\"402.29986\" xlink:href=\"#me4f8817c46\" y=\"336.879186\"/>\n     <use style=\"stroke:#000000;\" x=\"405.506792\" xlink:href=\"#me4f8817c46\" y=\"334.81477\"/>\n     <use style=\"stroke:#000000;\" x=\"408.713723\" xlink:href=\"#me4f8817c46\" y=\"332.898222\"/>\n     <use style=\"stroke:#000000;\" x=\"411.920654\" xlink:href=\"#me4f8817c46\" y=\"330.984539\"/>\n     <use style=\"stroke:#000000;\" x=\"415.127585\" xlink:href=\"#me4f8817c46\" y=\"329.16485\"/>\n     <use style=\"stroke:#000000;\" x=\"418.334516\" xlink:href=\"#me4f8817c46\" y=\"326.694085\"/>\n     <use style=\"stroke:#000000;\" x=\"421.541448\" xlink:href=\"#me4f8817c46\" y=\"324.6354\"/>\n     <use style=\"stroke:#000000;\" x=\"424.748379\" xlink:href=\"#me4f8817c46\" y=\"322.59391\"/>\n     <use style=\"stroke:#000000;\" x=\"427.95531\" xlink:href=\"#me4f8817c46\" y=\"320.458426\"/>\n     <use style=\"stroke:#000000;\" x=\"431.162241\" xlink:href=\"#me4f8817c46\" y=\"318.171062\"/>\n     <use style=\"stroke:#000000;\" x=\"434.369172\" xlink:href=\"#me4f8817c46\" y=\"315.988582\"/>\n     <use style=\"stroke:#000000;\" x=\"437.576104\" xlink:href=\"#me4f8817c46\" y=\"313.240994\"/>\n     <use style=\"stroke:#000000;\" x=\"440.783035\" xlink:href=\"#me4f8817c46\" y=\"310.347259\"/>\n     <use style=\"stroke:#000000;\" x=\"443.989966\" xlink:href=\"#me4f8817c46\" y=\"307.694811\"/>\n     <use style=\"stroke:#000000;\" x=\"447.196897\" xlink:href=\"#me4f8817c46\" y=\"304.167767\"/>\n     <use style=\"stroke:#000000;\" x=\"450.403828\" xlink:href=\"#me4f8817c46\" y=\"300.889461\"/>\n     <use style=\"stroke:#000000;\" x=\"453.61076\" xlink:href=\"#me4f8817c46\" y=\"297.437496\"/>\n     <use style=\"stroke:#000000;\" x=\"456.817691\" xlink:href=\"#me4f8817c46\" y=\"293.691515\"/>\n     <use style=\"stroke:#000000;\" x=\"460.024622\" xlink:href=\"#me4f8817c46\" y=\"289.871601\"/>\n     <use style=\"stroke:#000000;\" x=\"463.231553\" xlink:href=\"#me4f8817c46\" y=\"285.794924\"/>\n     <use style=\"stroke:#000000;\" x=\"466.438484\" xlink:href=\"#me4f8817c46\" y=\"282.118866\"/>\n     <use style=\"stroke:#000000;\" x=\"469.645416\" xlink:href=\"#me4f8817c46\" y=\"278.733384\"/>\n     <use style=\"stroke:#000000;\" x=\"472.852347\" xlink:href=\"#me4f8817c46\" y=\"274.580481\"/>\n     <use style=\"stroke:#000000;\" x=\"476.059278\" xlink:href=\"#me4f8817c46\" y=\"270.422993\"/>\n     <use style=\"stroke:#000000;\" x=\"479.266209\" xlink:href=\"#me4f8817c46\" y=\"265.758858\"/>\n     <use style=\"stroke:#000000;\" x=\"482.47314\" xlink:href=\"#me4f8817c46\" y=\"260.965195\"/>\n     <use style=\"stroke:#000000;\" x=\"485.680071\" xlink:href=\"#me4f8817c46\" y=\"255.927952\"/>\n     <use style=\"stroke:#000000;\" x=\"488.887003\" xlink:href=\"#me4f8817c46\" y=\"251.501665\"/>\n     <use style=\"stroke:#000000;\" x=\"492.093934\" xlink:href=\"#me4f8817c46\" y=\"246.449521\"/>\n     <use style=\"stroke:#000000;\" x=\"495.300865\" xlink:href=\"#me4f8817c46\" y=\"240.89646\"/>\n     <use style=\"stroke:#000000;\" x=\"498.507796\" xlink:href=\"#me4f8817c46\" y=\"235.252845\"/>\n     <use style=\"stroke:#000000;\" x=\"501.714727\" xlink:href=\"#me4f8817c46\" y=\"229.824153\"/>\n     <use style=\"stroke:#000000;\" x=\"504.921659\" xlink:href=\"#me4f8817c46\" y=\"223.859012\"/>\n     <use style=\"stroke:#000000;\" x=\"508.12859\" xlink:href=\"#me4f8817c46\" y=\"217.622206\"/>\n    </g>\n   </g>\n   <g id=\"line2d_30\">\n    <path clip-path=\"url(#pa2cdd010b0)\" d=\"M 94.434466 367.103546 \nL 100.848328 365.974288 \nL 104.05526 365.151343 \nL 107.262191 364.801369 \nL 110.469122 364.037644 \nL 113.676053 363.602726 \nL 116.882984 363.449995 \nL 123.296847 363.97776 \nL 126.503778 363.94477 \nL 129.710709 364.35596 \nL 132.91764 364.35562 \nL 139.331503 364.975608 \nL 142.538434 365.491613 \nL 145.745365 365.782665 \nL 148.952296 365.753689 \nL 152.159228 366.232857 \nL 164.986952 366.516243 \nL 171.400815 366.168999 \nL 174.607746 366.672638 \nL 181.021608 366.891406 \nL 184.228539 366.585113 \nL 187.435471 366.16684 \nL 193.849333 365.06177 \nL 197.056264 365.193485 \nL 200.263195 364.799716 \nL 203.470127 364.24004 \nL 206.677058 363.414214 \nL 209.883989 362.85961 \nL 213.09092 362.662977 \nL 216.297851 362.708026 \nL 219.504783 363.580043 \nL 222.711714 363.897333 \nL 225.918645 363.996716 \nL 229.125576 363.824659 \nL 232.332507 363.907272 \nL 238.74637 364.639428 \nL 241.953301 365.633591 \nL 245.160232 365.953035 \nL 248.367163 366.0852 \nL 251.574094 365.999631 \nL 257.987957 366.164066 \nL 261.194888 366.07858 \nL 264.401819 366.47232 \nL 274.022613 366.092146 \nL 277.229544 366.044851 \nL 280.436475 365.786557 \nL 283.643406 365.218539 \nL 286.850338 365.13791 \nL 296.471131 363.60219 \nL 299.678062 362.949508 \nL 306.091925 361.152959 \nL 312.505787 360.752201 \nL 315.712718 360.907959 \nL 318.919649 360.918472 \nL 322.126581 360.408932 \nL 328.540443 358.843303 \nL 331.747374 358.924997 \nL 338.161237 358.366329 \nL 341.368168 357.78424 \nL 344.575099 357.056998 \nL 350.988961 355.159612 \nL 354.195893 354.905757 \nL 357.402824 354.192101 \nL 360.609755 353.357335 \nL 367.023617 351.125499 \nL 373.43748 349.030682 \nL 376.644411 348.546007 \nL 379.851342 347.406205 \nL 383.058273 346.073138 \nL 386.265205 344.494663 \nL 392.679067 341.641141 \nL 395.885998 340.052961 \nL 399.092929 338.919939 \nL 402.29986 337.011205 \nL 405.506792 335.292406 \nL 408.713723 333.813401 \nL 411.920654 332.860445 \nL 415.127585 331.295937 \nL 418.334516 329.542394 \nL 421.541448 328.192008 \nL 424.748379 326.302607 \nL 431.162241 319.179346 \nL 437.576104 312.609407 \nL 440.783035 308.956001 \nL 443.989966 305.736384 \nL 456.817691 290.946755 \nL 463.231553 282.886742 \nL 466.438484 279.452338 \nL 472.852347 271.929727 \nL 479.266209 263.640523 \nL 485.680071 254.733088 \nL 488.887003 250.962078 \nL 495.300865 242.388191 \nL 501.714727 233.128751 \nL 504.921659 228.817777 \nL 508.12859 224.887047 \nL 511.335521 221.926244 \nL 514.542452 218.552562 \nL 517.749383 214.989129 \nL 524.163246 207.254237 \nL 527.370177 203.644203 \nL 530.577108 200.220171 \nL 533.784039 197.497957 \nL 536.990971 194.164978 \nL 540.197902 190.605559 \nL 546.611764 183.007856 \nL 553.025627 175.491527 \nL 556.232558 172.18724 \nL 572.267214 152.665981 \nL 575.474145 148.435898 \nL 578.681076 144.633615 \nL 591.508801 127.38311 \nL 597.922663 118.051972 \nL 604.336526 110.146902 \nL 613.957319 99.596176 \nL 617.16425 95.783204 \nL 620.371182 91.796907 \nL 629.991975 82.110258 \nL 636.405837 75.205639 \nL 642.8197 67.525697 \nL 646.026631 64.339874 \nL 652.440493 57.103228 \nL 662.061287 45.141462 \nL 662.061287 45.141462 \n\" style=\"fill:none;stroke:#0072b2;stroke-linecap:square;stroke-width:1.5;\"/>\n   </g>\n   <g id=\"line2d_31\">\n    <path clip-path=\"url(#pa2cdd010b0)\" d=\"M 94.434466 366.727139 \nL 161.780021 364.732714 \nL 216.297851 365.475398 \nL 306.091925 363.831125 \nL 318.919649 362.655315 \nL 331.747374 359.833143 \nL 370.230549 348.600072 \nL 399.092929 340.098808 \nL 411.920654 335.336015 \nL 424.748379 327.597278 \nL 662.061287 43.677275 \nL 662.061287 43.677275 \n\" style=\"fill:none;stroke:#ff0000;stroke-linecap:square;stroke-width:1.5;\"/>\n   </g>\n   <g id=\"line2d_32\">\n    <path clip-path=\"url(#pa2cdd010b0)\" d=\"M 161.780021 386.6 \nL 161.780021 7.2 \n\" style=\"fill:none;stroke:#ff0000;stroke-dasharray:5.55,2.4;stroke-dashoffset:0;stroke-width:1.5;\"/>\n   </g>\n   <g id=\"line2d_33\">\n    <path clip-path=\"url(#pa2cdd010b0)\" d=\"M 213.09092 386.6 \nL 213.09092 7.2 \n\" style=\"fill:none;stroke:#ff0000;stroke-dasharray:5.55,2.4;stroke-dashoffset:0;stroke-width:1.5;\"/>\n   </g>\n   <g id=\"line2d_34\">\n    <path clip-path=\"url(#pa2cdd010b0)\" d=\"M 306.091925 386.6 \nL 306.091925 7.2 \n\" style=\"fill:none;stroke:#ff0000;stroke-dasharray:5.55,2.4;stroke-dashoffset:0;stroke-width:1.5;\"/>\n   </g>\n   <g id=\"line2d_35\">\n    <path clip-path=\"url(#pa2cdd010b0)\" d=\"M 318.919649 386.6 \nL 318.919649 7.2 \n\" style=\"fill:none;stroke:#ff0000;stroke-dasharray:5.55,2.4;stroke-dashoffset:0;stroke-width:1.5;\"/>\n   </g>\n   <g id=\"line2d_36\">\n    <path clip-path=\"url(#pa2cdd010b0)\" d=\"M 331.747374 386.6 \nL 331.747374 7.2 \n\" style=\"fill:none;stroke:#ff0000;stroke-dasharray:5.55,2.4;stroke-dashoffset:0;stroke-width:1.5;\"/>\n   </g>\n   <g id=\"line2d_37\">\n    <path clip-path=\"url(#pa2cdd010b0)\" d=\"M 344.575099 386.6 \nL 344.575099 7.2 \n\" style=\"fill:none;stroke:#ff0000;stroke-dasharray:5.55,2.4;stroke-dashoffset:0;stroke-width:1.5;\"/>\n   </g>\n   <g id=\"line2d_38\">\n    <path clip-path=\"url(#pa2cdd010b0)\" d=\"M 399.092929 386.6 \nL 399.092929 7.2 \n\" style=\"fill:none;stroke:#ff0000;stroke-dasharray:5.55,2.4;stroke-dashoffset:0;stroke-width:1.5;\"/>\n   </g>\n   <g id=\"line2d_39\">\n    <path clip-path=\"url(#pa2cdd010b0)\" d=\"M 411.920654 386.6 \nL 411.920654 7.2 \n\" style=\"fill:none;stroke:#ff0000;stroke-dasharray:5.55,2.4;stroke-dashoffset:0;stroke-width:1.5;\"/>\n   </g>\n   <g id=\"line2d_40\">\n    <path clip-path=\"url(#pa2cdd010b0)\" d=\"M 424.748379 386.6 \nL 424.748379 7.2 \n\" style=\"fill:none;stroke:#ff0000;stroke-dasharray:5.55,2.4;stroke-dashoffset:0;stroke-width:1.5;\"/>\n   </g>\n   <g id=\"patch_3\">\n    <path d=\"M 66.053125 386.6 \nL 66.053125 7.2 \n\" style=\"fill:none;stroke:#000000;stroke-linecap:square;stroke-linejoin:miter;stroke-width:0.8;\"/>\n   </g>\n   <g id=\"patch_4\">\n    <path d=\"M 690.442628 386.6 \nL 690.442628 7.2 \n\" style=\"fill:none;stroke:#000000;stroke-linecap:square;stroke-linejoin:miter;stroke-width:0.8;\"/>\n   </g>\n   <g id=\"patch_5\">\n    <path d=\"M 66.053125 386.6 \nL 690.442628 386.6 \n\" style=\"fill:none;stroke:#000000;stroke-linecap:square;stroke-linejoin:miter;stroke-width:0.8;\"/>\n   </g>\n   <g id=\"patch_6\">\n    <path d=\"M 66.053125 7.2 \nL 690.442628 7.2 \n\" style=\"fill:none;stroke:#000000;stroke-linecap:square;stroke-linejoin:miter;stroke-width:0.8;\"/>\n   </g>\n  </g>\n </g>\n <defs>\n  <clipPath id=\"pa2cdd010b0\">\n   <rect height=\"379.4\" width=\"624.389503\" x=\"66.053125\" y=\"7.2\"/>\n  </clipPath>\n </defs>\n</svg>\n",
      "image/png": "[encoded data removed]"
     },
     "metadata": {}
    }
   ],
   "source": [
    "fig=m.plot(prediction)\n",
    "c=add_changepoints_to_plot(fig.gca(),m,prediction)"
   ]
  },
  {
   "cell_type": "markdown",
   "metadata": {},
   "source": [
    "Model validation"
   ]
  },
  {
   "cell_type": "code",
   "execution_count": 27,
   "metadata": {},
   "outputs": [
    {
     "output_type": "execute_result",
     "data": {
      "text/plain": "            ds           yhat   y\n173 2020-07-21  531186.763147 NaN\n174 2020-07-22  537559.081763 NaN\n175 2020-07-23  544513.268772 NaN\n176 2020-07-24  551459.668729 NaN\n177 2020-07-25  558430.014958 NaN",
      "text/html": "<div>\n<style scoped>\n    .dataframe tbody tr th:only-of-type {\n        vertical-align: middle;\n    }\n\n    .dataframe tbody tr th {\n        vertical-align: top;\n    }\n\n    .dataframe thead th {\n        text-align: right;\n    }\n</style>\n<table border=\"1\" class=\"dataframe\">\n  <thead>\n    <tr style=\"text-align: right;\">\n      <th></th>\n      <th>ds</th>\n      <th>yhat</th>\n      <th>y</th>\n    </tr>\n  </thead>\n  <tbody>\n    <tr>\n      <th>173</th>\n      <td>2020-07-21</td>\n      <td>531186.763147</td>\n      <td>NaN</td>\n    </tr>\n    <tr>\n      <th>174</th>\n      <td>2020-07-22</td>\n      <td>537559.081763</td>\n      <td>NaN</td>\n    </tr>\n    <tr>\n      <th>175</th>\n      <td>2020-07-23</td>\n      <td>544513.268772</td>\n      <td>NaN</td>\n    </tr>\n    <tr>\n      <th>176</th>\n      <td>2020-07-24</td>\n      <td>551459.668729</td>\n      <td>NaN</td>\n    </tr>\n    <tr>\n      <th>177</th>\n      <td>2020-07-25</td>\n      <td>558430.014958</td>\n      <td>NaN</td>\n    </tr>\n  </tbody>\n</table>\n</div>"
     },
     "metadata": {},
     "execution_count": 27
    }
   ],
   "source": [
    "df_new = prediction.set_index('ds')[['yhat']].join(df_2.set_index('ds').y).reset_index()\n",
    "df_new.tail()\n"
   ]
  },
  {
   "cell_type": "code",
   "execution_count": 28,
   "metadata": {},
   "outputs": [
    {
     "output_type": "execute_result",
     "data": {
      "text/plain": "            ds           yhat         y\n161 2020-07-09  457272.741087  794847.0\n162 2020-07-10  463417.235767  822609.0\n163 2020-07-11  470070.123186  850366.0\n164 2020-07-12  477025.428605  879472.0\n165 2020-07-13  482594.576240  907650.0",
      "text/html": "<div>\n<style scoped>\n    .dataframe tbody tr th:only-of-type {\n        vertical-align: middle;\n    }\n\n    .dataframe tbody tr th {\n        vertical-align: top;\n    }\n\n    .dataframe thead th {\n        text-align: right;\n    }\n</style>\n<table border=\"1\" class=\"dataframe\">\n  <thead>\n    <tr style=\"text-align: right;\">\n      <th></th>\n      <th>ds</th>\n      <th>yhat</th>\n      <th>y</th>\n    </tr>\n  </thead>\n  <tbody>\n    <tr>\n      <th>161</th>\n      <td>2020-07-09</td>\n      <td>457272.741087</td>\n      <td>794847.0</td>\n    </tr>\n    <tr>\n      <th>162</th>\n      <td>2020-07-10</td>\n      <td>463417.235767</td>\n      <td>822609.0</td>\n    </tr>\n    <tr>\n      <th>163</th>\n      <td>2020-07-11</td>\n      <td>470070.123186</td>\n      <td>850366.0</td>\n    </tr>\n    <tr>\n      <th>164</th>\n      <td>2020-07-12</td>\n      <td>477025.428605</td>\n      <td>879472.0</td>\n    </tr>\n    <tr>\n      <th>165</th>\n      <td>2020-07-13</td>\n      <td>482594.576240</td>\n      <td>907650.0</td>\n    </tr>\n  </tbody>\n</table>\n</div>"
     },
     "metadata": {},
     "execution_count": 28
    }
   ],
   "source": [
    "df_new.dropna(inplace=True)\n",
    "df_new.tail()"
   ]
  },
  {
   "cell_type": "code",
   "execution_count": 29,
   "metadata": {},
   "outputs": [
    {
     "output_type": "execute_result",
     "data": {
      "text/plain": "0.8233462941151735"
     },
     "metadata": {},
     "execution_count": 29
    }
   ],
   "source": [
    "r2_score(df_new.y, df_new.yhat)"
   ]
  },
  {
   "cell_type": "markdown",
   "metadata": {},
   "source": [
    "Model accuracy as 82.33 percent"
   ]
  },
  {
   "cell_type": "markdown",
   "metadata": {},
   "source": [
    "Comparing the confirmed cases to the number of hospital beds available state wise"
   ]
  },
  {
   "cell_type": "code",
   "execution_count": 30,
   "metadata": {},
   "outputs": [
    {
     "output_type": "execute_result",
     "data": {
      "text/plain": "    Sno                                     State  \\\n0     1                 Andaman & Nicobar Islands   \n1     2                            Andhra Pradesh   \n2     3                         Arunachal Pradesh   \n3     4                                     Assam   \n4     5                                     Bihar   \n5     6                                Chandigarh   \n6     7                              Chhattisgarh   \n7     8  Dadra and Nagar Haveli and Daman and Diu   \n8    10                                     Delhi   \n9    11                                       Goa   \n10   12                                   Gujarat   \n11   13                                   Haryana   \n12   14                          Himachal Pradesh   \n13   15                           Jammu & Kashmir   \n14   16                                 Jharkhand   \n15   17                                 Karnataka   \n16   18                                    Kerala   \n17   19                               Lakshadweep   \n18   20                            Madhya Pradesh   \n19   21                               Maharashtra   \n20   22                                   Manipur   \n21   23                                 Meghalaya   \n22   24                                   Mizoram   \n23   25                                  Nagaland   \n24   26                                    Odisha   \n25   27                                Puducherry   \n26   28                                    Punjab   \n27   29                                 Rajasthan   \n28   30                                    Sikkim   \n29   31                                Tamil Nadu   \n30   32                                 Telangana   \n31   33                                   Tripura   \n32   34                             Uttar Pradesh   \n33   35                               Uttarakhand   \n34   36                               West Bengal   \n\n    NumPrimaryHealthCenters_HMIS  NumCommunityHealthCenters_HMIS  \\\n0                             27                               4   \n1                           1417                             198   \n2                            122                              62   \n3                           1007                             166   \n4                           2007                              63   \n5                             40                               2   \n6                            813                             166   \n7                             13                               4   \n8                            534                              25   \n9                             31                               4   \n10                          1770                             385   \n11                           500                             131   \n12                           516                              79   \n13                           702                              87   \n14                           343                             179   \n15                          2547                             207   \n16                           933                             229   \n17                             4                               3   \n18                          1420                             324   \n19                          2638                             430   \n20                            87                              17   \n21                           138                              29   \n22                            65                              10   \n23                           134                              21   \n24                          1360                             377   \n25                            40                               4   \n26                           521                             146   \n27                          2463                             579   \n28                            25                               2   \n29                          1854                             385   \n30                           788                              82   \n31                           114                              22   \n32                          3277                             671   \n33                           275                              69   \n34                          1374                             406   \n\n    NumSubDistrictHospitals_HMIS  NumDistrictHospitals_HMIS  \\\n0                            NaN                          3   \n1                           31.0                         20   \n2                            NaN                         15   \n3                           14.0                         33   \n4                           33.0                         43   \n5                            1.0                          4   \n6                           12.0                         32   \n7                            1.0                          3   \n8                            9.0                         47   \n9                            2.0                          3   \n10                          44.0                         37   \n11                          24.0                         28   \n12                          61.0                         15   \n13                           NaN                         29   \n14                          13.0                         23   \n15                         147.0                         42   \n16                          82.0                         53   \n17                           2.0                          1   \n18                          72.0                         51   \n19                         101.0                         70   \n20                           1.0                          9   \n21                           NaN                         13   \n22                           3.0                          9   \n23                           NaN                         11   \n24                          27.0                         35   \n25                           5.0                          4   \n26                          47.0                         28   \n27                          64.0                         33   \n28                           1.0                          4   \n29                         310.0                         32   \n30                          47.0                         15   \n31                          12.0                          9   \n32                           NaN                        174   \n33                          19.0                         20   \n34                          70.0                         55   \n\n    TotalPublicHealthFacilities_HMIS  NumPublicBeds_HMIS  \\\n0                                 34                1246   \n1                               1666               60799   \n2                                199                2320   \n3                               1220               19115   \n4                               2146               17796   \n5                                 47                3756   \n6                               1023               14354   \n7                                 21                 866   \n8                                615               20572   \n9                                 40                2666   \n10                              2236               41129   \n11                               683               13841   \n12                               671                8706   \n13                               818               11342   \n14                               558                7404   \n15                              2943               56333   \n16                              1297               39511   \n17                                10                 250   \n18                              1867               38140   \n19                              3239               68998   \n20                               114                2562   \n21                               180                4585   \n22                                87                2312   \n23                               166                1944   \n24                              1799               16497   \n25                                53                4462   \n26                               742               13527   \n27                              3139               51844   \n28                                32                1145   \n29                              2581               72616   \n30                               932               17358   \n31                               157                4895   \n32                              4122               58310   \n33                               383                6660   \n34                              1905               51163   \n\n    NumRuralHospitals_NHP18  NumRuralBeds_NHP18  NumUrbanHospitals_NHP18  \\\n0                        27                 575                        3   \n1                       193                6480                       65   \n2                       208                2136                       10   \n3                      1176               10944                       50   \n4                       930                6083                      103   \n5                         0                   0                        4   \n6                       169                5070                       45   \n7                        15                 513                        1   \n8                         0                   0                      109   \n9                        17                1405                       25   \n10                      364               11715                      122   \n11                      609                6690                       59   \n12                      705                5665                       96   \n13                       56                7234                       76   \n14                      519                5842                       36   \n15                     2471               21072                      374   \n16                      981               16865                      299   \n17                        9                 300                        0   \n18                      334               10020                      117   \n19                      273               12398                      438   \n20                       23                 730                        7   \n21                      143                1970                       14   \n22                       56                 604                       34   \n23                       21                 630                       15   \n24                     1655                6339                      149   \n25                        3                  96                       11   \n26                      510                5805                      172   \n27                      602               21088                      150   \n28                       24                 260                        9   \n29                      692               40179                      525   \n30                      802                7668                       61   \n31                       99                1140                       56   \n32                     4442               39104                      193   \n33                      410                3284                       50   \n34                     1272               19684                      294   \n\n    NumUrbanBeds_NHP18  Total Beds  \n0                  500        2419  \n1                16658       87527  \n2                  268        5340  \n3                 6198       39923  \n4                 5936       35140  \n5                  778        4632  \n6                 4342       26026  \n7                  316        1753  \n8                24383       46294  \n9                 1608        5801  \n10               20565       78367  \n11                4550       27115  \n12                6734       23248  \n13                4417       24761  \n14                4942       19859  \n15               49093      135229  \n16               21139       81389  \n17                   0         579  \n18               18819       71164  \n19               39048      127633  \n20                 697        4247  \n21                2487        9559  \n22                1393        4573  \n23                1250        4192  \n24               12180       40418  \n25                3473        8151  \n26               12128       33626  \n27               10760       90722  \n28                1300        2802  \n29               37353      156527  \n30               13315       41068  \n31                3277        9781  \n32               37156      147449  \n33                5228       16398  \n34               58882      135105  ",
      "text/html": "<div>\n<style scoped>\n    .dataframe tbody tr th:only-of-type {\n        vertical-align: middle;\n    }\n\n    .dataframe tbody tr th {\n        vertical-align: top;\n    }\n\n    .dataframe thead th {\n        text-align: right;\n    }\n</style>\n<table border=\"1\" class=\"dataframe\">\n  <thead>\n    <tr style=\"text-align: right;\">\n      <th></th>\n      <th>Sno</th>\n      <th>State</th>\n      <th>NumPrimaryHealthCenters_HMIS</th>\n      <th>NumCommunityHealthCenters_HMIS</th>\n      <th>NumSubDistrictHospitals_HMIS</th>\n      <th>NumDistrictHospitals_HMIS</th>\n      <th>TotalPublicHealthFacilities_HMIS</th>\n      <th>NumPublicBeds_HMIS</th>\n      <th>NumRuralHospitals_NHP18</th>\n      <th>NumRuralBeds_NHP18</th>\n      <th>NumUrbanHospitals_NHP18</th>\n      <th>NumUrbanBeds_NHP18</th>\n      <th>Total Beds</th>\n    </tr>\n  </thead>\n  <tbody>\n    <tr>\n      <th>0</th>\n      <td>1</td>\n      <td>Andaman &amp; Nicobar Islands</td>\n      <td>27</td>\n      <td>4</td>\n      <td>NaN</td>\n      <td>3</td>\n      <td>34</td>\n      <td>1246</td>\n      <td>27</td>\n      <td>575</td>\n      <td>3</td>\n      <td>500</td>\n      <td>2419</td>\n    </tr>\n    <tr>\n      <th>1</th>\n      <td>2</td>\n      <td>Andhra Pradesh</td>\n      <td>1417</td>\n      <td>198</td>\n      <td>31.0</td>\n      <td>20</td>\n      <td>1666</td>\n      <td>60799</td>\n      <td>193</td>\n      <td>6480</td>\n      <td>65</td>\n      <td>16658</td>\n      <td>87527</td>\n    </tr>\n    <tr>\n      <th>2</th>\n      <td>3</td>\n      <td>Arunachal Pradesh</td>\n      <td>122</td>\n      <td>62</td>\n      <td>NaN</td>\n      <td>15</td>\n      <td>199</td>\n      <td>2320</td>\n      <td>208</td>\n      <td>2136</td>\n      <td>10</td>\n      <td>268</td>\n      <td>5340</td>\n    </tr>\n    <tr>\n      <th>3</th>\n      <td>4</td>\n      <td>Assam</td>\n      <td>1007</td>\n      <td>166</td>\n      <td>14.0</td>\n      <td>33</td>\n      <td>1220</td>\n      <td>19115</td>\n      <td>1176</td>\n      <td>10944</td>\n      <td>50</td>\n      <td>6198</td>\n      <td>39923</td>\n    </tr>\n    <tr>\n      <th>4</th>\n      <td>5</td>\n      <td>Bihar</td>\n      <td>2007</td>\n      <td>63</td>\n      <td>33.0</td>\n      <td>43</td>\n      <td>2146</td>\n      <td>17796</td>\n      <td>930</td>\n      <td>6083</td>\n      <td>103</td>\n      <td>5936</td>\n      <td>35140</td>\n    </tr>\n    <tr>\n      <th>5</th>\n      <td>6</td>\n      <td>Chandigarh</td>\n      <td>40</td>\n      <td>2</td>\n      <td>1.0</td>\n      <td>4</td>\n      <td>47</td>\n      <td>3756</td>\n      <td>0</td>\n      <td>0</td>\n      <td>4</td>\n      <td>778</td>\n      <td>4632</td>\n    </tr>\n    <tr>\n      <th>6</th>\n      <td>7</td>\n      <td>Chhattisgarh</td>\n      <td>813</td>\n      <td>166</td>\n      <td>12.0</td>\n      <td>32</td>\n      <td>1023</td>\n      <td>14354</td>\n      <td>169</td>\n      <td>5070</td>\n      <td>45</td>\n      <td>4342</td>\n      <td>26026</td>\n    </tr>\n    <tr>\n      <th>7</th>\n      <td>8</td>\n      <td>Dadra and Nagar Haveli and Daman and Diu</td>\n      <td>13</td>\n      <td>4</td>\n      <td>1.0</td>\n      <td>3</td>\n      <td>21</td>\n      <td>866</td>\n      <td>15</td>\n      <td>513</td>\n      <td>1</td>\n      <td>316</td>\n      <td>1753</td>\n    </tr>\n    <tr>\n      <th>8</th>\n      <td>10</td>\n      <td>Delhi</td>\n      <td>534</td>\n      <td>25</td>\n      <td>9.0</td>\n      <td>47</td>\n      <td>615</td>\n      <td>20572</td>\n      <td>0</td>\n      <td>0</td>\n      <td>109</td>\n      <td>24383</td>\n      <td>46294</td>\n    </tr>\n    <tr>\n      <th>9</th>\n      <td>11</td>\n      <td>Goa</td>\n      <td>31</td>\n      <td>4</td>\n      <td>2.0</td>\n      <td>3</td>\n      <td>40</td>\n      <td>2666</td>\n      <td>17</td>\n      <td>1405</td>\n      <td>25</td>\n      <td>1608</td>\n      <td>5801</td>\n    </tr>\n    <tr>\n      <th>10</th>\n      <td>12</td>\n      <td>Gujarat</td>\n      <td>1770</td>\n      <td>385</td>\n      <td>44.0</td>\n      <td>37</td>\n      <td>2236</td>\n      <td>41129</td>\n      <td>364</td>\n      <td>11715</td>\n      <td>122</td>\n      <td>20565</td>\n      <td>78367</td>\n    </tr>\n    <tr>\n      <th>11</th>\n      <td>13</td>\n      <td>Haryana</td>\n      <td>500</td>\n      <td>131</td>\n      <td>24.0</td>\n      <td>28</td>\n      <td>683</td>\n      <td>13841</td>\n      <td>609</td>\n      <td>6690</td>\n      <td>59</td>\n      <td>4550</td>\n      <td>27115</td>\n    </tr>\n    <tr>\n      <th>12</th>\n      <td>14</td>\n      <td>Himachal Pradesh</td>\n      <td>516</td>\n      <td>79</td>\n      <td>61.0</td>\n      <td>15</td>\n      <td>671</td>\n      <td>8706</td>\n      <td>705</td>\n      <td>5665</td>\n      <td>96</td>\n      <td>6734</td>\n      <td>23248</td>\n    </tr>\n    <tr>\n      <th>13</th>\n      <td>15</td>\n      <td>Jammu &amp; Kashmir</td>\n      <td>702</td>\n      <td>87</td>\n      <td>NaN</td>\n      <td>29</td>\n      <td>818</td>\n      <td>11342</td>\n      <td>56</td>\n      <td>7234</td>\n      <td>76</td>\n      <td>4417</td>\n      <td>24761</td>\n    </tr>\n    <tr>\n      <th>14</th>\n      <td>16</td>\n      <td>Jharkhand</td>\n      <td>343</td>\n      <td>179</td>\n      <td>13.0</td>\n      <td>23</td>\n      <td>558</td>\n      <td>7404</td>\n      <td>519</td>\n      <td>5842</td>\n      <td>36</td>\n      <td>4942</td>\n      <td>19859</td>\n    </tr>\n    <tr>\n      <th>15</th>\n      <td>17</td>\n      <td>Karnataka</td>\n      <td>2547</td>\n      <td>207</td>\n      <td>147.0</td>\n      <td>42</td>\n      <td>2943</td>\n      <td>56333</td>\n      <td>2471</td>\n      <td>21072</td>\n      <td>374</td>\n      <td>49093</td>\n      <td>135229</td>\n    </tr>\n    <tr>\n      <th>16</th>\n      <td>18</td>\n      <td>Kerala</td>\n      <td>933</td>\n      <td>229</td>\n      <td>82.0</td>\n      <td>53</td>\n      <td>1297</td>\n      <td>39511</td>\n      <td>981</td>\n      <td>16865</td>\n      <td>299</td>\n      <td>21139</td>\n      <td>81389</td>\n    </tr>\n    <tr>\n      <th>17</th>\n      <td>19</td>\n      <td>Lakshadweep</td>\n      <td>4</td>\n      <td>3</td>\n      <td>2.0</td>\n      <td>1</td>\n      <td>10</td>\n      <td>250</td>\n      <td>9</td>\n      <td>300</td>\n      <td>0</td>\n      <td>0</td>\n      <td>579</td>\n    </tr>\n    <tr>\n      <th>18</th>\n      <td>20</td>\n      <td>Madhya Pradesh</td>\n      <td>1420</td>\n      <td>324</td>\n      <td>72.0</td>\n      <td>51</td>\n      <td>1867</td>\n      <td>38140</td>\n      <td>334</td>\n      <td>10020</td>\n      <td>117</td>\n      <td>18819</td>\n      <td>71164</td>\n    </tr>\n    <tr>\n      <th>19</th>\n      <td>21</td>\n      <td>Maharashtra</td>\n      <td>2638</td>\n      <td>430</td>\n      <td>101.0</td>\n      <td>70</td>\n      <td>3239</td>\n      <td>68998</td>\n      <td>273</td>\n      <td>12398</td>\n      <td>438</td>\n      <td>39048</td>\n      <td>127633</td>\n    </tr>\n    <tr>\n      <th>20</th>\n      <td>22</td>\n      <td>Manipur</td>\n      <td>87</td>\n      <td>17</td>\n      <td>1.0</td>\n      <td>9</td>\n      <td>114</td>\n      <td>2562</td>\n      <td>23</td>\n      <td>730</td>\n      <td>7</td>\n      <td>697</td>\n      <td>4247</td>\n    </tr>\n    <tr>\n      <th>21</th>\n      <td>23</td>\n      <td>Meghalaya</td>\n      <td>138</td>\n      <td>29</td>\n      <td>NaN</td>\n      <td>13</td>\n      <td>180</td>\n      <td>4585</td>\n      <td>143</td>\n      <td>1970</td>\n      <td>14</td>\n      <td>2487</td>\n      <td>9559</td>\n    </tr>\n    <tr>\n      <th>22</th>\n      <td>24</td>\n      <td>Mizoram</td>\n      <td>65</td>\n      <td>10</td>\n      <td>3.0</td>\n      <td>9</td>\n      <td>87</td>\n      <td>2312</td>\n      <td>56</td>\n      <td>604</td>\n      <td>34</td>\n      <td>1393</td>\n      <td>4573</td>\n    </tr>\n    <tr>\n      <th>23</th>\n      <td>25</td>\n      <td>Nagaland</td>\n      <td>134</td>\n      <td>21</td>\n      <td>NaN</td>\n      <td>11</td>\n      <td>166</td>\n      <td>1944</td>\n      <td>21</td>\n      <td>630</td>\n      <td>15</td>\n      <td>1250</td>\n      <td>4192</td>\n    </tr>\n    <tr>\n      <th>24</th>\n      <td>26</td>\n      <td>Odisha</td>\n      <td>1360</td>\n      <td>377</td>\n      <td>27.0</td>\n      <td>35</td>\n      <td>1799</td>\n      <td>16497</td>\n      <td>1655</td>\n      <td>6339</td>\n      <td>149</td>\n      <td>12180</td>\n      <td>40418</td>\n    </tr>\n    <tr>\n      <th>25</th>\n      <td>27</td>\n      <td>Puducherry</td>\n      <td>40</td>\n      <td>4</td>\n      <td>5.0</td>\n      <td>4</td>\n      <td>53</td>\n      <td>4462</td>\n      <td>3</td>\n      <td>96</td>\n      <td>11</td>\n      <td>3473</td>\n      <td>8151</td>\n    </tr>\n    <tr>\n      <th>26</th>\n      <td>28</td>\n      <td>Punjab</td>\n      <td>521</td>\n      <td>146</td>\n      <td>47.0</td>\n      <td>28</td>\n      <td>742</td>\n      <td>13527</td>\n      <td>510</td>\n      <td>5805</td>\n      <td>172</td>\n      <td>12128</td>\n      <td>33626</td>\n    </tr>\n    <tr>\n      <th>27</th>\n      <td>29</td>\n      <td>Rajasthan</td>\n      <td>2463</td>\n      <td>579</td>\n      <td>64.0</td>\n      <td>33</td>\n      <td>3139</td>\n      <td>51844</td>\n      <td>602</td>\n      <td>21088</td>\n      <td>150</td>\n      <td>10760</td>\n      <td>90722</td>\n    </tr>\n    <tr>\n      <th>28</th>\n      <td>30</td>\n      <td>Sikkim</td>\n      <td>25</td>\n      <td>2</td>\n      <td>1.0</td>\n      <td>4</td>\n      <td>32</td>\n      <td>1145</td>\n      <td>24</td>\n      <td>260</td>\n      <td>9</td>\n      <td>1300</td>\n      <td>2802</td>\n    </tr>\n    <tr>\n      <th>29</th>\n      <td>31</td>\n      <td>Tamil Nadu</td>\n      <td>1854</td>\n      <td>385</td>\n      <td>310.0</td>\n      <td>32</td>\n      <td>2581</td>\n      <td>72616</td>\n      <td>692</td>\n      <td>40179</td>\n      <td>525</td>\n      <td>37353</td>\n      <td>156527</td>\n    </tr>\n    <tr>\n      <th>30</th>\n      <td>32</td>\n      <td>Telangana</td>\n      <td>788</td>\n      <td>82</td>\n      <td>47.0</td>\n      <td>15</td>\n      <td>932</td>\n      <td>17358</td>\n      <td>802</td>\n      <td>7668</td>\n      <td>61</td>\n      <td>13315</td>\n      <td>41068</td>\n    </tr>\n    <tr>\n      <th>31</th>\n      <td>33</td>\n      <td>Tripura</td>\n      <td>114</td>\n      <td>22</td>\n      <td>12.0</td>\n      <td>9</td>\n      <td>157</td>\n      <td>4895</td>\n      <td>99</td>\n      <td>1140</td>\n      <td>56</td>\n      <td>3277</td>\n      <td>9781</td>\n    </tr>\n    <tr>\n      <th>32</th>\n      <td>34</td>\n      <td>Uttar Pradesh</td>\n      <td>3277</td>\n      <td>671</td>\n      <td>NaN</td>\n      <td>174</td>\n      <td>4122</td>\n      <td>58310</td>\n      <td>4442</td>\n      <td>39104</td>\n      <td>193</td>\n      <td>37156</td>\n      <td>147449</td>\n    </tr>\n    <tr>\n      <th>33</th>\n      <td>35</td>\n      <td>Uttarakhand</td>\n      <td>275</td>\n      <td>69</td>\n      <td>19.0</td>\n      <td>20</td>\n      <td>383</td>\n      <td>6660</td>\n      <td>410</td>\n      <td>3284</td>\n      <td>50</td>\n      <td>5228</td>\n      <td>16398</td>\n    </tr>\n    <tr>\n      <th>34</th>\n      <td>36</td>\n      <td>West Bengal</td>\n      <td>1374</td>\n      <td>406</td>\n      <td>70.0</td>\n      <td>55</td>\n      <td>1905</td>\n      <td>51163</td>\n      <td>1272</td>\n      <td>19684</td>\n      <td>294</td>\n      <td>58882</td>\n      <td>135105</td>\n    </tr>\n  </tbody>\n</table>\n</div>"
     },
     "metadata": {},
     "execution_count": 30
    }
   ],
   "source": [
    "df_hospital=pd.read_csv(\"/Users/vidushigupta/Desktop/Vidushi/covid_hospital/beds_india.csv\")\n",
    "df_hospital"
   ]
  },
  {
   "cell_type": "code",
   "execution_count": 31,
   "metadata": {},
   "outputs": [
    {
     "output_type": "execute_result",
     "data": {
      "text/plain": "                                       State  Total Beds\n0                  Andaman & Nicobar Islands        2419\n1                             Andhra Pradesh       87527\n2                          Arunachal Pradesh        5340\n3                                      Assam       39923\n4                                      Bihar       35140\n5                                 Chandigarh        4632\n6                               Chhattisgarh       26026\n7   Dadra and Nagar Haveli and Daman and Diu        1753\n8                                      Delhi       46294\n9                                        Goa        5801\n10                                   Gujarat       78367\n11                                   Haryana       27115\n12                          Himachal Pradesh       23248\n13                           Jammu & Kashmir       24761\n14                                 Jharkhand       19859\n15                                 Karnataka      135229\n16                                    Kerala       81389\n17                               Lakshadweep         579\n18                            Madhya Pradesh       71164\n19                               Maharashtra      127633\n20                                   Manipur        4247\n21                                 Meghalaya        9559\n22                                   Mizoram        4573\n23                                  Nagaland        4192\n24                                    Odisha       40418\n25                                Puducherry        8151\n26                                    Punjab       33626\n27                                 Rajasthan       90722\n28                                    Sikkim        2802\n29                                Tamil Nadu      156527\n30                                 Telangana       41068\n31                                   Tripura        9781\n32                             Uttar Pradesh      147449\n33                               Uttarakhand       16398\n34                               West Bengal      135105",
      "text/html": "<div>\n<style scoped>\n    .dataframe tbody tr th:only-of-type {\n        vertical-align: middle;\n    }\n\n    .dataframe tbody tr th {\n        vertical-align: top;\n    }\n\n    .dataframe thead th {\n        text-align: right;\n    }\n</style>\n<table border=\"1\" class=\"dataframe\">\n  <thead>\n    <tr style=\"text-align: right;\">\n      <th></th>\n      <th>State</th>\n      <th>Total Beds</th>\n    </tr>\n  </thead>\n  <tbody>\n    <tr>\n      <th>0</th>\n      <td>Andaman &amp; Nicobar Islands</td>\n      <td>2419</td>\n    </tr>\n    <tr>\n      <th>1</th>\n      <td>Andhra Pradesh</td>\n      <td>87527</td>\n    </tr>\n    <tr>\n      <th>2</th>\n      <td>Arunachal Pradesh</td>\n      <td>5340</td>\n    </tr>\n    <tr>\n      <th>3</th>\n      <td>Assam</td>\n      <td>39923</td>\n    </tr>\n    <tr>\n      <th>4</th>\n      <td>Bihar</td>\n      <td>35140</td>\n    </tr>\n    <tr>\n      <th>5</th>\n      <td>Chandigarh</td>\n      <td>4632</td>\n    </tr>\n    <tr>\n      <th>6</th>\n      <td>Chhattisgarh</td>\n      <td>26026</td>\n    </tr>\n    <tr>\n      <th>7</th>\n      <td>Dadra and Nagar Haveli and Daman and Diu</td>\n      <td>1753</td>\n    </tr>\n    <tr>\n      <th>8</th>\n      <td>Delhi</td>\n      <td>46294</td>\n    </tr>\n    <tr>\n      <th>9</th>\n      <td>Goa</td>\n      <td>5801</td>\n    </tr>\n    <tr>\n      <th>10</th>\n      <td>Gujarat</td>\n      <td>78367</td>\n    </tr>\n    <tr>\n      <th>11</th>\n      <td>Haryana</td>\n      <td>27115</td>\n    </tr>\n    <tr>\n      <th>12</th>\n      <td>Himachal Pradesh</td>\n      <td>23248</td>\n    </tr>\n    <tr>\n      <th>13</th>\n      <td>Jammu &amp; Kashmir</td>\n      <td>24761</td>\n    </tr>\n    <tr>\n      <th>14</th>\n      <td>Jharkhand</td>\n      <td>19859</td>\n    </tr>\n    <tr>\n      <th>15</th>\n      <td>Karnataka</td>\n      <td>135229</td>\n    </tr>\n    <tr>\n      <th>16</th>\n      <td>Kerala</td>\n      <td>81389</td>\n    </tr>\n    <tr>\n      <th>17</th>\n      <td>Lakshadweep</td>\n      <td>579</td>\n    </tr>\n    <tr>\n      <th>18</th>\n      <td>Madhya Pradesh</td>\n      <td>71164</td>\n    </tr>\n    <tr>\n      <th>19</th>\n      <td>Maharashtra</td>\n      <td>127633</td>\n    </tr>\n    <tr>\n      <th>20</th>\n      <td>Manipur</td>\n      <td>4247</td>\n    </tr>\n    <tr>\n      <th>21</th>\n      <td>Meghalaya</td>\n      <td>9559</td>\n    </tr>\n    <tr>\n      <th>22</th>\n      <td>Mizoram</td>\n      <td>4573</td>\n    </tr>\n    <tr>\n      <th>23</th>\n      <td>Nagaland</td>\n      <td>4192</td>\n    </tr>\n    <tr>\n      <th>24</th>\n      <td>Odisha</td>\n      <td>40418</td>\n    </tr>\n    <tr>\n      <th>25</th>\n      <td>Puducherry</td>\n      <td>8151</td>\n    </tr>\n    <tr>\n      <th>26</th>\n      <td>Punjab</td>\n      <td>33626</td>\n    </tr>\n    <tr>\n      <th>27</th>\n      <td>Rajasthan</td>\n      <td>90722</td>\n    </tr>\n    <tr>\n      <th>28</th>\n      <td>Sikkim</td>\n      <td>2802</td>\n    </tr>\n    <tr>\n      <th>29</th>\n      <td>Tamil Nadu</td>\n      <td>156527</td>\n    </tr>\n    <tr>\n      <th>30</th>\n      <td>Telangana</td>\n      <td>41068</td>\n    </tr>\n    <tr>\n      <th>31</th>\n      <td>Tripura</td>\n      <td>9781</td>\n    </tr>\n    <tr>\n      <th>32</th>\n      <td>Uttar Pradesh</td>\n      <td>147449</td>\n    </tr>\n    <tr>\n      <th>33</th>\n      <td>Uttarakhand</td>\n      <td>16398</td>\n    </tr>\n    <tr>\n      <th>34</th>\n      <td>West Bengal</td>\n      <td>135105</td>\n    </tr>\n  </tbody>\n</table>\n</div>"
     },
     "metadata": {},
     "execution_count": 31
    }
   ],
   "source": [
    "df_hospital=df_hospital[['State','Total Beds']]\n",
    "df_hospital"
   ]
  },
  {
   "cell_type": "code",
   "execution_count": 32,
   "metadata": {},
   "outputs": [
    {
     "output_type": "execute_result",
     "data": {
      "text/plain": "                                       State  Confirmed  Recovered  Deaths  \\\n0                Andaman and Nicobar Islands        180        133       0   \n1                             Andhra Pradesh      40646      20298     534   \n2                          Arunachal Pradesh        543        153       3   \n3                                      Assam      20647      13555      55   \n4                                      Bihar      23300      14997     173   \n5                                 Chandigarh        660        480      11   \n6                               Chhattisgarh       4754       3451      21   \n7   Dadra and Nagar Haveli and Daman and Diu        576        392       2   \n8                                      Delhi     118645      97693    3545   \n9                                        Goa       3108       1817      19   \n10                                   Gujarat      45567      32174    2090   \n11                                   Haryana      24002      18185     322   \n12                          Himachal Pradesh       1384        985      10   \n13                         Jammu and Kashmir      12156       6446     222   \n14                                 Jharkhand       4805       2513      42   \n15                                 Karnataka      51422      19730    1037   \n16                                    Kerala      10276       4862      38   \n17                               Lakshadweep          0          0       0   \n18                            Madhya Pradesh      20378      14127     689   \n19                               Maharashtra     284281     158140   11194   \n20                                   Manipur       1764       1129       0   \n21                                 Meghalaya        377         49       2   \n22                                   Mizoram        272        160       0   \n23                                  Nagaland        956        405       0   \n24                                    Odisha      16110      10877     109   \n25                                Puducherry       1832       1014      25   \n26                                    Punjab       9094       6277     230   \n27                                 Rajasthan      27333      20028     542   \n28                                    Sikkim        235         87       0   \n29                                Tamil Nadu     156369     107416    2236   \n30                                 Telangana      41018      27295     396   \n31                                   Tripura       2379       1637       3   \n32                             Uttar Pradesh      43441      26675    1046   \n33                               Uttarakhand       3982       2995      50   \n34                               West Bengal      36117      21415    1023   \n\n    Active    Last_Updated_Time  Migrated_Other State_code  Delta_Confirmed  \\\n0       47  16/07/2020 20:52:11               0         AN                0   \n1    19814  17/07/2020 15:09:04               0         AP             2602   \n2      387  16/07/2020 23:39:08               0         AR                0   \n3     7034  17/07/2020 00:17:02               3         AS                0   \n4     8130  17/07/2020 17:17:01               0         BR             1742   \n5      169  17/07/2020 16:57:02               0         CH               25   \n6     1282  16/07/2020 21:11:03               0         CT                0   \n7      175  16/07/2020 21:51:13               7         DN                0   \n8    17407  16/07/2020 19:17:00               0         DL                0   \n9     1272  16/07/2020 20:52:05               0         GA                0   \n10   11303  16/07/2020 20:17:01               0         GJ                0   \n11    5495  16/07/2020 19:50:11               0         HR                0   \n12     376  17/07/2020 13:58:02              13         HP                7   \n13    5488  16/07/2020 19:29:00               0         JK                0   \n14    2250  17/07/2020 13:07:00               0         JH               22   \n15   30651  16/07/2020 20:45:01               4         KA                0   \n16    5372  16/07/2020 20:17:10               4         KL                0   \n17       0  26/03/2020 07:19:29               0         LD                0   \n18    5562  16/07/2020 19:17:02               0         MP                0   \n19  114648  16/07/2020 20:16:59             299         MH                0   \n20     635  16/07/2020 20:17:12               0         MN                0   \n21     326  17/07/2020 12:48:04               0         ML                0   \n22     112  16/07/2020 23:39:10               0         MZ                0   \n23     551  17/07/2020 17:55:02               0         NL               40   \n24    5124  17/07/2020 10:50:00               0         OR              718   \n25     793  17/07/2020 11:58:31               0         PY               89   \n26    2587  16/07/2020 20:17:08               0         PB                0   \n27    6763  17/07/2020 11:16:00               0         RJ              159   \n28     135  16/07/2020 21:51:15              13         SK                0   \n29   46717  16/07/2020 20:45:00               0         TN                0   \n30   13327  16/07/2020 22:45:04               0         TG                0   \n31     725  17/07/2020 00:17:04              14         TR                0   \n32   15720  16/07/2020 17:43:00               0         UP                0   \n33     904  16/07/2020 21:51:11              33         UT                0   \n34   13679  16/07/2020 20:17:05               0         WB                0   \n\n    Delta_Recovered  Delta_Deaths  \\\n0                 0             0   \n1               905            42   \n2                 0             0   \n3                 0             0   \n4               896             6   \n5                 4             0   \n6                 0             0   \n7                 0             0   \n8                 0             0   \n9                 0             0   \n10                0             0   \n11                0             0   \n12               14             0   \n13                0             0   \n14                0             0   \n15                0             0   \n16                0             0   \n17                0             0   \n18                0             0   \n19                0             0   \n20                0             0   \n21                0             0   \n22                0             0   \n23               14             0   \n24                0             6   \n25               67             3   \n26                0             0   \n27               58             4   \n28                0             0   \n29                0             0   \n30                0             0   \n31                0             0   \n32                0             0   \n33                0             0   \n34                0             0   \n\n                                          State_Notes  \n0                                                 NaN  \n1   Total includes patients from other states and ...  \n2                                                 NaN  \n3   Includes one case from Nagaland.\\nTotal of 3 p...  \n4                                                 NaN  \n5                                                 NaN  \n6                                                 NaN  \n7   3 cases are migrated to different states which...  \n8   [July 14]: Value for the total tests conducted...  \n9                                                 NaN  \n10                                                NaN  \n11                                                NaN  \n12  HP has 14 Migrated cases which are reduced fro...  \n13                                                NaN  \n14                                                NaN  \n15  4 cases are classified as non-covid related de...  \n16  Mahe native who expired in Kannur included in ...  \n17                                                NaN  \n18                                                NaN  \n19  299 cases were marked as non-covid deaths in M...  \n20                                                NaN  \n21  [June 17]:\\nOne case was identified to be fals...  \n22                                                NaN  \n23                                                NaN  \n24  [July 12th] 20 non-covid deaths reported in st...  \n25                                                NaN  \n26                                                NaN  \n27                                                NaN  \n28        13 Migrated cases reduced from Active count  \n29  2 deaths cross notified to other states from C...  \n30                                                NaN  \n31                                                NaN  \n32                                                NaN  \n33        33 Migrated cases reduced from Active count  \n34                                                NaN  ",
      "text/html": "<div>\n<style scoped>\n    .dataframe tbody tr th:only-of-type {\n        vertical-align: middle;\n    }\n\n    .dataframe tbody tr th {\n        vertical-align: top;\n    }\n\n    .dataframe thead th {\n        text-align: right;\n    }\n</style>\n<table border=\"1\" class=\"dataframe\">\n  <thead>\n    <tr style=\"text-align: right;\">\n      <th></th>\n      <th>State</th>\n      <th>Confirmed</th>\n      <th>Recovered</th>\n      <th>Deaths</th>\n      <th>Active</th>\n      <th>Last_Updated_Time</th>\n      <th>Migrated_Other</th>\n      <th>State_code</th>\n      <th>Delta_Confirmed</th>\n      <th>Delta_Recovered</th>\n      <th>Delta_Deaths</th>\n      <th>State_Notes</th>\n    </tr>\n  </thead>\n  <tbody>\n    <tr>\n      <th>0</th>\n      <td>Andaman and Nicobar Islands</td>\n      <td>180</td>\n      <td>133</td>\n      <td>0</td>\n      <td>47</td>\n      <td>16/07/2020 20:52:11</td>\n      <td>0</td>\n      <td>AN</td>\n      <td>0</td>\n      <td>0</td>\n      <td>0</td>\n      <td>NaN</td>\n    </tr>\n    <tr>\n      <th>1</th>\n      <td>Andhra Pradesh</td>\n      <td>40646</td>\n      <td>20298</td>\n      <td>534</td>\n      <td>19814</td>\n      <td>17/07/2020 15:09:04</td>\n      <td>0</td>\n      <td>AP</td>\n      <td>2602</td>\n      <td>905</td>\n      <td>42</td>\n      <td>Total includes patients from other states and ...</td>\n    </tr>\n    <tr>\n      <th>2</th>\n      <td>Arunachal Pradesh</td>\n      <td>543</td>\n      <td>153</td>\n      <td>3</td>\n      <td>387</td>\n      <td>16/07/2020 23:39:08</td>\n      <td>0</td>\n      <td>AR</td>\n      <td>0</td>\n      <td>0</td>\n      <td>0</td>\n      <td>NaN</td>\n    </tr>\n    <tr>\n      <th>3</th>\n      <td>Assam</td>\n      <td>20647</td>\n      <td>13555</td>\n      <td>55</td>\n      <td>7034</td>\n      <td>17/07/2020 00:17:02</td>\n      <td>3</td>\n      <td>AS</td>\n      <td>0</td>\n      <td>0</td>\n      <td>0</td>\n      <td>Includes one case from Nagaland.\\nTotal of 3 p...</td>\n    </tr>\n    <tr>\n      <th>4</th>\n      <td>Bihar</td>\n      <td>23300</td>\n      <td>14997</td>\n      <td>173</td>\n      <td>8130</td>\n      <td>17/07/2020 17:17:01</td>\n      <td>0</td>\n      <td>BR</td>\n      <td>1742</td>\n      <td>896</td>\n      <td>6</td>\n      <td>NaN</td>\n    </tr>\n    <tr>\n      <th>5</th>\n      <td>Chandigarh</td>\n      <td>660</td>\n      <td>480</td>\n      <td>11</td>\n      <td>169</td>\n      <td>17/07/2020 16:57:02</td>\n      <td>0</td>\n      <td>CH</td>\n      <td>25</td>\n      <td>4</td>\n      <td>0</td>\n      <td>NaN</td>\n    </tr>\n    <tr>\n      <th>6</th>\n      <td>Chhattisgarh</td>\n      <td>4754</td>\n      <td>3451</td>\n      <td>21</td>\n      <td>1282</td>\n      <td>16/07/2020 21:11:03</td>\n      <td>0</td>\n      <td>CT</td>\n      <td>0</td>\n      <td>0</td>\n      <td>0</td>\n      <td>NaN</td>\n    </tr>\n    <tr>\n      <th>7</th>\n      <td>Dadra and Nagar Haveli and Daman and Diu</td>\n      <td>576</td>\n      <td>392</td>\n      <td>2</td>\n      <td>175</td>\n      <td>16/07/2020 21:51:13</td>\n      <td>7</td>\n      <td>DN</td>\n      <td>0</td>\n      <td>0</td>\n      <td>0</td>\n      <td>3 cases are migrated to different states which...</td>\n    </tr>\n    <tr>\n      <th>8</th>\n      <td>Delhi</td>\n      <td>118645</td>\n      <td>97693</td>\n      <td>3545</td>\n      <td>17407</td>\n      <td>16/07/2020 19:17:00</td>\n      <td>0</td>\n      <td>DL</td>\n      <td>0</td>\n      <td>0</td>\n      <td>0</td>\n      <td>[July 14]: Value for the total tests conducted...</td>\n    </tr>\n    <tr>\n      <th>9</th>\n      <td>Goa</td>\n      <td>3108</td>\n      <td>1817</td>\n      <td>19</td>\n      <td>1272</td>\n      <td>16/07/2020 20:52:05</td>\n      <td>0</td>\n      <td>GA</td>\n      <td>0</td>\n      <td>0</td>\n      <td>0</td>\n      <td>NaN</td>\n    </tr>\n    <tr>\n      <th>10</th>\n      <td>Gujarat</td>\n      <td>45567</td>\n      <td>32174</td>\n      <td>2090</td>\n      <td>11303</td>\n      <td>16/07/2020 20:17:01</td>\n      <td>0</td>\n      <td>GJ</td>\n      <td>0</td>\n      <td>0</td>\n      <td>0</td>\n      <td>NaN</td>\n    </tr>\n    <tr>\n      <th>11</th>\n      <td>Haryana</td>\n      <td>24002</td>\n      <td>18185</td>\n      <td>322</td>\n      <td>5495</td>\n      <td>16/07/2020 19:50:11</td>\n      <td>0</td>\n      <td>HR</td>\n      <td>0</td>\n      <td>0</td>\n      <td>0</td>\n      <td>NaN</td>\n    </tr>\n    <tr>\n      <th>12</th>\n      <td>Himachal Pradesh</td>\n      <td>1384</td>\n      <td>985</td>\n      <td>10</td>\n      <td>376</td>\n      <td>17/07/2020 13:58:02</td>\n      <td>13</td>\n      <td>HP</td>\n      <td>7</td>\n      <td>14</td>\n      <td>0</td>\n      <td>HP has 14 Migrated cases which are reduced fro...</td>\n    </tr>\n    <tr>\n      <th>13</th>\n      <td>Jammu and Kashmir</td>\n      <td>12156</td>\n      <td>6446</td>\n      <td>222</td>\n      <td>5488</td>\n      <td>16/07/2020 19:29:00</td>\n      <td>0</td>\n      <td>JK</td>\n      <td>0</td>\n      <td>0</td>\n      <td>0</td>\n      <td>NaN</td>\n    </tr>\n    <tr>\n      <th>14</th>\n      <td>Jharkhand</td>\n      <td>4805</td>\n      <td>2513</td>\n      <td>42</td>\n      <td>2250</td>\n      <td>17/07/2020 13:07:00</td>\n      <td>0</td>\n      <td>JH</td>\n      <td>22</td>\n      <td>0</td>\n      <td>0</td>\n      <td>NaN</td>\n    </tr>\n    <tr>\n      <th>15</th>\n      <td>Karnataka</td>\n      <td>51422</td>\n      <td>19730</td>\n      <td>1037</td>\n      <td>30651</td>\n      <td>16/07/2020 20:45:01</td>\n      <td>4</td>\n      <td>KA</td>\n      <td>0</td>\n      <td>0</td>\n      <td>0</td>\n      <td>4 cases are classified as non-covid related de...</td>\n    </tr>\n    <tr>\n      <th>16</th>\n      <td>Kerala</td>\n      <td>10276</td>\n      <td>4862</td>\n      <td>38</td>\n      <td>5372</td>\n      <td>16/07/2020 20:17:10</td>\n      <td>4</td>\n      <td>KL</td>\n      <td>0</td>\n      <td>0</td>\n      <td>0</td>\n      <td>Mahe native who expired in Kannur included in ...</td>\n    </tr>\n    <tr>\n      <th>17</th>\n      <td>Lakshadweep</td>\n      <td>0</td>\n      <td>0</td>\n      <td>0</td>\n      <td>0</td>\n      <td>26/03/2020 07:19:29</td>\n      <td>0</td>\n      <td>LD</td>\n      <td>0</td>\n      <td>0</td>\n      <td>0</td>\n      <td>NaN</td>\n    </tr>\n    <tr>\n      <th>18</th>\n      <td>Madhya Pradesh</td>\n      <td>20378</td>\n      <td>14127</td>\n      <td>689</td>\n      <td>5562</td>\n      <td>16/07/2020 19:17:02</td>\n      <td>0</td>\n      <td>MP</td>\n      <td>0</td>\n      <td>0</td>\n      <td>0</td>\n      <td>NaN</td>\n    </tr>\n    <tr>\n      <th>19</th>\n      <td>Maharashtra</td>\n      <td>284281</td>\n      <td>158140</td>\n      <td>11194</td>\n      <td>114648</td>\n      <td>16/07/2020 20:16:59</td>\n      <td>299</td>\n      <td>MH</td>\n      <td>0</td>\n      <td>0</td>\n      <td>0</td>\n      <td>299 cases were marked as non-covid deaths in M...</td>\n    </tr>\n    <tr>\n      <th>20</th>\n      <td>Manipur</td>\n      <td>1764</td>\n      <td>1129</td>\n      <td>0</td>\n      <td>635</td>\n      <td>16/07/2020 20:17:12</td>\n      <td>0</td>\n      <td>MN</td>\n      <td>0</td>\n      <td>0</td>\n      <td>0</td>\n      <td>NaN</td>\n    </tr>\n    <tr>\n      <th>21</th>\n      <td>Meghalaya</td>\n      <td>377</td>\n      <td>49</td>\n      <td>2</td>\n      <td>326</td>\n      <td>17/07/2020 12:48:04</td>\n      <td>0</td>\n      <td>ML</td>\n      <td>0</td>\n      <td>0</td>\n      <td>0</td>\n      <td>[June 17]:\\nOne case was identified to be fals...</td>\n    </tr>\n    <tr>\n      <th>22</th>\n      <td>Mizoram</td>\n      <td>272</td>\n      <td>160</td>\n      <td>0</td>\n      <td>112</td>\n      <td>16/07/2020 23:39:10</td>\n      <td>0</td>\n      <td>MZ</td>\n      <td>0</td>\n      <td>0</td>\n      <td>0</td>\n      <td>NaN</td>\n    </tr>\n    <tr>\n      <th>23</th>\n      <td>Nagaland</td>\n      <td>956</td>\n      <td>405</td>\n      <td>0</td>\n      <td>551</td>\n      <td>17/07/2020 17:55:02</td>\n      <td>0</td>\n      <td>NL</td>\n      <td>40</td>\n      <td>14</td>\n      <td>0</td>\n      <td>NaN</td>\n    </tr>\n    <tr>\n      <th>24</th>\n      <td>Odisha</td>\n      <td>16110</td>\n      <td>10877</td>\n      <td>109</td>\n      <td>5124</td>\n      <td>17/07/2020 10:50:00</td>\n      <td>0</td>\n      <td>OR</td>\n      <td>718</td>\n      <td>0</td>\n      <td>6</td>\n      <td>[July 12th] 20 non-covid deaths reported in st...</td>\n    </tr>\n    <tr>\n      <th>25</th>\n      <td>Puducherry</td>\n      <td>1832</td>\n      <td>1014</td>\n      <td>25</td>\n      <td>793</td>\n      <td>17/07/2020 11:58:31</td>\n      <td>0</td>\n      <td>PY</td>\n      <td>89</td>\n      <td>67</td>\n      <td>3</td>\n      <td>NaN</td>\n    </tr>\n    <tr>\n      <th>26</th>\n      <td>Punjab</td>\n      <td>9094</td>\n      <td>6277</td>\n      <td>230</td>\n      <td>2587</td>\n      <td>16/07/2020 20:17:08</td>\n      <td>0</td>\n      <td>PB</td>\n      <td>0</td>\n      <td>0</td>\n      <td>0</td>\n      <td>NaN</td>\n    </tr>\n    <tr>\n      <th>27</th>\n      <td>Rajasthan</td>\n      <td>27333</td>\n      <td>20028</td>\n      <td>542</td>\n      <td>6763</td>\n      <td>17/07/2020 11:16:00</td>\n      <td>0</td>\n      <td>RJ</td>\n      <td>159</td>\n      <td>58</td>\n      <td>4</td>\n      <td>NaN</td>\n    </tr>\n    <tr>\n      <th>28</th>\n      <td>Sikkim</td>\n      <td>235</td>\n      <td>87</td>\n      <td>0</td>\n      <td>135</td>\n      <td>16/07/2020 21:51:15</td>\n      <td>13</td>\n      <td>SK</td>\n      <td>0</td>\n      <td>0</td>\n      <td>0</td>\n      <td>13 Migrated cases reduced from Active count</td>\n    </tr>\n    <tr>\n      <th>29</th>\n      <td>Tamil Nadu</td>\n      <td>156369</td>\n      <td>107416</td>\n      <td>2236</td>\n      <td>46717</td>\n      <td>16/07/2020 20:45:00</td>\n      <td>0</td>\n      <td>TN</td>\n      <td>0</td>\n      <td>0</td>\n      <td>0</td>\n      <td>2 deaths cross notified to other states from C...</td>\n    </tr>\n    <tr>\n      <th>30</th>\n      <td>Telangana</td>\n      <td>41018</td>\n      <td>27295</td>\n      <td>396</td>\n      <td>13327</td>\n      <td>16/07/2020 22:45:04</td>\n      <td>0</td>\n      <td>TG</td>\n      <td>0</td>\n      <td>0</td>\n      <td>0</td>\n      <td>NaN</td>\n    </tr>\n    <tr>\n      <th>31</th>\n      <td>Tripura</td>\n      <td>2379</td>\n      <td>1637</td>\n      <td>3</td>\n      <td>725</td>\n      <td>17/07/2020 00:17:04</td>\n      <td>14</td>\n      <td>TR</td>\n      <td>0</td>\n      <td>0</td>\n      <td>0</td>\n      <td>NaN</td>\n    </tr>\n    <tr>\n      <th>32</th>\n      <td>Uttar Pradesh</td>\n      <td>43441</td>\n      <td>26675</td>\n      <td>1046</td>\n      <td>15720</td>\n      <td>16/07/2020 17:43:00</td>\n      <td>0</td>\n      <td>UP</td>\n      <td>0</td>\n      <td>0</td>\n      <td>0</td>\n      <td>NaN</td>\n    </tr>\n    <tr>\n      <th>33</th>\n      <td>Uttarakhand</td>\n      <td>3982</td>\n      <td>2995</td>\n      <td>50</td>\n      <td>904</td>\n      <td>16/07/2020 21:51:11</td>\n      <td>33</td>\n      <td>UT</td>\n      <td>0</td>\n      <td>0</td>\n      <td>0</td>\n      <td>33 Migrated cases reduced from Active count</td>\n    </tr>\n    <tr>\n      <th>34</th>\n      <td>West Bengal</td>\n      <td>36117</td>\n      <td>21415</td>\n      <td>1023</td>\n      <td>13679</td>\n      <td>16/07/2020 20:17:05</td>\n      <td>0</td>\n      <td>WB</td>\n      <td>0</td>\n      <td>0</td>\n      <td>0</td>\n      <td>NaN</td>\n    </tr>\n  </tbody>\n</table>\n</div>"
     },
     "metadata": {},
     "execution_count": 32
    }
   ],
   "source": [
    "df_statewise=pd.read_csv(\"/Users/vidushigupta/Desktop/Vidushi/covid_hospital/state_wise .csv\")\n",
    "df_statewise"
   ]
  },
  {
   "cell_type": "code",
   "execution_count": 33,
   "metadata": {},
   "outputs": [
    {
     "output_type": "execute_result",
     "data": {
      "text/plain": "                                       State  Confirmed  Deaths\n0                Andaman and Nicobar Islands        180       0\n1                             Andhra Pradesh      40646     534\n2                          Arunachal Pradesh        543       3\n3                                      Assam      20647      55\n4                                      Bihar      23300     173\n5                                 Chandigarh        660      11\n6                               Chhattisgarh       4754      21\n7   Dadra and Nagar Haveli and Daman and Diu        576       2\n8                                      Delhi     118645    3545\n9                                        Goa       3108      19\n10                                   Gujarat      45567    2090\n11                                   Haryana      24002     322\n12                          Himachal Pradesh       1384      10\n13                         Jammu and Kashmir      12156     222\n14                                 Jharkhand       4805      42\n15                                 Karnataka      51422    1037\n16                                    Kerala      10276      38\n17                               Lakshadweep          0       0\n18                            Madhya Pradesh      20378     689\n19                               Maharashtra     284281   11194\n20                                   Manipur       1764       0\n21                                 Meghalaya        377       2\n22                                   Mizoram        272       0\n23                                  Nagaland        956       0\n24                                    Odisha      16110     109\n25                                Puducherry       1832      25\n26                                    Punjab       9094     230\n27                                 Rajasthan      27333     542\n28                                    Sikkim        235       0\n29                                Tamil Nadu     156369    2236\n30                                 Telangana      41018     396\n31                                   Tripura       2379       3\n32                             Uttar Pradesh      43441    1046\n33                               Uttarakhand       3982      50\n34                               West Bengal      36117    1023",
      "text/html": "<div>\n<style scoped>\n    .dataframe tbody tr th:only-of-type {\n        vertical-align: middle;\n    }\n\n    .dataframe tbody tr th {\n        vertical-align: top;\n    }\n\n    .dataframe thead th {\n        text-align: right;\n    }\n</style>\n<table border=\"1\" class=\"dataframe\">\n  <thead>\n    <tr style=\"text-align: right;\">\n      <th></th>\n      <th>State</th>\n      <th>Confirmed</th>\n      <th>Deaths</th>\n    </tr>\n  </thead>\n  <tbody>\n    <tr>\n      <th>0</th>\n      <td>Andaman and Nicobar Islands</td>\n      <td>180</td>\n      <td>0</td>\n    </tr>\n    <tr>\n      <th>1</th>\n      <td>Andhra Pradesh</td>\n      <td>40646</td>\n      <td>534</td>\n    </tr>\n    <tr>\n      <th>2</th>\n      <td>Arunachal Pradesh</td>\n      <td>543</td>\n      <td>3</td>\n    </tr>\n    <tr>\n      <th>3</th>\n      <td>Assam</td>\n      <td>20647</td>\n      <td>55</td>\n    </tr>\n    <tr>\n      <th>4</th>\n      <td>Bihar</td>\n      <td>23300</td>\n      <td>173</td>\n    </tr>\n    <tr>\n      <th>5</th>\n      <td>Chandigarh</td>\n      <td>660</td>\n      <td>11</td>\n    </tr>\n    <tr>\n      <th>6</th>\n      <td>Chhattisgarh</td>\n      <td>4754</td>\n      <td>21</td>\n    </tr>\n    <tr>\n      <th>7</th>\n      <td>Dadra and Nagar Haveli and Daman and Diu</td>\n      <td>576</td>\n      <td>2</td>\n    </tr>\n    <tr>\n      <th>8</th>\n      <td>Delhi</td>\n      <td>118645</td>\n      <td>3545</td>\n    </tr>\n    <tr>\n      <th>9</th>\n      <td>Goa</td>\n      <td>3108</td>\n      <td>19</td>\n    </tr>\n    <tr>\n      <th>10</th>\n      <td>Gujarat</td>\n      <td>45567</td>\n      <td>2090</td>\n    </tr>\n    <tr>\n      <th>11</th>\n      <td>Haryana</td>\n      <td>24002</td>\n      <td>322</td>\n    </tr>\n    <tr>\n      <th>12</th>\n      <td>Himachal Pradesh</td>\n      <td>1384</td>\n      <td>10</td>\n    </tr>\n    <tr>\n      <th>13</th>\n      <td>Jammu and Kashmir</td>\n      <td>12156</td>\n      <td>222</td>\n    </tr>\n    <tr>\n      <th>14</th>\n      <td>Jharkhand</td>\n      <td>4805</td>\n      <td>42</td>\n    </tr>\n    <tr>\n      <th>15</th>\n      <td>Karnataka</td>\n      <td>51422</td>\n      <td>1037</td>\n    </tr>\n    <tr>\n      <th>16</th>\n      <td>Kerala</td>\n      <td>10276</td>\n      <td>38</td>\n    </tr>\n    <tr>\n      <th>17</th>\n      <td>Lakshadweep</td>\n      <td>0</td>\n      <td>0</td>\n    </tr>\n    <tr>\n      <th>18</th>\n      <td>Madhya Pradesh</td>\n      <td>20378</td>\n      <td>689</td>\n    </tr>\n    <tr>\n      <th>19</th>\n      <td>Maharashtra</td>\n      <td>284281</td>\n      <td>11194</td>\n    </tr>\n    <tr>\n      <th>20</th>\n      <td>Manipur</td>\n      <td>1764</td>\n      <td>0</td>\n    </tr>\n    <tr>\n      <th>21</th>\n      <td>Meghalaya</td>\n      <td>377</td>\n      <td>2</td>\n    </tr>\n    <tr>\n      <th>22</th>\n      <td>Mizoram</td>\n      <td>272</td>\n      <td>0</td>\n    </tr>\n    <tr>\n      <th>23</th>\n      <td>Nagaland</td>\n      <td>956</td>\n      <td>0</td>\n    </tr>\n    <tr>\n      <th>24</th>\n      <td>Odisha</td>\n      <td>16110</td>\n      <td>109</td>\n    </tr>\n    <tr>\n      <th>25</th>\n      <td>Puducherry</td>\n      <td>1832</td>\n      <td>25</td>\n    </tr>\n    <tr>\n      <th>26</th>\n      <td>Punjab</td>\n      <td>9094</td>\n      <td>230</td>\n    </tr>\n    <tr>\n      <th>27</th>\n      <td>Rajasthan</td>\n      <td>27333</td>\n      <td>542</td>\n    </tr>\n    <tr>\n      <th>28</th>\n      <td>Sikkim</td>\n      <td>235</td>\n      <td>0</td>\n    </tr>\n    <tr>\n      <th>29</th>\n      <td>Tamil Nadu</td>\n      <td>156369</td>\n      <td>2236</td>\n    </tr>\n    <tr>\n      <th>30</th>\n      <td>Telangana</td>\n      <td>41018</td>\n      <td>396</td>\n    </tr>\n    <tr>\n      <th>31</th>\n      <td>Tripura</td>\n      <td>2379</td>\n      <td>3</td>\n    </tr>\n    <tr>\n      <th>32</th>\n      <td>Uttar Pradesh</td>\n      <td>43441</td>\n      <td>1046</td>\n    </tr>\n    <tr>\n      <th>33</th>\n      <td>Uttarakhand</td>\n      <td>3982</td>\n      <td>50</td>\n    </tr>\n    <tr>\n      <th>34</th>\n      <td>West Bengal</td>\n      <td>36117</td>\n      <td>1023</td>\n    </tr>\n  </tbody>\n</table>\n</div>"
     },
     "metadata": {},
     "execution_count": 33
    }
   ],
   "source": [
    "df_cases=df_statewise[['State','Confirmed','Deaths']]\n",
    "df_cases"
   ]
  },
  {
   "cell_type": "code",
   "execution_count": 34,
   "metadata": {},
   "outputs": [
    {
     "output_type": "execute_result",
     "data": {
      "text/plain": "                                       State  Total Beds  Confirmed  Deaths\n0                             Andhra Pradesh       87527      40646     534\n1                          Arunachal Pradesh        5340        543       3\n2                                      Assam       39923      20647      55\n3                                      Bihar       35140      23300     173\n4                                 Chandigarh        4632        660      11\n5                               Chhattisgarh       26026       4754      21\n6   Dadra and Nagar Haveli and Daman and Diu        1753        576       2\n7                                      Delhi       46294     118645    3545\n8                                        Goa        5801       3108      19\n9                                    Gujarat       78367      45567    2090\n10                                   Haryana       27115      24002     322\n11                          Himachal Pradesh       23248       1384      10\n12                                 Jharkhand       19859       4805      42\n13                                 Karnataka      135229      51422    1037\n14                                    Kerala       81389      10276      38\n15                               Lakshadweep         579          0       0\n16                            Madhya Pradesh       71164      20378     689\n17                               Maharashtra      127633     284281   11194\n18                                   Manipur        4247       1764       0\n19                                 Meghalaya        9559        377       2\n20                                   Mizoram        4573        272       0\n21                                  Nagaland        4192        956       0\n22                                    Odisha       40418      16110     109\n23                                Puducherry        8151       1832      25\n24                                    Punjab       33626       9094     230\n25                                 Rajasthan       90722      27333     542\n26                                    Sikkim        2802        235       0\n27                                Tamil Nadu      156527     156369    2236\n28                                 Telangana       41068      41018     396\n29                                   Tripura        9781       2379       3\n30                             Uttar Pradesh      147449      43441    1046\n31                               Uttarakhand       16398       3982      50\n32                               West Bengal      135105      36117    1023",
      "text/html": "<div>\n<style scoped>\n    .dataframe tbody tr th:only-of-type {\n        vertical-align: middle;\n    }\n\n    .dataframe tbody tr th {\n        vertical-align: top;\n    }\n\n    .dataframe thead th {\n        text-align: right;\n    }\n</style>\n<table border=\"1\" class=\"dataframe\">\n  <thead>\n    <tr style=\"text-align: right;\">\n      <th></th>\n      <th>State</th>\n      <th>Total Beds</th>\n      <th>Confirmed</th>\n      <th>Deaths</th>\n    </tr>\n  </thead>\n  <tbody>\n    <tr>\n      <th>0</th>\n      <td>Andhra Pradesh</td>\n      <td>87527</td>\n      <td>40646</td>\n      <td>534</td>\n    </tr>\n    <tr>\n      <th>1</th>\n      <td>Arunachal Pradesh</td>\n      <td>5340</td>\n      <td>543</td>\n      <td>3</td>\n    </tr>\n    <tr>\n      <th>2</th>\n      <td>Assam</td>\n      <td>39923</td>\n      <td>20647</td>\n      <td>55</td>\n    </tr>\n    <tr>\n      <th>3</th>\n      <td>Bihar</td>\n      <td>35140</td>\n      <td>23300</td>\n      <td>173</td>\n    </tr>\n    <tr>\n      <th>4</th>\n      <td>Chandigarh</td>\n      <td>4632</td>\n      <td>660</td>\n      <td>11</td>\n    </tr>\n    <tr>\n      <th>5</th>\n      <td>Chhattisgarh</td>\n      <td>26026</td>\n      <td>4754</td>\n      <td>21</td>\n    </tr>\n    <tr>\n      <th>6</th>\n      <td>Dadra and Nagar Haveli and Daman and Diu</td>\n      <td>1753</td>\n      <td>576</td>\n      <td>2</td>\n    </tr>\n    <tr>\n      <th>7</th>\n      <td>Delhi</td>\n      <td>46294</td>\n      <td>118645</td>\n      <td>3545</td>\n    </tr>\n    <tr>\n      <th>8</th>\n      <td>Goa</td>\n      <td>5801</td>\n      <td>3108</td>\n      <td>19</td>\n    </tr>\n    <tr>\n      <th>9</th>\n      <td>Gujarat</td>\n      <td>78367</td>\n      <td>45567</td>\n      <td>2090</td>\n    </tr>\n    <tr>\n      <th>10</th>\n      <td>Haryana</td>\n      <td>27115</td>\n      <td>24002</td>\n      <td>322</td>\n    </tr>\n    <tr>\n      <th>11</th>\n      <td>Himachal Pradesh</td>\n      <td>23248</td>\n      <td>1384</td>\n      <td>10</td>\n    </tr>\n    <tr>\n      <th>12</th>\n      <td>Jharkhand</td>\n      <td>19859</td>\n      <td>4805</td>\n      <td>42</td>\n    </tr>\n    <tr>\n      <th>13</th>\n      <td>Karnataka</td>\n      <td>135229</td>\n      <td>51422</td>\n      <td>1037</td>\n    </tr>\n    <tr>\n      <th>14</th>\n      <td>Kerala</td>\n      <td>81389</td>\n      <td>10276</td>\n      <td>38</td>\n    </tr>\n    <tr>\n      <th>15</th>\n      <td>Lakshadweep</td>\n      <td>579</td>\n      <td>0</td>\n      <td>0</td>\n    </tr>\n    <tr>\n      <th>16</th>\n      <td>Madhya Pradesh</td>\n      <td>71164</td>\n      <td>20378</td>\n      <td>689</td>\n    </tr>\n    <tr>\n      <th>17</th>\n      <td>Maharashtra</td>\n      <td>127633</td>\n      <td>284281</td>\n      <td>11194</td>\n    </tr>\n    <tr>\n      <th>18</th>\n      <td>Manipur</td>\n      <td>4247</td>\n      <td>1764</td>\n      <td>0</td>\n    </tr>\n    <tr>\n      <th>19</th>\n      <td>Meghalaya</td>\n      <td>9559</td>\n      <td>377</td>\n      <td>2</td>\n    </tr>\n    <tr>\n      <th>20</th>\n      <td>Mizoram</td>\n      <td>4573</td>\n      <td>272</td>\n      <td>0</td>\n    </tr>\n    <tr>\n      <th>21</th>\n      <td>Nagaland</td>\n      <td>4192</td>\n      <td>956</td>\n      <td>0</td>\n    </tr>\n    <tr>\n      <th>22</th>\n      <td>Odisha</td>\n      <td>40418</td>\n      <td>16110</td>\n      <td>109</td>\n    </tr>\n    <tr>\n      <th>23</th>\n      <td>Puducherry</td>\n      <td>8151</td>\n      <td>1832</td>\n      <td>25</td>\n    </tr>\n    <tr>\n      <th>24</th>\n      <td>Punjab</td>\n      <td>33626</td>\n      <td>9094</td>\n      <td>230</td>\n    </tr>\n    <tr>\n      <th>25</th>\n      <td>Rajasthan</td>\n      <td>90722</td>\n      <td>27333</td>\n      <td>542</td>\n    </tr>\n    <tr>\n      <th>26</th>\n      <td>Sikkim</td>\n      <td>2802</td>\n      <td>235</td>\n      <td>0</td>\n    </tr>\n    <tr>\n      <th>27</th>\n      <td>Tamil Nadu</td>\n      <td>156527</td>\n      <td>156369</td>\n      <td>2236</td>\n    </tr>\n    <tr>\n      <th>28</th>\n      <td>Telangana</td>\n      <td>41068</td>\n      <td>41018</td>\n      <td>396</td>\n    </tr>\n    <tr>\n      <th>29</th>\n      <td>Tripura</td>\n      <td>9781</td>\n      <td>2379</td>\n      <td>3</td>\n    </tr>\n    <tr>\n      <th>30</th>\n      <td>Uttar Pradesh</td>\n      <td>147449</td>\n      <td>43441</td>\n      <td>1046</td>\n    </tr>\n    <tr>\n      <th>31</th>\n      <td>Uttarakhand</td>\n      <td>16398</td>\n      <td>3982</td>\n      <td>50</td>\n    </tr>\n    <tr>\n      <th>32</th>\n      <td>West Bengal</td>\n      <td>135105</td>\n      <td>36117</td>\n      <td>1023</td>\n    </tr>\n  </tbody>\n</table>\n</div>"
     },
     "metadata": {},
     "execution_count": 34
    }
   ],
   "source": [
    "df_plot=pd.merge(df_hospital,df_cases)\n",
    "df_plot"
   ]
  },
  {
   "cell_type": "code",
   "execution_count": 60,
   "metadata": {},
   "outputs": [
    {
     "output_type": "display_data",
     "data": {
      "application/vnd.plotly.v1+json": {
       "config": {
        "plotlyServerURL": "https://plot.ly"
       },
       "data": [
        {
         "marker": {
          "color": "#FF0000"
         },
         "name": "Confirmed Cases",
         "type": "bar",
         "x": [
          "Andhra Pradesh",
          "Arunachal Pradesh",
          "Assam",
          "Bihar",
          "Chandigarh",
          "Chhattisgarh",
          "Dadra and Nagar Haveli and Daman and Diu",
          "Delhi",
          "Goa",
          "Gujarat",
          "Haryana",
          "Himachal Pradesh",
          "Jharkhand",
          "Karnataka",
          "Kerala",
          "Lakshadweep",
          "Madhya Pradesh",
          "Maharashtra",
          "Manipur",
          "Meghalaya",
          "Mizoram",
          "Nagaland",
          "Odisha",
          "Puducherry",
          "Punjab",
          "Rajasthan",
          "Sikkim",
          "Tamil Nadu",
          "Telangana",
          "Tripura",
          "Uttar Pradesh",
          "Uttarakhand",
          "West Bengal"
         ],
         "y": [
          40646,
          543,
          20647,
          23300,
          660,
          4754,
          576,
          118645,
          3108,
          45567,
          24002,
          1384,
          4805,
          51422,
          10276,
          0,
          20378,
          284281,
          1764,
          377,
          272,
          956,
          16110,
          1832,
          9094,
          27333,
          235,
          156369,
          41018,
          2379,
          43441,
          3982,
          36117
         ]
        },
        {
         "marker": {
          "color": "#008080"
         },
         "name": "Hospital Beds",
         "type": "bar",
         "x": [
          "Andhra Pradesh",
          "Arunachal Pradesh",
          "Assam",
          "Bihar",
          "Chandigarh",
          "Chhattisgarh",
          "Dadra and Nagar Haveli and Daman and Diu",
          "Delhi",
          "Goa",
          "Gujarat",
          "Haryana",
          "Himachal Pradesh",
          "Jharkhand",
          "Karnataka",
          "Kerala",
          "Lakshadweep",
          "Madhya Pradesh",
          "Maharashtra",
          "Manipur",
          "Meghalaya",
          "Mizoram",
          "Nagaland",
          "Odisha",
          "Puducherry",
          "Punjab",
          "Rajasthan",
          "Sikkim",
          "Tamil Nadu",
          "Telangana",
          "Tripura",
          "Uttar Pradesh",
          "Uttarakhand",
          "West Bengal"
         ],
         "y": [
          87527,
          5340,
          39923,
          35140,
          4632,
          26026,
          1753,
          46294,
          5801,
          78367,
          27115,
          23248,
          19859,
          135229,
          81389,
          579,
          71164,
          127633,
          4247,
          9559,
          4573,
          4192,
          40418,
          8151,
          33626,
          90722,
          2802,
          156527,
          41068,
          9781,
          147449,
          16398,
          135105
         ]
        },
        {
         "marker": {
          "color": "black",
          "size": 5
         },
         "mode": "markers",
         "name": "Deaths",
         "type": "scatter",
         "x": [
          "Andhra Pradesh",
          "Arunachal Pradesh",
          "Assam",
          "Bihar",
          "Chandigarh",
          "Chhattisgarh",
          "Dadra and Nagar Haveli and Daman and Diu",
          "Delhi",
          "Goa",
          "Gujarat",
          "Haryana",
          "Himachal Pradesh",
          "Jharkhand",
          "Karnataka",
          "Kerala",
          "Lakshadweep",
          "Madhya Pradesh",
          "Maharashtra",
          "Manipur",
          "Meghalaya",
          "Mizoram",
          "Nagaland",
          "Odisha",
          "Puducherry",
          "Punjab",
          "Rajasthan",
          "Sikkim",
          "Tamil Nadu",
          "Telangana",
          "Tripura",
          "Uttar Pradesh",
          "Uttarakhand",
          "West Bengal"
         ],
         "y": [
          534,
          3,
          55,
          173,
          11,
          21,
          2,
          3545,
          19,
          2090,
          322,
          10,
          42,
          1037,
          38,
          0,
          689,
          11194,
          0,
          2,
          0,
          0,
          109,
          25,
          230,
          542,
          0,
          2236,
          396,
          3,
          1046,
          50,
          1023
         ]
        }
       ],
       "layout": {
        "autosize": false,
        "barmode": "group",
        "height": 600,
        "margin": {
         "b": 10,
         "l": 10,
         "pad": 2,
         "r": 10,
         "t": 10
        },
        "template": {
         "data": {
          "bar": [
           {
            "error_x": {
             "color": "#2a3f5f"
            },
            "error_y": {
             "color": "#2a3f5f"
            },
            "marker": {
             "line": {
              "color": "#E5ECF6",
              "width": 0.5
             }
            },
            "type": "bar"
           }
          ],
          "barpolar": [
           {
            "marker": {
             "line": {
              "color": "#E5ECF6",
              "width": 0.5
             }
            },
            "type": "barpolar"
           }
          ],
          "carpet": [
           {
            "aaxis": {
             "endlinecolor": "#2a3f5f",
             "gridcolor": "white",
             "linecolor": "white",
             "minorgridcolor": "white",
             "startlinecolor": "#2a3f5f"
            },
            "baxis": {
             "endlinecolor": "#2a3f5f",
             "gridcolor": "white",
             "linecolor": "white",
             "minorgridcolor": "white",
             "startlinecolor": "#2a3f5f"
            },
            "type": "carpet"
           }
          ],
          "choropleth": [
           {
            "colorbar": {
             "outlinewidth": 0,
             "ticks": ""
            },
            "type": "choropleth"
           }
          ],
          "contour": [
           {
            "colorbar": {
             "outlinewidth": 0,
             "ticks": ""
            },
            "colorscale": [
             [
              0,
              "#0d0887"
             ],
             [
              0.1111111111111111,
              "#46039f"
             ],
             [
              0.2222222222222222,
              "#7201a8"
             ],
             [
              0.3333333333333333,
              "#9c179e"
             ],
             [
              0.4444444444444444,
              "#bd3786"
             ],
             [
              0.5555555555555556,
              "#d8576b"
             ],
             [
              0.6666666666666666,
              "#ed7953"
             ],
             [
              0.7777777777777778,
              "#fb9f3a"
             ],
             [
              0.8888888888888888,
              "#fdca26"
             ],
             [
              1,
              "#f0f921"
             ]
            ],
            "type": "contour"
           }
          ],
          "contourcarpet": [
           {
            "colorbar": {
             "outlinewidth": 0,
             "ticks": ""
            },
            "type": "contourcarpet"
           }
          ],
          "heatmap": [
           {
            "colorbar": {
             "outlinewidth": 0,
             "ticks": ""
            },
            "colorscale": [
             [
              0,
              "#0d0887"
             ],
             [
              0.1111111111111111,
              "#46039f"
             ],
             [
              0.2222222222222222,
              "#7201a8"
             ],
             [
              0.3333333333333333,
              "#9c179e"
             ],
             [
              0.4444444444444444,
              "#bd3786"
             ],
             [
              0.5555555555555556,
              "#d8576b"
             ],
             [
              0.6666666666666666,
              "#ed7953"
             ],
             [
              0.7777777777777778,
              "#fb9f3a"
             ],
             [
              0.8888888888888888,
              "#fdca26"
             ],
             [
              1,
              "#f0f921"
             ]
            ],
            "type": "heatmap"
           }
          ],
          "heatmapgl": [
           {
            "colorbar": {
             "outlinewidth": 0,
             "ticks": ""
            },
            "colorscale": [
             [
              0,
              "#0d0887"
             ],
             [
              0.1111111111111111,
              "#46039f"
             ],
             [
              0.2222222222222222,
              "#7201a8"
             ],
             [
              0.3333333333333333,
              "#9c179e"
             ],
             [
              0.4444444444444444,
              "#bd3786"
             ],
             [
              0.5555555555555556,
              "#d8576b"
             ],
             [
              0.6666666666666666,
              "#ed7953"
             ],
             [
              0.7777777777777778,
              "#fb9f3a"
             ],
             [
              0.8888888888888888,
              "#fdca26"
             ],
             [
              1,
              "#f0f921"
             ]
            ],
            "type": "heatmapgl"
           }
          ],
          "histogram": [
           {
            "marker": {
             "colorbar": {
              "outlinewidth": 0,
              "ticks": ""
             }
            },
            "type": "histogram"
           }
          ],
          "histogram2d": [
           {
            "colorbar": {
             "outlinewidth": 0,
             "ticks": ""
            },
            "colorscale": [
             [
              0,
              "#0d0887"
             ],
             [
              0.1111111111111111,
              "#46039f"
             ],
             [
              0.2222222222222222,
              "#7201a8"
             ],
             [
              0.3333333333333333,
              "#9c179e"
             ],
             [
              0.4444444444444444,
              "#bd3786"
             ],
             [
              0.5555555555555556,
              "#d8576b"
             ],
             [
              0.6666666666666666,
              "#ed7953"
             ],
             [
              0.7777777777777778,
              "#fb9f3a"
             ],
             [
              0.8888888888888888,
              "#fdca26"
             ],
             [
              1,
              "#f0f921"
             ]
            ],
            "type": "histogram2d"
           }
          ],
          "histogram2dcontour": [
           {
            "colorbar": {
             "outlinewidth": 0,
             "ticks": ""
            },
            "colorscale": [
             [
              0,
              "#0d0887"
             ],
             [
              0.1111111111111111,
              "#46039f"
             ],
             [
              0.2222222222222222,
              "#7201a8"
             ],
             [
              0.3333333333333333,
              "#9c179e"
             ],
             [
              0.4444444444444444,
              "#bd3786"
             ],
             [
              0.5555555555555556,
              "#d8576b"
             ],
             [
              0.6666666666666666,
              "#ed7953"
             ],
             [
              0.7777777777777778,
              "#fb9f3a"
             ],
             [
              0.8888888888888888,
              "#fdca26"
             ],
             [
              1,
              "#f0f921"
             ]
            ],
            "type": "histogram2dcontour"
           }
          ],
          "mesh3d": [
           {
            "colorbar": {
             "outlinewidth": 0,
             "ticks": ""
            },
            "type": "mesh3d"
           }
          ],
          "parcoords": [
           {
            "line": {
             "colorbar": {
              "outlinewidth": 0,
              "ticks": ""
             }
            },
            "type": "parcoords"
           }
          ],
          "pie": [
           {
            "automargin": true,
            "type": "pie"
           }
          ],
          "scatter": [
           {
            "marker": {
             "colorbar": {
              "outlinewidth": 0,
              "ticks": ""
             }
            },
            "type": "scatter"
           }
          ],
          "scatter3d": [
           {
            "line": {
             "colorbar": {
              "outlinewidth": 0,
              "ticks": ""
             }
            },
            "marker": {
             "colorbar": {
              "outlinewidth": 0,
              "ticks": ""
             }
            },
            "type": "scatter3d"
           }
          ],
          "scattercarpet": [
           {
            "marker": {
             "colorbar": {
              "outlinewidth": 0,
              "ticks": ""
             }
            },
            "type": "scattercarpet"
           }
          ],
          "scattergeo": [
           {
            "marker": {
             "colorbar": {
              "outlinewidth": 0,
              "ticks": ""
             }
            },
            "type": "scattergeo"
           }
          ],
          "scattergl": [
           {
            "marker": {
             "colorbar": {
              "outlinewidth": 0,
              "ticks": ""
             }
            },
            "type": "scattergl"
           }
          ],
          "scattermapbox": [
           {
            "marker": {
             "colorbar": {
              "outlinewidth": 0,
              "ticks": ""
             }
            },
            "type": "scattermapbox"
           }
          ],
          "scatterpolar": [
           {
            "marker": {
             "colorbar": {
              "outlinewidth": 0,
              "ticks": ""
             }
            },
            "type": "scatterpolar"
           }
          ],
          "scatterpolargl": [
           {
            "marker": {
             "colorbar": {
              "outlinewidth": 0,
              "ticks": ""
             }
            },
            "type": "scatterpolargl"
           }
          ],
          "scatterternary": [
           {
            "marker": {
             "colorbar": {
              "outlinewidth": 0,
              "ticks": ""
             }
            },
            "type": "scatterternary"
           }
          ],
          "surface": [
           {
            "colorbar": {
             "outlinewidth": 0,
             "ticks": ""
            },
            "colorscale": [
             [
              0,
              "#0d0887"
             ],
             [
              0.1111111111111111,
              "#46039f"
             ],
             [
              0.2222222222222222,
              "#7201a8"
             ],
             [
              0.3333333333333333,
              "#9c179e"
             ],
             [
              0.4444444444444444,
              "#bd3786"
             ],
             [
              0.5555555555555556,
              "#d8576b"
             ],
             [
              0.6666666666666666,
              "#ed7953"
             ],
             [
              0.7777777777777778,
              "#fb9f3a"
             ],
             [
              0.8888888888888888,
              "#fdca26"
             ],
             [
              1,
              "#f0f921"
             ]
            ],
            "type": "surface"
           }
          ],
          "table": [
           {
            "cells": {
             "fill": {
              "color": "#EBF0F8"
             },
             "line": {
              "color": "white"
             }
            },
            "header": {
             "fill": {
              "color": "#C8D4E3"
             },
             "line": {
              "color": "white"
             }
            },
            "type": "table"
           }
          ]
         },
         "layout": {
          "annotationdefaults": {
           "arrowcolor": "#2a3f5f",
           "arrowhead": 0,
           "arrowwidth": 1
          },
          "coloraxis": {
           "colorbar": {
            "outlinewidth": 0,
            "ticks": ""
           }
          },
          "colorscale": {
           "diverging": [
            [
             0,
             "#8e0152"
            ],
            [
             0.1,
             "#c51b7d"
            ],
            [
             0.2,
             "#de77ae"
            ],
            [
             0.3,
             "#f1b6da"
            ],
            [
             0.4,
             "#fde0ef"
            ],
            [
             0.5,
             "#f7f7f7"
            ],
            [
             0.6,
             "#e6f5d0"
            ],
            [
             0.7,
             "#b8e186"
            ],
            [
             0.8,
             "#7fbc41"
            ],
            [
             0.9,
             "#4d9221"
            ],
            [
             1,
             "#276419"
            ]
           ],
           "sequential": [
            [
             0,
             "#0d0887"
            ],
            [
             0.1111111111111111,
             "#46039f"
            ],
            [
             0.2222222222222222,
             "#7201a8"
            ],
            [
             0.3333333333333333,
             "#9c179e"
            ],
            [
             0.4444444444444444,
             "#bd3786"
            ],
            [
             0.5555555555555556,
             "#d8576b"
            ],
            [
             0.6666666666666666,
             "#ed7953"
            ],
            [
             0.7777777777777778,
             "#fb9f3a"
            ],
            [
             0.8888888888888888,
             "#fdca26"
            ],
            [
             1,
             "#f0f921"
            ]
           ],
           "sequentialminus": [
            [
             0,
             "#0d0887"
            ],
            [
             0.1111111111111111,
             "#46039f"
            ],
            [
             0.2222222222222222,
             "#7201a8"
            ],
            [
             0.3333333333333333,
             "#9c179e"
            ],
            [
             0.4444444444444444,
             "#bd3786"
            ],
            [
             0.5555555555555556,
             "#d8576b"
            ],
            [
             0.6666666666666666,
             "#ed7953"
            ],
            [
             0.7777777777777778,
             "#fb9f3a"
            ],
            [
             0.8888888888888888,
             "#fdca26"
            ],
            [
             1,
             "#f0f921"
            ]
           ]
          },
          "colorway": [
           "#636efa",
           "#EF553B",
           "#00cc96",
           "#ab63fa",
           "#FFA15A",
           "#19d3f3",
           "#FF6692",
           "#B6E880",
           "#FF97FF",
           "#FECB52"
          ],
          "font": {
           "color": "#2a3f5f"
          },
          "geo": {
           "bgcolor": "white",
           "lakecolor": "white",
           "landcolor": "#E5ECF6",
           "showlakes": true,
           "showland": true,
           "subunitcolor": "white"
          },
          "hoverlabel": {
           "align": "left"
          },
          "hovermode": "closest",
          "mapbox": {
           "style": "light"
          },
          "paper_bgcolor": "white",
          "plot_bgcolor": "#E5ECF6",
          "polar": {
           "angularaxis": {
            "gridcolor": "white",
            "linecolor": "white",
            "ticks": ""
           },
           "bgcolor": "#E5ECF6",
           "radialaxis": {
            "gridcolor": "white",
            "linecolor": "white",
            "ticks": ""
           }
          },
          "scene": {
           "xaxis": {
            "backgroundcolor": "#E5ECF6",
            "gridcolor": "white",
            "gridwidth": 2,
            "linecolor": "white",
            "showbackground": true,
            "ticks": "",
            "zerolinecolor": "white"
           },
           "yaxis": {
            "backgroundcolor": "#E5ECF6",
            "gridcolor": "white",
            "gridwidth": 2,
            "linecolor": "white",
            "showbackground": true,
            "ticks": "",
            "zerolinecolor": "white"
           },
           "zaxis": {
            "backgroundcolor": "#E5ECF6",
            "gridcolor": "white",
            "gridwidth": 2,
            "linecolor": "white",
            "showbackground": true,
            "ticks": "",
            "zerolinecolor": "white"
           }
          },
          "shapedefaults": {
           "line": {
            "color": "#2a3f5f"
           }
          },
          "ternary": {
           "aaxis": {
            "gridcolor": "white",
            "linecolor": "white",
            "ticks": ""
           },
           "baxis": {
            "gridcolor": "white",
            "linecolor": "white",
            "ticks": ""
           },
           "bgcolor": "#E5ECF6",
           "caxis": {
            "gridcolor": "white",
            "linecolor": "white",
            "ticks": ""
           }
          },
          "title": {
           "x": 0.05
          },
          "xaxis": {
           "automargin": true,
           "gridcolor": "white",
           "linecolor": "white",
           "ticks": "",
           "title": {
            "standoff": 15
           },
           "zerolinecolor": "white",
           "zerolinewidth": 2
          },
          "yaxis": {
           "automargin": true,
           "gridcolor": "white",
           "linecolor": "white",
           "ticks": "",
           "title": {
            "standoff": 15
           },
           "zerolinecolor": "white",
           "zerolinewidth": 2
          }
         }
        },
        "width": 1000,
        "xaxis": {
         "tickangle": -45
        }
       }
      }
     },
     "metadata": {}
    }
   ],
   "source": [
    "fig = go.Figure()\n",
    "fig.add_trace(go.Bar(\n",
    "    x=df_plot['State'],\n",
    "    y=df_plot['Confirmed'],\n",
    "    name='Confirmed Cases',\n",
    "    marker_color='#FF0000'\n",
    "))\n",
    "fig.add_trace(go.Bar(\n",
    "    x=df_plot['State'],\n",
    "    y=df_plot['Total Beds'],\n",
    "    name='Hospital Beds',\n",
    "   marker_color='#008080'\n",
    "))\n",
    "fig.add_trace(go.Scatter(\n",
    "    x=df_plot['State'],\n",
    "    y=df_plot['Deaths'],\n",
    "    name=\"Deaths\",\n",
    "    marker=dict(color=\"black\", size=5),\n",
    "    mode=\"markers\",\n",
    "))\n",
    "fig.update_layout(autosize=False,width=1000,height=600,barmode='group', xaxis_tickangle=-45, margin=dict(\n",
    "        l=10,\n",
    "        r=10,\n",
    "        b=10,\n",
    "        t=10,\n",
    "        pad=2\n",
    "    ),)\n",
    "fig.show()"
   ]
  },
  {
   "cell_type": "code",
   "execution_count": null,
   "metadata": {},
   "outputs": [],
   "source": []
  }
 ],
 "metadata": {
  "language_info": {
   "codemirror_mode": {
    "name": "ipython",
    "version": 3
   },
   "file_extension": ".py",
   "mimetype": "text/x-python",
   "name": "python",
   "nbconvert_exporter": "python",
   "pygments_lexer": "ipython3",
   "version": 3
  },
  "orig_nbformat": 2,
  "kernelspec": {
   "name": "python_defaultSpec_1595140555181",
   "display_name": "Python 3.8.3 64-bit"
  }
 },
 "nbformat": 4,
 "nbformat_minor": 2
}